{
 "cells": [
  {
   "cell_type": "code",
   "execution_count": 1,
   "id": "c711e62d",
   "metadata": {},
   "outputs": [
    {
     "data": {
      "text/plain": [
       "<DirectView [0, 1, 2, 3]>"
      ]
     },
     "execution_count": 1,
     "metadata": {},
     "output_type": "execute_result"
    }
   ],
   "source": [
    "from ipyparallel import Client\n",
    "client = Client()\n",
    "view = client.load_balanced_view()\n",
    "\n",
    "\n",
    "client[:]"
   ]
  },
  {
   "cell_type": "code",
   "execution_count": 14,
   "id": "21e6c5cf",
   "metadata": {},
   "outputs": [],
   "source": [
    "import numpy as np\n",
    "import pandas as pd\n",
    "\n",
    "import pims\n",
    "\n",
    "from PIL import Image, ImageDraw\n",
    "import cv2\n",
    "\n",
    "import numba\n",
    "import timeit\n",
    "\n",
    "import random\n",
    "\n",
    "#import trackpy.diag\n"
   ]
  },
  {
   "cell_type": "code",
   "execution_count": 3,
   "id": "97b148e0",
   "metadata": {},
   "outputs": [
    {
     "data": {
      "application/vnd.jupyter.widget-view+json": {
       "model_id": "94577fd55a924e9794131a448835ec57",
       "version_major": 2,
       "version_minor": 0
      },
      "text/plain": [
       "%px:   0%|          | 0/4 [00:00<?, ?tasks/s]"
      ]
     },
     "metadata": {},
     "output_type": "display_data"
    }
   ],
   "source": [
    "%%px\n",
    "import trackpy as tp\n",
    "tp.quiet()"
   ]
  },
  {
   "cell_type": "code",
   "execution_count": 4,
   "id": "8ed0f65e",
   "metadata": {},
   "outputs": [],
   "source": [
    "@pims.pipeline\n",
    "def crop(image, x1, y1, x2, y2):\n",
    "    npImage = np.array(image)\n",
    "    \n",
    "    # Create same size alpha layer with circle\n",
    "    alpha = Image.new('L', (720, 720), 0)\n",
    "    draw = ImageDraw.Draw(alpha)\n",
    "    draw.pieslice(((x1, y1), (x2, y2)), 0, 360, fill=255)\n",
    "\n",
    "    # Convert alpha Image to numpy arrayf\n",
    "    npAlpha = np.array(alpha)\n",
    "    npImage = npImage[:,:,1] * npAlpha\n",
    "    \n",
    "    ind = np.where(npImage == 0)\n",
    "    # npImage[150, 150] color of the border to swap with the black\n",
    "    npImage[ind] = npImage[150, 150]\n",
    "    return npImage\n",
    "\n",
    "@pims.pipeline\n",
    "def crop2(image, x1, y1, x2, y2):    \n",
    "    npImage = np.array(image)\n",
    "    # Create same size alpha layer with circle\n",
    "    #alpha = Image.new('L', (920, 960), 0)\n",
    "    alpha = Image.new('L', (920, 960), 0)\n",
    "\n",
    "    draw = ImageDraw.Draw(alpha)\n",
    "    draw.pieslice(((x1, y1), (x2, y2)), 0, 360, fill=255)\n",
    "\n",
    "    # Convert alpha Image to numpy arrayf\n",
    "    npAlpha = np.array(alpha)\n",
    "    npImage = npImage[:, :, 1] * npAlpha\n",
    "    \n",
    "    ind = np.where(npImage == 0)\n",
    "    # npImage[200, 200] color of the border to swap with the black\n",
    "    npImage[ind] = npImage[200, 200]\n",
    "    return npImage"
   ]
  },
  {
   "cell_type": "code",
   "execution_count": 5,
   "id": "666b3f97",
   "metadata": {},
   "outputs": [
    {
     "name": "stderr",
     "output_type": "stream",
     "text": [
      "deprecated pixel format used, make sure you did set range correctly\n"
     ]
    },
    {
     "name": "stdout",
     "output_type": "stream",
     "text": [
      "(PyAVReaderTimed,) processed through proc_func. Original repr:\n",
      "    <Frames>\n",
      "    Format: H.264 / AVC / MPEG-4 AVC / MPEG-4 part 10\n",
      "    Source: /Users/matteoscandola/thesisData/49b-1r-20pPF-25E-4pwt-1.mp4\n",
      "    Duration: 8079.400 seconds\n",
      "    Frame rate: 10.000 fps\n",
      "    Length: 80794 frames\n",
      "    Frame Shape: (960, 920, 3)\n",
      "    \n"
     ]
    },
    {
     "name": "stderr",
     "output_type": "stream",
     "text": [
      "deprecated pixel format used, make sure you did set range correctly\n",
      "deprecated pixel format used, make sure you did set range correctly\n"
     ]
    }
   ],
   "source": [
    "frames = crop2(pims.open('/Users/matteoscandola/thesisData/49b-1r-20pPF-25E-4pwt-1.mp4'), 55, 55, 880, 880)\n",
    "print(frames)\n",
    "#frames = crop(pims.open('/Users/matteoscandola/thesisData/Movie32.mp4'), 30, 30, 650, 650)\n",
    "ref = pims.open('/Users/matteoscandola/thesisData/49b-1r-20pPF-25E-4pwt-1.mp4')\n",
    "oof = crop2(pims.open('/Users/matteoscandola/thesisData/untitled.mp4'), 55, 55, 880, 880)"
   ]
  },
  {
   "cell_type": "code",
   "execution_count": 6,
   "id": "9ec26491",
   "metadata": {},
   "outputs": [],
   "source": [
    "dropSize = 31 #yranges of a drop 335-307 #xranges of a drop 118-90 --> 28 but needs to be odd so 29\n",
    "minMass = 2000\n",
    "sep = 16\n",
    "nDrops = 50"
   ]
  },
  {
   "cell_type": "code",
   "execution_count": 10,
   "id": "0740ba02",
   "metadata": {},
   "outputs": [],
   "source": [
    "curried_locate = lambda image: tp.locate(image, 31, minmass = 2000, separation = 16, topn = 50)"
   ]
  },
  {
   "cell_type": "code",
   "execution_count": 8,
   "id": "90f226c1",
   "metadata": {},
   "outputs": [
    {
     "data": {
      "application/vnd.jupyter.widget-view+json": {
       "model_id": "0909ade738c64d82b9dbf8cef5531c43",
       "version_major": 2,
       "version_minor": 0
      },
      "text/plain": [
       "<lambda>:   0%|          | 0/10 [00:00<?, ?tasks/s]"
      ]
     },
     "metadata": {},
     "output_type": "display_data"
    },
    {
     "data": {
      "application/vnd.jupyter.widget-view+json": {
       "model_id": "a2c0ce842d5b4946b336941bd5a3a6f4",
       "version_major": 2,
       "version_minor": 0
      },
      "text/plain": [
       "<lambda>:   0%|          | 0/10 [00:00<?, ?tasks/s]"
      ]
     },
     "metadata": {},
     "output_type": "display_data"
    },
    {
     "data": {
      "application/vnd.jupyter.widget-view+json": {
       "model_id": "884035eb92734ac28cb6098bf81330b3",
       "version_major": 2,
       "version_minor": 0
      },
      "text/plain": [
       "<lambda>:   0%|          | 0/10 [00:00<?, ?tasks/s]"
      ]
     },
     "metadata": {},
     "output_type": "display_data"
    },
    {
     "data": {
      "application/vnd.jupyter.widget-view+json": {
       "model_id": "a3d4f5b70a774ffa863997eda6d31937",
       "version_major": 2,
       "version_minor": 0
      },
      "text/plain": [
       "<lambda>:   0%|          | 0/10 [00:00<?, ?tasks/s]"
      ]
     },
     "metadata": {},
     "output_type": "display_data"
    },
    {
     "data": {
      "application/vnd.jupyter.widget-view+json": {
       "model_id": "229b138eeac142348007e35bd99ef5c0",
       "version_major": 2,
       "version_minor": 0
      },
      "text/plain": [
       "<lambda>:   0%|          | 0/10 [00:00<?, ?tasks/s]"
      ]
     },
     "metadata": {},
     "output_type": "display_data"
    },
    {
     "data": {
      "application/vnd.jupyter.widget-view+json": {
       "model_id": "dfe08a09dedc436e93ca6ac3a31afbd8",
       "version_major": 2,
       "version_minor": 0
      },
      "text/plain": [
       "<lambda>:   0%|          | 0/10 [00:00<?, ?tasks/s]"
      ]
     },
     "metadata": {},
     "output_type": "display_data"
    },
    {
     "data": {
      "application/vnd.jupyter.widget-view+json": {
       "model_id": "328029c9927c40e294ec7230e6772d3d",
       "version_major": 2,
       "version_minor": 0
      },
      "text/plain": [
       "<lambda>:   0%|          | 0/10 [00:00<?, ?tasks/s]"
      ]
     },
     "metadata": {},
     "output_type": "display_data"
    },
    {
     "data": {
      "application/vnd.jupyter.widget-view+json": {
       "model_id": "6e4eb1a889624a04a3965317478c9213",
       "version_major": 2,
       "version_minor": 0
      },
      "text/plain": [
       "<lambda>:   0%|          | 0/10 [00:00<?, ?tasks/s]"
      ]
     },
     "metadata": {},
     "output_type": "display_data"
    },
    {
     "name": "stdout",
     "output_type": "stream",
     "text": [
      "2.21 s ± 51.3 ms per loop (mean ± std. dev. of 7 runs, 1 loop each)\n"
     ]
    }
   ],
   "source": [
    "%%timeit\n",
    "amr = view.map_async(curried_locate, frames[:10])\n",
    "amr.wait_interactive()\n",
    "results = amr.get()"
   ]
  },
  {
   "cell_type": "code",
   "execution_count": 16,
   "id": "dc0e4fe8",
   "metadata": {},
   "outputs": [
    {
     "name": "stderr",
     "output_type": "stream",
     "text": [
      "deprecated pixel format used, make sure you did set range correctly\n",
      " (repeated 99 more times)\n",
      "deprecated pixel format used, make sure you did set range correctly\n",
      "deprecated pixel format used, make sure you did set range correctly\n"
     ]
    },
    {
     "data": {
      "application/vnd.jupyter.widget-view+json": {
       "model_id": "ecdb1e241d2f4db5a13aa72cd248eea4",
       "version_major": 2,
       "version_minor": 0
      },
      "text/plain": [
       "<lambda>:   0%|          | 0/100 [00:00<?, ?tasks/s]"
      ]
     },
     "metadata": {},
     "output_type": "display_data"
    },
    {
     "data": {
      "text/html": [
       "<div>\n",
       "<style scoped>\n",
       "    .dataframe tbody tr th:only-of-type {\n",
       "        vertical-align: middle;\n",
       "    }\n",
       "\n",
       "    .dataframe tbody tr th {\n",
       "        vertical-align: top;\n",
       "    }\n",
       "\n",
       "    .dataframe thead th {\n",
       "        text-align: right;\n",
       "    }\n",
       "</style>\n",
       "<table border=\"1\" class=\"dataframe\">\n",
       "  <thead>\n",
       "    <tr style=\"text-align: right;\">\n",
       "      <th></th>\n",
       "      <th>y</th>\n",
       "      <th>x</th>\n",
       "      <th>mass</th>\n",
       "      <th>size</th>\n",
       "      <th>ecc</th>\n",
       "      <th>signal</th>\n",
       "      <th>raw_mass</th>\n",
       "      <th>ep</th>\n",
       "    </tr>\n",
       "  </thead>\n",
       "  <tbody>\n",
       "    <tr>\n",
       "      <th>0</th>\n",
       "      <td>171.735232</td>\n",
       "      <td>417.068536</td>\n",
       "      <td>6831.555216</td>\n",
       "      <td>10.518919</td>\n",
       "      <td>0.017850</td>\n",
       "      <td>12.622410</td>\n",
       "      <td>70005.0</td>\n",
       "      <td>0.001334</td>\n",
       "    </tr>\n",
       "    <tr>\n",
       "      <th>1</th>\n",
       "      <td>180.518298</td>\n",
       "      <td>515.758085</td>\n",
       "      <td>6759.595680</td>\n",
       "      <td>10.346419</td>\n",
       "      <td>0.008272</td>\n",
       "      <td>12.858343</td>\n",
       "      <td>69442.0</td>\n",
       "      <td>0.001373</td>\n",
       "    </tr>\n",
       "    <tr>\n",
       "      <th>2</th>\n",
       "      <td>180.531254</td>\n",
       "      <td>573.879268</td>\n",
       "      <td>6605.177594</td>\n",
       "      <td>10.440808</td>\n",
       "      <td>0.035298</td>\n",
       "      <td>13.094276</td>\n",
       "      <td>69837.0</td>\n",
       "      <td>0.001345</td>\n",
       "    </tr>\n",
       "    <tr>\n",
       "      <th>3</th>\n",
       "      <td>186.420694</td>\n",
       "      <td>325.681975</td>\n",
       "      <td>7053.686046</td>\n",
       "      <td>10.437935</td>\n",
       "      <td>0.035008</td>\n",
       "      <td>13.330209</td>\n",
       "      <td>71302.0</td>\n",
       "      <td>0.001251</td>\n",
       "    </tr>\n",
       "    <tr>\n",
       "      <th>4</th>\n",
       "      <td>219.088718</td>\n",
       "      <td>633.619079</td>\n",
       "      <td>6906.345947</td>\n",
       "      <td>10.383727</td>\n",
       "      <td>0.029452</td>\n",
       "      <td>13.094276</td>\n",
       "      <td>68518.0</td>\n",
       "      <td>0.001443</td>\n",
       "    </tr>\n",
       "    <tr>\n",
       "      <th>...</th>\n",
       "      <td>...</td>\n",
       "      <td>...</td>\n",
       "      <td>...</td>\n",
       "      <td>...</td>\n",
       "      <td>...</td>\n",
       "      <td>...</td>\n",
       "      <td>...</td>\n",
       "      <td>...</td>\n",
       "    </tr>\n",
       "    <tr>\n",
       "      <th>4995</th>\n",
       "      <td>737.637262</td>\n",
       "      <td>274.282211</td>\n",
       "      <td>9708.786192</td>\n",
       "      <td>10.429192</td>\n",
       "      <td>0.031124</td>\n",
       "      <td>17.868260</td>\n",
       "      <td>110000.0</td>\n",
       "      <td>0.000816</td>\n",
       "    </tr>\n",
       "    <tr>\n",
       "      <th>4996</th>\n",
       "      <td>780.353650</td>\n",
       "      <td>425.134796</td>\n",
       "      <td>7711.795365</td>\n",
       "      <td>10.543839</td>\n",
       "      <td>0.029395</td>\n",
       "      <td>13.613913</td>\n",
       "      <td>102858.0</td>\n",
       "      <td>0.001011</td>\n",
       "    </tr>\n",
       "    <tr>\n",
       "      <th>4997</th>\n",
       "      <td>778.640848</td>\n",
       "      <td>618.410599</td>\n",
       "      <td>7458.965557</td>\n",
       "      <td>10.440081</td>\n",
       "      <td>0.054054</td>\n",
       "      <td>14.343230</td>\n",
       "      <td>103345.0</td>\n",
       "      <td>0.000995</td>\n",
       "    </tr>\n",
       "    <tr>\n",
       "      <th>4998</th>\n",
       "      <td>807.413504</td>\n",
       "      <td>320.699326</td>\n",
       "      <td>8437.465536</td>\n",
       "      <td>10.448895</td>\n",
       "      <td>0.032088</td>\n",
       "      <td>15.680310</td>\n",
       "      <td>105689.0</td>\n",
       "      <td>0.000924</td>\n",
       "    </tr>\n",
       "    <tr>\n",
       "      <th>4999</th>\n",
       "      <td>804.568524</td>\n",
       "      <td>473.088677</td>\n",
       "      <td>7807.700518</td>\n",
       "      <td>10.573288</td>\n",
       "      <td>0.040214</td>\n",
       "      <td>14.343230</td>\n",
       "      <td>103940.0</td>\n",
       "      <td>0.000976</td>\n",
       "    </tr>\n",
       "  </tbody>\n",
       "</table>\n",
       "<p>5000 rows × 8 columns</p>\n",
       "</div>"
      ],
      "text/plain": [
       "               y           x         mass       size       ecc     signal  \\\n",
       "0     171.735232  417.068536  6831.555216  10.518919  0.017850  12.622410   \n",
       "1     180.518298  515.758085  6759.595680  10.346419  0.008272  12.858343   \n",
       "2     180.531254  573.879268  6605.177594  10.440808  0.035298  13.094276   \n",
       "3     186.420694  325.681975  7053.686046  10.437935  0.035008  13.330209   \n",
       "4     219.088718  633.619079  6906.345947  10.383727  0.029452  13.094276   \n",
       "...          ...         ...          ...        ...       ...        ...   \n",
       "4995  737.637262  274.282211  9708.786192  10.429192  0.031124  17.868260   \n",
       "4996  780.353650  425.134796  7711.795365  10.543839  0.029395  13.613913   \n",
       "4997  778.640848  618.410599  7458.965557  10.440081  0.054054  14.343230   \n",
       "4998  807.413504  320.699326  8437.465536  10.448895  0.032088  15.680310   \n",
       "4999  804.568524  473.088677  7807.700518  10.573288  0.040214  14.343230   \n",
       "\n",
       "      raw_mass        ep  \n",
       "0      70005.0  0.001334  \n",
       "1      69442.0  0.001373  \n",
       "2      69837.0  0.001345  \n",
       "3      71302.0  0.001251  \n",
       "4      68518.0  0.001443  \n",
       "...        ...       ...  \n",
       "4995  110000.0  0.000816  \n",
       "4996  102858.0  0.001011  \n",
       "4997  103345.0  0.000995  \n",
       "4998  105689.0  0.000924  \n",
       "4999  103940.0  0.000976  \n",
       "\n",
       "[5000 rows x 8 columns]"
      ]
     },
     "execution_count": 16,
     "metadata": {},
     "output_type": "execute_result"
    }
   ],
   "source": [
    "amr = view.map_async(curried_locate, frames[:100])\n",
    "amr.wait_interactive()\n",
    "results = amr.get()\n",
    "\n",
    "features_ipy = pd.concat(results, ignore_index=True)\n",
    "features_ipy"
   ]
  },
  {
   "cell_type": "code",
   "execution_count": null,
   "id": "53023889",
   "metadata": {},
   "outputs": [],
   "source": []
  }
 ],
 "metadata": {
  "kernelspec": {
   "display_name": "Python 3 (ipykernel)",
   "language": "python",
   "name": "python3"
  },
  "language_info": {
   "codemirror_mode": {
    "name": "ipython",
    "version": 3
   },
   "file_extension": ".py",
   "mimetype": "text/x-python",
   "name": "python",
   "nbconvert_exporter": "python",
   "pygments_lexer": "ipython3",
   "version": "3.10.6"
  }
 },
 "nbformat": 4,
 "nbformat_minor": 5
}
