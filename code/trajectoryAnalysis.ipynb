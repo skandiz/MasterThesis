{
 "cells": [
  {
   "cell_type": "code",
   "execution_count": 1,
   "id": "1e649092",
   "metadata": {},
   "outputs": [],
   "source": [
    "import os\n",
    "import matplotlib.pyplot as plt\n",
    "import matplotlib.animation\n",
    "%matplotlib ipympl\n",
    "\n",
    "plt.rcParams['figure.figsize'] = [10, 4]\n",
    "writervideo = matplotlib.animation.FFMpegWriter(fps=30)\n",
    "\n",
    "import numpy as np\n",
    "import pandas as pd\n",
    "\n",
    "from numba import njit\n",
    "import timeit\n",
    "import random\n",
    "from scipy.spatial import KDTree, cKDTree\n",
    "from scipy.stats import linregress\n",
    "from scipy.ndimage import uniform_filter1d\n",
    "from scipy.signal import savgol_filter\n",
    "import joblib\n",
    "from tqdm import tqdm\n",
    "import pims\n",
    "\n",
    "import trackpy as tp\n",
    "tp.quiet()\n",
    "\n",
    "from yupi import Trajectory\n",
    "import yupi.graphics as yg\n",
    "import yupi.stats as ys"
   ]
  },
  {
   "cell_type": "code",
   "execution_count": 2,
   "id": "75cac1ad",
   "metadata": {},
   "outputs": [],
   "source": [
    "show_verb = False\n",
    "save_verb = True"
   ]
  },
  {
   "attachments": {},
   "cell_type": "markdown",
   "id": "4e693f26",
   "metadata": {},
   "source": [
    "# Import data"
   ]
  },
  {
   "cell_type": "code",
   "execution_count": 3,
   "id": "13441ea3",
   "metadata": {},
   "outputs": [
    {
     "name": "stderr",
     "output_type": "stream",
     "text": [
      "17:27:11 [WARNING] deprecated pixel format used, make sure you did set range correctly\n"
     ]
    }
   ],
   "source": [
    "data = pims.open('../data/video/movie.mp4')\n",
    "rawTrajs = pd.read_csv(\"../data/csv/Processed_data2.csv\")"
   ]
  },
  {
   "cell_type": "code",
   "execution_count": 4,
   "id": "a166b38a",
   "metadata": {},
   "outputs": [
    {
     "name": "stdout",
     "output_type": "stream",
     "text": [
      "nDrops:50\n",
      "nFrames:32000 --> 3200.00 s\n"
     ]
    }
   ],
   "source": [
    "red_particle_idx = 17\n",
    "rawTrajs.loc[rawTrajs.particle!=red_particle_idx, [\"color\"]] = \"#00007F\"\n",
    "rawTrajs.loc[rawTrajs.particle==red_particle_idx, [\"color\"]] = \"#FF0000\"\n",
    "colors = rawTrajs.loc[rawTrajs.frame==0, 'color'].values\n",
    "\n",
    "nDrops = len(rawTrajs.loc[rawTrajs.frame==0])\n",
    "nFrames = max(rawTrajs.frame) + 1\n",
    "print(f\"nDrops:{nDrops}\")\n",
    "print(f\"nFrames:{nFrames} --> {nFrames/10:.2f} s\")"
   ]
  },
  {
   "cell_type": "code",
   "execution_count": null,
   "id": "f5cb89a1",
   "metadata": {},
   "outputs": [],
   "source": [
    "df = rawTrajs.loc[(rawTrajs.frame == 0) , [\"x\", \"y\", \"color\"]]\n",
    "fig, ax = plt.subplots(1,1)\n",
    "ax.scatter(df.x, df.y, facecolors = 'none', edgecolors = df.color, s = 150)\n",
    "ax.imshow(data[0])\n",
    "if save_verb: plt.savefig(\"../results/location_example.png\", dpi=500, bbox_inches='tight')\n",
    "if show_verb:\n",
    "    plt.show()\n",
    "else:\n",
    "    plt.close()"
   ]
  },
  {
   "cell_type": "code",
   "execution_count": null,
   "id": "446d2917",
   "metadata": {},
   "outputs": [],
   "source": [
    "fig = plt.figure()\n",
    "anim_running = True\n",
    "\n",
    "def onClick(event):\n",
    "    global anim_running\n",
    "    if anim_running:\n",
    "        ani.event_source.stop()\n",
    "        anim_running = False\n",
    "    else:\n",
    "        ani.event_source.start()\n",
    "        anim_running = True\n",
    "\n",
    "def update_graph(frame):\n",
    "    df = rawTrajs.loc[(rawTrajs.frame == frame) & (rawTrajs.particle == red_particle_idx) , [\"x\",\"y\",\"color\"]]\n",
    "    graph.set_offsets(df)\n",
    "    graph.set_edgecolor(df.color)\n",
    "    graph2.set_data(data[frame])\n",
    "    title.set_text('frame = {}'.format(frame))\n",
    "    return graph\n",
    "\n",
    "ax = fig.add_subplot(111)\n",
    "title = ax.set_title('frame = 0')\n",
    "df = rawTrajs.loc[(rawTrajs.frame == 0) & (rawTrajs.particle == red_particle_idx), [\"x\",\"y\",\"color\"]]\n",
    "\n",
    "graph = ax.scatter(df.x, df.y, facecolors = 'none', edgecolors = df.color, s = 150)\n",
    "\n",
    "graph2 = ax.imshow(data[0])\n",
    "\n",
    "fig.canvas.mpl_connect('button_press_event', onClick)\n",
    "ani = matplotlib.animation.FuncAnimation(fig, update_graph, 100, interval = 5, blit=False)\n",
    "if 0: ani.save(f'../results/video/try.mp4', dpi=500, writer=writervideo)\n",
    "if 0: \n",
    "    plt.show()\n",
    "else:\n",
    "    plt.close()"
   ]
  },
  {
   "cell_type": "markdown",
   "id": "ac777315",
   "metadata": {},
   "source": [
    "# Trajectory Smoothing\n",
    "\n",
    "Smoothing of the trajectory using a Savgol Filter in order to drop the noise due to the tracking procedure"
   ]
  },
  {
   "cell_type": "code",
   "execution_count": 5,
   "id": "771d8dde",
   "metadata": {},
   "outputs": [],
   "source": [
    "smoothTrajs = rawTrajs.copy()\n",
    "\n",
    "# Parameters of the Savgol Filter to smooth the trajectories\n",
    "windLen = 30\n",
    "orderofPoly = 2\n",
    "for i in range(nDrops):\n",
    "    smoothTrajs.loc[smoothTrajs.particle == i, \"x\"] = savgol_filter(rawTrajs.loc[rawTrajs.particle == i].x.values, windLen, orderofPoly)\n",
    "    smoothTrajs.loc[smoothTrajs.particle == i, \"y\"] = savgol_filter(rawTrajs.loc[rawTrajs.particle == i].y.values,  windLen, orderofPoly)"
   ]
  },
  {
   "cell_type": "code",
   "execution_count": null,
   "id": "ca657c82",
   "metadata": {},
   "outputs": [],
   "source": [
    "fig, (ax, ax1) = plt.subplots(1, 2, sharex = True, sharey = True)\n",
    "tp.plot_traj(rawTrajs, ax = ax)\n",
    "ax.set(xlabel = \"x [px]\", ylabel = \"y [px]\", title = 'Raw')\n",
    "ax.grid()\n",
    "\n",
    "tp.plot_traj(smoothTrajs, ax = ax1)\n",
    "ax1.set(xlabel = \"x [px]\", title = 'Smoothed')\n",
    "ax1.grid()\n",
    "\n",
    "plt.tight_layout()\n",
    "if save_verb: plt.savefig(f\"../results/trajectories.png\", dpi = 500)\n",
    "if show_verb: \n",
    "    plt.show()\n",
    "else:\n",
    "    plt.close()"
   ]
  },
  {
   "attachments": {},
   "cell_type": "markdown",
   "id": "dc50f68e",
   "metadata": {},
   "source": [
    "# Mean Squared Displacement"
   ]
  },
  {
   "cell_type": "code",
   "execution_count": null,
   "id": "70ad7bd6",
   "metadata": {},
   "outputs": [],
   "source": [
    "# Power Law fit\n",
    "def powerLawFit(funct, fit, powerlawExponents):\n",
    "    for i in range(nDrops):\n",
    "        powerlawFit = tp.utils.fit_powerlaw(funct[i], plot = False)  #[10:]\n",
    "        powerlawExponents[i] = powerlawFit.n.values \n",
    "        fit[i] = powerlawFit.A.values * np.array(funct.index)**powerlawExponents[i] #[10:]\n",
    "    return fit, powerlawExponents"
   ]
  },
  {
   "cell_type": "code",
   "execution_count": null,
   "id": "61b8a687",
   "metadata": {},
   "outputs": [],
   "source": [
    "# Mean Squared Displacement per Particle\n",
    "pxDimension = 1 # has to be fixed \n",
    "fps = 10 # fps of the video\n",
    "maxLagtime = 1000 # maximum lagtime to be considered\n",
    "im = tp.imsd(rawTrajs, mpp = pxDimension, fps = fps, max_lagtime = maxLagtime)\n",
    "# Power Law fit\n",
    "fit, powerlawExponents = powerLawFit(im, np.zeros((nDrops, maxLagtime)), np.zeros(nDrops))\n",
    "\n",
    "# Smoothed trajectories msd\n",
    "im_smooth = tp.imsd(smoothTrajs, mpp = pxDimension, fps = fps, max_lagtime = maxLagtime)\n",
    "# Power Law fit\n",
    "fit_smooth, powerlawExponents_smooth = powerLawFit(im_smooth, np.zeros((nDrops, maxLagtime)), np.zeros(nDrops))"
   ]
  },
  {
   "cell_type": "code",
   "execution_count": null,
   "id": "fc83274e",
   "metadata": {},
   "outputs": [],
   "source": [
    "fig, (ax, ax1) = plt.subplots(1, 2)\n",
    "ax.plot(im.index, im)#, alpha=0.5)  \n",
    "ax.set(xscale = 'log', yscale = 'log', title = \"Mean Squared Displacement per particle\", xlabel = \"Time Lag [s]\", ylabel = \"MSD [px^2]\")\n",
    "ax.grid()\n",
    "ax1.scatter(np.arange(nDrops), powerlawExponents, c = colors)\n",
    "ax1.set(title = \"Powerlaw Exponents\", xlabel = \"Particle ID\", ylabel = \"Powerlaw Exponent\")\n",
    "ax1.grid()\n",
    "plt.tight_layout()\n",
    "if save_verb: plt.savefig(\"../results/msd/MSD.png\", dpi = 500)\n",
    "if show_verb: \n",
    "    plt.show()\n",
    "else:\n",
    "    plt.close()\n",
    "\n",
    "fig, (ax, ax1) = plt.subplots(1, 2)\n",
    "ax.plot(im.index, im_smooth)#, alpha=0.5)  \n",
    "ax.set(xscale = 'log', yscale = 'log', title = \"Mean Squared Displacement per particle\", xlabel = \"Time Lag [s]\", ylabel = \"MSD [px^2]\")\n",
    "ax.grid()\n",
    "ax1.scatter(np.arange(nDrops), powerlawExponents_smooth, c = colors)\n",
    "ax1.set(title = \"Powerlaw Exponents\", xlabel = \"Particle ID\", ylabel = \"Powerlaw Exponent\")\n",
    "ax1.grid()\n",
    "plt.tight_layout()\n",
    "if save_verb: plt.savefig(\"../results/msd/MSD_smooth.png\", dpi = 500)\n",
    "if show_verb: \n",
    "    plt.show()\n",
    "else:\n",
    "    plt.close()"
   ]
  },
  {
   "cell_type": "code",
   "execution_count": null,
   "id": "4fa22695",
   "metadata": {},
   "outputs": [],
   "source": [
    "# Check if this is the red particle --> Confirmed\n",
    "print(f\"The particle with the highest MSD is the particle number: {red_particle_idx} and its the red particle!\")\n",
    "frame = 10\n",
    "temp = rawTrajs.loc[rawTrajs.frame == frame]\n",
    "temp_smooth = smoothTrajs.loc[smoothTrajs.frame == frame]\n",
    "\n",
    "fig, (ax, ax1) = plt.subplots(1, 2, figsize = (10, 6), sharex=True, sharey=True)\n",
    "ax.imshow(data[frame])\n",
    "ax.scatter(temp.x, temp.y, facecolors = 'none', edgecolors = temp.color, s = 350)\n",
    "ax.set(title = \"raw\", xlabel = \"X [px]\", ylabel = \"Y [px]\")\n",
    "\n",
    "ax1.imshow(data[frame])\n",
    "ax1.scatter(temp_smooth.x, temp_smooth.y, facecolors = 'none', edgecolors = temp_smooth.color, s = 350)\n",
    "ax1.set(title = \"smoothed\", xlabel = \"X [px]\", ylabel = \"Y [px]\")\n",
    "plt.tight_layout()\n",
    "plt.suptitle(\"Identification of the particle with the highest MSD\")\n",
    "if save_verb: plt.savefig(\"../results/identification.png\", dpi = 500)\n",
    "if show_verb: \n",
    "    plt.show()\n",
    "else:\n",
    "    plt.close()"
   ]
  },
  {
   "cell_type": "code",
   "execution_count": null,
   "id": "c408017b",
   "metadata": {},
   "outputs": [],
   "source": [
    "em = tp.emsd(rawTrajs.loc[rawTrajs.particle != red_particle_idx], mpp = pxDimension, fps = fps, max_lagtime = maxLagtime)\n",
    "powerlawFit = tp.utils.fit_powerlaw(em[10:], plot = False)  \n",
    "fit = powerlawFit.A.values * np.array(em.index[10:])**powerlawFit.n.values \n",
    "\n",
    "em_red = tp.emsd(rawTrajs.loc[rawTrajs.particle == red_particle_idx], mpp = pxDimension, fps = fps, max_lagtime = maxLagtime)\n",
    "powerlawFit_red = tp.utils.fit_powerlaw(em_red[10:], plot = False)  \n",
    "fit_red = powerlawFit_red.A.values * np.array(em_red.index[10:])**powerlawFit_red.n.values \n",
    "\n",
    "print(f\"Power Law exponent for blue particles: {powerlawFit.n.values[0]}\")\n",
    "print(f\"Power Law exponent for red particle: {powerlawFit_red.n.values[0]}\")"
   ]
  },
  {
   "cell_type": "code",
   "execution_count": null,
   "id": "628b4758",
   "metadata": {},
   "outputs": [],
   "source": [
    "fig, ax = plt.subplots(figsize = (10, 5))\n",
    "ax.plot(em.index, em, 'bo', markersize=2, alpha=0.5, label = \"Blue particles\")\n",
    "ax.plot(em.index[10:], fit, 'b-', label='Blue particles fit')\n",
    "ax.plot(em_red.index, em_red, 'ro', markersize=2, alpha=0.5, label = \"Red particle\")\n",
    "ax.plot(em_red.index[10:], fit_red, 'r-', label='Red particle fit')\n",
    "ax.set(xscale = 'log', yscale = 'log', ylabel = r'$\\langle \\Delta r^2 \\rangle$ [$px^2$]', xlabel = 'lag time $t$ [s]', title = \"Ensamble Mean Squared Displacement per particle type\")\n",
    "ax.grid()\n",
    "ax.legend()\n",
    "if save_verb: plt.savefig(\"../results/msd/EMSD.png\", dpi = 500)\n",
    "if show_verb:\n",
    "    plt.show()\n",
    "else:\n",
    "    plt.close()"
   ]
  },
  {
   "cell_type": "code",
   "execution_count": null,
   "id": "634efa27",
   "metadata": {},
   "outputs": [],
   "source": [
    "MSD_mean = np.array(im)\n",
    "print(MSD_mean.shape)\n",
    "MSD_blue = MSD_mean[:, [x for x in range(nDrops) if x != red_particle_idx]].mean(axis = 1)\n",
    "MSD_blue_std = MSD_mean[:,[x for x in range(nDrops) if x != red_particle_idx]].std(axis = 1)\n",
    "MSD_red = MSD_mean[:, red_particle_idx]"
   ]
  },
  {
   "cell_type": "code",
   "execution_count": null,
   "id": "2c70c160",
   "metadata": {},
   "outputs": [],
   "source": [
    "fig, ax = plt.subplots(1,1)\n",
    "ax.plot(im.index, MSD_blue, 'b-', label = \"Blue particles\") \n",
    "ax.fill_between(im.index, MSD_blue-MSD_blue_std, MSD_blue+MSD_blue_std, alpha=0.5, edgecolor='#00FFFF', facecolor='#F0FFFF')\n",
    "ax.plot(im.index, MSD_red, 'r-', label = \"Red particle\")\n",
    "ax.set(xscale = 'log', yscale = 'log', ylabel = r'$\\langle \\Delta r^2 \\rangle$ [$px^2$]', xlabel = 'lag time $t$ [s]', title = \"MSD per particle type\")\n",
    "ax.legend()\n",
    "ax.grid()\n",
    "if save_verb: plt.savefig(\"../results/msd/MSD_per_type.png\", dpi = 500, bbox_inches = 'tight')\n",
    "if show_verb:\n",
    "    plt.show()\n",
    "else:\n",
    "    plt.close()"
   ]
  },
  {
   "attachments": {},
   "cell_type": "markdown",
   "id": "ca280716",
   "metadata": {},
   "source": [
    "## Windowed"
   ]
  },
  {
   "cell_type": "code",
   "execution_count": null,
   "id": "b53fca1b",
   "metadata": {},
   "outputs": [],
   "source": [
    "# Power Law fit\n",
    "def powerLawFit(funct, fit, powerlawExponents):\n",
    "    for i in range(nDrops):\n",
    "        powerlawFit = tp.utils.fit_powerlaw(funct[i], plot = False)  \n",
    "        powerlawExponents[i] = powerlawFit.n.values \n",
    "        fit[i] = powerlawFit.A.values * np.array(funct.index)**powerlawExponents[i] \n",
    "    return fit, powerlawExponents"
   ]
  },
  {
   "cell_type": "code",
   "execution_count": 6,
   "id": "fe8be79b",
   "metadata": {},
   "outputs": [
    {
     "name": "stdout",
     "output_type": "stream",
     "text": [
      "total time: 3200.0 seconds\n",
      "11 windows\n"
     ]
    }
   ],
   "source": [
    "# run with a 200 s window\n",
    "totTime = nFrames/10\n",
    "print(\"total time:\", totTime, \"seconds\")\n",
    "timeWindow = 320 # seconds \n",
    "nWindows = int(totTime/timeWindow) + 1\n",
    "print(nWindows, \"windows\")\n",
    "pxDimension = 1 # has to be fixed \n",
    "fps = 10 # fps of the video\n",
    "maxLagtime = 1000 # maximum lagtime to be considered --> 100s"
   ]
  },
  {
   "cell_type": "code",
   "execution_count": 7,
   "id": "9b6102d1",
   "metadata": {},
   "outputs": [
    {
     "name": "stdout",
     "output_type": "stream",
     "text": [
      "number of frames: 32000\n",
      "window of 320.0 s, stride of 10.0 s\n",
      "number of steps: 289\n"
     ]
    }
   ],
   "source": [
    "print(f\"number of frames: {nFrames}\")\n",
    "window = 3200\n",
    "stride = 100\n",
    "print(f\"window of {window/10} s, stride of {stride/10} s\")\n",
    "\n",
    "startFrames = np.arange(0, nFrames-window+1, stride, dtype=int)\n",
    "endFrames = startFrames + window\n",
    "nSteps = len(startFrames)\n",
    "print(f\"number of steps: {nSteps}\")"
   ]
  },
  {
   "attachments": {},
   "cell_type": "markdown",
   "id": "4ce552b5",
   "metadata": {},
   "source": [
    "### SINGLE PARTICLE"
   ]
  },
  {
   "cell_type": "code",
   "execution_count": null,
   "id": "abd9ed94",
   "metadata": {},
   "outputs": [],
   "source": [
    "MSD_windowed = []\n",
    "fit_windowed = np.zeros((nSteps, nDrops, maxLagtime-10))\n",
    "powerlawExponents_windowed = np.zeros((nSteps, nDrops))\n",
    "\n",
    "for i in tqdm(range(nSteps)):\n",
    "    trajs = rawTrajs.loc[rawTrajs.frame.between(startFrames[i], endFrames[i])]\n",
    "    MSD_windowed.append(tp.imsd(trajs, mpp = pxDimension, fps = fps, max_lagtime = maxLagtime))\n",
    "    fit_windowed[i], powerlawExponents_windowed[i] = powerLawFit(MSD_windowed[i].iloc[10:], np.zeros((nDrops, maxLagtime-10)), np.zeros(nDrops))"
   ]
  },
  {
   "cell_type": "code",
   "execution_count": null,
   "id": "901f8fcf",
   "metadata": {},
   "outputs": [],
   "source": [
    "fig = plt.figure(figsize=(8, 5))\n",
    "anim_running = True\n",
    "\n",
    "def onClick(event):\n",
    "    global anim_running\n",
    "    if anim_running:\n",
    "        ani.event_source.stop()\n",
    "        anim_running = False\n",
    "    else:\n",
    "        ani.event_source.start()\n",
    "        anim_running = True\n",
    "\n",
    "def update_graph(step):\n",
    "    for i in range(nDrops):\n",
    "        graphic_data[i].set_ydata(np.array(MSD_windowed[step].iloc[:, i]))\n",
    "    title.set_text(f\"{startFrames[step]/10} - {endFrames[step]/10} seconds\")\n",
    "    #graph1.set_offsets(powerlawExponents_windowed[step])\n",
    "    #graph1.set_array(colors)\n",
    "    graph1.set_ydata(powerlawExponents_windowed[step])\n",
    "    return graphic_data, graph1,\n",
    "\n",
    "ax = fig.add_subplot(211)\n",
    "title = ax.set_title(f\"{startFrames[0]/10} - {endFrames[0]/10} seconds\")\n",
    "graphic_data = []\n",
    "for i in range(nDrops):\n",
    "    graphic_data.append(ax.plot(MSD_windowed[i].index, np.array(MSD_windowed[0].iloc[:, i]))[0])\n",
    "ax.set(xscale = 'log', yscale = 'log', ylabel = r'$\\langle \\Delta r^2 \\rangle$ [$px^2$]', xlabel = 'lag time $t$ [s]', ylim=(0.5, 10**5))\n",
    "ax.grid()\n",
    "\n",
    "ax1 = fig.add_subplot(212)\n",
    "ax1.set(xlabel = \"Particle ID\", ylabel = r\"$\\beta$\", title = \"Powerlaw Exponents\", ylim = (0, 2))\n",
    "graph1, = ax1.plot(np.arange(nDrops), powerlawExponents_windowed[0], '.', markersize = 10)\n",
    "#graph1 = ax1.scatter(np.arange(nDrops), powerlawExponents_windowed[0], color = colors)\n",
    "\n",
    "plt.tight_layout()\n",
    "fig.canvas.mpl_connect('button_press_event', onClick)\n",
    "ani = matplotlib.animation.FuncAnimation(fig, update_graph, nSteps, interval = 5, blit=False)\n",
    "ani.save('../results/msd/MSD_windowed.mp4', fps=30, extra_args=['-vcodec', 'libx264'])\n",
    "plt.close()"
   ]
  },
  {
   "cell_type": "code",
   "execution_count": null,
   "id": "cb404b5e",
   "metadata": {},
   "outputs": [],
   "source": [
    "'''\n",
    "MSD_windowed = []\n",
    "fit_windowed = np.zeros((nWindows, nDrops, maxLagtime-10))\n",
    "powerlawExponents_windowed = np.zeros((nWindows, nDrops))\n",
    "\n",
    "for k in range(nWindows):\n",
    "    trajs = rawTrajs[k*nDrops*timeWindow*fps : (k+1)*nDrops*timeWindow*fps]\n",
    "    MSD_windowed.append(tp.imsd(trajs, mpp = pxDimension, fps = fps, max_lagtime = maxLagtime))\n",
    "    fit_windowed[k], powerlawExponents_windowed[k] = powerLawFit(MSD_windowed[k].iloc[10:], np.zeros((nDrops, maxLagtime-10)), np.zeros(nDrops))\n",
    "\n",
    "fig, axs = plt.subplots(2, nWindows, figsize = (50, 6))\n",
    "for k in range(nWindows):\n",
    "    axs[0, k].plot(MSD_windowed[k].index, MSD_windowed[k])\n",
    "    axs[0, k].set(xscale = 'log', yscale = 'log',  ylabel = r'$\\langle \\Delta r^2 \\rangle$ [$px^2$]', \\\n",
    "        xlabel = 'lag time $t$ [s]', title = f\"{k*timeWindow}-{(k+1)*timeWindow} seconds\")\n",
    "    axs[0,k].grid()\n",
    "    axs[1, k].scatter(np.arange(nDrops), powerlawExponents_windowed[k], c = colors)\n",
    "    axs[1, k].set(title = \"Powerlaw Exponents\", xlabel = \"Particle ID\", ylabel = \"Powerlaw Exponent\")\n",
    "plt.tight_layout()\n",
    "if save_verb: plt.savefig(\"../results/msd/imsd_time_windowed/full.png\", dpi = 500, bbox_inches='tight')\n",
    "if show_verb: \n",
    "    plt.show()\n",
    "else:\n",
    "    plt.close()\n",
    "\n",
    "for k in range(nWindows):\n",
    "    fig, (ax, ax1) = plt.subplots(2, 1, figsize = (8, 6))\n",
    "    ax.plot(MSD_windowed[k].index, MSD_windowed[k])\n",
    "    ax.set(xscale = 'log', yscale = 'log',  ylabel = r'$\\langle \\Delta r^2 \\rangle$ [$px^2$]', \\\n",
    "        xlabel = 'lag time $t$ [s]', title = f\"{k*timeWindow}-{(k+1)*timeWindow} seconds\")\n",
    "    ax.grid()\n",
    "    ax1.scatter(np.arange(nDrops), powerlawExponents_windowed[k], c = colors)\n",
    "    ax1.set(title = \"Powerlaw Exponents\", xlabel = \"Particle ID\", ylabel = \"Powerlaw Exponent\")\n",
    "    plt.tight_layout()\n",
    "    if save_verb: plt.savefig(f\"../results/msd/imsd_time_windowed/msd_wind{k}.png\", dpi = 500, bbox_inches='tight')\n",
    "    if show_verb: \n",
    "        plt.show()\n",
    "    else:\n",
    "        plt.close()\n",
    "'''"
   ]
  },
  {
   "attachments": {},
   "cell_type": "markdown",
   "id": "e1a17ca0",
   "metadata": {},
   "source": [
    "### AVERAGE ON PARTICLE TYPE"
   ]
  },
  {
   "cell_type": "code",
   "execution_count": null,
   "id": "0422aa55",
   "metadata": {},
   "outputs": [],
   "source": [
    "MSD_windowed_mean = np.array(MSD_windowed)\n",
    "MSD_windowed_blue = MSD_windowed_mean[:, :, [x for x in range(nDrops) if x != red_particle_idx]].mean(axis = 2)\n",
    "MSD_windowed_blue_std = MSD_windowed_mean[:, :, [x for x in range(nDrops) if x != red_particle_idx]].std(axis = 2)\n",
    "MSD_windowed_red = MSD_windowed_mean[:, :, red_particle_idx]"
   ]
  },
  {
   "cell_type": "code",
   "execution_count": null,
   "id": "247c4f15",
   "metadata": {},
   "outputs": [],
   "source": [
    "df_blue = []\n",
    "df_red = []\n",
    "for k in range(nSteps):\n",
    "    df_blue.append(pd.DataFrame(data = MSD_windowed_blue[k], index = MSD_windowed[k].index, columns = ['msd']))\n",
    "    df_red.append(pd.DataFrame(data = MSD_windowed_red[k], index = MSD_windowed[k].index, columns = ['msd']))"
   ]
  },
  {
   "cell_type": "code",
   "execution_count": null,
   "id": "a3597d8a",
   "metadata": {},
   "outputs": [],
   "source": [
    "fit_mean = np.zeros((nSteps, 2, maxLagtime-10))\n",
    "powerlawExponents_mean = np.zeros((nSteps, 2))\n",
    "powerlawExponents_std = np.zeros((nSteps, 2))\n",
    "\n",
    "for k in range(nSteps):\n",
    "    powerlawFit = tp.utils.fit_powerlaw(df_blue[k].iloc[10:], plot = False)  \n",
    "    powerlawExponents_mean[k, 0] = powerlawFit.n.values \n",
    "    powerlawExponents_std[k, 0] = powerlawFit.stderr.values \n",
    "    fit_mean[k, 0, :] = powerlawFit.A.values * np.arange(1.1, 100.1, 0.1)**powerlawExponents_mean[k, 0]\n",
    "\n",
    "    powerlawFit = tp.utils.fit_powerlaw(df_red[k].iloc[10:], plot = False)  \n",
    "    powerlawExponents_mean[k, 1] = powerlawFit.n.values \n",
    "    powerlawExponents_std[k, 1] = powerlawFit.stderr.values \n",
    "    fit_mean[k, 1, :] = powerlawFit.A.values * np.arange(1.1, 100.1, 0.1)**powerlawExponents_mean[k, 1]"
   ]
  },
  {
   "cell_type": "code",
   "execution_count": null,
   "id": "cec37ba4",
   "metadata": {},
   "outputs": [],
   "source": [
    "Y1 = MSD_windowed_blue - MSD_windowed_blue_std \n",
    "Y2 = MSD_windowed_blue + MSD_windowed_blue_std \n",
    "\n",
    "fig = plt.figure(figsize=(8, 5))\n",
    "anim_running = True\n",
    "\n",
    "def onClick(event):\n",
    "    global anim_running\n",
    "    if anim_running:\n",
    "        ani.event_source.stop()\n",
    "        anim_running = False\n",
    "    else:\n",
    "        ani.event_source.start()\n",
    "        anim_running = True\n",
    "\n",
    "def update_graph(step):\n",
    "    graphic_data[0].set_ydata(MSD_windowed_blue[step])\n",
    "    graphic_data[1].set_ydata(MSD_windowed_red[step])\n",
    "    title.set_text(f\"{startFrames[step]/10} - {endFrames[step]/10} seconds\")\n",
    "    path = fill_graph.get_paths()[0]\n",
    "    verts = path.vertices\n",
    "    verts[1:1000+1, 1] = Y1[step, :]\n",
    "    verts[1000+2:-1, 1] = Y2[step, :][::-1]\n",
    "    line.set_xdata(startFrames[:step])\n",
    "    line.set_ydata(powerlawExponents_mean[:step, 0])\n",
    "    ax1.set_xlim(0, startFrames[step]+10)\n",
    "    #cose[0].set_ydata(powerlawExponents_mean[:step, 0] - powerlawExponents_std[:step, 0])\n",
    "    #cose[1].set_ydata(powerlawExponents_mean[:step, 0] + powerlawExponents_std[:step, 0])\n",
    "\n",
    "    line1.set_xdata(startFrames[:step])  # update the data\n",
    "    line1.set_ydata(powerlawExponents_mean[:step, 1])  # update the data\n",
    "    #cose1[0].set_ydata(powerlawExponents_mean[:step, 1] - powerlawExponents_std[:step, 1])\n",
    "    #cose1[1].set_ydata(powerlawExponents_mean[:step, 1] + powerlawExponents_std[:step, 1])\n",
    "\n",
    "    return graphic_data, fill_graph, line, line1, # cose, # , , cose1\n",
    "\n",
    "ax = fig.add_subplot(211)\n",
    "title = ax.set_title(f\"{startFrames[0]/10} - {endFrames[0]/10} seconds\")\n",
    "graphic_data = []\n",
    "graphic_data.append(ax.plot(df_blue[0].index, MSD_windowed_blue[0], 'b-', alpha=0.5, label = \"Blue particles\")[0] )\n",
    "graphic_data.append(ax.plot(df_red[0].index, MSD_windowed_red[0], 'r-' , label = \"Red particles\")[0] )\n",
    "fill_graph = ax.fill_between(df_blue[0].index, Y1[0], Y2[0],\\\n",
    "        alpha=0.5, edgecolor='#F0FFFF', facecolor='#00FFFF')\n",
    "\n",
    "ax.legend()\n",
    "ax.set(xscale = 'log', yscale = 'log', ylabel = r'$\\langle \\Delta r^2 \\rangle$ [$px^2$]', xlabel = 'lag time $t$ [s]', ylim=(0.5, 10**5))\n",
    "ax.grid()\n",
    "\n",
    "ax1 = fig.add_subplot(212)\n",
    "line, = ax1.plot(startFrames[0], powerlawExponents_mean[0, 0], 'b-', label = 'blue')\n",
    "line1, = ax1.plot(startFrames[0], powerlawExponents_mean[0, 1], 'r-', label = 'red')\n",
    "#line, _, cose = ax1.errorbar(startFrames[0], powerlawExponents_mean[0, 0], yerr=powerlawExponents_std[0, 0],\n",
    "#                                color = 'blue', label = 'blue', fmt = 'o')#.lines\n",
    "#line1, _, cose1 = ax1.errorbar(startFrames[0], powerlawExponents_mean[0, 1], yerr=powerlawExponents_std[0, 1],\\\n",
    "#     color = 'red', label = 'red', fmt = 'o')\n",
    "ax1.legend()\n",
    "ax1.set(xlabel = 'Time [s]', ylabel = r'$\\beta$', ylim=(0, 2))\n",
    "\n",
    "plt.tight_layout()\n",
    "fig.canvas.mpl_connect('button_press_event', onClick)\n",
    "ani = matplotlib.animation.FuncAnimation(fig, update_graph, nSteps, interval = 5, blit=False)\n",
    "ani.save('../results/msd/EMSD_windowed.mp4', fps=30, extra_args=['-vcodec', 'libx264'])\n",
    "plt.close()"
   ]
  },
  {
   "cell_type": "code",
   "execution_count": null,
   "id": "14d4d561",
   "metadata": {},
   "outputs": [],
   "source": [
    "'''\n",
    "fig, axs = plt.subplots(1, nWindows, figsize = (50, 3))\n",
    "for k in range(nWindows):\n",
    "    axs[k].plot(df_blue[k].index, MSD_windowed_blue[k], alpha=0.5, label = \"Blue particles\") \n",
    "    axs[k].plot(df_blue[k].index[10:], fit_mean[k, 0], 'b-', alpha=0.5, label = 'Blue particles fit')\n",
    "    axs[k].plot(df_red[k].index, df_red[k], 'ro', markersize=2, alpha=0.5, label = \"Red particles\") \n",
    "    axs[k].plot(df_red[k].index[10:], fit_mean[k, 1], 'r-', alpha=0.5, label = 'Red particles fit')\n",
    "    axs[k].fill_between(df_blue[k].index, MSD_windowed_blue[k]-MSD_windowed_blue_std[k], MSD_windowed_blue[k]+MSD_windowed_blue_std[k],\\\n",
    "         alpha=0.5, edgecolor='#CC4F1B', facecolor='#FF9848')\n",
    "    axs[k].set(xscale='log', yscale='log', xlabel = 'lagtime', ylabel = 'MSD', title = f\"{k*timeWindow}-{(k+1)*timeWindow} seconds\")\n",
    "    axs[k].legend()\n",
    "plt.tight_layout()\n",
    "if save_verb: plt.savefig(\"../results/msd/emsd_time_windowed/full.png\", dpi = 500, bbox_inches='tight')\n",
    "if show_verb:\n",
    "    plt.show()\n",
    "else: \n",
    "    plt.close()\n",
    "\n",
    "\n",
    "for k in range(nWindows):\n",
    "    fig, ax = plt.subplots(1, 1, figsize = (10, 6))\n",
    "    ax.plot(df_blue[k].index, MSD_windowed_blue[k], alpha=0.5, label = \"Blue particles\") \n",
    "    ax.plot(df_blue[k].index[10:], fit_mean[k, 0], 'b-', alpha=0.5, label = 'Blue particles fit')\n",
    "    ax.plot(df_red[k].index, df_red[k], alpha=0.5, label = \"Blue particles\") \n",
    "    ax.plot(df_red[k].index[10:], fit_mean[k, 1], 'r-', alpha=0.5, label = 'Red particles fit')\n",
    "    ax.fill_between(df_blue[k].index, MSD_windowed_blue[k]-MSD_windowed_blue_std[k], MSD_windowed_blue[k]+MSD_windowed_blue_std[k],\\\n",
    "         alpha=0.5, edgecolor='#CC4F1B', facecolor='#FF9848')\n",
    "    ax.set(xscale='log', yscale='log', xlabel = 'lagtime', ylabel = 'MSD', title = f\"{k*timeWindow}-{(k+1)*timeWindow} seconds\")\n",
    "    ax.legend()\n",
    "    plt.tight_layout()\n",
    "    if save_verb: plt.savefig(f\"../results/msd/emsd_time_windowed/msd_wind{k}.png\", dpi = 500, bbox_inches='tight')\n",
    "    if show_verb: \n",
    "        plt.show()\n",
    "    else:\n",
    "        plt.close()\n",
    "'''"
   ]
  },
  {
   "attachments": {},
   "cell_type": "markdown",
   "id": "a1933f7c",
   "metadata": {},
   "source": [
    "# Speed Distribution"
   ]
  },
  {
   "cell_type": "code",
   "execution_count": null,
   "id": "b7ca75ce",
   "metadata": {},
   "outputs": [],
   "source": [
    "blueTrajs = []\n",
    "redTraj = []\n",
    "for i in range(0, nDrops):\n",
    "    if i != red_particle_idx:\n",
    "        p1 = rawTrajs.loc[np.where(rawTrajs.particle==i)[0], [\"x\",\"y\"]]\n",
    "        blueTrajs.append(Trajectory(p1.x, p1.y, dt = 1/10, traj_id=i))\n",
    "    if i == red_particle_idx:\n",
    "        p1 = rawTrajs.loc[np.where(rawTrajs.particle==i)[0], [\"x\",\"y\"]]\n",
    "        redTraj.append(Trajectory(p1.x, p1.y, dt = 1/10, traj_id=i))\n",
    "\n",
    "blueTrajs_smooth = []\n",
    "redTraj_smooth = []\n",
    "for i in range(0, nDrops):\n",
    "    if i != red_particle_idx:\n",
    "        p1 = smoothTrajs.loc[np.where(smoothTrajs.particle==i)[0], [\"x\",\"y\"]]\n",
    "        blueTrajs_smooth.append(Trajectory(p1.x, p1.y, dt = 1/10, traj_id=i))\n",
    "    if i == red_particle_idx:\n",
    "        p1 = smoothTrajs.loc[np.where(smoothTrajs.particle==i)[0], [\"x\",\"y\"]]\n",
    "        redTraj_smooth.append(Trajectory(p1.x, p1.y, dt = 1/10, traj_id=i))\n",
    "\n",
    "# Trajectories plot to check if trajectories ID are correct\n",
    "fig = plt.figure(figsize=(10, 4))\n",
    "plt.subplot(121)\n",
    "yg.plot_2d(blueTrajs[16:18], legend=True, units=\"px\", show=False)\n",
    "plt.subplot(122)\n",
    "yg.plot_2d(redTraj, legend=True, units=\"px\", show=False)\n",
    "plt.tight_layout()\n",
    "if show_verb: \n",
    "    plt.show()\n",
    "else:\n",
    "    plt.close()"
   ]
  },
  {
   "cell_type": "code",
   "execution_count": null,
   "id": "acbe0ea5",
   "metadata": {},
   "outputs": [],
   "source": [
    "v_blue = ys.speed_ensemble(blueTrajs, step=10)\n",
    "v_red = ys.speed_ensemble(redTraj, step=10)\n",
    "\n",
    "v_blue_smooth = ys.speed_ensemble(blueTrajs_smooth, step=10)\n",
    "v_red_smooth = ys.speed_ensemble(redTraj_smooth, step=10)"
   ]
  },
  {
   "cell_type": "code",
   "execution_count": null,
   "id": "8b73c6cf",
   "metadata": {},
   "outputs": [],
   "source": [
    "# step 10 with a 10 fps video --> 1 s  \n",
    "units = \"px/s\"\n",
    "default_kwargs = {\"color\": \"#99d2ec\", \"ec\": (0, 0, 0, 0.6), \"density\": True}\n",
    "\n",
    "fig, (ax, ax1) = plt.subplots(2, 1, figsize = (10, 5))\n",
    "ax.hist(v_blue, bins = 100, **default_kwargs)\n",
    "ax.set(title = \"Blue particles velocity distribution\", xlabel = f\"speed [{units}]\", ylabel = \"pdf\", xlim = (0, 60), ylim = (0, 0.25))\n",
    "ax1.hist(v_red, bins = 100, **default_kwargs)\n",
    "ax1.set(title = \"Red particle velocity distribution\", xlabel = f\"speed [{units}]\", ylabel = \"pdf\", xlim = (0, 60), ylim = (0, 0.25))\n",
    "ax1.set_xlim(0, 60)\n",
    "ax1.set_ylim(0, 0.25)\n",
    "plt.suptitle(\"Raw trajectories\")\n",
    "plt.tight_layout()\n",
    "if save_verb: plt.savefig(\"../results/speed_distribution/raw.png\", dpi = 500, bbox_inches='tight')\n",
    "if show_verb: \n",
    "    plt.show()\n",
    "else:\n",
    "    plt.close()\n",
    "\n",
    "\n",
    "fig, (ax, ax1) = plt.subplots(2, 1, figsize = (10, 5))\n",
    "ax.hist(v_blue_smooth, bins = 100, **default_kwargs)\n",
    "ax.set(title = \"Blue particles velocity distribution\", xlabel = f\"speed [{units}]\", ylabel = \"pdf\", xlim = (0, 60), ylim = (0, 0.25))\n",
    "ax.set_xlim(0, 60)\n",
    "ax.set_ylim(0, 0.25)\n",
    "ax1.hist(v_red_smooth, bins = 100, **default_kwargs)\n",
    "ax1.set(title = \"Red particle velocity distribution\", xlabel = f\"speed [{units}]\", ylabel = \"pdf\", xlim = (0, 60), ylim = (0, 0.25))\n",
    "ax1.set_xlim(0, 60)\n",
    "ax1.set_ylim(0, 0.25)\n",
    "plt.suptitle(\"Raw trajectories\")\n",
    "plt.tight_layout()\n",
    "if save_verb: plt.savefig(\"../results/speed_distribution/smoothed.png\", dpi = 500, bbox_inches='tight')\n",
    "if show_verb: \n",
    "    plt.show()\n",
    "else:\n",
    "    plt.close()"
   ]
  },
  {
   "attachments": {},
   "cell_type": "markdown",
   "id": "83579dc2",
   "metadata": {},
   "source": [
    "## Windowed"
   ]
  },
  {
   "cell_type": "code",
   "execution_count": 11,
   "id": "081c1510",
   "metadata": {},
   "outputs": [
    {
     "name": "stderr",
     "output_type": "stream",
     "text": [
      "100%|██████████| 289/289 [01:07<00:00,  4.31it/s]\n"
     ]
    }
   ],
   "source": [
    "v_blue_windowed = []\n",
    "v_red_windowed = []\n",
    "for k in tqdm(range(nSteps)):\n",
    "    trajs = rawTrajs.loc[rawTrajs.frame.between(startFrames[k], endFrames[k])]\n",
    "    blueTrajs = []\n",
    "    redTraj = []\n",
    "\n",
    "    for i in range(0, nDrops):\n",
    "        if i == red_particle_idx:\n",
    "            p = trajs.loc[trajs.particle==i, [\"x\",\"y\"]]\n",
    "            redTraj.append(Trajectory(p.x, p.y, dt = 1/10, traj_id=i))\n",
    "        else:\n",
    "            p = trajs.loc[trajs.particle==i, [\"x\",\"y\"]]\n",
    "            blueTrajs.append(Trajectory(p.x, p.y, dt = 1/10, traj_id=i))\n",
    "        \n",
    "\n",
    "    v_blue_windowed.append(ys.speed_ensemble(blueTrajs, step=10))\n",
    "    v_red_windowed.append(ys.speed_ensemble(redTraj, step=10))"
   ]
  },
  {
   "cell_type": "code",
   "execution_count": 27,
   "id": "46743804",
   "metadata": {},
   "outputs": [
    {
     "name": "stderr",
     "output_type": "stream",
     "text": [
      "17:47:57 [INFO] Animation.save using <class 'matplotlib.animation.FFMpegWriter'>\n",
      "17:47:57 [INFO] MovieWriter._run: running command: ffmpeg -f rawvideo -vcodec rawvideo -s 800x500 -pix_fmt rgba -r 30 -loglevel error -i pipe: -vcodec h264 -pix_fmt yuv420p -vcodec libx264 -y ../results/trial_hist.mp4\n"
     ]
    }
   ],
   "source": [
    "HIST_BINS1 = np.arange(0, 20, .1)\n",
    "HIST_BINS2 = np.arange(0, 40, .5)\n",
    "units=\"px/s\"\n",
    "default_kwargs = {\"color\": \"#99d2ec\", \"ec\": (0, 0, 0, 0.6), \"density\": True}\n",
    "\n",
    "fig, (ax,ax1) = plt.subplots(2, 1, figsize=(8, 5))\n",
    "anim_running = True\n",
    "\n",
    "def onClick(event):\n",
    "    global anim_running\n",
    "    if anim_running:\n",
    "        ani.event_source.stop()\n",
    "        anim_running = False\n",
    "    else:\n",
    "        ani.event_source.start()\n",
    "        anim_running = True\n",
    "\n",
    "\n",
    "def prepare_animation(bar_container, bar_container2):\n",
    "    def animate(frame):\n",
    "        title.set_text(f\"Blue particle velocity pdf {startFrames[frame]/10} - {endFrames[frame]/10} seconds\")\n",
    "        \n",
    "        n, _ = np.histogram(v_blue_windowed[frame], HIST_BINS1, density = True)\n",
    "        for count, rect in zip(n, bar_container.patches):\n",
    "            rect.set_height(count)\n",
    "            \n",
    "        title2.set_text(f\"Red particle velocity pdf {startFrames[frame]/10} - {endFrames[frame]/10} seconds\")\n",
    "        n2, _ = np.histogram(v_red_windowed[frame], HIST_BINS2, density = True)\n",
    "        for count2, rect2 in zip(n2, bar_container2.patches):\n",
    "            rect2.set_height(count2)\n",
    "            \n",
    "        return bar_container.patches, bar_container2.patches\n",
    "    return animate\n",
    "\n",
    "#ax = fig.add_subplot(211)\n",
    "_, _, bar_container = ax.hist(v_blue_windowed[0], HIST_BINS1, **default_kwargs)\n",
    "title = ax.set_title(f\"Blue particle velocity pdf {startFrames[0]/10} - {endFrames[0]/10} seconds\")\n",
    "ax.set(xlabel = f\"speed [{units}]\", ylabel = \"pdf\", xlim = (0, 20), ylim = (0, 0.25))\n",
    "\n",
    "#ax1 = fig.add_subplot(212)\n",
    "_, _, bar_container2 = ax1.hist(v_red_windowed[0], HIST_BINS2,  **default_kwargs)\n",
    "title2 = ax1.set_title(f\"Red particle velocity pdf {startFrames[0]/10} - {endFrames[0]/10} seconds\")\n",
    "ax1.set(title = f\"Red particle velocity pdf\", xlabel = f\"speed [{units}]\", ylabel = \"pdf\", xlim = (0, 40), ylim = (0, 0.25))\n",
    "\n",
    "plt.tight_layout()\n",
    "fig.canvas.mpl_connect('button_press_event', onClick)\n",
    "ani = matplotlib.animation.FuncAnimation(fig, prepare_animation(bar_container, bar_container2), nSteps, repeat=True, blit=False)\n",
    "ani.save('../results/trial_hist.mp4', fps=30, extra_args=['-vcodec', 'libx264'])\n",
    "plt.close()\n"
   ]
  },
  {
   "cell_type": "code",
   "execution_count": null,
   "id": "9130460f",
   "metadata": {},
   "outputs": [],
   "source": [
    "'''\n",
    "units=\"px/s\"\n",
    "default_kwargs = {\"color\": \"#99d2ec\", \"ec\": (0, 0, 0, 0.6), \"density\": True}\n",
    "\n",
    "fig, axs = plt.subplots(2, nWindows, figsize = (50, 3))\n",
    "for k in range(nWindows):\n",
    "   axs[0, k].hist(v_blue_windowed[k], bins = np.arange(0, 20, .5), **default_kwargs)\n",
    "   axs[0, k].set(title = f\"Blue particles velocity pdf {k*timeWindow}-{(k+1)*timeWindow} s\", xlabel = f\"speed [{units}]\", ylabel = \"pdf\")\n",
    "   axs[0, k].set_xlim(0, 20)\n",
    "   axs[0, k].set_ylim(0, 0.25)\n",
    "   axs[0, k].grid()\n",
    "\n",
    "   axs[1, k].hist(v_red_windowed[k], bins = np.arange(0, 40, .5), **default_kwargs)\n",
    "   axs[1, k].set(title = f\"Red particle velocity pdf {k*timeWindow}-{(k+1)*timeWindow} s\", xlabel = f\"speed [{units}]\", ylabel = \"pdf\")\n",
    "   axs[1, k].set_xlim(0, 40)\n",
    "   axs[1, k].set_ylim(0, 0.2)\n",
    "   axs[1, k].grid()\n",
    "plt.tight_layout()\n",
    "if save_verb: plt.savefig(\"../results/speed_distribution/time_windowed/full.png\", dpi = 300, bbox_inches = 'tight')\n",
    "if show_verb:\n",
    "   plt.close()\n",
    "else:\n",
    "   plt.close()\n",
    "\n",
    "for k in range(nWindows):\n",
    "    fig, (ax, ax1) = plt.subplots(2, 1, figsize = (10, 4))\n",
    "    ax.hist(v_blue_windowed[k], bins = np.arange(0, 20, .1), **default_kwargs)\n",
    "    ax.set(title = f\"Blue particles velocity pdf {k*timeWindow}-{(k+1)*timeWindow} s\", xlabel = f\"speed{units}\", ylabel = \"pdf\")\n",
    "    ax.set_xlim(0, 20)\n",
    "    ax.set_ylim(0, 0.25)\n",
    "\n",
    "    ax1.hist(v_red_windowed[k], bins = np.arange(0, 40, .5), **default_kwargs)\n",
    "    ax1.set(title = f\"Red particle velocity pdf {k*timeWindow}-{(k+1)*timeWindow} s\", xlabel = f\"speed{units}\", ylabel = \"pdf\")\n",
    "    ax1.set_xlim(0, 40)\n",
    "    ax1.set_ylim(0, 0.25)\n",
    "\n",
    "    plt.tight_layout()\n",
    "    if save_verb: plt.savefig(f\"../results/speed_distribution/time_windowed/speed_{k}.png\", dpi = 500, bbox_inches = 'tight')\n",
    "    if show_verb:\n",
    "        plt.close()\n",
    "    else:\n",
    "        plt.close()\n",
    "'''"
   ]
  },
  {
   "cell_type": "code",
   "execution_count": null,
   "id": "00069376",
   "metadata": {},
   "outputs": [],
   "source": []
  },
  {
   "attachments": {},
   "cell_type": "markdown",
   "id": "2160ac4c",
   "metadata": {},
   "source": [
    "# Turning Angles Distribution"
   ]
  },
  {
   "cell_type": "code",
   "execution_count": null,
   "id": "237f4862",
   "metadata": {},
   "outputs": [],
   "source": [
    "theta_blue = ys.turning_angles_ensemble(blueTrajs, centered= True)\n",
    "theta_red = ys.turning_angles_ensemble(redTraj, centered= True)\n",
    "\n",
    "fig, (ax, ax1) = plt.subplots(1, 2, figsize=(10, 4))#, subplot_kw = dict(projection='polar'))\n",
    "ax.hist(theta_blue, 100, **default_kwargs)\n",
    "ax.set_xticks([-np.pi, -np.pi/2, 0, np.pi/2, np.pi],[r'-$\\pi$', r'$-\\frac{\\pi}{2}$', '$0$', r'$\\frac{\\pi}{2}$', r'$\\pi$'])\n",
    "ax.set_title(\"Turning angles pdf for blue particles\")\n",
    "\n",
    "ax1.hist(theta_red, 100, **default_kwargs)\n",
    "ax1.set_title(\"Turning angles pdf for red particle\")\n",
    "ax1.set_xticks([-np.pi, -np.pi/2, 0, np.pi/2, np.pi],[r'-$\\pi$', r'$-\\frac{\\pi}{2}$', '$0$', r'$\\frac{\\pi}{2}$', r'$\\pi$'])\n",
    "if save_verb: plt.savefig(f\"../results/turning_angles/raw.png\", dpi = 500, bbox_inches = 'tight')\n",
    "if show_verb:\n",
    "    plt.close()\n",
    "else:\n",
    "    plt.close()"
   ]
  },
  {
   "cell_type": "code",
   "execution_count": null,
   "id": "182d9283",
   "metadata": {},
   "outputs": [],
   "source": [
    "theta_blue_smooth = ys.turning_angles_ensemble(blueTrajs_smooth, centered = True)\n",
    "theta_red_smooth = ys.turning_angles_ensemble(redTraj_smooth, centered = True)\n",
    "\n",
    "fig, (ax, ax1) = plt.subplots(1, 2, figsize=(10, 4))\n",
    "ax.hist(theta_blue_smooth, 100, **default_kwargs)\n",
    "ax.set_xticks([-np.pi, -np.pi/2, 0, np.pi/2, np.pi],[r'-$\\pi$', r'$-\\frac{\\pi}{2}$', '$0$', r'$\\frac{\\pi}{2}$', r'$\\pi$'])\n",
    "ax.set_title(\"Turning angles pdf for blue particles\")\n",
    "ax1.hist(theta_red_smooth, 100, **default_kwargs)\n",
    "ax1.set_xticks([-np.pi, -np.pi/2, 0, np.pi/2, np.pi],[r'-$\\pi$', r'$-\\frac{\\pi}{2}$', '$0$', r'$\\frac{\\pi}{2}$', r'$\\pi$'])\n",
    "ax1.set_title(\"Turning angles pdf for red particle\")\n",
    "\n",
    "if save_verb: plt.savefig(f\"../results/turning_angles/smoothed.png\", dpi = 500, bbox_inches = 'tight')\n",
    "if show_verb:\n",
    "    plt.close()\n",
    "else:\n",
    "    plt.close()"
   ]
  },
  {
   "attachments": {},
   "cell_type": "markdown",
   "id": "32d4df36",
   "metadata": {},
   "source": [
    "## Windowed Raw Trajectory"
   ]
  },
  {
   "cell_type": "code",
   "execution_count": 28,
   "id": "9adc558f",
   "metadata": {},
   "outputs": [
    {
     "name": "stderr",
     "output_type": "stream",
     "text": [
      "100%|██████████| 289/289 [01:15<00:00,  3.80it/s]\n"
     ]
    }
   ],
   "source": [
    "theta_blue_windowed = []\n",
    "theta_red_windowed = []\n",
    "for k in tqdm(range(nSteps)):\n",
    "    trajs = rawTrajs.loc[rawTrajs.frame.between(startFrames[k], endFrames[k])]\n",
    "    blueTrajs = []\n",
    "    redTraj = []\n",
    "\n",
    "    for i in range(0, nDrops):\n",
    "        if i != red_particle_idx:\n",
    "            p = trajs.loc[trajs.particle==i, [\"x\",\"y\"]]\n",
    "            redTraj.append(Trajectory(p.x, p.y, dt = 1/10, traj_id=i))\n",
    "        if i == red_particle_idx:\n",
    "            p = trajs.loc[trajs.particle==i, [\"x\",\"y\"]]\n",
    "            blueTrajs.append(Trajectory(p.x, p.y, dt = 1/10, traj_id=i))\n",
    "\n",
    "    theta_blue_windowed.append(ys.turning_angles_ensemble(blueTrajs, centered= True))\n",
    "    theta_red_windowed.append(ys.turning_angles_ensemble(redTraj, centered= True))\n",
    "    "
   ]
  },
  {
   "cell_type": "code",
   "execution_count": 37,
   "id": "00bc78fe",
   "metadata": {},
   "outputs": [
    {
     "name": "stderr",
     "output_type": "stream",
     "text": [
      "18:01:18 [INFO] Animation.save using <class 'matplotlib.animation.FFMpegWriter'>\n",
      "18:01:18 [INFO] MovieWriter._run: running command: ffmpeg -f rawvideo -vcodec rawvideo -s 800x500 -pix_fmt rgba -r 30 -loglevel error -i pipe: -vcodec h264 -pix_fmt yuv420p -vcodec libx264 -y ../results/turning_angles_windowed.mp4\n"
     ]
    }
   ],
   "source": [
    "HIST_BINS1 = np.arange(0, 20, .1)\n",
    "HIST_BINS2 = np.arange(0, 40, .5)\n",
    "units=\"px/s\"\n",
    "default_kwargs = {\"color\": \"#99d2ec\", \"ec\": (0, 0, 0, 0.6), \"density\": True}\n",
    "\n",
    "fig, (ax,ax1) = plt.subplots(2, 1, figsize=(8, 5))\n",
    "anim_running = True\n",
    "\n",
    "def onClick(event):\n",
    "    global anim_running\n",
    "    if anim_running:\n",
    "        ani.event_source.stop()\n",
    "        anim_running = False\n",
    "    else:\n",
    "        ani.event_source.start()\n",
    "        anim_running = True\n",
    "\n",
    "\n",
    "def prepare_animation(bar_container, bar_container2):\n",
    "    def animate(frame):\n",
    "        title.set_text(f\"Blue particles turning angles pdf {startFrames[frame]/10} - {endFrames[frame]/10} seconds\")\n",
    "        \n",
    "        n, _ = np.histogram(theta_blue_windowed[frame], 100, density = True)\n",
    "        for count, rect in zip(n, bar_container.patches):\n",
    "            rect.set_height(count)\n",
    "            \n",
    "        title2.set_text(f\"Red particle turning angles pdf {startFrames[frame]/10} - {endFrames[frame]/10} seconds\")\n",
    "        n2, _ = np.histogram(theta_red_windowed[frame], 100, density = True)\n",
    "        for count2, rect2 in zip(n2, bar_container2.patches):\n",
    "            rect2.set_height(count2)\n",
    "            \n",
    "        return bar_container.patches, bar_container2.patches\n",
    "    return animate\n",
    "\n",
    "_, _, bar_container = ax.hist(theta_red_windowed[0], 100, **default_kwargs)\n",
    "title = ax.set_title(f\"Blue particles turning angles pdf {startFrames[0]/10} - {endFrames[0]/10} seconds\")\n",
    "ax.set(ylabel = \"pdf\", ylim = (0, 1))\n",
    "ax.set_xticks([-np.pi, -np.pi/2, 0, np.pi/2, np.pi], [r'-$\\pi$', r'$-\\frac{\\pi}{2}$', '$0$', r'$\\frac{\\pi}{2}$', r'$\\pi$'])\n",
    "\n",
    "_, _, bar_container2 = ax1.hist(theta_red_windowed[0], 100,  **default_kwargs)\n",
    "title2 = ax1.set_title(f\"Red particle turning angles pdf {startFrames[0]/10} - {endFrames[0]/10} seconds\")\n",
    "ax1.set(ylabel = \"pdf\", ylim = (0, 1))\n",
    "ax1.set_xticks([-np.pi, -np.pi/2, 0, np.pi/2, np.pi], [r'-$\\pi$', r'$-\\frac{\\pi}{2}$', '$0$', r'$\\frac{\\pi}{2}$', r'$\\pi$'])\n",
    "\n",
    "\n",
    "plt.tight_layout()\n",
    "fig.canvas.mpl_connect('button_press_event', onClick)\n",
    "ani = matplotlib.animation.FuncAnimation(fig, prepare_animation(bar_container, bar_container2), nSteps, repeat=True, blit=False)\n",
    "ani.save('../results/turning_angles_windowed.mp4', fps=30, extra_args=['-vcodec', 'libx264'])\n",
    "plt.close()\n"
   ]
  },
  {
   "attachments": {},
   "cell_type": "markdown",
   "id": "9be1cf96",
   "metadata": {},
   "source": [
    "## Windowed Smooth Trajectory"
   ]
  },
  {
   "cell_type": "code",
   "execution_count": 29,
   "id": "905b48fd",
   "metadata": {},
   "outputs": [
    {
     "name": "stderr",
     "output_type": "stream",
     "text": [
      "100%|██████████| 289/289 [00:49<00:00,  5.80it/s]\n"
     ]
    }
   ],
   "source": [
    "theta_blue_windowed_smooth = []\n",
    "theta_red_windowed_smooth = []\n",
    "for k in tqdm(range(nSteps)):\n",
    "    trajs = smoothTrajs.loc[rawTrajs.frame.between(startFrames[k], endFrames[k])]\n",
    "    blueTrajs = []\n",
    "    redTraj = []\n",
    "\n",
    "    for i in range(0, nDrops):\n",
    "        if i != red_particle_idx:\n",
    "            p = trajs.loc[trajs.particle==i, [\"x\",\"y\"]]\n",
    "            redTraj.append(Trajectory(p.x, p.y, dt = 1/10, traj_id=i))\n",
    "        if i == red_particle_idx:\n",
    "            p = trajs.loc[trajs.particle==i, [\"x\",\"y\"]]\n",
    "            blueTrajs.append(Trajectory(p.x, p.y, dt = 1/10, traj_id=i))\n",
    "\n",
    "    theta_blue_windowed_smooth.append(ys.turning_angles_ensemble(blueTrajs, centered= True))\n",
    "    theta_red_windowed_smooth.append(ys.turning_angles_ensemble(redTraj, centered= True))"
   ]
  },
  {
   "cell_type": "code",
   "execution_count": 36,
   "id": "068eab69",
   "metadata": {},
   "outputs": [
    {
     "name": "stderr",
     "output_type": "stream",
     "text": [
      "18:00:05 [INFO] Animation.save using <class 'matplotlib.animation.FFMpegWriter'>\n",
      "18:00:05 [INFO] MovieWriter._run: running command: ffmpeg -f rawvideo -vcodec rawvideo -s 800x500 -pix_fmt rgba -r 30 -loglevel error -i pipe: -vcodec h264 -pix_fmt yuv420p -vcodec libx264 -y ../results/turning_angles_windowed_smooth.mp4\n"
     ]
    }
   ],
   "source": [
    "units=\"px/s\"\n",
    "default_kwargs = {\"color\": \"#99d2ec\", \"ec\": (0, 0, 0, 0.6), \"density\": True}\n",
    "\n",
    "fig, (ax,ax1) = plt.subplots(2, 1, figsize=(8, 5))\n",
    "anim_running = True\n",
    "\n",
    "def onClick(event):\n",
    "    global anim_running\n",
    "    if anim_running:\n",
    "        ani.event_source.stop()\n",
    "        anim_running = False\n",
    "    else:\n",
    "        ani.event_source.start()\n",
    "        anim_running = True\n",
    "\n",
    "\n",
    "def prepare_animation(bar_container, bar_container2):\n",
    "    def animate(frame):\n",
    "        title.set_text(f\"Blue particles turning angles pdf {startFrames[frame]/10} - {endFrames[frame]/10} seconds\")\n",
    "        \n",
    "        n, _ = np.histogram(theta_blue_windowed_smooth[frame], 100, density = True)\n",
    "        for count, rect in zip(n, bar_container.patches):\n",
    "            rect.set_height(count)\n",
    "            \n",
    "        title2.set_text(f\"Red particle turning angles pdf {startFrames[frame]/10} - {endFrames[frame]/10} seconds\")\n",
    "        n2, _ = np.histogram(theta_red_windowed_smooth[frame], 100, density = True)\n",
    "        for count2, rect2 in zip(n2, bar_container2.patches):\n",
    "            rect2.set_height(count2)\n",
    "            \n",
    "        return bar_container.patches, bar_container2.patches\n",
    "    return animate\n",
    "\n",
    "_, _, bar_container = ax.hist(theta_red_windowed_smooth[0], 100, **default_kwargs)\n",
    "title = ax.set_title(f\"Blue particles turning angles pdf {startFrames[0]/10} - {endFrames[0]/10} seconds\")\n",
    "ax.set(ylabel = \"pdf\", ylim = (0, 3))\n",
    "ax.set_xticks([-np.pi, -np.pi/2, 0, np.pi/2, np.pi], [r'-$\\pi$', r'$-\\frac{\\pi}{2}$', '$0$', r'$\\frac{\\pi}{2}$', r'$\\pi$'])\n",
    "\n",
    "_, _, bar_container2 = ax1.hist(theta_red_windowed_smooth[0], 100,  **default_kwargs)\n",
    "title2 = ax1.set_title(f\"Red particle turning angles pdf {startFrames[0]/10} - {endFrames[0]/10} seconds\")\n",
    "ax1.set(ylabel = \"pdf\", ylim = (0, 3))\n",
    "ax1.set_xticks([-np.pi, -np.pi/2, 0, np.pi/2, np.pi], [r'-$\\pi$', r'$-\\frac{\\pi}{2}$', '$0$', r'$\\frac{\\pi}{2}$', r'$\\pi$'])\n",
    "\n",
    "\n",
    "plt.tight_layout()\n",
    "fig.canvas.mpl_connect('button_press_event', onClick)\n",
    "ani = matplotlib.animation.FuncAnimation(fig, prepare_animation(bar_container, bar_container2), nSteps, repeat=True, blit=False)\n",
    "ani.save('../results/turning_angles_windowed_smooth.mp4', fps=30, extra_args=['-vcodec', 'libx264'])\n",
    "plt.close()\n"
   ]
  },
  {
   "attachments": {},
   "cell_type": "markdown",
   "id": "20cec43a",
   "metadata": {},
   "source": [
    "# Velocity autocorrelation"
   ]
  },
  {
   "cell_type": "code",
   "execution_count": 38,
   "id": "e040e84f",
   "metadata": {},
   "outputs": [
    {
     "name": "stderr",
     "output_type": "stream",
     "text": [
      "/Users/matteoscandola/miniconda3/envs/pyenv/lib/python3.10/site-packages/yupi/graphics/_stats_plots.py:315: UserWarning: marker is redundantly defined by the 'marker' keyword argument and the fmt string \".\" (-> marker='.'). The keyword argument will take precedence.\n",
      "  plt.plot(lag_t_vacf, vacf, \".\", **kwargs)\n"
     ]
    },
    {
     "data": {
      "application/vnd.jupyter.widget-view+json": {
       "model_id": "6ab3fa191e7e4387a0a9115d7aa6013e",
       "version_major": 2,
       "version_minor": 0
      },
      "image/png": "[encoded data removed]",
      "text/html": [
       "\n",
       "            <div style=\"display: inline-block;\">\n",
       "                <div class=\"jupyter-widgets widget-label\" style=\"text-align: center;\">\n",
       "                    Figure\n",
       "                </div>\n",
       "                <img src='data:image/png;base64,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' width=1000.0/>\n",
       "            </div>\n",
       "        "
      ],
      "text/plain": [
       "Canvas(toolbar=Toolbar(toolitems=[('Home', 'Reset original view', 'home', 'home'), ('Back', 'Back to previous …"
      ]
     },
     "metadata": {},
     "output_type": "display_data"
    }
   ],
   "source": [
    "vacf_mean_blue, vacf_std_blue = ys.vacf(blueTrajs, time_avg=True, lag=maxLagtime)\n",
    "vacf_mean_red, vacf_std_red = ys.vacf(redTraj, time_avg=True, lag=maxLagtime)\n",
    "\n",
    "fig = plt.figure()\n",
    "plt.subplot(121)\n",
    "plt.title(\"Velocity autocorrelation of blue particles\")\n",
    "yg.plot_vacf(vacf_mean_blue, dt = 1/10, lag = maxLagtime, show = False, log_inset=False, marker='o', markersize=1, y_units ='(px/s)^2')\n",
    "plt.xlim(-5, 40)\n",
    "plt.subplot(122)\n",
    "plt.title(\"Velocity autocorrelation of red particle\")\n",
    "yg.plot_vacf(vacf_mean_red, dt = 1/10, lag = maxLagtime, show = False, log_inset=False, marker='o', markersize=1, y_units ='(px/s)^2')\n",
    "plt.xlim(-5, 40)\n",
    "plt.tight_layout()\n",
    "plt.show()"
   ]
  },
  {
   "attachments": {},
   "cell_type": "markdown",
   "id": "06724154",
   "metadata": {},
   "source": [
    "## Windowed"
   ]
  },
  {
   "cell_type": "code",
   "execution_count": 42,
   "id": "148f8ac4",
   "metadata": {},
   "outputs": [
    {
     "name": "stderr",
     "output_type": "stream",
     "text": [
      " 89%|████████▉ | 258/289 [35:28<05:12, 10.09s/it]"
     ]
    }
   ],
   "source": [
    "vacf_blue_windowed = []\n",
    "vacf_red_windowed = []\n",
    "\n",
    "for k in tqdm(range(nSteps)):\n",
    "    trajs = rawTrajs.loc[rawTrajs.frame.between(startFrames[k], endFrames[k])]\n",
    "    blueTrajs = []\n",
    "    redTraj = []\n",
    "\n",
    "    for i in range(0, nDrops):\n",
    "        if i != red_particle_idx:\n",
    "            p = trajs.loc[trajs.particle==i, [\"x\",\"y\"]]\n",
    "            redTraj.append(Trajectory(p.x, p.y, dt = 1/10, traj_id=i))\n",
    "        if i == red_particle_idx:\n",
    "            p = trajs.loc[trajs.particle==i, [\"x\",\"y\"]]\n",
    "            blueTrajs.append(Trajectory(p.x, p.y, dt = 1/10, traj_id=i))\n",
    "\n",
    "    vacf_blue_windowed.append(ys.vacf(blueTrajs, time_avg=True, lag=maxLagtime)[0])\n",
    "    vacf_red_windowed.append(ys.vacf(redTraj, time_avg=True, lag=maxLagtime)[0])\n",
    "    "
   ]
  },
  {
   "cell_type": "code",
   "execution_count": null,
   "id": "e8d58d5d",
   "metadata": {},
   "outputs": [],
   "source": [
    "pd.save_csv(vacf_blue_windowed, \"../data/csv/vacf_blue_windowed.csv\")\n",
    "pd.save_csv(vacf_blue_windowed, \"../data/csv/vacf_red_windowed.csv\")"
   ]
  },
  {
   "cell_type": "code",
   "execution_count": null,
   "id": "619a0b29",
   "metadata": {},
   "outputs": [],
   "source": [
    "fig = plt.figure(figsize=(8, 5))\n",
    "anim_running = True\n",
    "\n",
    "def onClick(event):\n",
    "    global anim_running\n",
    "    if anim_running:\n",
    "        ani.event_source.stop()\n",
    "        anim_running = False\n",
    "    else:\n",
    "        ani.event_source.start()\n",
    "        anim_running = True\n",
    "\n",
    "def update_graph(step):\n",
    "    line.set_ydata(vacf_blue_windowed[step])\n",
    "    title.set_text(f\"{startFrames[step]/10} - {endFrames[step]/10} seconds\")\n",
    "    line1.set_ydata(vacf_red_windowed[step])\n",
    "    return line, line1,\n",
    "\n",
    "ax = fig.add_subplot(211)\n",
    "title = ax.set_title(f\"{startFrames[0]/10} - {endFrames[0]/10} seconds\")\n",
    "line, = ax.plot(, vacf_blue_windowed[0])\n",
    "ax.set(ylabel = r'vacf [$(px/s)^2$]', xlabel = 'lag time $t$ [s]', xlim = (-5, 40))\n",
    "ax.grid()\n",
    "\n",
    "ax1 = fig.add_subplot(212)\n",
    "line1, = ax1.plot(, vacf_red_windowed[0])\n",
    "ax1.set(ylabel = r'vacf [$(px/s)^2$]', xlabel = 'lag time $t$ [s]', xlim = (-5, 40))\n",
    "ax1.grid()\n",
    "\n",
    "plt.tight_layout()\n",
    "fig.canvas.mpl_connect('button_press_event', onClick)\n",
    "ani = matplotlib.animation.FuncAnimation(fig, update_graph, nSteps, interval = 5, blit=False)\n",
    "ani.save('../results/vacf_windowed.mp4', fps=30, extra_args=['-vcodec', 'libx264'])\n",
    "plt.close()"
   ]
  },
  {
   "attachments": {},
   "cell_type": "markdown",
   "id": "30ca8658",
   "metadata": {},
   "source": [
    "# Other Metrics"
   ]
  },
  {
   "cell_type": "code",
   "execution_count": null,
   "id": "4963073f",
   "metadata": {},
   "outputs": [],
   "source": [
    "kurt_ref_blue = ys.kurtosis_reference(blueTrajs)\n",
    "kurt_mean_blue, _ = ys.kurtosis(blueTrajs, time_avg=True, lag=maxLagtime)\n",
    "\n",
    "kurt_ref_red = ys.kurtosis_reference(redTraj)\n",
    "kurt_mean_red, _ = ys.kurtosis(redTraj, time_avg=True, lag=maxLagtime)"
   ]
  },
  {
   "cell_type": "code",
   "execution_count": null,
   "id": "66d46ce0",
   "metadata": {},
   "outputs": [],
   "source": [
    "fig, ax = plt.subplots()\n",
    "plt.subplot(121)\n",
    "yg.plot_kurtosis(kurt_mean_blue, kurtosis_ref=kurt_ref_blue, dt=1/10, show=False)\n",
    "plt.subplot(122)\n",
    "yg.plot_kurtosis(kurt_mean_red, kurtosis_ref=kurt_ref_red, dt=1/10, show=False)\n",
    "plt.show()"
   ]
  },
  {
   "cell_type": "code",
   "execution_count": null,
   "id": "94a1be5f",
   "metadata": {},
   "outputs": [],
   "source": [
    "psd_mean_blue, psd_std_blue, frec_blue = ys.psd(blueTrajs, lag=maxLagtime)\n",
    "psd_mean_red, psd_std_red, frec_red = ys.psd(redTraj, lag=maxLagtime)\n",
    "fig = plt.figure()\n",
    "plt.subplot(121)\n",
    "yg.plot_psd(psd_mean_blue, frec_blue, psd_std_blue, show=False)\n",
    "plt.subplot(122)\n",
    "yg.plot_psd(psd_mean_red, frec_red, psd_std_red, show=False)\n",
    "plt.show()"
   ]
  },
  {
   "attachments": {},
   "cell_type": "markdown",
   "id": "51b6be7a",
   "metadata": {},
   "source": [
    "# Radial Distribution Function\n",
    "\n",
    "\n",
    "The radial distribution function in 2D is:\n",
    "$$ g_2(r) = \\frac{n(r)}{\\pi [(r+\\delta r)^2 - r^2 ] \\rho} $$\n",
    "\n",
    "where the density is $\\rho = N/V $ and the number density $n(r)$ is computed (using a KDTree data structure) by taking the number of elements closer than $r + \\delta r$ minus the number of elements closer than $r$\n",
    "\n",
    "In 3D (i think):\n",
    "$$ S_r = 4 \\pi r^2 g_2(r) $$\n",
    "\n",
    "in 2D ???"
   ]
  },
  {
   "cell_type": "code",
   "execution_count": null,
   "id": "7f80408f",
   "metadata": {},
   "outputs": [],
   "source": [
    "@joblib.delayed\n",
    "def computeRadialDistributionFunction(frame, COORDS, rList, dr, rho):\n",
    "    coords = COORDS[frame*nDrops:(frame+1)*nDrops,:]\n",
    "    kd = KDTree(coords)\n",
    "\n",
    "    avg_n = np.zeros(len(rList))\n",
    "    for i, r in enumerate(rList):\n",
    "        a = kd.query_ball_point(coords, r + 20)\n",
    "        b = kd.query_ball_point(coords, r)\n",
    "        \n",
    "        n1 = 0\n",
    "        for j in a:\n",
    "            n1 += len(j) - 1\n",
    "\n",
    "        n2 = 0\n",
    "        for j in b:\n",
    "            n2 += len(j) - 1\n",
    "        \n",
    "        avg_n[i] = n1/len(a) - n2/len(b)\n",
    "\n",
    "    g2 = avg_n/(np.pi*(dr**2 + 2*rList*dr)*rho)\n",
    "    return g2"
   ]
  },
  {
   "cell_type": "code",
   "execution_count": null,
   "id": "d22db12a",
   "metadata": {},
   "outputs": [],
   "source": [
    "dr = 5\n",
    "rDisk = 822/2\n",
    "rList = np.arange(0, 2*rDisk, 1)\n",
    "rho = nDrops/(np.pi*rDisk**2) # nDrops -1 !\n",
    "\n",
    "COORDS = np.array(rawTrajs.loc[:,[\"x\",\"y\"]])"
   ]
  },
  {
   "cell_type": "code",
   "execution_count": null,
   "id": "b913eb3e",
   "metadata": {},
   "outputs": [],
   "source": [
    "parallel = joblib.Parallel(n_jobs = -2)\n",
    "frames = 200\n",
    "trial = parallel(\n",
    "    computeRadialDistributionFunction(frame, COORDS, rList, dr, rho)\n",
    "    for frame in tqdm( range(frames) )\n",
    ")\n",
    "trial = np.array(trial)"
   ]
  },
  {
   "cell_type": "code",
   "execution_count": null,
   "id": "946483a2",
   "metadata": {},
   "outputs": [],
   "source": [
    "fig, ax = plt.subplots()\n",
    "anim_running = True\n",
    "\n",
    "def onClick(event):\n",
    "    global anim_running\n",
    "    if anim_running:\n",
    "        ani.event_source.stop()\n",
    "        anim_running = False\n",
    "    else:\n",
    "        ani.event_source.start()\n",
    "        anim_running = True\n",
    "\n",
    "line, = ax.plot(rList, trial[0])\n",
    "title = ax.set_title('Test, time=0')\n",
    "\n",
    "def animate(frame):\n",
    "    line.set_ydata(trial[frame])  # update the data.\n",
    "    title.set_text('Test, time={}'.format(frame))\n",
    "    ax.set_ylim(-1, max(trial[frame]) + 4)\n",
    "    return line, \n",
    "\n",
    "fig.canvas.mpl_connect('button_press_event', onClick)\n",
    "ani = matplotlib.animation.FuncAnimation(fig, animate, range(0, frames), interval=20, blit=False)\n",
    "plt.show()"
   ]
  },
  {
   "cell_type": "markdown",
   "id": "3fbb1825",
   "metadata": {},
   "source": [
    "### RDF analysis with full dataset already computed"
   ]
  },
  {
   "cell_type": "code",
   "execution_count": null,
   "id": "6bacd72c",
   "metadata": {},
   "outputs": [],
   "source": [
    "g2 = np.array(pd.read_csv(\"/Users/matteoscandola/thesis/data/g2.csv\"))"
   ]
  },
  {
   "cell_type": "code",
   "execution_count": null,
   "id": "48c06526",
   "metadata": {},
   "outputs": [],
   "source": [
    "g2.shape"
   ]
  },
  {
   "cell_type": "code",
   "execution_count": null,
   "id": "de824156",
   "metadata": {},
   "outputs": [],
   "source": [
    "g_plot = g2[::30, :].T\n",
    "\n",
    "timearr = np.linspace(0, 30000, 10)/10\n",
    "timearr = timearr.astype(int)\n",
    "\n",
    "\n",
    "fig, ax = plt.subplots(1, 1, figsize=(8,6))\n",
    "img = ax.imshow(np.log(1 + g_plot))\n",
    "ax.set_xticks(np.linspace(0, g_plot.shape[1], 10))\n",
    "ax.set_yticks(np.linspace(0, g_plot.shape[0], 10))\n",
    "ax.set_xticklabels(timearr)\n",
    "ax.set_yticklabels(np.linspace(0, 2*rDisk, 10).astype(int))\n",
    "fig.colorbar(img)\n",
    "plt.xlabel(\"Time [s]\")\n",
    "plt.ylabel(\"r [px]\")\n",
    "plt.title(\"$Log(1 + g_2)$ heatmap \")\n",
    "plt.show()"
   ]
  },
  {
   "cell_type": "code",
   "execution_count": null,
   "id": "c7c48c44",
   "metadata": {},
   "outputs": [],
   "source": [
    "fig, ax = plt.subplots()\n",
    "ax.errorbar(rList, np.mean(g2, axis = 0), yerr = np.std(g2, axis = 0), marker = \".\")\n",
    "#ax.plot(rList, g2[0])\n",
    "ax.set_ylabel(\"$g \\; (r)$\")\n",
    "ax.set_xlabel(\"r\")\n",
    "#ax.set_xlim(-5, 600)\n",
    "plt.show()"
   ]
  },
  {
   "cell_type": "markdown",
   "id": "58f4de16",
   "metadata": {},
   "source": [
    "#### Moving averages"
   ]
  },
  {
   "cell_type": "code",
   "execution_count": null,
   "id": "ecb926b3",
   "metadata": {},
   "outputs": [],
   "source": [
    "# axis = 0 --> Time moving average\n",
    "# axis = 1 --> Radius moving average\n",
    "def running_mean_uniform_filter1d(x, N, AX):\n",
    "    return uniform_filter1d(x, N, mode='constant', axis = AX, origin=-(N//2))#[:-(N-1)]"
   ]
  },
  {
   "cell_type": "markdown",
   "id": "5c4b884a",
   "metadata": {},
   "source": [
    "##### r-averaged"
   ]
  },
  {
   "cell_type": "code",
   "execution_count": null,
   "id": "f4f1f8aa",
   "metadata": {},
   "outputs": [],
   "source": [
    "g2_r_avg = running_mean_uniform_filter1d(g2, 5, 1)"
   ]
  },
  {
   "cell_type": "code",
   "execution_count": null,
   "id": "348ca633",
   "metadata": {
    "scrolled": false
   },
   "outputs": [],
   "source": [
    "fig, ax = plt.subplots()\n",
    "#ax.plot(rList, g2_r_avg[0])\n",
    "ax.plot(rList, g2[0])\n",
    "ax.set_ylabel(\"$g \\; (r)$\")\n",
    "ax.set_xlabel(\"r\")\n",
    "#ax.set_xlim(-5, 600)\n",
    "plt.show()"
   ]
  },
  {
   "cell_type": "code",
   "execution_count": null,
   "id": "2bce862e",
   "metadata": {
    "scrolled": false
   },
   "outputs": [],
   "source": [
    "fig, ax = plt.subplots()\n",
    "anim_running = True\n",
    "\n",
    "def onClick(event):\n",
    "    global anim_running\n",
    "    if anim_running:\n",
    "        ani.event_source.stop()\n",
    "        anim_running = False\n",
    "    else:\n",
    "        ani.event_source.start()\n",
    "        anim_running = True\n",
    "\n",
    "line, = ax.plot(rList, g2_r_avg[0])\n",
    "title = ax.set_title('Test, time=0')\n",
    "\n",
    "def animate(frame):\n",
    "    line.set_ydata(g2_r_avg[frame])  # update the data.\n",
    "    title.set_text('Test, time={}'.format(frame))\n",
    "    ax.set_ylim(-1, max(g2_r_avg[frame]) + 4)\n",
    "    return line, \n",
    "\n",
    "fig.canvas.mpl_connect('button_press_event', onClick)\n",
    "ani = matplotlib.animation.FuncAnimation(fig, animate, range(0, 30000, 5), interval=2, blit=False)\n",
    "plt.show()"
   ]
  },
  {
   "cell_type": "code",
   "execution_count": null,
   "id": "4e58344a",
   "metadata": {},
   "outputs": [],
   "source": [
    "g2_r_avg.shape\n",
    "g2.shape"
   ]
  },
  {
   "cell_type": "code",
   "execution_count": null,
   "id": "660ae315",
   "metadata": {},
   "outputs": [],
   "source": [
    "nFrames = 30000\n",
    "rmax = np.zeros(nFrames)\n",
    "rmax_r_avg = np.zeros(nFrames)\n",
    "\n",
    "rMin = 200\n",
    "\n",
    "for i in range(nFrames):\n",
    "    rmax[i] = rList[np.where(g2[i]==0)[0][np.where(g2[i]==0)[0]>rMin][0]]\n",
    "    rmax_r_avg[i] = rList[np.where(g2_r_avg[i]==0)[0][np.where(g2_r_avg[i]==0)[0]>rMin][0]]\n",
    "    \n",
    "framesList = np.arange(0, nFrames, 1)\n",
    "\n",
    "fig, (ax, ax1) = plt.subplots(1, 2)\n",
    "\n",
    "ax.plot(framesList, rmax)\n",
    "ax1.plot(framesList, rmax_r_avg)\n",
    "\n",
    "ax.set_title(\"$R_{max}$\")\n",
    "ax1.set_title(\"Moving average $R_{max}$\")\n",
    "plt.show()"
   ]
  },
  {
   "cell_type": "markdown",
   "id": "e0b9ac12",
   "metadata": {},
   "source": [
    "##### time averaged "
   ]
  },
  {
   "cell_type": "code",
   "execution_count": null,
   "id": "4bc96c74",
   "metadata": {},
   "outputs": [],
   "source": [
    "g2_time_avg = running_mean_uniform_filter1d(g2, 50, 0)"
   ]
  },
  {
   "cell_type": "code",
   "execution_count": null,
   "id": "1206a87b",
   "metadata": {},
   "outputs": [],
   "source": [
    "fig, ax = plt.subplots()\n",
    "ax.plot(rList, g2_time_avg[0])\n",
    "ax.plot(rList, g2[0])\n",
    "ax.set_ylabel(\"$g \\; (r)$\")\n",
    "ax.set_xlabel(\"r\")\n",
    "#ax.set_xlim(-5, 600)\n",
    "plt.show()"
   ]
  },
  {
   "cell_type": "code",
   "execution_count": null,
   "id": "d28b5cfd",
   "metadata": {},
   "outputs": [],
   "source": [
    "fig, ax = plt.subplots()\n",
    "anim_running = True\n",
    "\n",
    "def onClick(event):\n",
    "    global anim_running\n",
    "    if anim_running:\n",
    "        ani.event_source.stop()\n",
    "        anim_running = False\n",
    "    else:\n",
    "        ani.event_source.start()\n",
    "        anim_running = True\n",
    "\n",
    "line, = ax.plot(rList, g2_time_avg[0])\n",
    "title = ax.set_title('Test, time=0')\n",
    "\n",
    "def animate(frame):\n",
    "    line.set_ydata(g2_time_avg[frame])  # update the data.\n",
    "    title.set_text('Test, time={}'.format(frame))\n",
    "    ax.set_ylim(-1, max(g2_r_avg[frame]) + 4)\n",
    "    return line, \n",
    "\n",
    "fig.canvas.mpl_connect('button_press_event', onClick)\n",
    "ani = matplotlib.animation.FuncAnimation(fig, animate, range(25000, nFrames), interval=2, blit=False)\n",
    "#ani.save(f'/Users/matteoscandola/thesisData/rolled2.mp4', writer=writervideo)\n",
    "#plt.show()"
   ]
  },
  {
   "cell_type": "code",
   "execution_count": null,
   "id": "132b5c38",
   "metadata": {},
   "outputs": [],
   "source": [
    "rmax = np.zeros(nFrames)\n",
    "rmax_roll = np.zeros(nFrames)\n",
    "\n",
    "rMin = 450\n",
    "\n",
    "for i in range(nFrames):\n",
    "    rmax[i] = rList[np.where(g_2[i]==0)[0][np.where(g_2[i]==0)[0]>rMin][0]]\n",
    "    rmax_roll[i] = rList[np.where(g_2_roll[i]==0)[0][np.where(g_2_roll[i]==0)[0]>rMin][0]]\n",
    "    \n",
    "framesList = np.arange(0, nFrames, 1)\n",
    "\n",
    "fig, (ax, ax1) = plt.subplots(1, 2)\n",
    "\n",
    "ax.plot(framesList, rmax)\n",
    "ax1.plot(framesList, rmax_roll)\n",
    "\n",
    "ax.set_title(\"$R_{max}$\")\n",
    "ax1.set_title(\"Moving average $R_{max}$\")\n",
    "plt.show()"
   ]
  },
  {
   "cell_type": "markdown",
   "id": "a5afebc8",
   "metadata": {},
   "source": [
    "## Distance from centre of mass distribution with pca ??"
   ]
  },
  {
   "cell_type": "code",
   "execution_count": null,
   "id": "6af9d87d",
   "metadata": {},
   "outputs": [],
   "source": [
    "frame = 0\n",
    "covMatrix = np.cov(COORDS[frame*nDrops:(frame+1)*nDrops,:])\n",
    "trace_of_covMatrix = np.trace(covMatrix)\n",
    "eigenvalues, _ = np.linalg.eigh(covMatrix)\n",
    "#eigenvalues = np.sort(eigenvalues)[::-1]\n",
    "#diagCovMatrix = np.diag(eigenvalues)\n",
    "info = np.zeros(len(eigenvalues))\n",
    "for i in range(len(eigenvalues)):\n",
    "    info[i] = np.sum(np.sum(eigenvalues[:i]))\n",
    "info /= trace_of_covMatrix"
   ]
  }
 ],
 "metadata": {
  "kernelspec": {
   "display_name": "pyenv",
   "language": "python",
   "name": "python3"
  },
  "language_info": {
   "codemirror_mode": {
    "name": "ipython",
    "version": 3
   },
   "file_extension": ".py",
   "mimetype": "text/x-python",
   "name": "python",
   "nbconvert_exporter": "python",
   "pygments_lexer": "ipython3",
   "version": "3.10.6"
  },
  "vscode": {
   "interpreter": {
    "hash": "1d03f01ef291c499e995b04207f4c53df5fb0240f9f8862c7ea43be3c52b56d8"
   }
  }
 },
 "nbformat": 4,
 "nbformat_minor": 5
}
