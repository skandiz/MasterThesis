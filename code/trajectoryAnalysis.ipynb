{
 "cells": [
  {
   "cell_type": "code",
   "execution_count": 1,
   "id": "1e649092",
   "metadata": {},
   "outputs": [],
   "source": [
    "import matplotlib.pyplot as plt\n",
    "import matplotlib.animation\n",
    "%matplotlib ipympl\n",
    "plt.rcParams['figure.figsize'] = [10, 4]\n",
    "writervideo = matplotlib.animation.FFMpegWriter(fps=30)\n",
    "\n",
    "import numpy as np\n",
    "import pandas as pd\n",
    "\n",
    "from numba import njit\n",
    "import timeit\n",
    "import random\n",
    "from scipy.spatial import KDTree, cKDTree\n",
    "from scipy.stats import linregress\n",
    "from scipy.ndimage import uniform_filter1d\n",
    "from scipy.signal import savgol_filter\n",
    "import joblib\n",
    "from tqdm import tqdm\n",
    "import pims\n",
    "\n",
    "import trackpy as tp\n",
    "tp.quiet()\n",
    "\n",
    "from yupi import Trajectory\n",
    "import yupi.graphics as yg\n",
    "import yupi.stats as ys"
   ]
  },
  {
   "cell_type": "code",
   "execution_count": 2,
   "id": "75cac1ad",
   "metadata": {},
   "outputs": [],
   "source": [
    "show_verb = False\n",
    "save_verb = True"
   ]
  },
  {
   "attachments": {},
   "cell_type": "markdown",
   "id": "4e693f26",
   "metadata": {},
   "source": [
    "# Import data"
   ]
  },
  {
   "cell_type": "code",
   "execution_count": 3,
   "id": "13441ea3",
   "metadata": {},
   "outputs": [
    {
     "name": "stderr",
     "output_type": "stream",
     "text": [
      "15:55:54 [WARNING] deprecated pixel format used, make sure you did set range correctly\n"
     ]
    }
   ],
   "source": [
    "data = pims.open('../data/video/movie.mp4')"
   ]
  },
  {
   "cell_type": "code",
   "execution_count": 4,
   "id": "a166b38a",
   "metadata": {},
   "outputs": [
    {
     "name": "stdout",
     "output_type": "stream",
     "text": [
      "nDrops:50\n",
      "nFrames:31999 --> 3199.90 s\n"
     ]
    }
   ],
   "source": [
    "rawTrajs = pd.read_csv(\"../data/csv/Processed_data2.csv\")\n",
    "red_particle_idx = 17\n",
    "rawTrajs.loc[rawTrajs.particle!=red_particle_idx, [\"color\"]] = \"#00007F\"\n",
    "rawTrajs.loc[rawTrajs.particle==red_particle_idx, [\"color\"]] = \"#FF0000\"\n",
    "colors = rawTrajs.loc[rawTrajs.frame==0, 'color'].values\n",
    "\n",
    "nDrops = len(rawTrajs.loc[rawTrajs.frame==0])\n",
    "nFrames = max(rawTrajs.frame)\n",
    "print(f\"nDrops:{nDrops}\")\n",
    "print(f\"nFrames:{nFrames} --> {nFrames/10:.2f} s\")"
   ]
  },
  {
   "cell_type": "code",
   "execution_count": null,
   "id": "f5cb89a1",
   "metadata": {},
   "outputs": [],
   "source": [
    "df = rawTrajs.loc[(rawTrajs.frame == 0) , [\"x\", \"y\", \"color\"]]\n",
    "fig, ax = plt.subplots(1,1)\n",
    "ax.scatter(df.x, df.y, facecolors = 'none', edgecolors = df.color, s = 150)\n",
    "ax.imshow(data[0])\n",
    "if save_verb: plt.savefig(\"../results/location_example.png\", dpi=500, bbox_inches='tight')\n",
    "if show_verb:\n",
    "    plt.show()\n",
    "else:\n",
    "    plt.close()"
   ]
  },
  {
   "cell_type": "code",
   "execution_count": null,
   "id": "446d2917",
   "metadata": {},
   "outputs": [],
   "source": [
    "fig = plt.figure()\n",
    "anim_running = True\n",
    "\n",
    "def onClick(event):\n",
    "    global anim_running\n",
    "    if anim_running:\n",
    "        ani.event_source.stop()\n",
    "        anim_running = False\n",
    "    else:\n",
    "        ani.event_source.start()\n",
    "        anim_running = True\n",
    "\n",
    "def update_graph(frame):\n",
    "    df = rawTrajs.loc[(rawTrajs.frame == frame) & (rawTrajs.particle == red_particle_idx) , [\"x\",\"y\",\"color\"]]\n",
    "    graph.set_offsets(df)\n",
    "    graph.set_edgecolor(df.color)\n",
    "    graph2.set_data(data[frame])\n",
    "    title.set_text('frame = {}'.format(frame))\n",
    "    return graph\n",
    "\n",
    "ax = fig.add_subplot(111)\n",
    "title = ax.set_title('frame = 0')\n",
    "df = rawTrajs.loc[(rawTrajs.frame == 0) & (rawTrajs.particle == red_particle_idx), [\"x\",\"y\",\"color\"]]\n",
    "\n",
    "graph = ax.scatter(df.x, df.y, facecolors = 'none', edgecolors = df.color, s = 150)\n",
    "\n",
    "graph2 = ax.imshow(data[0])\n",
    "\n",
    "fig.canvas.mpl_connect('button_press_event', onClick)\n",
    "ani = matplotlib.animation.FuncAnimation(fig, update_graph, 100, interval = 5, blit=False)\n",
    "if save_verb: ani.save(f'../results/video/try.mp4', dpi=500, writer=writervideo)\n",
    "if show_verb: \n",
    "    plt.show()\n",
    "else:\n",
    "    plt.close()"
   ]
  },
  {
   "cell_type": "markdown",
   "id": "ac777315",
   "metadata": {},
   "source": [
    "# Trajectory Smoothing\n",
    "\n",
    "Smoothing of the trajectory using a Savgol Filter in order to drop the noise due to the tracking procedure"
   ]
  },
  {
   "cell_type": "code",
   "execution_count": null,
   "id": "771d8dde",
   "metadata": {},
   "outputs": [],
   "source": [
    "smoothTrajs = rawTrajs.copy()\n",
    "\n",
    "# Parameters of the Savgol Filter to smooth the trajectories\n",
    "windLen = 30\n",
    "orderofPoly = 2\n",
    "for i in range(nDrops):\n",
    "    smoothTrajs.loc[smoothTrajs.particle == i, \"x\"] = savgol_filter(rawTrajs.loc[rawTrajs.particle == i].x.values, windLen, orderofPoly)\n",
    "    smoothTrajs.loc[smoothTrajs.particle == i, \"y\"] = savgol_filter(rawTrajs.loc[rawTrajs.particle == i].y.values,  windLen, orderofPoly)"
   ]
  },
  {
   "cell_type": "code",
   "execution_count": null,
   "id": "ca657c82",
   "metadata": {},
   "outputs": [],
   "source": [
    "fig, (ax, ax1) = plt.subplots(1, 2, sharex = True, sharey = True)\n",
    "tp.plot_traj(rawTrajs, ax = ax)\n",
    "ax.set(xlabel = \"x [px]\", ylabel = \"y [px]\", title = 'Raw')\n",
    "ax.grid()\n",
    "\n",
    "tp.plot_traj(smoothTrajs, ax = ax1)\n",
    "ax1.set(xlabel = \"x [px]\", title = 'Smoothed')\n",
    "ax1.grid()\n",
    "\n",
    "plt.tight_layout()\n",
    "if save_verb: plt.savefig(f\"../results/trajectories.png\", dpi = 500)\n",
    "if show_verb: \n",
    "    plt.show()\n",
    "else:\n",
    "    plt.close()"
   ]
  },
  {
   "cell_type": "markdown",
   "id": "01a8db22",
   "metadata": {},
   "source": [
    "# Trajectory Analysis"
   ]
  },
  {
   "attachments": {},
   "cell_type": "markdown",
   "id": "dc50f68e",
   "metadata": {},
   "source": [
    "## Mean Squared Displacement"
   ]
  },
  {
   "cell_type": "code",
   "execution_count": null,
   "id": "70ad7bd6",
   "metadata": {},
   "outputs": [],
   "source": [
    "# Power Law fit\n",
    "def powerLawFit(funct, fit, powerlawExponents):\n",
    "    for i in range(nDrops):\n",
    "        powerlawFit = tp.utils.fit_powerlaw(funct[i], plot = False)  #[10:]\n",
    "        powerlawExponents[i] = powerlawFit.n.values \n",
    "        fit[i] = powerlawFit.A.values * np.array(funct.index)**powerlawExponents[i] #[10:]\n",
    "    return fit, powerlawExponents"
   ]
  },
  {
   "cell_type": "code",
   "execution_count": null,
   "id": "61b8a687",
   "metadata": {},
   "outputs": [],
   "source": [
    "# Mean Squared Displacement per Particle\n",
    "pxDimension = 1 # has to be fixed \n",
    "fps = 10 # fps of the video\n",
    "maxLagtime = 1000 # maximum lagtime to be considered\n",
    "im = tp.imsd(rawTrajs, mpp = pxDimension, fps = fps, max_lagtime = maxLagtime)\n",
    "# Power Law fit\n",
    "fit, powerlawExponents = powerLawFit(im, np.zeros((nDrops, maxLagtime)), np.zeros(nDrops))\n",
    "\n",
    "# Smoothed trajectories msd\n",
    "im_smooth = tp.imsd(smoothTrajs, mpp = pxDimension, fps = fps, max_lagtime = maxLagtime)\n",
    "# Power Law fit\n",
    "fit_smooth, powerlawExponents_smooth = powerLawFit(im_smooth, np.zeros((nDrops, maxLagtime)), np.zeros(nDrops))"
   ]
  },
  {
   "cell_type": "code",
   "execution_count": null,
   "id": "fc83274e",
   "metadata": {},
   "outputs": [],
   "source": [
    "fig, (ax, ax1) = plt.subplots(1, 2)\n",
    "ax.plot(im.index, im)#, alpha=0.5)  \n",
    "ax.set(xscale = 'log', yscale = 'log', title = \"Mean Squared Displacement per particle\", xlabel = \"Time Lag [s]\", ylabel = \"MSD [px^2]\")\n",
    "ax.grid()\n",
    "ax1.scatter(np.arange(nDrops), powerlawExponents, c = colors)\n",
    "ax1.set(title = \"Powerlaw Exponents\", xlabel = \"Particle ID\", ylabel = \"Powerlaw Exponent\")\n",
    "ax1.grid()\n",
    "plt.tight_layout()\n",
    "if save_verb: plt.savefig(\"../results/msd/MSD.png\", dpi = 500)\n",
    "if show_verb: \n",
    "    plt.show()\n",
    "else:\n",
    "    plt.close()\n",
    "\n",
    "fig, (ax, ax1) = plt.subplots(1, 2)\n",
    "ax.plot(im.index, im_smooth)#, alpha=0.5)  \n",
    "ax.set(xscale = 'log', yscale = 'log', title = \"Mean Squared Displacement per particle\", xlabel = \"Time Lag [s]\", ylabel = \"MSD [px^2]\")\n",
    "ax.grid()\n",
    "ax1.scatter(np.arange(nDrops), powerlawExponents_smooth, c = colors)\n",
    "ax1.set(title = \"Powerlaw Exponents\", xlabel = \"Particle ID\", ylabel = \"Powerlaw Exponent\")\n",
    "ax1.grid()\n",
    "plt.tight_layout()\n",
    "if save_verb: plt.savefig(\"../results/msd/MSD_smooth.png\", dpi = 500)\n",
    "if show_verb: \n",
    "    plt.show()\n",
    "else:\n",
    "    plt.close()"
   ]
  },
  {
   "cell_type": "code",
   "execution_count": null,
   "id": "4fa22695",
   "metadata": {},
   "outputs": [],
   "source": [
    "# Check if this is the red particle --> Confirmed\n",
    "print(f\"The particle with the highest MSD is the particle number: {red_particle_idx} and its the red particle!\")\n",
    "frame = 10\n",
    "temp = rawTrajs.loc[rawTrajs.frame == frame]\n",
    "temp_smooth = smoothTrajs.loc[smoothTrajs.frame == frame]\n",
    "\n",
    "fig, (ax, ax1) = plt.subplots(1, 2, figsize = (10, 6), sharex=True, sharey=True)\n",
    "ax.imshow(data[frame])\n",
    "ax.scatter(temp.x, temp.y, facecolors = 'none', edgecolors = temp.color, s = 350)\n",
    "ax.set(title = \"raw\", xlabel = \"X [px]\", ylabel = \"Y [px]\")\n",
    "\n",
    "ax1.imshow(data[frame])\n",
    "ax1.scatter(temp_smooth.x, temp_smooth.y, facecolors = 'none', edgecolors = temp_smooth.color, s = 350)\n",
    "ax1.set(title = \"smoothed\", xlabel = \"X [px]\", ylabel = \"Y [px]\")\n",
    "plt.tight_layout()\n",
    "plt.suptitle(\"Identification of the particle with the highest MSD\")\n",
    "if save_verb: plt.savefig(\"../results/identification.png\", dpi = 500)\n",
    "if show_verb: \n",
    "    plt.show()\n",
    "else:\n",
    "    plt.close()"
   ]
  },
  {
   "cell_type": "code",
   "execution_count": null,
   "id": "c408017b",
   "metadata": {},
   "outputs": [],
   "source": [
    "em = tp.emsd(rawTrajs.loc[rawTrajs.particle != red_particle_idx], mpp = pxDimension, fps = fps, max_lagtime = maxLagtime)\n",
    "powerlawFit = tp.utils.fit_powerlaw(em[10:], plot = False)  \n",
    "fit = powerlawFit.A.values * np.array(em.index[10:])**powerlawFit.n.values \n",
    "\n",
    "em_red = tp.emsd(rawTrajs.loc[rawTrajs.particle == red_particle_idx], mpp = pxDimension, fps = fps, max_lagtime = maxLagtime)\n",
    "powerlawFit_red = tp.utils.fit_powerlaw(em_red[10:], plot = False)  \n",
    "fit_red = powerlawFit_red.A.values * np.array(em_red.index[10:])**powerlawFit_red.n.values \n",
    "\n",
    "print(f\"Power Law exponent for blue particles: {powerlawFit.n.values[0]}\")\n",
    "print(f\"Power Law exponent for red particle: {powerlawFit_red.n.values[0]}\")"
   ]
  },
  {
   "cell_type": "code",
   "execution_count": null,
   "id": "628b4758",
   "metadata": {},
   "outputs": [],
   "source": [
    "fig, ax = plt.subplots(figsize = (10, 5))\n",
    "ax.plot(em.index, em, 'bo', markersize=2, alpha=0.5, label = \"Blue particles\")\n",
    "ax.plot(em.index[10:], fit, 'b-', label='Blue particles fit')\n",
    "ax.plot(em_red.index, em_red, 'ro', markersize=2, alpha=0.5, label = \"Red particle\")\n",
    "ax.plot(em_red.index[10:], fit_red, 'r-', label='Red particle fit')\n",
    "ax.set(xscale = 'log', yscale = 'log', ylabel = r'$\\langle \\Delta r^2 \\rangle$ [$px^2$]', xlabel = 'lag time $t$ [s]', title = \"Ensamble Mean Squared Displacement per particle type\")\n",
    "ax.grid()\n",
    "ax.legend()\n",
    "if save_verb: plt.savefig(\"../results/msd/EMSD.png\", dpi = 500)\n",
    "if show_verb:\n",
    "    plt.show()\n",
    "else:\n",
    "    plt.close()"
   ]
  },
  {
   "cell_type": "code",
   "execution_count": null,
   "id": "634efa27",
   "metadata": {},
   "outputs": [],
   "source": [
    "MSD_mean = np.array(im)\n",
    "print(MSD_mean.shape)\n",
    "MSD_blue = MSD_mean[:, [x for x in range(nDrops) if x != red_particle_idx]].mean(axis = 1)\n",
    "MSD_blue_std = MSD_mean[:,[x for x in range(nDrops) if x != red_particle_idx]].std(axis = 1)\n",
    "MSD_red = MSD_mean[:, red_particle_idx]"
   ]
  },
  {
   "cell_type": "code",
   "execution_count": null,
   "id": "2c70c160",
   "metadata": {},
   "outputs": [],
   "source": [
    "fig, ax = plt.subplots(1,1)\n",
    "ax.errorbar(im.index, MSD_blue, yerr = MSD_blue_std, fmt = 'bo', markersize=2, alpha=0.5, label = \"Blue particles\")\n",
    "ax.plot(im.index, MSD_red, 'ro', markersize=2, alpha=0.5, label = \"Red particle\")\n",
    "ax.set(xscale = 'log', yscale = 'log', ylabel = r'$\\langle \\Delta r^2 \\rangle$ [$px^2$]', xlabel = 'lag time $t$ [s]', title = \"MSD per particle type\")\n",
    "ax.legend()\n",
    "ax.grid()\n",
    "if save_verb: plt.savefig(\"../results/msd/MSD_per_type.png\", dpi = 500)\n",
    "if show_verb:\n",
    "    plt.show()\n",
    "else:\n",
    "    plt.close()"
   ]
  },
  {
   "attachments": {},
   "cell_type": "markdown",
   "id": "ca280716",
   "metadata": {},
   "source": [
    "## Windowed Mean Squared Displacement"
   ]
  },
  {
   "cell_type": "code",
   "execution_count": null,
   "id": "b53fca1b",
   "metadata": {},
   "outputs": [],
   "source": [
    "# Power Law fit\n",
    "def powerLawFit(funct, fit, powerlawExponents):\n",
    "    for i in range(nDrops):\n",
    "        powerlawFit = tp.utils.fit_powerlaw(funct[i][10:], plot = False)  \n",
    "        powerlawExponents[i] = powerlawFit.n.values \n",
    "        fit[i] = powerlawFit.A.values * np.array(funct.index[10:])**powerlawExponents[i] \n",
    "    return fit, powerlawExponents"
   ]
  },
  {
   "cell_type": "code",
   "execution_count": null,
   "id": "fe8be79b",
   "metadata": {},
   "outputs": [],
   "source": [
    "# run with a 200 s window\n",
    "totTime = nFrames/10\n",
    "print(\"total time:\", totTime, \"seconds\")\n",
    "timeWindow = 320 # seconds \n",
    "nWindows = int(totTime/timeWindow) + 1\n",
    "print(nWindows, \"windows\")\n",
    "pxDimension = 1 # has to be fixed \n",
    "fps = 10 # fps of the video\n",
    "maxLagtime = 1000 # maximum lagtime to be considered --> 100s"
   ]
  },
  {
   "attachments": {},
   "cell_type": "markdown",
   "id": "4ce552b5",
   "metadata": {},
   "source": [
    "### SINGLE PARTICLE"
   ]
  },
  {
   "cell_type": "code",
   "execution_count": null,
   "id": "cb404b5e",
   "metadata": {},
   "outputs": [],
   "source": [
    "MSD_windowed = []\n",
    "fit_windowed = np.zeros((nWindows, nDrops, maxLagtime-10))\n",
    "powerlawExponents_windowed = np.zeros((nWindows, nDrops))\n",
    "\n",
    "for k in range(nWindows):\n",
    "    trajs = rawTrajs[k*nDrops*timeWindow*fps : (k+1)*nDrops*timeWindow*fps]\n",
    "    MSD_windowed.append(tp.imsd(trajs, mpp = pxDimension, fps = fps, max_lagtime = maxLagtime))\n",
    "    fit_windowed[k], powerlawExponents_windowed[k] = powerLawFit(MSD_windowed[k], np.zeros((nDrops, maxLagtime-10)), np.zeros(nDrops))"
   ]
  },
  {
   "cell_type": "code",
   "execution_count": null,
   "id": "4527d813",
   "metadata": {},
   "outputs": [],
   "source": [
    "fig, axs = plt.subplots(2, nWindows, figsize = (50, 6))\n",
    "for k in range(nWindows):\n",
    "    axs[0, k].plot(MSD_windowed[k].index, MSD_windowed[k])\n",
    "    axs[0, k].set(xscale = 'log', yscale = 'log',  ylabel = r'$\\langle \\Delta r^2 \\rangle$ [$px^2$]', \\\n",
    "        xlabel = 'lag time $t$ [s]', title = f\"{k*timeWindow}-{(k+1)*timeWindow} seconds\")\n",
    "    axs[0, k].set(title = \"Powerlaw Exponents\", xlabel = \"Particle ID\", ylabel = \"Powerlaw Exponent\")\n",
    "    axs[1, k].scatter(np.arange(nDrops), powerlawExponents_windowed[k], c = colors)\n",
    "plt.tight_layout()\n",
    "if save_verb: plt.savefig(\"../results/msd/imsd_time_windowed/full.png\", dpi = 500, bbox_inches='tight')\n",
    "if show_verb: \n",
    "    plt.show()\n",
    "else:\n",
    "    plt.close()"
   ]
  },
  {
   "cell_type": "code",
   "execution_count": null,
   "id": "d57c7cf6",
   "metadata": {},
   "outputs": [],
   "source": [
    "for k in range(nWindows):\n",
    "    fig, (ax, ax1) = plt.subplots(2, 1, figsize = (10, 6))\n",
    "    ax.plot(MSD_windowed[k].index, MSD_windowed[k])\n",
    "    ax.set(xscale = 'log', yscale = 'log',  ylabel = r'$\\langle \\Delta r^2 \\rangle$ [$px^2$]', \\\n",
    "        xlabel = 'lag time $t$ [s]', title = f\"{k*timeWindow}-{(k+1)*timeWindow} seconds\")\n",
    "    ax1.scatter(np.arange(nDrops), powerlawExponents_windowed[k], c = colors)\n",
    "    ax1.set(title = \"Powerlaw Exponents\", xlabel = \"Particle ID\", ylabel = \"Powerlaw Exponent\")\n",
    "    plt.tight_layout()\n",
    "    if save_verb: plt.savefig(f\"../results/msd/imsd_time_windowed/msd_wind{k}.png\", dpi = 500, bbox_inches='tight')\n",
    "    if show_verb: \n",
    "        plt.show()\n",
    "    else:\n",
    "        plt.close()"
   ]
  },
  {
   "attachments": {},
   "cell_type": "markdown",
   "id": "e1a17ca0",
   "metadata": {},
   "source": [
    "### AVERAGE ON PARTICLE TYPE"
   ]
  },
  {
   "cell_type": "code",
   "execution_count": null,
   "id": "0422aa55",
   "metadata": {},
   "outputs": [],
   "source": [
    "MSD_windowed_mean = np.array(MSD_windowed)\n",
    "MSD_windowed_blue = MSD_windowed_mean[:, :, [x for x in range(nDrops) if x != red_particle_idx]].mean(axis = 2)\n",
    "MSD_windowed_blue_std = MSD_windowed_mean[:, :, [x for x in range(nDrops) if x != red_particle_idx]].std(axis = 2)\n",
    "MSD_windowed_red = MSD_windowed_mean[:, :, red_particle_idx]"
   ]
  },
  {
   "cell_type": "code",
   "execution_count": null,
   "id": "e7a82b15",
   "metadata": {},
   "outputs": [],
   "source": [
    "msd_ens = pd.DataFrame({'lag_t': np.array([np.array(MSD_windowed[k].index) for i in range(nWindows)]).flatten(),\n",
    "                       'blue': np.array(MSD_windowed_blue).flatten(), \n",
    "                       'blue_std': np.array(MSD_windowed_blue_std).flatten(), \n",
    "                       'red': np.array(MSD_windowed_blue).flatten(),\n",
    "                       'window': np.array([np.ones(len(MSD_windowed[k].index))*k for k in range(nWindows)], dtype=int).flatten()\n",
    "})"
   ]
  },
  {
   "cell_type": "code",
   "execution_count": null,
   "id": "f038fad6",
   "metadata": {},
   "outputs": [],
   "source": [
    "msd_ens.loc[msd_ens.window==1]"
   ]
  },
  {
   "cell_type": "code",
   "execution_count": null,
   "id": "247c4f15",
   "metadata": {},
   "outputs": [],
   "source": [
    "df_blue = []\n",
    "df_red = []\n",
    "for k in range(nWindows):\n",
    "    df_blue.append(pd.DataFrame(data = MSD_windowed_blue[k], index = MSD_windowed[0].index, columns = ['msd']))\n",
    "    df_red.append(pd.DataFrame(data = MSD_windowed_red[k], index = MSD_windowed[0].index, columns = ['msd']))"
   ]
  },
  {
   "cell_type": "code",
   "execution_count": null,
   "id": "1ff9cee0",
   "metadata": {},
   "outputs": [],
   "source": [
    "temp = msd_ens.loc[msd_ens.window==k]\n",
    "temp.blue[10:]"
   ]
  },
  {
   "cell_type": "code",
   "execution_count": null,
   "id": "1adf43bc",
   "metadata": {},
   "outputs": [],
   "source": [
    "fit_mean = np.zeros((nWindows, 2, maxLagtime-10))\n",
    "powerlawExponents_mean = np.zeros((nWindows, 2))\n",
    "powerlawExponents_std = np.zeros((nWindows, 2))\n",
    "\n",
    "for k in range(nWindows):\n",
    "    temp = msd_ens.loc[msd_ens.window==k]\n",
    "    powerlawFit = tp.utils.fit_powerlaw(temp.blue[10:], plot = False)  \n",
    "    #print(powerlawFit)\n",
    "    powerlawExponents_mean[k, 0] = powerlawFit.n.values \n",
    "    powerlawExponents_std[k, 0] = powerlawFit.stderr.values \n",
    "    fit_mean[k, 0, :] = powerlawFit.A.values * temp.lag_t[10:]**powerlawExponents_mean[k, 0]\n",
    "\n",
    "    powerlawFit = tp.utils.fit_powerlaw(temp.red[10:], plot = False)  \n",
    "    powerlawExponents_mean[k, 1] = powerlawFit.n.values\n",
    "    powerlawExponents_std[k, 1] = powerlawFit.stderr.values\n",
    "    fit_mean[k, 1, :] = powerlawFit.A.values * temp.lag_t[10:]**powerlawExponents_mean[k, 1]"
   ]
  },
  {
   "cell_type": "code",
   "execution_count": null,
   "id": "a3597d8a",
   "metadata": {},
   "outputs": [],
   "source": [
    "fit_mean = np.zeros((nWindows, 2, maxLagtime-10))\n",
    "powerlawExponents_mean = np.zeros((nWindows, 2))\n",
    "powerlawExponents_std = np.zeros((nWindows, 2))\n",
    "\n",
    "for k in range(nWindows):\n",
    "    powerlawFit = tp.utils.fit_powerlaw(df_blue[k].iloc[10:], plot = False)  \n",
    "    #print(powerlawFit)\n",
    "    powerlawExponents_mean[k, 0] = powerlawFit.n.values \n",
    "    powerlawExponents_std[k, 0] = powerlawFit.stderr.values \n",
    "    fit_mean[k, 0, :] = powerlawFit.A.values * np.arange(1.1, 100.1, 0.1)**powerlawExponents_mean[k, 0]\n",
    "\n",
    "    powerlawFit = tp.utils.fit_powerlaw(df_red[k].iloc[10:], plot = False)  \n",
    "    powerlawExponents_mean[k, 1] = powerlawFit.n.values \n",
    "    powerlawExponents_std[k, 1] = powerlawFit.stderr.values \n",
    "    fit_mean[k, 1, :] = powerlawFit.A.values * np.arange(1.1, 100.1, 0.1)**powerlawExponents_mean[k, 1]"
   ]
  },
  {
   "cell_type": "code",
   "execution_count": null,
   "id": "92556a25",
   "metadata": {},
   "outputs": [],
   "source": [
    "fig, ax = plt.subplots(1, 1)\n",
    "ax.errorbar(np.arange(0, nWindows, 1), powerlawExponents_mean[:, 0], yerr = powerlawExponents_std[:, 0],\\\n",
    "     fmt = 'bo', markersize=5, alpha=0.5, label = \"Blue particles\")\n",
    "ax.errorbar(np.arange(0, nWindows, 1), powerlawExponents_mean[:, 1], yerr = powerlawExponents_std[:, 1],\\\n",
    "     fmt = 'ro', markersize=5, alpha=0.5, label = \"Red particle\")\n",
    "ax.legend()\n",
    "ax.set(xlabel=\"time window\", ylabel = \"Anomalous exponent\", title = \"time evolution of anomalous exponents\")\n",
    "# change xlabel to time range \n",
    "ax.set_xticklabels([f\"{k*timeWindow}-{(k+1)*timeWindow}\" for k in range(0, nWindows+1, 2)])\n",
    "if save_verb: plt.savefig(\"../results/msd/emsd_time_windowed/exponents.png\", dpi = 500, bbox_inches='tight')\n",
    "if show_verb: \n",
    "     plt.show()\n",
    "else:\n",
    "     plt.close()"
   ]
  },
  {
   "cell_type": "code",
   "execution_count": null,
   "id": "46519d4e",
   "metadata": {},
   "outputs": [],
   "source": [
    "k = 0\n",
    "fig, ax = plt.subplots(1, 1)\n",
    "ax.plot(df_blue[k].index, df_blue[k].window, alpha=0.5, label = \"Blue particles\")\n",
    "ax.plot(df_red[k].index, df_red[k].window, 'ro', markersize=2, alpha=0.5, label = \"Red particles\")\n",
    "ax.set(xscale = 'log', yscale = 'log')\n",
    "ax.legend()\n",
    "if save_verb: plt.savefig(f\"../results/msd/emsd_time_windowed/{k}.png\", dpi = 500, bbox_inches='tight')\n",
    "if show_verb: \n",
    "     plt.show()\n",
    "else:\n",
    "     plt.close()"
   ]
  },
  {
   "cell_type": "code",
   "execution_count": null,
   "id": "14d4d561",
   "metadata": {},
   "outputs": [],
   "source": [
    "fig, axs = plt.subplots(1, nWindows, figsize = (50, 3))\n",
    "for k in range(nWindows):\n",
    "    axs[k].plot(df_blue[k].index, MSD_windowed_blue[k], alpha=0.5, label = \"Blue particles\") \n",
    "    axs[k].plot(df_blue[k].index[10:], fit_mean[k, 0], 'b-', alpha=0.5, label = 'Blue particles fit')\n",
    "    axs[k].plot(df_red[k].index, df_red[k], 'ro', markersize=2, alpha=0.5, label = \"Blue particles\") \n",
    "    axs[k].plot(df_red[k].index[10:], fit_mean[k, 1], 'r-', alpha=0.5, label = 'Red particles fit')\n",
    "    axs[k].fill_between(df_blue[k].index, MSD_windowed_blue[k]-MSD_windowed_blue_std[k], MSD_windowed_blue[k]+MSD_windowed_blue_std[k],\\\n",
    "         alpha=0.5, edgecolor='#CC4F1B', facecolor='#FF9848')\n",
    "    axs[k].set(xscale='log', yscale='log', xlabel = 'lagtime', ylabel = 'MSD', title = f\"{k*timeWindow}-{(k+1)*timeWindow} seconds\")\n",
    "    axs[k].legend()\n",
    "plt.tight_layout()\n",
    "if save_verb: plt.savefig(\"../results/msd/emsd_time_windowed/full.png\", dpi = 500, bbox_inches='tight')\n",
    "if show_verb:\n",
    "    plt.show()\n",
    "else: \n",
    "    plt.close()"
   ]
  },
  {
   "cell_type": "code",
   "execution_count": null,
   "id": "418d5ec2",
   "metadata": {},
   "outputs": [],
   "source": [
    "MSD_windowed_blue_std[k].shape"
   ]
  },
  {
   "cell_type": "code",
   "execution_count": null,
   "id": "3d964f81",
   "metadata": {},
   "outputs": [],
   "source": [
    "for k in range(nWindows):\n",
    "    fig, ax = plt.subplots(1, 1, figsize = (10, 6))\n",
    "    ax.plot(df_blue[k].index, MSD_windowed_blue[k], alpha=0.5, label = \"Blue particles\") \n",
    "    ax.plot(df_blue[k].index[10:], fit_mean[k, 0], 'b-', alpha=0.5, label = 'Blue particles fit')\n",
    "    ax.plot(df_red[k].index, df_red[k], alpha=0.5, label = \"Blue particles\") \n",
    "    ax.plot(df_red[k].index[10:], fit_mean[k, 1], 'r-', alpha=0.5, label = 'Red particles fit')\n",
    "    ax.fill_between(df_blue[k].index, MSD_windowed_blue[k]-MSD_windowed_blue_std[k], MSD_windowed_blue[k]+MSD_windowed_blue_std[k],\\\n",
    "         alpha=0.5, edgecolor='#CC4F1B', facecolor='#FF9848')\n",
    "    ax.set(xscale='log', yscale='log', xlabel = 'lagtime', ylabel = 'MSD', title = f\"{k*timeWindow}-{(k+1)*timeWindow} seconds\")\n",
    "    ax.legend()\n",
    "    plt.tight_layout()\n",
    "    if save_verb: plt.savefig(f\"../results/msd/emsd_time_windowed/msd_wind{k}.png\", dpi = 500, bbox_inches='tight')\n",
    "    if show_verb: \n",
    "        plt.show()\n",
    "    else:\n",
    "        plt.close()"
   ]
  },
  {
   "cell_type": "markdown",
   "id": "60b60782",
   "metadata": {},
   "source": [
    "## Other metrics"
   ]
  },
  {
   "cell_type": "code",
   "execution_count": null,
   "id": "d1cd5b1c",
   "metadata": {},
   "outputs": [],
   "source": [
    "blueTrajs = []\n",
    "redTraj = []\n",
    "for i in range(0, nDrops):\n",
    "    if i != red_particle_idx:\n",
    "        p1 = rawTrajs.loc[np.where(rawTrajs.particle==i)[0], [\"x\",\"y\"]]\n",
    "        blueTrajs.append(Trajectory(p1.x, p1.y, dt = 1/10, traj_id=i))\n",
    "    if i == red_particle_idx:\n",
    "        p1 = rawTrajs.loc[np.where(rawTrajs.particle==i)[0], [\"x\",\"y\"]]\n",
    "        redTraj.append(Trajectory(p1.x, p1.y, dt = 1/10, traj_id=i))\n",
    "\n",
    "\n",
    "\n",
    "blueTrajs_smooth = []\n",
    "redTraj_smooth = []\n",
    "for i in range(0, nDrops):\n",
    "    if i != red_particle_idx:\n",
    "        p1 = smoothTrajs.loc[np.where(smoothTrajs.particle==i)[0], [\"x\",\"y\"]]\n",
    "        blueTrajs_smooth.append(Trajectory(p1.x, p1.y, dt = 1/10, traj_id=i))\n",
    "    if i == red_particle_idx:\n",
    "        p1 = smoothTrajs.loc[np.where(smoothTrajs.particle==i)[0], [\"x\",\"y\"]]\n",
    "        redTraj_smooth.append(Trajectory(p1.x, p1.y, dt = 1/10, traj_id=i))"
   ]
  },
  {
   "cell_type": "code",
   "execution_count": null,
   "id": "45d04f99",
   "metadata": {},
   "outputs": [],
   "source": [
    "# Trajectories plot to check if trajectories ID are correct\n",
    "fig = plt.figure(figsize=(10, 4))\n",
    "plt.subplot(121)\n",
    "yg.plot_2d(blueTrajs[16:18], legend=True, units=\"px\", show=False)\n",
    "plt.subplot(122)\n",
    "yg.plot_2d(redTraj, legend=True, units=\"px\", show=False)\n",
    "plt.tight_layout()\n",
    "plt.show()"
   ]
  },
  {
   "attachments": {},
   "cell_type": "markdown",
   "id": "a1933f7c",
   "metadata": {},
   "source": [
    "### Speed Distribution"
   ]
  },
  {
   "cell_type": "code",
   "execution_count": null,
   "id": "acbe0ea5",
   "metadata": {},
   "outputs": [],
   "source": [
    "v_blue = ys.speed_ensemble(blueTrajs, step=10)\n",
    "v_red = ys.speed_ensemble(redTraj, step=10)\n",
    "\n",
    "fig = plt.figure(figsize=(9, 4))\n",
    "plt.subplot(121)\n",
    "plt.title(\"Blue particles velocity distribution\")\n",
    "yg.plot_speed_hist(v_blue, bins=100, units=\"px/s\", show=False)\n",
    "plt.subplot(122)\n",
    "plt.title(\"Red particle velocity distribution\")\n",
    "yg.plot_speed_hist(v_red, bins=100, units=\"px/s\", show=False)\n",
    "plt.tight_layout()\n",
    "plt.show()\n",
    "\n",
    "\n",
    "v_blue_smooth = ys.speed_ensemble(blueTrajs_smooth, step=10)\n",
    "v_red_smooth = ys.speed_ensemble(redTraj_smooth, step=10)\n",
    "\n",
    "fig = plt.figure(figsize=(9, 4))\n",
    "plt.subplot(121)\n",
    "plt.title(\"Blue particles velocity distribution\")\n",
    "yg.plot_speed_hist(v_blue_smooth, bins=100, units=\"px/s\", show=False)\n",
    "plt.subplot(122)\n",
    "plt.title(\"Red particle velocity distribution\")\n",
    "yg.plot_speed_hist(v_red_smooth, bins=100, units=\"px/s\", show=False)\n",
    "plt.tight_layout()\n",
    "plt.show()"
   ]
  },
  {
   "attachments": {},
   "cell_type": "markdown",
   "id": "83579dc2",
   "metadata": {},
   "source": [
    "### Speed Distribution Windowed"
   ]
  },
  {
   "cell_type": "code",
   "execution_count": null,
   "id": "a6eccb0e",
   "metadata": {},
   "outputs": [],
   "source": [
    "v_blue_windowed = []\n",
    "v_red_windowed = []\n",
    "for k in tqdm(range(nWindows)):\n",
    "    trajs = rawTrajs[k*nDrops*timeWindow*fps : (k+1)*nDrops*timeWindow*fps]\n",
    "    blueTrajs = []\n",
    "    redTraj = []\n",
    "\n",
    "    for i in range(0, nDrops):\n",
    "        if i != red_particle_idx:\n",
    "            p1 = trajs.loc[np.where(trajs.particle==i)[0] + k * 160000, [\"x\",\"y\"]]\n",
    "            blueTrajs.append(Trajectory(p1.x, p1.y, dt = 1/10, traj_id=i))\n",
    "        if i == red_particle_idx:\n",
    "            p1 = trajs.loc[np.where(trajs.particle==i)[0] + k * 160000, [\"x\",\"y\"]]\n",
    "            redTraj.append(Trajectory(p1.x, p1.y, dt = 1/10, traj_id=i))\n",
    "\n",
    "    v_blue_windowed .append(ys.speed_ensemble(blueTrajs, step=10))\n",
    "    v_red_windowed .append(ys.speed_ensemble(redTraj, step=10))"
   ]
  },
  {
   "cell_type": "code",
   "execution_count": null,
   "id": "9130460f",
   "metadata": {},
   "outputs": [],
   "source": [
    "units=\"px/s\"\n",
    "default_kwargs = {\"color\": \"#99d2ec\", \"ec\": (0, 0, 0, 0.6), \"density\": True}\n",
    "if 1: \n",
    "   fig, axs = plt.subplots(2, nWindows, figsize = (50, 3))\n",
    "   for k in range(nWindows):\n",
    "      axs[0, k].hist(v_blue_windowed[k], bins = 100, **default_kwargs)\n",
    "      axs[0, k].set_title(f\"Blue particles velocity pdf {k*timeWindow}-{(k+1)*timeWindow} s\") \n",
    "      axs[0, k].set_xlim(0, 20)\n",
    "      axs[0, k].set_ylim(0, 0.25)\n",
    "      axs[0, k].set_xlabel(f\"speed{units}\")\n",
    "      axs[0, k].set_ylabel(\"pdf\")\n",
    "      axs[0, k].grid()\n",
    "      axs[1, k].hist(v_red_windowed[k], bins = 100, **default_kwargs)\n",
    "      axs[1, k].set_title(f\"Red particles velocity pdf {k*timeWindow}-{(k+1)*timeWindow} s\") \n",
    "      axs[1, k].set_xlim(0, 70)\n",
    "      axs[1, k].set_ylim(0, 0.2)\n",
    "      axs[1, k].set_xlabel(f\"speed{units}\")\n",
    "      axs[1, k].set_ylabel(\"pdf\")\n",
    "      axs[1, k].grid()\n",
    "   plt.tight_layout()\n",
    "   plt.savefig(\"../results/msd_time_windowed/speed_ensamble.png\", dpi = 300)\n",
    "   plt.close()"
   ]
  },
  {
   "attachments": {},
   "cell_type": "markdown",
   "id": "2160ac4c",
   "metadata": {},
   "source": [
    "### Turning Angles Distribution"
   ]
  },
  {
   "cell_type": "code",
   "execution_count": null,
   "id": "237f4862",
   "metadata": {},
   "outputs": [],
   "source": [
    "theta_blue = ys.turning_angles_ensemble(blueTrajs, centered= True)\n",
    "theta_red = ys.turning_angles_ensemble(redTraj, centered= True)\n",
    "\n",
    "default_kwargs = {\"color\": \"#99d2ec\", \"ec\": (0, 0, 0, 0.6), \"density\": True}\n",
    "fig, (ax, ax1) = plt.subplots(1, 2, figsize=(10, 4))#, subplot_kw = dict(projection='polar'))\n",
    "ax.hist(theta_blue, 100, **default_kwargs)\n",
    "ax.set_xticks([-np.pi, -np.pi/2, 0, np.pi/2, np.pi],[r'-$\\pi$', r'$-\\frac{\\pi}{2}$', '$0$', r'$\\frac{\\pi}{2}$', r'$\\pi$'])\n",
    "ax.set_title(\"Turning angles pdf for blue particles\")\n",
    "\n",
    "ax1.hist(theta_red, 100, **default_kwargs)\n",
    "ax1.set_title(\"Turning angles pdf for red particle\")\n",
    "ax1.set_xticks([-np.pi, -np.pi/2, 0, np.pi/2, np.pi],[r'-$\\pi$', r'$-\\frac{\\pi}{2}$', '$0$', r'$\\frac{\\pi}{2}$', r'$\\pi$'])\n",
    "\n",
    "plt.show()"
   ]
  },
  {
   "cell_type": "code",
   "execution_count": null,
   "id": "207d1fd1",
   "metadata": {},
   "outputs": [],
   "source": [
    "theta_blue_smooth = ys.turning_angles_ensemble(blueTrajs_smooth, centered = True)\n",
    "theta_red_smooth = ys.turning_angles_ensemble(redTraj_smooth, centered = True)\n",
    "\n",
    "fig, (ax, ax1) = plt.subplots(1, 2, figsize=(10, 4))\n",
    "default_kwargs = {\"color\": \"#99d2ec\", \"ec\": (0, 0, 0, 0.6), \"density\": True}\n",
    "ax.hist(theta_blue_smooth, 100, **default_kwargs)\n",
    "ax.set_xticks([-np.pi, -np.pi/2, 0, np.pi/2, np.pi],[r'-$\\pi$', r'$-\\frac{\\pi}{2}$', '$0$', r'$\\frac{\\pi}{2}$', r'$\\pi$'])\n",
    "ax.set_title(\"Turning angles pdf for blue particles\")\n",
    "ax1.hist(theta_red_smooth, 100, **default_kwargs)\n",
    "ax1.set_xticks([-np.pi, -np.pi/2, 0, np.pi/2, np.pi],[r'-$\\pi$', r'$-\\frac{\\pi}{2}$', '$0$', r'$\\frac{\\pi}{2}$', r'$\\pi$'])\n",
    "ax1.set_title(\"Turning angles pdf for red particle\")\n",
    "plt.show()"
   ]
  },
  {
   "attachments": {},
   "cell_type": "markdown",
   "id": "32d4df36",
   "metadata": {},
   "source": [
    "### Turning Angles Windowed"
   ]
  },
  {
   "cell_type": "code",
   "execution_count": null,
   "id": "9adc558f",
   "metadata": {},
   "outputs": [],
   "source": [
    "theta_blue_windowed = []\n",
    "theta_red_windowed = []\n",
    "for k in tqdm(range(nWindows)):\n",
    "    trajs = rawTrajs[k*nDrops*timeWindow*fps : (k+1)*nDrops*timeWindow*fps]\n",
    "    blueTrajs = []\n",
    "    redTraj = []\n",
    "\n",
    "    for i in range(0, nDrops):\n",
    "        if i != red_particle_idx:\n",
    "            p1 = trajs.loc[np.where(trajs.particle==i)[0] + k * 160000, [\"x\",\"y\"]]\n",
    "            blueTrajs.append(Trajectory(p1.x, p1.y, dt = 1/10, traj_id=i))\n",
    "        if i == red_particle_idx:\n",
    "            p1 = trajs.loc[np.where(trajs.particle==i)[0] + k * 160000, [\"x\",\"y\"]]\n",
    "            redTraj.append(Trajectory(p1.x, p1.y, dt = 1/10, traj_id=i))\n",
    "\n",
    "    theta_blue_windowed.append(ys.turning_angles_ensemble(blueTrajs, centered= True))\n",
    "    theta_red_windowed.append(ys.turning_angles_ensemble(redTraj, centered= True))"
   ]
  },
  {
   "cell_type": "code",
   "execution_count": null,
   "id": "00bc78fe",
   "metadata": {},
   "outputs": [],
   "source": [
    "units=\"px/s\"\n",
    "default_kwargs = {\"color\": \"#99d2ec\", \"ec\": (0, 0, 0, 0.6), \"density\": True}\n",
    "if 1: \n",
    "   fig, axs = plt.subplots(2, nWindows, figsize = (50, 3))\n",
    "   for k in range(nWindows):\n",
    "      axs[0, k].hist(theta_blue_windowed[k], 100, **default_kwargs)\n",
    "      axs[0, k].set_title(f\"Blue particles turning angles pdf {k*timeWindow}-{(k+1)*timeWindow} s\") \n",
    "      axs[0, k].set_xticks([-np.pi, -np.pi/2, 0, np.pi/2, np.pi],[r'-$\\pi$', r'$-\\frac{\\pi}{2}$', '$0$', r'$\\frac{\\pi}{2}$', r'$\\pi$'])\n",
    "      axs[0, k].grid()\n",
    "      axs[1, k].hist(theta_red_windowed[k], bins = 100, **default_kwargs)\n",
    "      axs[1, k].set_title(f\"Red particles turning angles pdf {k*timeWindow}-{(k+1)*timeWindow} s\") \n",
    "      axs[1, k].set_xticks([-np.pi, -np.pi/2, 0, np.pi/2, np.pi],[r'-$\\pi$', r'$-\\frac{\\pi}{2}$', '$0$', r'$\\frac{\\pi}{2}$', r'$\\pi$'])\n",
    "      axs[1, k].grid()\n",
    "   plt.tight_layout()\n",
    "   plt.savefig(\"../results/msd_time_windowed/turning_angles.png\", dpi = 300)\n",
    "   plt.close()"
   ]
  },
  {
   "cell_type": "code",
   "execution_count": null,
   "id": "905b48fd",
   "metadata": {},
   "outputs": [],
   "source": [
    "theta_blue_windowed2 = []\n",
    "theta_red_windowed2 = []\n",
    "for k in tqdm(range(nWindows)):\n",
    "    trajs = smoothTrajs[k*nDrops*timeWindow*fps : (k+1)*nDrops*timeWindow*fps]\n",
    "    blueTrajs = []\n",
    "    redTraj = []\n",
    "\n",
    "    for i in range(0, nDrops):\n",
    "        if i != red_particle_idx:\n",
    "            p1 = trajs.loc[np.where(trajs.particle==i)[0] + k * 160000, [\"x\",\"y\"]]\n",
    "            blueTrajs.append(Trajectory(p1.x, p1.y, dt = 1/10, traj_id=i))\n",
    "        if i == red_particle_idx:\n",
    "            p1 = trajs.loc[np.where(trajs.particle==i)[0] + k * 160000, [\"x\",\"y\"]]\n",
    "            redTraj.append(Trajectory(p1.x, p1.y, dt = 1/10, traj_id=i))\n",
    "\n",
    "    theta_blue_windowed2.append(ys.turning_angles_ensemble(blueTrajs, centered= True))\n",
    "    theta_red_windowed2.append(ys.turning_angles_ensemble(redTraj, centered= True))"
   ]
  },
  {
   "cell_type": "code",
   "execution_count": null,
   "id": "068eab69",
   "metadata": {},
   "outputs": [],
   "source": [
    "units=\"px/s\"\n",
    "default_kwargs = {\"color\": \"#99d2ec\", \"ec\": (0, 0, 0, 0.6), \"density\": True}\n",
    "if 1: \n",
    "   fig, axs = plt.subplots(2, nWindows, figsize = (50, 3))\n",
    "   for k in range(nWindows):\n",
    "      axs[0, k].hist(theta_blue_windowed2[k], 100, **default_kwargs)\n",
    "      axs[0, k].set_title(f\"Blue particles turning angles pdf {k*timeWindow}-{(k+1)*timeWindow} s\") \n",
    "      axs[0, k].set_xticks([-np.pi, -np.pi/2, 0, np.pi/2, np.pi],[r'-$\\pi$', r'$-\\frac{\\pi}{2}$', '$0$', r'$\\frac{\\pi}{2}$', r'$\\pi$'])\n",
    "      axs[0, k].grid()\n",
    "      axs[1, k].hist(theta_red_windowed2[k], bins = 100, **default_kwargs)\n",
    "      axs[1, k].set_title(f\"Red particles turning angles pdf {k*timeWindow}-{(k+1)*timeWindow} s\") \n",
    "      axs[1, k].set_xticks([-np.pi, -np.pi/2, 0, np.pi/2, np.pi],[r'-$\\pi$', r'$-\\frac{\\pi}{2}$', '$0$', r'$\\frac{\\pi}{2}$', r'$\\pi$'])\n",
    "      axs[1, k].grid()\n",
    "   plt.tight_layout()\n",
    "   plt.savefig(\"../results/msd_time_windowed/turning_angles_smooth.png\", dpi = 300)\n",
    "   plt.close()"
   ]
  },
  {
   "attachments": {},
   "cell_type": "markdown",
   "id": "30ca8658",
   "metadata": {},
   "source": [
    "### other"
   ]
  },
  {
   "cell_type": "code",
   "execution_count": null,
   "id": "4963073f",
   "metadata": {},
   "outputs": [],
   "source": [
    "kurt_ref_blue = ys.kurtosis_reference(blueTrajs)\n",
    "kurt_mean_blue, _ = ys.kurtosis(blueTrajs, time_avg=True, lag=maxLagtime)\n",
    "\n",
    "kurt_ref_red = ys.kurtosis_reference(redTraj)\n",
    "kurt_mean_red, _ = ys.kurtosis(redTraj, time_avg=True, lag=maxLagtime)"
   ]
  },
  {
   "cell_type": "code",
   "execution_count": null,
   "id": "66d46ce0",
   "metadata": {},
   "outputs": [],
   "source": [
    "fig, ax = plt.subplots()\n",
    "plt.subplot(121)\n",
    "yg.plot_kurtosis(kurt_mean_blue, kurtosis_ref=kurt_ref_blue, dt=1/10, show=False)\n",
    "plt.subplot(122)\n",
    "yg.plot_kurtosis(kurt_mean_red, kurtosis_ref=kurt_ref_red, dt=1/10, show=False)\n",
    "plt.show()"
   ]
  },
  {
   "cell_type": "code",
   "execution_count": null,
   "id": "ca758d3c",
   "metadata": {},
   "outputs": [],
   "source": [
    "vacf_mean_blue, vacf_std_blue = ys.vacf(blueTrajs, time_avg=True, lag=maxLagtime)\n",
    "vacf_mean_red, vacf_std_red = ys.vacf(redTraj, time_avg=True, lag=maxLagtime)"
   ]
  },
  {
   "cell_type": "code",
   "execution_count": null,
   "id": "4874a1f3",
   "metadata": {},
   "outputs": [],
   "source": [
    "fig = plt.figure()\n",
    "plt.subplot(121)\n",
    "plt.title(\"Velocity autocorrelation of blue particles\")\n",
    "yg.plot_vacf(vacf_mean_blue, dt = 1/10, lag = maxLagtime, show = False, log_inset=False, marker='o', markersize=1, y_units ='(px/s)^2')\n",
    "plt.xlim(-5, 40)\n",
    "plt.subplot(122)\n",
    "plt.title(\"Velocity autocorrelation of red particle\")\n",
    "yg.plot_vacf(vacf_mean_red, dt = 1/10, lag = maxLagtime, show = False, log_inset=False, marker='o', markersize=1, y_units ='(px/s)^2')\n",
    "plt.xlim(-5, 40)\n",
    "plt.tight_layout()\n",
    "plt.show()"
   ]
  },
  {
   "cell_type": "code",
   "execution_count": null,
   "id": "94a1be5f",
   "metadata": {},
   "outputs": [],
   "source": [
    "psd_mean_blue, psd_std_blue, frec_blue = ys.psd(blueTrajs, lag=maxLagtime)\n",
    "psd_mean_red, psd_std_red, frec_red = ys.psd(redTraj, lag=maxLagtime)\n",
    "fig = plt.figure()\n",
    "plt.subplot(121)\n",
    "yg.plot_psd(psd_mean_blue, frec_blue, psd_std_blue, show=False)\n",
    "plt.subplot(122)\n",
    "yg.plot_psd(psd_mean_red, frec_red, psd_std_red, show=False)\n",
    "plt.show()"
   ]
  },
  {
   "cell_type": "markdown",
   "id": "51b6be7a",
   "metadata": {},
   "source": [
    "## Radial Distribution Function\n",
    "\n",
    "\n",
    "The radial distribution function in 2D is:\n",
    "$$ g_2(r) = \\frac{n(r)}{\\pi [(r+\\delta r)^2 - r^2 ] \\rho} $$\n",
    "\n",
    "where the density is $\\rho = N/V $ and the number density $n(r)$ is computed (using a KDTree data structure) by taking the number of elements closer than $r + \\delta r$ minus the number of elements closer than $r$\n",
    "\n",
    "In 3D (i think):\n",
    "$$ S_r = 4 \\pi r^2 g_2(r) $$\n",
    "\n",
    "in 2D ???"
   ]
  },
  {
   "cell_type": "code",
   "execution_count": null,
   "id": "7f80408f",
   "metadata": {},
   "outputs": [],
   "source": [
    "@joblib.delayed\n",
    "def computeRadialDistributionFunction(frame, COORDS, rList, dr, rho):\n",
    "    coords = COORDS[frame*nDrops:(frame+1)*nDrops,:]\n",
    "    kd = KDTree(coords)\n",
    "\n",
    "    avg_n = np.zeros(len(rList))\n",
    "    for i, r in enumerate(rList):\n",
    "        a = kd.query_ball_point(coords, r + 20)\n",
    "        b = kd.query_ball_point(coords, r)\n",
    "        \n",
    "        n1 = 0\n",
    "        for j in a:\n",
    "            n1 += len(j) - 1\n",
    "\n",
    "        n2 = 0\n",
    "        for j in b:\n",
    "            n2 += len(j) - 1\n",
    "        \n",
    "        avg_n[i] = n1/len(a) - n2/len(b)\n",
    "\n",
    "    g2 = avg_n/(np.pi*(dr**2 + 2*rList*dr)*rho)\n",
    "    return g2"
   ]
  },
  {
   "cell_type": "code",
   "execution_count": null,
   "id": "d22db12a",
   "metadata": {},
   "outputs": [],
   "source": [
    "dr = 5\n",
    "rDisk = 822/2\n",
    "rList = np.arange(0, 2*rDisk, 1)\n",
    "rho = nDrops/(np.pi*rDisk**2) # nDrops -1 !\n",
    "\n",
    "COORDS = np.array(rawTrajs.loc[:,[\"x\",\"y\"]])"
   ]
  },
  {
   "cell_type": "code",
   "execution_count": null,
   "id": "b913eb3e",
   "metadata": {},
   "outputs": [],
   "source": [
    "parallel = joblib.Parallel(n_jobs = -2)\n",
    "frames = 200\n",
    "trial = parallel(\n",
    "    computeRadialDistributionFunction(frame, COORDS, rList, dr, rho)\n",
    "    for frame in tqdm( range(frames) )\n",
    ")\n",
    "trial = np.array(trial)"
   ]
  },
  {
   "cell_type": "code",
   "execution_count": null,
   "id": "946483a2",
   "metadata": {},
   "outputs": [],
   "source": [
    "fig, ax = plt.subplots()\n",
    "anim_running = True\n",
    "\n",
    "def onClick(event):\n",
    "    global anim_running\n",
    "    if anim_running:\n",
    "        ani.event_source.stop()\n",
    "        anim_running = False\n",
    "    else:\n",
    "        ani.event_source.start()\n",
    "        anim_running = True\n",
    "\n",
    "line, = ax.plot(rList, trial[0])\n",
    "title = ax.set_title('Test, time=0')\n",
    "\n",
    "def animate(frame):\n",
    "    line.set_ydata(trial[frame])  # update the data.\n",
    "    title.set_text('Test, time={}'.format(frame))\n",
    "    ax.set_ylim(-1, max(trial[frame]) + 4)\n",
    "    return line, \n",
    "\n",
    "fig.canvas.mpl_connect('button_press_event', onClick)\n",
    "ani = matplotlib.animation.FuncAnimation(fig, animate, range(0, frames), interval=20, blit=False)\n",
    "plt.show()"
   ]
  },
  {
   "cell_type": "markdown",
   "id": "3fbb1825",
   "metadata": {},
   "source": [
    "### RDF analysis with full dataset already computed"
   ]
  },
  {
   "cell_type": "code",
   "execution_count": null,
   "id": "6bacd72c",
   "metadata": {},
   "outputs": [],
   "source": [
    "g2 = np.array(pd.read_csv(\"/Users/matteoscandola/thesis/data/g2.csv\"))"
   ]
  },
  {
   "cell_type": "code",
   "execution_count": null,
   "id": "48c06526",
   "metadata": {},
   "outputs": [],
   "source": [
    "g2.shape"
   ]
  },
  {
   "cell_type": "code",
   "execution_count": null,
   "id": "de824156",
   "metadata": {},
   "outputs": [],
   "source": [
    "g_plot = g2[::30, :].T\n",
    "\n",
    "timearr = np.linspace(0, 30000, 10)/10\n",
    "timearr = timearr.astype(int)\n",
    "\n",
    "\n",
    "fig, ax = plt.subplots(1, 1, figsize=(8,6))\n",
    "img = ax.imshow(np.log(1 + g_plot))\n",
    "ax.set_xticks(np.linspace(0, g_plot.shape[1], 10))\n",
    "ax.set_yticks(np.linspace(0, g_plot.shape[0], 10))\n",
    "ax.set_xticklabels(timearr)\n",
    "ax.set_yticklabels(np.linspace(0, 2*rDisk, 10).astype(int))\n",
    "fig.colorbar(img)\n",
    "plt.xlabel(\"Time [s]\")\n",
    "plt.ylabel(\"r [px]\")\n",
    "plt.title(\"$Log(1 + g_2)$ heatmap \")\n",
    "plt.show()"
   ]
  },
  {
   "cell_type": "code",
   "execution_count": null,
   "id": "c7c48c44",
   "metadata": {},
   "outputs": [],
   "source": [
    "fig, ax = plt.subplots()\n",
    "ax.errorbar(rList, np.mean(g2, axis = 0), yerr = np.std(g2, axis = 0), marker = \".\")\n",
    "#ax.plot(rList, g2[0])\n",
    "ax.set_ylabel(\"$g \\; (r)$\")\n",
    "ax.set_xlabel(\"r\")\n",
    "#ax.set_xlim(-5, 600)\n",
    "plt.show()"
   ]
  },
  {
   "cell_type": "markdown",
   "id": "58f4de16",
   "metadata": {},
   "source": [
    "#### Moving averages"
   ]
  },
  {
   "cell_type": "code",
   "execution_count": null,
   "id": "ecb926b3",
   "metadata": {},
   "outputs": [],
   "source": [
    "# axis = 0 --> Time moving average\n",
    "# axis = 1 --> Radius moving average\n",
    "def running_mean_uniform_filter1d(x, N, AX):\n",
    "    return uniform_filter1d(x, N, mode='constant', axis = AX, origin=-(N//2))#[:-(N-1)]"
   ]
  },
  {
   "cell_type": "markdown",
   "id": "5c4b884a",
   "metadata": {},
   "source": [
    "##### r-averaged"
   ]
  },
  {
   "cell_type": "code",
   "execution_count": null,
   "id": "f4f1f8aa",
   "metadata": {},
   "outputs": [],
   "source": [
    "g2_r_avg = running_mean_uniform_filter1d(g2, 5, 1)"
   ]
  },
  {
   "cell_type": "code",
   "execution_count": null,
   "id": "348ca633",
   "metadata": {
    "scrolled": false
   },
   "outputs": [],
   "source": [
    "fig, ax = plt.subplots()\n",
    "#ax.plot(rList, g2_r_avg[0])\n",
    "ax.plot(rList, g2[0])\n",
    "ax.set_ylabel(\"$g \\; (r)$\")\n",
    "ax.set_xlabel(\"r\")\n",
    "#ax.set_xlim(-5, 600)\n",
    "plt.show()"
   ]
  },
  {
   "cell_type": "code",
   "execution_count": null,
   "id": "2bce862e",
   "metadata": {
    "scrolled": false
   },
   "outputs": [],
   "source": [
    "fig, ax = plt.subplots()\n",
    "anim_running = True\n",
    "\n",
    "def onClick(event):\n",
    "    global anim_running\n",
    "    if anim_running:\n",
    "        ani.event_source.stop()\n",
    "        anim_running = False\n",
    "    else:\n",
    "        ani.event_source.start()\n",
    "        anim_running = True\n",
    "\n",
    "line, = ax.plot(rList, g2_r_avg[0])\n",
    "title = ax.set_title('Test, time=0')\n",
    "\n",
    "def animate(frame):\n",
    "    line.set_ydata(g2_r_avg[frame])  # update the data.\n",
    "    title.set_text('Test, time={}'.format(frame))\n",
    "    ax.set_ylim(-1, max(g2_r_avg[frame]) + 4)\n",
    "    return line, \n",
    "\n",
    "fig.canvas.mpl_connect('button_press_event', onClick)\n",
    "ani = matplotlib.animation.FuncAnimation(fig, animate, range(0, 30000, 5), interval=2, blit=False)\n",
    "plt.show()"
   ]
  },
  {
   "cell_type": "code",
   "execution_count": null,
   "id": "4e58344a",
   "metadata": {},
   "outputs": [],
   "source": [
    "g2_r_avg.shape\n",
    "g2.shape"
   ]
  },
  {
   "cell_type": "code",
   "execution_count": null,
   "id": "660ae315",
   "metadata": {},
   "outputs": [],
   "source": [
    "nFrames = 30000\n",
    "rmax = np.zeros(nFrames)\n",
    "rmax_r_avg = np.zeros(nFrames)\n",
    "\n",
    "rMin = 200\n",
    "\n",
    "for i in range(nFrames):\n",
    "    rmax[i] = rList[np.where(g2[i]==0)[0][np.where(g2[i]==0)[0]>rMin][0]]\n",
    "    rmax_r_avg[i] = rList[np.where(g2_r_avg[i]==0)[0][np.where(g2_r_avg[i]==0)[0]>rMin][0]]\n",
    "    \n",
    "framesList = np.arange(0, nFrames, 1)\n",
    "\n",
    "fig, (ax, ax1) = plt.subplots(1, 2)\n",
    "\n",
    "ax.plot(framesList, rmax)\n",
    "ax1.plot(framesList, rmax_r_avg)\n",
    "\n",
    "ax.set_title(\"$R_{max}$\")\n",
    "ax1.set_title(\"Moving average $R_{max}$\")\n",
    "plt.show()"
   ]
  },
  {
   "cell_type": "markdown",
   "id": "e0b9ac12",
   "metadata": {},
   "source": [
    "##### time averaged "
   ]
  },
  {
   "cell_type": "code",
   "execution_count": null,
   "id": "4bc96c74",
   "metadata": {},
   "outputs": [],
   "source": [
    "g2_time_avg = running_mean_uniform_filter1d(g2, 50, 0)"
   ]
  },
  {
   "cell_type": "code",
   "execution_count": null,
   "id": "1206a87b",
   "metadata": {},
   "outputs": [],
   "source": [
    "fig, ax = plt.subplots()\n",
    "ax.plot(rList, g2_time_avg[0])\n",
    "ax.plot(rList, g2[0])\n",
    "ax.set_ylabel(\"$g \\; (r)$\")\n",
    "ax.set_xlabel(\"r\")\n",
    "#ax.set_xlim(-5, 600)\n",
    "plt.show()"
   ]
  },
  {
   "cell_type": "code",
   "execution_count": null,
   "id": "d28b5cfd",
   "metadata": {},
   "outputs": [],
   "source": [
    "fig, ax = plt.subplots()\n",
    "anim_running = True\n",
    "\n",
    "def onClick(event):\n",
    "    global anim_running\n",
    "    if anim_running:\n",
    "        ani.event_source.stop()\n",
    "        anim_running = False\n",
    "    else:\n",
    "        ani.event_source.start()\n",
    "        anim_running = True\n",
    "\n",
    "line, = ax.plot(rList, g2_time_avg[0])\n",
    "title = ax.set_title('Test, time=0')\n",
    "\n",
    "def animate(frame):\n",
    "    line.set_ydata(g2_time_avg[frame])  # update the data.\n",
    "    title.set_text('Test, time={}'.format(frame))\n",
    "    ax.set_ylim(-1, max(g2_r_avg[frame]) + 4)\n",
    "    return line, \n",
    "\n",
    "fig.canvas.mpl_connect('button_press_event', onClick)\n",
    "ani = matplotlib.animation.FuncAnimation(fig, animate, range(25000, nFrames), interval=2, blit=False)\n",
    "#ani.save(f'/Users/matteoscandola/thesisData/rolled2.mp4', writer=writervideo)\n",
    "#plt.show()"
   ]
  },
  {
   "cell_type": "code",
   "execution_count": null,
   "id": "132b5c38",
   "metadata": {},
   "outputs": [],
   "source": [
    "rmax = np.zeros(nFrames)\n",
    "rmax_roll = np.zeros(nFrames)\n",
    "\n",
    "rMin = 450\n",
    "\n",
    "for i in range(nFrames):\n",
    "    rmax[i] = rList[np.where(g_2[i]==0)[0][np.where(g_2[i]==0)[0]>rMin][0]]\n",
    "    rmax_roll[i] = rList[np.where(g_2_roll[i]==0)[0][np.where(g_2_roll[i]==0)[0]>rMin][0]]\n",
    "    \n",
    "framesList = np.arange(0, nFrames, 1)\n",
    "\n",
    "fig, (ax, ax1) = plt.subplots(1, 2)\n",
    "\n",
    "ax.plot(framesList, rmax)\n",
    "ax1.plot(framesList, rmax_roll)\n",
    "\n",
    "ax.set_title(\"$R_{max}$\")\n",
    "ax1.set_title(\"Moving average $R_{max}$\")\n",
    "plt.show()"
   ]
  },
  {
   "cell_type": "markdown",
   "id": "a5afebc8",
   "metadata": {},
   "source": [
    "## Distance from centre of mass distribution with pca ??"
   ]
  },
  {
   "cell_type": "code",
   "execution_count": null,
   "id": "6af9d87d",
   "metadata": {},
   "outputs": [],
   "source": [
    "frame = 0\n",
    "covMatrix = np.cov(COORDS[frame*nDrops:(frame+1)*nDrops,:])\n",
    "trace_of_covMatrix = np.trace(covMatrix)\n",
    "eigenvalues, _ = np.linalg.eigh(covMatrix)\n",
    "#eigenvalues = np.sort(eigenvalues)[::-1]\n",
    "#diagCovMatrix = np.diag(eigenvalues)\n",
    "info = np.zeros(len(eigenvalues))\n",
    "for i in range(len(eigenvalues)):\n",
    "    info[i] = np.sum(np.sum(eigenvalues[:i]))\n",
    "info /= trace_of_covMatrix"
   ]
  }
 ],
 "metadata": {
  "kernelspec": {
   "display_name": "pyenv",
   "language": "python",
   "name": "python3"
  },
  "language_info": {
   "codemirror_mode": {
    "name": "ipython",
    "version": 3
   },
   "file_extension": ".py",
   "mimetype": "text/x-python",
   "name": "python",
   "nbconvert_exporter": "python",
   "pygments_lexer": "ipython3",
   "version": "3.10.6"
  },
  "vscode": {
   "interpreter": {
    "hash": "1d03f01ef291c499e995b04207f4c53df5fb0240f9f8862c7ea43be3c52b56d8"
   }
  }
 },
 "nbformat": 4,
 "nbformat_minor": 5
}
