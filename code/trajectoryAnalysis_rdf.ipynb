{
 "cells": [
  {
   "cell_type": "code",
   "execution_count": 1,
   "id": "1e649092",
   "metadata": {},
   "outputs": [],
   "source": [
    "import matplotlib.pyplot as plt\n",
    "import matplotlib.animation\n",
    "%matplotlib ipympl\n",
    "import numpy as np\n",
    "import pandas as pd\n",
    "\n",
    "from scipy.spatial import KDTree, cKDTree\n",
    "from scipy.ndimage import uniform_filter1d\n",
    "from scipy.signal import savgol_filter\n",
    "import joblib\n",
    "from tqdm import tqdm\n",
    "import pims\n",
    "import trackpy as tp\n",
    "from numba import njit, prange\n",
    "\n",
    "from yupi import Trajectory\n",
    "import yupi.graphics as yg\n",
    "import yupi.stats as ys\n",
    "\n",
    "show_verb = True\n",
    "save_verb = False\n",
    "anim_show_verb = False"
   ]
  },
  {
   "cell_type": "code",
   "execution_count": 2,
   "id": "a166b38a",
   "metadata": {},
   "outputs": [
    {
     "name": "stderr",
     "output_type": "stream",
     "text": [
      "16:05:40 [WARNING] deprecated pixel format used, make sure you did set range correctly\n"
     ]
    },
    {
     "name": "stdout",
     "output_type": "stream",
     "text": [
      "nDrops:50\n",
      "nFrames:32000 --> 3200.00 s\n",
      "window of 320.0 s, stride of 10.0 s\n",
      "number of steps: 289\n"
     ]
    }
   ],
   "source": [
    "data = pims.open('../data/video/movie.mp4')\n",
    "rawTrajs = pd.read_csv(\"../data/csv/Processed_data2.csv\")\n",
    "red_particle_idx = 17\n",
    "rawTrajs.loc[rawTrajs.particle!=red_particle_idx, [\"color\"]] = \"#00007F\"\n",
    "rawTrajs.loc[rawTrajs.particle==red_particle_idx, [\"color\"]] = \"#FF0000\"\n",
    "colors = rawTrajs.loc[rawTrajs.frame==0, 'color'].values\n",
    "\n",
    "nDrops = len(rawTrajs.loc[rawTrajs.frame==0])\n",
    "nFrames = max(rawTrajs.frame) + 1\n",
    "print(f\"nDrops:{nDrops}\")\n",
    "print(f\"nFrames:{nFrames} --> {nFrames/10:.2f} s\")\n",
    "\n",
    "# WINDOWED ANALYSIS PARAMETERS\n",
    "window = 3200 # 320 s\n",
    "stride = 100 # 10 s\n",
    "print(f\"window of {window/10} s, stride of {stride/10} s\")\n",
    "startFrames = np.arange(0, nFrames-window+1, stride, dtype=int)\n",
    "endFrames = startFrames + window\n",
    "nSteps = len(startFrames)\n",
    "print(f\"number of steps: {nSteps}\")"
   ]
  },
  {
   "cell_type": "code",
   "execution_count": 3,
   "id": "ca57d78a",
   "metadata": {},
   "outputs": [],
   "source": [
    "df = rawTrajs.loc[(rawTrajs.frame == 0) , [\"x\", \"y\", \"color\"]]\n",
    "fig, ax = plt.subplots(1,1)\n",
    "ax.scatter(df.x, df.y, facecolors = 'none', edgecolors = df.color, s = 150)\n",
    "ax.imshow(data[0])\n",
    "#if save_verb: plt.savefig(\"../results/location_example.png\", dpi=500, bbox_inches='tight')\n",
    "plt.close()"
   ]
  },
  {
   "cell_type": "markdown",
   "id": "ac777315",
   "metadata": {},
   "source": [
    "# Trajectory Smoothing\n",
    "\n",
    "Smoothing of the trajectory using a Savgol Filter in order to drop the noise due to the tracking procedure"
   ]
  },
  {
   "cell_type": "code",
   "execution_count": null,
   "id": "771d8dde",
   "metadata": {},
   "outputs": [],
   "source": [
    "smoothTrajs = rawTrajs.copy()\n",
    "\n",
    "# Parameters of the Savgol Filter to smooth the trajectories\n",
    "windLen = 30\n",
    "orderofPoly = 2\n",
    "for i in range(nDrops):\n",
    "    smoothTrajs.loc[smoothTrajs.particle == i, \"x\"] = savgol_filter(rawTrajs.loc[rawTrajs.particle == i].x.values, windLen, orderofPoly)\n",
    "    smoothTrajs.loc[smoothTrajs.particle == i, \"y\"] = savgol_filter(rawTrajs.loc[rawTrajs.particle == i].y.values,  windLen, orderofPoly)"
   ]
  },
  {
   "attachments": {},
   "cell_type": "markdown",
   "id": "51b6be7a",
   "metadata": {},
   "source": [
    "# Radial Distribution Function\n",
    "\n",
    "\n",
    "The radial distribution function in 2D is:\n",
    "$$ g_2(r) = \\frac{n(r)}{\\pi [(r+\\delta r)^2 - r^2 ] \\rho} $$\n",
    "\n",
    "where the density is $\\rho = N/V $ and the number density $n(r)$ is computed (using a KDTree data structure) by taking the number of elements closer than $r + \\delta r$ minus the number of elements closer than $r$\n",
    "\n",
    "In 3D (i think):\n",
    "$$ S_r = 4 \\pi r^2 g_2(r) $$\n",
    "\n",
    "in 2D ???"
   ]
  },
  {
   "attachments": {},
   "cell_type": "markdown",
   "id": "9c3cca7a",
   "metadata": {},
   "source": [
    "## regular"
   ]
  },
  {
   "cell_type": "code",
   "execution_count": null,
   "id": "7f80408f",
   "metadata": {},
   "outputs": [],
   "source": [
    "@joblib.delayed\n",
    "def computeRadialDistributionFunction(frame, COORDS, rList, dr, rho):\n",
    "    coords = COORDS[frame*nDrops:(frame+1)*nDrops,:]\n",
    "    kd = KDTree(coords)\n",
    "\n",
    "    avg_n = np.zeros(len(rList))\n",
    "    for i, r in enumerate(rList):\n",
    "        a = kd.query_ball_point(coords, r + 20)\n",
    "        b = kd.query_ball_point(coords, r)\n",
    "        \n",
    "        n1 = 0\n",
    "        for j in a:\n",
    "            n1 += len(j) - 1\n",
    "\n",
    "        n2 = 0\n",
    "        for j in b:\n",
    "            n2 += len(j) - 1\n",
    "        \n",
    "        avg_n[i] = n1/len(a) - n2/len(b)\n",
    "\n",
    "    g2 = avg_n/(np.pi*(dr**2 + 2*rList*dr)*rho)\n",
    "    return g2"
   ]
  },
  {
   "cell_type": "code",
   "execution_count": null,
   "id": "d22db12a",
   "metadata": {},
   "outputs": [],
   "source": [
    "dr = 5\n",
    "rDisk = 822/2\n",
    "rList = np.arange(0, 2*rDisk, 1)\n",
    "rho = nDrops/(np.pi*rDisk**2) # nDrops -1 !\n",
    "\n",
    "COORDS = np.array(rawTrajs.loc[:,[\"x\",\"y\"]])"
   ]
  },
  {
   "cell_type": "code",
   "execution_count": null,
   "id": "b913eb3e",
   "metadata": {},
   "outputs": [],
   "source": [
    "parallel = joblib.Parallel(n_jobs = -2)\n",
    "frames = 200\n",
    "trial = parallel(\n",
    "    computeRadialDistributionFunction(frame, COORDS, rList, dr, rho)\n",
    "    for frame in tqdm( range(frames) )\n",
    ")\n",
    "trial = np.array(trial)"
   ]
  },
  {
   "cell_type": "code",
   "execution_count": null,
   "id": "946483a2",
   "metadata": {},
   "outputs": [],
   "source": [
    "fig, ax = plt.subplots()\n",
    "anim_running = True\n",
    "\n",
    "def onClick(event):\n",
    "    global anim_running\n",
    "    if anim_running:\n",
    "        ani.event_source.stop()\n",
    "        anim_running = False\n",
    "    else:\n",
    "        ani.event_source.start()\n",
    "        anim_running = True\n",
    "\n",
    "line, = ax.plot(rList, trial[0])\n",
    "title = ax.set_title('Test, time=0')\n",
    "\n",
    "def animate(frame):\n",
    "    line.set_ydata(trial[frame])  # update the data.\n",
    "    title.set_text('Test, time={}'.format(frame))\n",
    "    ax.set_ylim(-1, max(trial[frame]) + 4)\n",
    "    return line, \n",
    "\n",
    "fig.canvas.mpl_connect('button_press_event', onClick)\n",
    "ani = matplotlib.animation.FuncAnimation(fig, animate, range(0, frames), interval=20, blit=False)\n",
    "plt.show()"
   ]
  },
  {
   "cell_type": "markdown",
   "id": "3fbb1825",
   "metadata": {},
   "source": [
    "### RDF analysis with full dataset already computed"
   ]
  },
  {
   "cell_type": "code",
   "execution_count": null,
   "id": "6bacd72c",
   "metadata": {},
   "outputs": [],
   "source": [
    "g2 = np.array(pd.read_csv(\"/Users/matteoscandola/thesis/data/g2.csv\"))"
   ]
  },
  {
   "cell_type": "code",
   "execution_count": null,
   "id": "48c06526",
   "metadata": {},
   "outputs": [],
   "source": [
    "g2.shape"
   ]
  },
  {
   "cell_type": "code",
   "execution_count": null,
   "id": "de824156",
   "metadata": {},
   "outputs": [],
   "source": [
    "g_plot = g2[::30, :].T\n",
    "\n",
    "timearr = np.linspace(0, 30000, 10)/10\n",
    "timearr = timearr.astype(int)\n",
    "\n",
    "\n",
    "fig, ax = plt.subplots(1, 1, figsize=(8,6))\n",
    "img = ax.imshow(np.log(1 + g_plot))\n",
    "ax.set_xticks(np.linspace(0, g_plot.shape[1], 10))\n",
    "ax.set_yticks(np.linspace(0, g_plot.shape[0], 10))\n",
    "ax.set_xticklabels(timearr)\n",
    "ax.set_yticklabels(np.linspace(0, 2*rDisk, 10).astype(int))\n",
    "fig.colorbar(img)\n",
    "plt.xlabel(\"Time [s]\")\n",
    "plt.ylabel(\"r [px]\")\n",
    "plt.title(\"$Log(1 + g_2)$ heatmap \")\n",
    "plt.show()"
   ]
  },
  {
   "cell_type": "code",
   "execution_count": null,
   "id": "c7c48c44",
   "metadata": {},
   "outputs": [],
   "source": [
    "fig, ax = plt.subplots()\n",
    "ax.errorbar(rList, np.mean(g2, axis = 0), yerr = np.std(g2, axis = 0), marker = \".\")\n",
    "#ax.plot(rList, g2[0])\n",
    "ax.set_ylabel(\"$g \\; (r)$\")\n",
    "ax.set_xlabel(\"r\")\n",
    "#ax.set_xlim(-5, 600)\n",
    "plt.show()"
   ]
  },
  {
   "cell_type": "markdown",
   "id": "58f4de16",
   "metadata": {},
   "source": [
    "#### Moving averages"
   ]
  },
  {
   "cell_type": "code",
   "execution_count": null,
   "id": "ecb926b3",
   "metadata": {},
   "outputs": [],
   "source": [
    "# axis = 0 --> Time moving average\n",
    "# axis = 1 --> Radius moving average\n",
    "def running_mean_uniform_filter1d(x, N, AX):\n",
    "    return uniform_filter1d(x, N, mode='constant', axis = AX, origin=-(N//2))#[:-(N-1)]"
   ]
  },
  {
   "cell_type": "markdown",
   "id": "5c4b884a",
   "metadata": {},
   "source": [
    "##### r-averaged"
   ]
  },
  {
   "cell_type": "code",
   "execution_count": null,
   "id": "f4f1f8aa",
   "metadata": {},
   "outputs": [],
   "source": [
    "g2_r_avg = running_mean_uniform_filter1d(g2, 5, 1)"
   ]
  },
  {
   "cell_type": "code",
   "execution_count": null,
   "id": "348ca633",
   "metadata": {
    "scrolled": false
   },
   "outputs": [],
   "source": [
    "fig, ax = plt.subplots()\n",
    "#ax.plot(rList, g2_r_avg[0])\n",
    "ax.plot(rList, g2[0])\n",
    "ax.set_ylabel(\"$g \\; (r)$\")\n",
    "ax.set_xlabel(\"r\")\n",
    "#ax.set_xlim(-5, 600)\n",
    "plt.show()"
   ]
  },
  {
   "cell_type": "code",
   "execution_count": null,
   "id": "2bce862e",
   "metadata": {
    "scrolled": false
   },
   "outputs": [],
   "source": [
    "fig, ax = plt.subplots()\n",
    "anim_running = True\n",
    "\n",
    "def onClick(event):\n",
    "    global anim_running\n",
    "    if anim_running:\n",
    "        ani.event_source.stop()\n",
    "        anim_running = False\n",
    "    else:\n",
    "        ani.event_source.start()\n",
    "        anim_running = True\n",
    "\n",
    "line, = ax.plot(rList, g2_r_avg[0])\n",
    "title = ax.set_title('Test, time=0')\n",
    "\n",
    "def animate(frame):\n",
    "    line.set_ydata(g2_r_avg[frame])  # update the data.\n",
    "    title.set_text('Test, time={}'.format(frame))\n",
    "    ax.set_ylim(-1, max(g2_r_avg[frame]) + 4)\n",
    "    return line, \n",
    "\n",
    "fig.canvas.mpl_connect('button_press_event', onClick)\n",
    "ani = matplotlib.animation.FuncAnimation(fig, animate, range(0, 30000, 5), interval=2, blit=False)\n",
    "plt.show()"
   ]
  },
  {
   "cell_type": "code",
   "execution_count": null,
   "id": "4e58344a",
   "metadata": {},
   "outputs": [],
   "source": [
    "g2_r_avg.shape\n",
    "g2.shape"
   ]
  },
  {
   "cell_type": "code",
   "execution_count": null,
   "id": "660ae315",
   "metadata": {},
   "outputs": [],
   "source": [
    "nFrames = 30000\n",
    "rmax = np.zeros(nFrames)\n",
    "rmax_r_avg = np.zeros(nFrames)\n",
    "\n",
    "rMin = 200\n",
    "\n",
    "for i in range(nFrames):\n",
    "    rmax[i] = rList[np.where(g2[i]==0)[0][np.where(g2[i]==0)[0]>rMin][0]]\n",
    "    rmax_r_avg[i] = rList[np.where(g2_r_avg[i]==0)[0][np.where(g2_r_avg[i]==0)[0]>rMin][0]]\n",
    "    \n",
    "framesList = np.arange(0, nFrames, 1)\n",
    "\n",
    "fig, (ax, ax1) = plt.subplots(1, 2)\n",
    "\n",
    "ax.plot(framesList, rmax)\n",
    "ax1.plot(framesList, rmax_r_avg)\n",
    "\n",
    "ax.set_title(\"$R_{max}$\")\n",
    "ax1.set_title(\"Moving average $R_{max}$\")\n",
    "plt.show()"
   ]
  },
  {
   "cell_type": "markdown",
   "id": "e0b9ac12",
   "metadata": {},
   "source": [
    "##### time averaged "
   ]
  },
  {
   "cell_type": "code",
   "execution_count": null,
   "id": "4bc96c74",
   "metadata": {},
   "outputs": [],
   "source": [
    "g2_time_avg = running_mean_uniform_filter1d(g2, 50, 0)"
   ]
  },
  {
   "cell_type": "code",
   "execution_count": null,
   "id": "1206a87b",
   "metadata": {},
   "outputs": [],
   "source": [
    "fig, ax = plt.subplots()\n",
    "ax.plot(rList, g2_time_avg[0])\n",
    "ax.plot(rList, g2[0])\n",
    "ax.set_ylabel(\"$g \\; (r)$\")\n",
    "ax.set_xlabel(\"r\")\n",
    "#ax.set_xlim(-5, 600)\n",
    "plt.show()"
   ]
  },
  {
   "cell_type": "code",
   "execution_count": null,
   "id": "d28b5cfd",
   "metadata": {},
   "outputs": [],
   "source": [
    "fig, ax = plt.subplots()\n",
    "anim_running = True\n",
    "\n",
    "def onClick(event):\n",
    "    global anim_running\n",
    "    if anim_running:\n",
    "        ani.event_source.stop()\n",
    "        anim_running = False\n",
    "    else:\n",
    "        ani.event_source.start()\n",
    "        anim_running = True\n",
    "\n",
    "line, = ax.plot(rList, g2_time_avg[0])\n",
    "title = ax.set_title('Test, time=0')\n",
    "\n",
    "def animate(frame):\n",
    "    line.set_ydata(g2_time_avg[frame])  # update the data.\n",
    "    title.set_text('Test, time={}'.format(frame))\n",
    "    ax.set_ylim(-1, max(g2_r_avg[frame]) + 4)\n",
    "    return line, \n",
    "\n",
    "fig.canvas.mpl_connect('button_press_event', onClick)\n",
    "ani = matplotlib.animation.FuncAnimation(fig, animate, range(25000, nFrames), interval=2, blit=False)\n",
    "#ani.save(f'/Users/matteoscandola/thesisData/rolled2.mp4', writer=writervideo)\n",
    "#plt.show()"
   ]
  },
  {
   "cell_type": "code",
   "execution_count": null,
   "id": "132b5c38",
   "metadata": {},
   "outputs": [],
   "source": [
    "rmax = np.zeros(nFrames)\n",
    "rmax_roll = np.zeros(nFrames)\n",
    "\n",
    "rMin = 450\n",
    "\n",
    "for i in range(nFrames):\n",
    "    rmax[i] = rList[np.where(g_2[i]==0)[0][np.where(g_2[i]==0)[0]>rMin][0]]\n",
    "    rmax_roll[i] = rList[np.where(g_2_roll[i]==0)[0][np.where(g_2_roll[i]==0)[0]>rMin][0]]\n",
    "    \n",
    "framesList = np.arange(0, nFrames, 1)\n",
    "\n",
    "fig, (ax, ax1) = plt.subplots(1, 2)\n",
    "\n",
    "ax.plot(framesList, rmax)\n",
    "ax1.plot(framesList, rmax_roll)\n",
    "\n",
    "ax.set_title(\"$R_{max}$\")\n",
    "ax1.set_title(\"Moving average $R_{max}$\")\n",
    "plt.show()"
   ]
  },
  {
   "attachments": {},
   "cell_type": "markdown",
   "id": "a7abf6a8",
   "metadata": {},
   "source": [
    "## from centre"
   ]
  },
  {
   "cell_type": "code",
   "execution_count": 33,
   "id": "e729f1b7",
   "metadata": {},
   "outputs": [],
   "source": [
    "dr = 20\n",
    "rDisk = 822/2\n",
    "rList = np.arange(0, rDisk, 1)\n",
    "rho = nDrops/(np.pi*rDisk**2) # nDrops -1 !\n",
    "\n",
    "COORDS = np.array(rawTrajs.loc[:,[\"x\",\"y\"]])\n",
    "\n",
    "#centre of the image --> to refine\n",
    "r_c = [470, 490]"
   ]
  },
  {
   "cell_type": "code",
   "execution_count": 34,
   "id": "dfff4b86",
   "metadata": {},
   "outputs": [],
   "source": [
    "@joblib.delayed\n",
    "def rdf_from_centre(frame, COORDS, r_c, rList, dr, rho):\n",
    "    coords = COORDS[frame*nDrops:(frame+1)*nDrops,:]\n",
    "    kd = KDTree(coords)\n",
    "\n",
    "    avg_n = np.zeros(len(rList))\n",
    "    for i, r in enumerate(rList):\n",
    "        # find all the points within r+dr\n",
    "        a = kd.query_ball_point(r_c, r + dr)\n",
    "        n1 = len(a) \n",
    "        # find all the points within r+dr\n",
    "        b = kd.query_ball_point(r_c, r)\n",
    "        n2 = len(b)\n",
    "        \n",
    "        avg_n[i] = n1 - n2\n",
    "\n",
    "    g2 = avg_n/(np.pi*(dr**2 + 2*rList*dr)*rho)\n",
    "    return g2"
   ]
  },
  {
   "cell_type": "code",
   "execution_count": 35,
   "id": "5107678c",
   "metadata": {},
   "outputs": [
    {
     "name": "stderr",
     "output_type": "stream",
     "text": [
      " 57%|█████▋    | 18399/32000 [02:11<01:37, 140.03it/s]/Users/matteoscandola/miniconda3/envs/pyenv3/lib/python3.10/site-packages/matplotlib/animation.py:887: UserWarning: Animation was deleted without rendering anything. This is most likely not intended. To prevent deletion, assign the Animation to a variable, e.g. `anim`, that exists until you have outputted the Animation using `plt.show()` or `anim.save()`.\n",
      "  warnings.warn(\n",
      "100%|██████████| 32000/32000 [03:44<00:00, 142.72it/s]\n"
     ]
    }
   ],
   "source": [
    "parallel = joblib.Parallel(n_jobs = -2)\n",
    "frames = nFrames\n",
    "trial = parallel(\n",
    "    rdf_from_centre(frame, COORDS, r_c, rList, dr, rho)\n",
    "    for frame in tqdm( range(frames) )\n",
    ")\n",
    "trial = np.array(trial)"
   ]
  },
  {
   "cell_type": "code",
   "execution_count": 37,
   "id": "f183c6d8",
   "metadata": {},
   "outputs": [
    {
     "name": "stderr",
     "output_type": "stream",
     "text": [
      "17:58:03 [INFO] Animation.save using <class 'matplotlib.animation.FFMpegWriter'>\n",
      "17:58:03 [INFO] MovieWriter._run: running command: ffmpeg -f rawvideo -vcodec rawvideo -s 640x480 -pix_fmt rgba -r 60 -loglevel error -i pipe: -vcodec h264 -pix_fmt yuv420p -vcodec libx264 -y ../results/video/rdf_from_centre2.mp4\n"
     ]
    },
    {
     "ename": "KeyboardInterrupt",
     "evalue": "",
     "output_type": "error",
     "traceback": [
      "\u001b[0;31m---------------------------------------------------------------------------\u001b[0m",
      "\u001b[0;31mKeyboardInterrupt\u001b[0m                         Traceback (most recent call last)",
      "Cell \u001b[0;32mIn [37], line 24\u001b[0m\n\u001b[1;32m     22\u001b[0m fig\u001b[39m.\u001b[39mcanvas\u001b[39m.\u001b[39mmpl_connect(\u001b[39m'\u001b[39m\u001b[39mbutton_press_event\u001b[39m\u001b[39m'\u001b[39m, onClick)\n\u001b[1;32m     23\u001b[0m ani \u001b[39m=\u001b[39m matplotlib\u001b[39m.\u001b[39manimation\u001b[39m.\u001b[39mFuncAnimation(fig, animate, \u001b[39mrange\u001b[39m(\u001b[39m0\u001b[39m, frames), interval\u001b[39m=\u001b[39m\u001b[39m5\u001b[39m, blit\u001b[39m=\u001b[39m\u001b[39mFalse\u001b[39;00m)\n\u001b[0;32m---> 24\u001b[0m ani\u001b[39m.\u001b[39;49msave(\u001b[39m'\u001b[39;49m\u001b[39m../results/video/rdf_from_centre2.mp4\u001b[39;49m\u001b[39m'\u001b[39;49m, fps\u001b[39m=\u001b[39;49m\u001b[39m60\u001b[39;49m, extra_args\u001b[39m=\u001b[39;49m[\u001b[39m'\u001b[39;49m\u001b[39m-vcodec\u001b[39;49m\u001b[39m'\u001b[39;49m, \u001b[39m'\u001b[39;49m\u001b[39mlibx264\u001b[39;49m\u001b[39m'\u001b[39;49m])\n\u001b[1;32m     25\u001b[0m plt\u001b[39m.\u001b[39mclose()\n",
      "File \u001b[0;32m~/miniconda3/envs/pyenv3/lib/python3.10/site-packages/matplotlib/animation.py:1093\u001b[0m, in \u001b[0;36mAnimation.save\u001b[0;34m(self, filename, writer, fps, dpi, codec, bitrate, extra_args, metadata, extra_anim, savefig_kwargs, progress_callback)\u001b[0m\n\u001b[1;32m   1091\u001b[0m         progress_callback(frame_number, total_frames)\n\u001b[1;32m   1092\u001b[0m         frame_number \u001b[39m+\u001b[39m\u001b[39m=\u001b[39m \u001b[39m1\u001b[39m\n\u001b[0;32m-> 1093\u001b[0m writer\u001b[39m.\u001b[39;49mgrab_frame(\u001b[39m*\u001b[39;49m\u001b[39m*\u001b[39;49msavefig_kwargs)\n",
      "File \u001b[0;32m~/miniconda3/envs/pyenv3/lib/python3.10/site-packages/matplotlib/animation.py:351\u001b[0m, in \u001b[0;36mMovieWriter.grab_frame\u001b[0;34m(self, **savefig_kwargs)\u001b[0m\n\u001b[1;32m    349\u001b[0m \u001b[39mself\u001b[39m\u001b[39m.\u001b[39mfig\u001b[39m.\u001b[39mset_size_inches(\u001b[39mself\u001b[39m\u001b[39m.\u001b[39m_w, \u001b[39mself\u001b[39m\u001b[39m.\u001b[39m_h)\n\u001b[1;32m    350\u001b[0m \u001b[39m# Save the figure data to the sink, using the frame format and dpi.\u001b[39;00m\n\u001b[0;32m--> 351\u001b[0m \u001b[39mself\u001b[39;49m\u001b[39m.\u001b[39;49mfig\u001b[39m.\u001b[39;49msavefig(\u001b[39mself\u001b[39;49m\u001b[39m.\u001b[39;49m_proc\u001b[39m.\u001b[39;49mstdin, \u001b[39mformat\u001b[39;49m\u001b[39m=\u001b[39;49m\u001b[39mself\u001b[39;49m\u001b[39m.\u001b[39;49mframe_format,\n\u001b[1;32m    352\u001b[0m                  dpi\u001b[39m=\u001b[39;49m\u001b[39mself\u001b[39;49m\u001b[39m.\u001b[39;49mdpi, \u001b[39m*\u001b[39;49m\u001b[39m*\u001b[39;49msavefig_kwargs)\n",
      "File \u001b[0;32m~/miniconda3/envs/pyenv3/lib/python3.10/site-packages/matplotlib/figure.py:3046\u001b[0m, in \u001b[0;36mFigure.savefig\u001b[0;34m(self, fname, transparent, **kwargs)\u001b[0m\n\u001b[1;32m   3042\u001b[0m     \u001b[39mfor\u001b[39;00m ax \u001b[39min\u001b[39;00m \u001b[39mself\u001b[39m\u001b[39m.\u001b[39maxes:\n\u001b[1;32m   3043\u001b[0m         stack\u001b[39m.\u001b[39menter_context(\n\u001b[1;32m   3044\u001b[0m             ax\u001b[39m.\u001b[39mpatch\u001b[39m.\u001b[39m_cm_set(facecolor\u001b[39m=\u001b[39m\u001b[39m'\u001b[39m\u001b[39mnone\u001b[39m\u001b[39m'\u001b[39m, edgecolor\u001b[39m=\u001b[39m\u001b[39m'\u001b[39m\u001b[39mnone\u001b[39m\u001b[39m'\u001b[39m))\n\u001b[0;32m-> 3046\u001b[0m \u001b[39mself\u001b[39;49m\u001b[39m.\u001b[39;49mcanvas\u001b[39m.\u001b[39;49mprint_figure(fname, \u001b[39m*\u001b[39;49m\u001b[39m*\u001b[39;49mkwargs)\n",
      "File \u001b[0;32m~/miniconda3/envs/pyenv3/lib/python3.10/site-packages/matplotlib/backend_bases.py:2319\u001b[0m, in \u001b[0;36mFigureCanvasBase.print_figure\u001b[0;34m(self, filename, dpi, facecolor, edgecolor, orientation, format, bbox_inches, pad_inches, bbox_extra_artists, backend, **kwargs)\u001b[0m\n\u001b[1;32m   2315\u001b[0m \u001b[39mtry\u001b[39;00m:\n\u001b[1;32m   2316\u001b[0m     \u001b[39m# _get_renderer may change the figure dpi (as vector formats\u001b[39;00m\n\u001b[1;32m   2317\u001b[0m     \u001b[39m# force the figure dpi to 72), so we need to set it again here.\u001b[39;00m\n\u001b[1;32m   2318\u001b[0m     \u001b[39mwith\u001b[39;00m cbook\u001b[39m.\u001b[39m_setattr_cm(\u001b[39mself\u001b[39m\u001b[39m.\u001b[39mfigure, dpi\u001b[39m=\u001b[39mdpi):\n\u001b[0;32m-> 2319\u001b[0m         result \u001b[39m=\u001b[39m print_method(\n\u001b[1;32m   2320\u001b[0m             filename,\n\u001b[1;32m   2321\u001b[0m             facecolor\u001b[39m=\u001b[39;49mfacecolor,\n\u001b[1;32m   2322\u001b[0m             edgecolor\u001b[39m=\u001b[39;49medgecolor,\n\u001b[1;32m   2323\u001b[0m             orientation\u001b[39m=\u001b[39;49morientation,\n\u001b[1;32m   2324\u001b[0m             bbox_inches_restore\u001b[39m=\u001b[39;49m_bbox_inches_restore,\n\u001b[1;32m   2325\u001b[0m             \u001b[39m*\u001b[39;49m\u001b[39m*\u001b[39;49mkwargs)\n\u001b[1;32m   2326\u001b[0m \u001b[39mfinally\u001b[39;00m:\n\u001b[1;32m   2327\u001b[0m     \u001b[39mif\u001b[39;00m bbox_inches \u001b[39mand\u001b[39;00m restore_bbox:\n",
      "File \u001b[0;32m~/miniconda3/envs/pyenv3/lib/python3.10/site-packages/matplotlib/backend_bases.py:1648\u001b[0m, in \u001b[0;36m_check_savefig_extra_args.<locals>.wrapper\u001b[0;34m(*args, **kwargs)\u001b[0m\n\u001b[1;32m   1640\u001b[0m     _api\u001b[39m.\u001b[39mwarn_deprecated(\n\u001b[1;32m   1641\u001b[0m         \u001b[39m'\u001b[39m\u001b[39m3.3\u001b[39m\u001b[39m'\u001b[39m, name\u001b[39m=\u001b[39mname, removal\u001b[39m=\u001b[39m\u001b[39m'\u001b[39m\u001b[39m3.6\u001b[39m\u001b[39m'\u001b[39m,\n\u001b[1;32m   1642\u001b[0m         message\u001b[39m=\u001b[39m\u001b[39m'\u001b[39m\u001b[39m%(name)s\u001b[39;00m\u001b[39m() got unexpected keyword argument \u001b[39m\u001b[39m\"\u001b[39m\u001b[39m'\u001b[39m\n\u001b[1;32m   1643\u001b[0m                 \u001b[39m+\u001b[39m arg \u001b[39m+\u001b[39m \u001b[39m'\u001b[39m\u001b[39m\"\u001b[39m\u001b[39m which is no longer supported as of \u001b[39m\u001b[39m'\u001b[39m\n\u001b[1;32m   1644\u001b[0m                 \u001b[39m'\u001b[39m\u001b[39m%(since)s\u001b[39;00m\u001b[39m and will become an error \u001b[39m\u001b[39m'\u001b[39m\n\u001b[1;32m   1645\u001b[0m                 \u001b[39m'\u001b[39m\u001b[39m%(removal)s\u001b[39;00m\u001b[39m'\u001b[39m)\n\u001b[1;32m   1646\u001b[0m     kwargs\u001b[39m.\u001b[39mpop(arg)\n\u001b[0;32m-> 1648\u001b[0m \u001b[39mreturn\u001b[39;00m func(\u001b[39m*\u001b[39;49margs, \u001b[39m*\u001b[39;49m\u001b[39m*\u001b[39;49mkwargs)\n",
      "File \u001b[0;32m~/miniconda3/envs/pyenv3/lib/python3.10/site-packages/matplotlib/_api/deprecation.py:415\u001b[0m, in \u001b[0;36mdelete_parameter.<locals>.wrapper\u001b[0;34m(*inner_args, **inner_kwargs)\u001b[0m\n\u001b[1;32m    405\u001b[0m     deprecation_addendum \u001b[39m=\u001b[39m (\n\u001b[1;32m    406\u001b[0m         \u001b[39mf\u001b[39m\u001b[39m\"\u001b[39m\u001b[39mIf any parameter follows \u001b[39m\u001b[39m{\u001b[39;00mname\u001b[39m!r}\u001b[39;00m\u001b[39m, they should be passed as \u001b[39m\u001b[39m\"\u001b[39m\n\u001b[1;32m    407\u001b[0m         \u001b[39mf\u001b[39m\u001b[39m\"\u001b[39m\u001b[39mkeyword, not positionally.\u001b[39m\u001b[39m\"\u001b[39m)\n\u001b[1;32m    408\u001b[0m     warn_deprecated(\n\u001b[1;32m    409\u001b[0m         since,\n\u001b[1;32m    410\u001b[0m         name\u001b[39m=\u001b[39m\u001b[39mrepr\u001b[39m(name),\n\u001b[0;32m   (...)\u001b[0m\n\u001b[1;32m    413\u001b[0m                  \u001b[39melse\u001b[39;00m deprecation_addendum,\n\u001b[1;32m    414\u001b[0m         \u001b[39m*\u001b[39m\u001b[39m*\u001b[39mkwargs)\n\u001b[0;32m--> 415\u001b[0m \u001b[39mreturn\u001b[39;00m func(\u001b[39m*\u001b[39;49minner_args, \u001b[39m*\u001b[39;49m\u001b[39m*\u001b[39;49minner_kwargs)\n",
      "File \u001b[0;32m~/miniconda3/envs/pyenv3/lib/python3.10/site-packages/matplotlib/backends/backend_agg.py:486\u001b[0m, in \u001b[0;36mFigureCanvasAgg.print_raw\u001b[0;34m(self, filename_or_obj, *args)\u001b[0m\n\u001b[1;32m    484\u001b[0m renderer \u001b[39m=\u001b[39m \u001b[39mself\u001b[39m\u001b[39m.\u001b[39mget_renderer()\n\u001b[1;32m    485\u001b[0m \u001b[39mwith\u001b[39;00m cbook\u001b[39m.\u001b[39mopen_file_cm(filename_or_obj, \u001b[39m\"\u001b[39m\u001b[39mwb\u001b[39m\u001b[39m\"\u001b[39m) \u001b[39mas\u001b[39;00m fh:\n\u001b[0;32m--> 486\u001b[0m     fh\u001b[39m.\u001b[39;49mwrite(renderer\u001b[39m.\u001b[39;49mbuffer_rgba())\n",
      "\u001b[0;31mKeyboardInterrupt\u001b[0m: "
     ]
    },
    {
     "data": {
      "application/vnd.jupyter.widget-view+json": {
       "model_id": "8f426876c17046659025e3b4982996ad",
       "version_major": 2,
       "version_minor": 0
      },
      "image/png": "[encoded data removed]",
      "text/html": [
       "\n",
       "            <div style=\"display: inline-block;\">\n",
       "                <div class=\"jupyter-widgets widget-label\" style=\"text-align: center;\">\n",
       "                    Figure\n",
       "                </div>\n",
       "                <img src='data:image/png;base64,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' width=640.0/>\n",
       "            </div>\n",
       "        "
      ],
      "text/plain": [
       "Canvas(toolbar=Toolbar(toolitems=[('Home', 'Reset original view', 'home', 'home'), ('Back', 'Back to previous …"
      ]
     },
     "metadata": {},
     "output_type": "display_data"
    }
   ],
   "source": [
    "fig, ax = plt.subplots()\n",
    "anim_running = True\n",
    "\n",
    "def onClick(event):\n",
    "    global anim_running\n",
    "    if anim_running:\n",
    "        ani.event_source.stop()\n",
    "        anim_running = False\n",
    "    else:\n",
    "        ani.event_source.start()\n",
    "        anim_running = True\n",
    "\n",
    "line, = ax.plot(rList, trial[0])\n",
    "title = ax.set_title('Test, time=0')\n",
    "ax.set_ylim(-1, 10)\n",
    "\n",
    "def animate(frame):\n",
    "    line.set_ydata(trial[frame])  # update the data.\n",
    "    title.set_text('Test, time={}'.format(frame))\n",
    "    return line, \n",
    "\n",
    "fig.canvas.mpl_connect('button_press_event', onClick)\n",
    "ani = matplotlib.animation.FuncAnimation(fig, animate, range(0, frames), interval=5, blit=False)\n",
    "ani.save('../results/video/rdf_from_centre2.mp4', fps=60, extra_args=['-vcodec', 'libx264'])\n",
    "plt.close()"
   ]
  },
  {
   "cell_type": "code",
   "execution_count": null,
   "id": "a9b6fd3a",
   "metadata": {},
   "outputs": [],
   "source": [
    "g2_centre = np.array(pd.read_parquet(\"../data/csv/ref_centre.parquet\"))"
   ]
  },
  {
   "cell_type": "code",
   "execution_count": null,
   "id": "fefe7819",
   "metadata": {},
   "outputs": [],
   "source": [
    "g_plot = g2_centre[::30, :].T\n",
    "\n",
    "timearr = np.linspace(0, 30000, 5)/10\n",
    "timearr = timearr.astype(int)\n",
    "\n",
    "fig, ax = plt.subplots(1, 1, figsize=(8,6))\n",
    "img = ax.imshow(np.log(1 + g_plot))\n",
    "ax.set_xticks(np.linspace(0, g_plot.shape[1], 5))\n",
    "ax.set_yticks(np.linspace(0, g_plot.shape[0], 5))\n",
    "ax.set_xticklabels(timearr)\n",
    "ax.set_yticklabels(np.linspace(0, 2*rDisk, 5).astype(int))\n",
    "ax.set_aspect(.6)\n",
    "fig.colorbar(img)\n",
    "plt.xlabel(\"Time [s]\")\n",
    "plt.ylabel(\"r [px]\")\n",
    "plt.title(\"$Log(1 + g_2)$ heatmap \")\n",
    "plt.show()"
   ]
  },
  {
   "cell_type": "code",
   "execution_count": null,
   "id": "cee4ee14",
   "metadata": {},
   "outputs": [],
   "source": [
    "frame = 0\n",
    "coords = COORDS[frame*nDrops:(frame+1)*nDrops,:]\n",
    "kd = KDTree(coords)"
   ]
  },
  {
   "cell_type": "code",
   "execution_count": null,
   "id": "a405a303",
   "metadata": {},
   "outputs": [],
   "source": [
    "coords = COORDS[frame*nDrops:(frame+1)*nDrops,:]\n",
    "kd = KDTree(coords)\n",
    "\n",
    "r = 100\n",
    "a = kd.query_ball_point(centre, r + 20)\n",
    "b = kd.query_ball_point(centre, r)\n",
    "print(a)\n",
    "print('\\n')\n",
    "print(b)\n",
    "n1 = len(a)\n",
    "n2 = len(b)\n",
    "\n",
    "resu = n1-n2\n",
    "print(resu)"
   ]
  },
  {
   "cell_type": "code",
   "execution_count": null,
   "id": "6af9d87d",
   "metadata": {},
   "outputs": [],
   "source": [
    "frame = 0\n",
    "covMatrix = np.cov(COORDS[frame*nDrops:(frame+1)*nDrops,:])\n",
    "trace_of_covMatrix = np.trace(covMatrix)\n",
    "eigenvalues, _ = np.linalg.eigh(covMatrix)\n",
    "#eigenvalues = np.sort(eigenvalues)[::-1]\n",
    "#diagCovMatrix = np.diag(eigenvalues)\n",
    "info = np.zeros(len(eigenvalues))\n",
    "for i in range(len(eigenvalues)):\n",
    "    info[i] = np.sum(np.sum(eigenvalues[:i]))\n",
    "info /= trace_of_covMatrix"
   ]
  }
 ],
 "metadata": {
  "kernelspec": {
   "display_name": "pyenv3",
   "language": "python",
   "name": "python3"
  },
  "language_info": {
   "codemirror_mode": {
    "name": "ipython",
    "version": 3
   },
   "file_extension": ".py",
   "mimetype": "text/x-python",
   "name": "python",
   "nbconvert_exporter": "python",
   "pygments_lexer": "ipython3",
   "version": "3.10.6"
  },
  "vscode": {
   "interpreter": {
    "hash": "cda584d4033b4fbc423661afef9f2afe920081905f188573e835f76abdc60dee"
   }
  }
 },
 "nbformat": 4,
 "nbformat_minor": 5
}
