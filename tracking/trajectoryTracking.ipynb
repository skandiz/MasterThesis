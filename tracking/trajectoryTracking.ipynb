{
 "cells": [
  {
   "cell_type": "code",
   "execution_count": 1,
   "id": "00e32dc7",
   "metadata": {
    "tags": []
   },
   "outputs": [],
   "source": [
    "import matplotlib as mpl\n",
    "import matplotlib.pyplot as plt\n",
    "%matplotlib ipympl\n",
    "plt.rcParams['figure.figsize'] = [10, 4]\n",
    "mpl.rc('image', cmap='gray')\n",
    "import matplotlib.animation\n",
    "writervideo = matplotlib.animation.FFMpegWriter(fps=30)\n",
    "\n",
    "import numpy as np\n",
    "import pandas as pd\n",
    "\n",
    "import pims\n",
    "import trackpy as tp\n",
    "tp.quiet()\n",
    "from PIL import Image, ImageDraw\n",
    "import cv2\n",
    "\n",
    "from tqdm import tqdm\n",
    "import joblib\n",
    "\n",
    "from scipy.spatial import distance_matrix\n",
    "from scipy.ndimage import uniform_filter1d\n",
    "\n",
    "import random\n",
    "\n",
    "run_analysis_verb = False\n",
    "show_verb = True\n",
    "save_verb = True"
   ]
  },
  {
   "cell_type": "markdown",
   "id": "8044e885",
   "metadata": {
    "jp-MarkdownHeadingCollapsed": true,
    "tags": []
   },
   "source": [
    "# PRE PROCESSING"
   ]
  },
  {
   "cell_type": "code",
   "execution_count": null,
   "id": "8e46a58c",
   "metadata": {},
   "outputs": [],
   "source": [
    "@pims.pipeline\n",
    "def crop(image, x1, y1, x2, y2):    \n",
    "    npImage = np.array(image)\n",
    "    # Create same size alpha layer with circle\n",
    "    #alpha = Image.new('L', (920, 960), 0)\n",
    "    alpha = Image.new('L', (920, 960), 0)\n",
    "\n",
    "    draw = ImageDraw.Draw(alpha)\n",
    "    draw.pieslice(((x1, y1), (x2, y2)), 0, 360, fill=255)\n",
    "\n",
    "    # Convert alpha Image to numpy arrayf\n",
    "    npAlpha = np.array(alpha)\n",
    "    npImage = npImage[:, :, 1] * npAlpha\n",
    "    \n",
    "    ind = np.where(npImage == 0)\n",
    "    # npImage[200, 200] color of the border to swap with the black\n",
    "    npImage[ind] = npImage[200, 200]\n",
    "    return npImage"
   ]
  },
  {
   "cell_type": "code",
   "execution_count": null,
   "id": "f024ea16",
   "metadata": {},
   "outputs": [],
   "source": [
    "data = crop(pims.open('./data/movie.mp4'), 55, 55, 880, 880)\n",
    "data_ref = pims.open('./data/movie.mp4')"
   ]
  },
  {
   "cell_type": "code",
   "execution_count": null,
   "id": "0bd5fac4",
   "metadata": {},
   "outputs": [],
   "source": [
    "fig, (ax1, ax2) = plt.subplots(1, 2)\n",
    "ax1.imshow(data[0])\n",
    "ax2.imshow(data_ref[0])\n",
    "plt.tight_layout()\n",
    "if save_verb: plt.savefig('./results/pre_processing.png', bbox_inches='tight')\n",
    "if 1: \n",
    "    plt.show()\n",
    "else:\n",
    "    plt.close()"
   ]
  },
  {
   "cell_type": "markdown",
   "id": "e3b7f592",
   "metadata": {
    "jp-MarkdownHeadingCollapsed": true,
    "tags": []
   },
   "source": [
    "# TRACKING "
   ]
  },
  {
   "cell_type": "code",
   "execution_count": null,
   "id": "d0181830",
   "metadata": {},
   "outputs": [],
   "source": [
    "# parameters of the tracking\n",
    "dropSize = 31  \n",
    "minMass = 2000\n",
    "sep = 16\n",
    "nDrops = 50"
   ]
  },
  {
   "cell_type": "code",
   "execution_count": null,
   "id": "3a8faa4f",
   "metadata": {},
   "outputs": [],
   "source": [
    "# FEATURES LOCATION\n",
    "nFrames = 100 # total number of frames of video --> len(data)\n",
    "startFrame = 0\n",
    "endFrame = startFrame + nFrames\n",
    "\n",
    "f = tp.batch(data[startFrame:endFrame], dropSize, minmass = minMass, separation = sep, topn = nDrops, engine = 'numba')    \n",
    "display(f)"
   ]
  },
  {
   "cell_type": "code",
   "execution_count": null,
   "id": "782d5021",
   "metadata": {},
   "outputs": [],
   "source": [
    "# ANOMALIES DETECTION\n",
    "\n",
    "num = np.zeros(nFrames)\n",
    "for i in range(nFrames):\n",
    "    num[i] = len(f.loc[f['frame'] == i])\n",
    "\n",
    "idx = np.where(num != nDrops)[0]\n",
    "print(idx)\n",
    "\n",
    "if len(idx) != 0:\n",
    "    delta = np.zeros(len(idx)-1)\n",
    "    for i in range(len(idx)-1):\n",
    "        delta[i] = idx[i+1]-idx[i]\n",
    "    print(delta)"
   ]
  },
  {
   "cell_type": "code",
   "execution_count": null,
   "id": "a0452d54",
   "metadata": {},
   "outputs": [],
   "source": [
    "# FEATURES LINKING\n",
    "\"\"\" f : DataFrame\n",
    "    The DataFrame must include any number of column(s) for position and a\n",
    "    column of frame numbers. By default, 'x' and 'y' are expected for\n",
    "    position, and 'frame' is expected for frame number. See below for\n",
    "    options to use custom column names.\n",
    "search_range : float or tuple\n",
    "    the maximum distance features can move between frames,\n",
    "    optionally per dimension\n",
    "pos_columns : list of str, optional\n",
    "    Default is ['y', 'x'], or ['z', 'y', 'x'] when 'z' is present in f\n",
    "t_column : str, optional\n",
    "    Default is 'frame'\n",
    "memory : integer, optional\n",
    "    the maximum number of frames during which a feature can vanish\n",
    "\"\"\"\n",
    "\n",
    "t = tp.link_df(f, 150, memory = 2, link_strategy = 'hybrid', neighbor_strategy = 'KDTree', adaptive_stop = 1)\n",
    "display(t)"
   ]
  },
  {
   "cell_type": "code",
   "execution_count": null,
   "id": "99ab8dcd",
   "metadata": {},
   "outputs": [],
   "source": [
    "n = max(t.particle)\n",
    "print(n)\n",
    "random.seed(5)\n",
    "colors = [\"#\"+''.join([random.choice('0123456789ABCDEF') for j in range(6)]) for i in range(n)]\n",
    "for i in range(max(t.particle)+1-n):\n",
    "    colors.append(\"#00FFFF\")\n",
    "c = []\n",
    "for p in t.particle:\n",
    "    c.append(colors[p])\n",
    "t[\"color\"] = c\n"
   ]
  },
  {
   "cell_type": "code",
   "execution_count": null,
   "id": "06a18d1a",
   "metadata": {},
   "outputs": [],
   "source": [
    "lost_particles = []\n",
    "for i in range(nFrames-1):\n",
    "    a = t.loc[t.frame == i].sort_values('particle').particle.values\n",
    "    b = t.loc[t.frame == i+1].sort_values('particle').particle.values\n",
    "    ind = np.where(np.in1d(a, b)==False)[0]\n",
    "    if ind.size > 0:\n",
    "        lost_particles.append([i, a[ind]])\n",
    "\n",
    "print(\"Total problems:\", len(lost_particles))\n",
    "if len(lost_particles) > 0: \n",
    "    print(f\"First failure occurred at frame {lost_particles[0][0]}\")\n",
    "    f1 = lost_particles[0][0]\n",
    "    f2 = lost_particles[0][0]+1\n",
    "    print(t.loc[t.frame == f1].sort_values('particle').particle.values)\n",
    "    print(t.loc[t.frame == f2].sort_values('particle').particle.values)"
   ]
  },
  {
   "cell_type": "code",
   "execution_count": null,
   "id": "86195d86",
   "metadata": {
    "scrolled": true
   },
   "outputs": [],
   "source": [
    "if len(lost_particles)>0: \n",
    "    fig, (ax, ax1) = plt.subplots(1, 2)\n",
    "    df = t.loc[t['frame'] == f1, [\"x\", \"y\", \"color\", \"particle\"]]\n",
    "    ax.scatter(df.x, df.y, s=50, ec = \"w\", facecolor = df.color)\n",
    "    #ax.scatter(df.loc[df.particle==43].x, df.loc[df.particle==43].y, s=100)\n",
    "    #ax.scatter(df.loc[df.particle==82].x, df.loc[df.particle==82].y, s=100)\n",
    "    ax.imshow(data[f1])\n",
    "\n",
    "    df1 = t.loc[t['frame'] == f2, [\"x\", \"y\", \"color\"]]\n",
    "    ax1.scatter(df1.x, df1.y, s=50, ec = \"w\", facecolor = df1.color)\n",
    "    ax1.imshow(data[f2])\n",
    "\n",
    "    plt.show()"
   ]
  },
  {
   "cell_type": "code",
   "execution_count": null,
   "id": "d05cf221",
   "metadata": {},
   "outputs": [],
   "source": []
  },
  {
   "cell_type": "code",
   "execution_count": null,
   "id": "bf08a491",
   "metadata": {},
   "outputs": [],
   "source": [
    "t1 = tp.filter_stubs(t, nFrames/2)\n",
    "# Compare the number of particles in the unfiltered and filtered data.\n",
    "print('Before:', t['particle'].nunique())\n",
    "print('After:', t1['particle'].nunique())"
   ]
  },
  {
   "cell_type": "code",
   "execution_count": null,
   "id": "044bd424",
   "metadata": {},
   "outputs": [],
   "source": [
    "df = rawTrajs.loc[(rawTrajs.frame == 0) , [\"x\", \"y\", \"color\"]]\n",
    "fig, ax = plt.subplots(1,1)\n",
    "ax.scatter(df.x, df.y, facecolors = 'none', edgecolors = df.color, s = 150)\n",
    "ax.imshow(data[0])\n",
    "if save_verb: plt.savefig(\"../results/location_example.png\",  bbox_inches='tight')\n",
    "if show_verb: \n",
    "    plt.show()\n",
    "else:\n",
    "    plt.close()\n",
    "\n",
    "fig = plt.figure()\n",
    "anim_running = True\n",
    "\n",
    "def onClick(event):\n",
    "    global anim_running\n",
    "    if anim_running:\n",
    "        ani.event_source.stop()\n",
    "        anim_running = False\n",
    "    else:\n",
    "        ani.event_source.start()\n",
    "        anim_running = True\n",
    "\n",
    "def update_graph(frame):\n",
    "    df = rawTrajs.loc[(rawTrajs.frame == frame) & (rawTrajs.particle == red_particle_idx) , [\"x\",\"y\",\"color\"]]\n",
    "    graph.set_offsets(df)\n",
    "    graph.set_edgecolor(df.color)\n",
    "    graph2.set_data(data[frame])\n",
    "    title.set_text('frame = {}'.format(frame))\n",
    "    return graph\n",
    "\n",
    "ax = fig.add_subplot(111)\n",
    "title = ax.set_title('frame = 0')\n",
    "df = rawTrajs.loc[(rawTrajs.frame == 0) & (rawTrajs.particle == red_particle_idx), [\"x\",\"y\",\"color\"]]\n",
    "\n",
    "graph = ax.scatter(df.x, df.y, facecolors = 'none', edgecolors = df.color, s = 150)\n",
    "\n",
    "graph2 = ax.imshow(data[0])\n",
    "\n",
    "fig.canvas.mpl_connect('button_press_event', onClick)\n",
    "ani = matplotlib.animation.FuncAnimation(fig, update_graph, 100, interval = 5, blit=False)\n",
    "if 0: ani.save('../results/video/tracking.mp4', fps=30, extra_args=['-vcodec', 'libx264'])\n",
    "if anim_show_verb:\n",
    "    plt.show()\n",
    "else:\n",
    "    plt.close()\n"
   ]
  },
  {
   "attachments": {},
   "cell_type": "markdown",
   "id": "ec4587f9",
   "metadata": {},
   "source": [
    "# post merge tracking"
   ]
  },
  {
   "cell_type": "code",
   "execution_count": null,
   "id": "bf54c30f",
   "metadata": {},
   "outputs": [],
   "source": [
    "# parameters of the tracking\n",
    "dropSize = 31  \n",
    "minMass = 2000\n",
    "sep = 16\n",
    "nDrops = 49\n",
    "\n",
    "# FEATURES LOCATION\n",
    "nFrames = 100 # total number of frames of video --> len(data)\n",
    "startFrame = 32269 + 100\n",
    "endFrame = startFrame + nFrames"
   ]
  },
  {
   "cell_type": "code",
   "execution_count": null,
   "id": "d5224e6c",
   "metadata": {},
   "outputs": [],
   "source": [
    "data_preload = list(data[startFrame:])"
   ]
  },
  {
   "cell_type": "code",
   "execution_count": null,
   "id": "c457a825",
   "metadata": {},
   "outputs": [],
   "source": [
    "f = tp.batch(data_preload[:1000], dropSize, minmass = minMass, separation = sep, topn = nDrops, engine = 'numba')    \n",
    "f.frame = f.frame + startFrame"
   ]
  },
  {
   "cell_type": "code",
   "execution_count": null,
   "id": "3e75fc0b",
   "metadata": {},
   "outputs": [],
   "source": [
    "num = np.zeros(1000)\n",
    "for i in range(1000):\n",
    "    num[i] = len(f.loc[f['frame'] == i + startFrame])\n",
    "\n",
    "idx = np.where(num != nDrops)[0]\n",
    "print(idx)\n",
    "if len(idx) != 0:\n",
    "    delta = np.zeros(len(idx)-1)\n",
    "    for i in range(len(idx)-1):\n",
    "        delta[i] = idx[i+1]-idx[i]\n",
    "    print(delta)\n",
    "\n",
    "t = tp.link_df(f, 50, memory = 2, link_strategy = 'hybrid', neighbor_strategy = 'KDTree', adaptive_stop = 1)\n",
    "t = tp.filter_stubs(t, 50)\n",
    "# ANOMALIES DETECTION\n",
    "n = max(t.particle)\n",
    "print(n)\n",
    "random.seed(5)\n",
    "colors = [\"#\"+''.join([random.choice('0123456789ABCDEF') for j in range(6)]) for i in range(n)]\n",
    "for i in range(max(t.particle)+1-n):\n",
    "    colors.append(\"#00FFFF\")\n",
    "c = []\n",
    "for p in t.particle:\n",
    "    c.append(colors[p])\n",
    "t[\"color\"] = c\n",
    "\n",
    "display(t)"
   ]
  },
  {
   "cell_type": "code",
   "execution_count": null,
   "id": "8cfa4421",
   "metadata": {},
   "outputs": [],
   "source": [
    "df = t.loc[(t.frame == startFrame+100) , [\"x\", \"y\", \"color\"]]\n",
    "fig, ax = plt.subplots(1, 1)\n",
    "ax.scatter(df.x, df.y, facecolors = 'none', edgecolors = df.color, s = 50)\n",
    "ax.imshow(data_preload[100])\n",
    "plt.show()"
   ]
  },
  {
   "cell_type": "code",
   "execution_count": null,
   "id": "a831cebf",
   "metadata": {},
   "outputs": [],
   "source": [
    "fig = plt.figure()\n",
    "anim_running = True\n",
    "\n",
    "def onClick(event):\n",
    "    global anim_running\n",
    "    if anim_running:\n",
    "        ani.event_source.stop()\n",
    "        anim_running = False\n",
    "    else:\n",
    "        ani.event_source.start()\n",
    "        anim_running = True\n",
    "\n",
    "def update_graph(frame):\n",
    "    df = t.loc[t.frame == frame, [\"x\", \"y\", \"color\"]]\n",
    "    graph.set_offsets(df)\n",
    "    graph.set_edgecolor(df.color)\n",
    "    graph2.set_data(data_preload[frame-startFrame])\n",
    "    title.set_text('frame = {}'.format(frame))\n",
    "    return graph\n",
    "\n",
    "ax = fig.add_subplot(111)\n",
    "title = ax.set_title('frame = 0')\n",
    "df = t.loc[t.frame == startFrame, [\"x\", \"y\", \"color\"]]\n",
    "graph = ax.scatter(df.x, df.y, facecolors = 'none', edgecolors = df.color, s = 50)\n",
    "graph2 = ax.imshow(data_preload[0])\n",
    "\n",
    "fig.canvas.mpl_connect('button_press_event', onClick)\n",
    "ani = matplotlib.animation.FuncAnimation(fig, update_graph, range(startFrame, startFrame + 1000), interval = 5, blit=False)\n",
    "plt.show()"
   ]
  },
  {
   "cell_type": "code",
   "execution_count": null,
   "id": "7c2e2e27",
   "metadata": {},
   "outputs": [],
   "source": [
    "df = t.loc[t['frame'] == f1, [\"x\", \"y\", \"color\", \"particle\"]]\n",
    "\n",
    "fig, (ax, ax1) = plt.subplots(1, 2)\n",
    "ax.scatter(df.x, df.y, s=50, ec = \"w\", facecolor = df.color)\n",
    "ax.imshow(data[f1])\n",
    "df1 = t.loc[t['frame'] == f2, [\"x\", \"y\", \"color\"]]\n",
    "ax1.scatter(df1.x, df1.y, s=50, ec = \"w\", facecolor = df1.color)\n",
    "ax1.imshow(data[f2])\n",
    "plt.show()"
   ]
  },
  {
   "cell_type": "code",
   "execution_count": null,
   "id": "52822bcd",
   "metadata": {},
   "outputs": [],
   "source": [
    "lost_particles = []\n",
    "for i in range(nFrames-1):\n",
    "    a = t.loc[t.frame == i].sort_values('particle').particle.values\n",
    "    b = t.loc[t.frame == i+1].sort_values('particle').particle.values\n",
    "    ind = np.where(np.in1d(a, b)==False)[0]\n",
    "    if ind.size > 0:\n",
    "        lost_particles.append([i, a[ind]])\n",
    "print(\"Total problems:\", len(lost_particles))\n",
    "print(ind)\n",
    "\n",
    "if len(lost_particles) > 0: \n",
    "    print(f\"First failure occurred at frame {lost_particles[0][0]}\")\n",
    "    f1 = lost_particles[0][0]\n",
    "    f2 = lost_particles[0][0]+1\n",
    "    print(t.loc[t.frame == f1].sort_values('particle').particle.values)\n",
    "    print(t.loc[t.frame == f2].sort_values('particle').particle.values)\n",
    "\n",
    "if len(lost_particles)>0: \n",
    "    fig, (ax, ax1) = plt.subplots(1, 2)\n",
    "    df = t.loc[t['frame'] == f1, [\"x\", \"y\", \"color\", \"particle\"]]\n",
    "    ax.scatter(df.x, df.y, s=50, ec = \"w\", facecolor = df.color)\n",
    "    #ax.scatter(df.loc[df.particle==43].x, df.loc[df.particle==43].y, s=100)\n",
    "    #ax.scatter(df.loc[df.particle==82].x, df.loc[df.particle==82].y, s=100)\n",
    "    ax.imshow(data[f1])\n",
    "\n",
    "    df1 = t.loc[t['frame'] == f2, [\"x\", \"y\", \"color\"]]\n",
    "    ax1.scatter(df1.x, df1.y, s=50, ec = \"w\", facecolor = df1.color)\n",
    "    ax1.imshow(data[f2])\n",
    "\n",
    "    plt.show()"
   ]
  },
  {
   "cell_type": "markdown",
   "id": "81ab9eef",
   "metadata": {},
   "source": [
    "# DIMENSION OF DROPLETS ANALYSIS"
   ]
  },
  {
   "cell_type": "markdown",
   "id": "1a9eba65",
   "metadata": {},
   "source": [
    "## TRACKPY RESULTS:"
   ]
  },
  {
   "cell_type": "code",
   "execution_count": 2,
   "id": "900fab99",
   "metadata": {},
   "outputs": [
    {
     "data": {
      "application/vnd.jupyter.widget-view+json": {
       "model_id": "a72c6aaa9ebe42b688ea8c0bafb0bbe5",
       "version_major": 2,
       "version_minor": 0
      },
      "image/png": "[encoded data removed]",
      "text/html": [
       "\n",
       "            <div style=\"display: inline-block;\">\n",
       "                <div class=\"jupyter-widgets widget-label\" style=\"text-align: center;\">\n",
       "                    Figure\n",
       "                </div>\n",
       "                <img src='data:image/png;base64,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' width=1000.0/>\n",
       "            </div>\n",
       "        "
      ],
      "text/plain": [
       "Canvas(toolbar=Toolbar(toolitems=[('Home', 'Reset original view', 'home', 'home'), ('Back', 'Back to previous …"
      ]
     },
     "metadata": {},
     "output_type": "display_data"
    }
   ],
   "source": [
    "rawTrajs = pd.read_parquet(\"./results/parquet/full_movie_tracking.parquet\")\n",
    "mean_dim = rawTrajs.groupby(\"frame\").mean()\n",
    "merge_frame = 32269\n",
    "\n",
    "fig, ax = plt.subplots(1, 1)\n",
    "ax.plot(mean_dim.index/10, 2*mean_dim[\"size\"])\n",
    "ax.vlines(merge_frame/10, 2*mean_dim[\"size\"].values.min(), 2*mean_dim[\"size\"].max(), color=\"r\")\n",
    "ax.set(xlabel = \"Time [s]\", ylabel = \"d [px]\", title = \"Mean particle diameter\")\n",
    "ax.grid(True, linestyle='-', color = '0.75')\n",
    "if save_verb: plt.savefig(\"./results/dimension_analysis/mean_diameter_trackpy.png\", bbox_inches='tight')\n",
    "if show_verb:\n",
    "    plt.show()\n",
    "else:\n",
    "    plt.close()"
   ]
  },
  {
   "cell_type": "code",
   "execution_count": 10,
   "id": "b10616cf",
   "metadata": {},
   "outputs": [
    {
     "name": "stdout",
     "output_type": "stream",
     "text": [
      "80700\n",
      "window of 320.0 s, stride of 10.0 s\n",
      "number of steps: 775\n"
     ]
    }
   ],
   "source": [
    "# windowed ?\n",
    "nFrames = len(mean_dim)\n",
    "print(nFrames)\n",
    "# WINDOWED ANALYSIS PARAMETERS\n",
    "window = 3200 # 320 s\n",
    "stride = 100 # 10 s\n",
    "print(f\"window of {window/10} s, stride of {stride/10} s\")\n",
    "startFrames = np.arange(0, nFrames-window, stride, dtype=int)\n",
    "endFrames = startFrames + window\n",
    "nSteps = len(startFrames)\n",
    "print(f\"number of steps: {nSteps}\")\n",
    "\n",
    "# mean and std droplet diameter per frame\n",
    "mean_d_wind = np.zeros(nSteps)\n",
    "std_d_wind = np.zeros(nSteps)\n",
    "for i, start in enumerate(startFrames):\n",
    "    mean_d_wind[i] = np.mean(2*mean_dim[\"size\"][start:start+window])\n",
    "    std_d_wind[i] = np.std(2*mean_dim[\"size\"][start:start+window])"
   ]
  },
  {
   "cell_type": "code",
   "execution_count": 11,
   "id": "59812ba8",
   "metadata": {},
   "outputs": [
    {
     "data": {
      "application/vnd.jupyter.widget-view+json": {
       "model_id": "60c3600f0c6241e2ad4b72768ec8cf8b",
       "version_major": 2,
       "version_minor": 0
      },
      "image/png": "[encoded data removed]",
      "text/html": [
       "\n",
       "            <div style=\"display: inline-block;\">\n",
       "                <div class=\"jupyter-widgets widget-label\" style=\"text-align: center;\">\n",
       "                    Figure\n",
       "                </div>\n",
       "                <img src='data:image/png;base64,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' width=1000.0/>\n",
       "            </div>\n",
       "        "
      ],
      "text/plain": [
       "Canvas(toolbar=Toolbar(toolitems=[('Home', 'Reset original view', 'home', 'home'), ('Back', 'Back to previous …"
      ]
     },
     "metadata": {},
     "output_type": "display_data"
    }
   ],
   "source": [
    "fig, ax = plt.subplots(1, 1, figsize = (10, 5))\n",
    "ax.plot(startFrames/10, mean_d_wind)\n",
    "ax.vlines(merge_frame/10, mean_d_wind.min(), mean_d_wind.max(), color=\"r\")\n",
    "ax.fill_between(startFrames/10, mean_d_wind - std_d_wind, mean_d_wind + std_d_wind, alpha=0.5)\n",
    "ax.set(xlabel = \"Window Time [s]\", ylabel = \"d [px]\", title = \"Droplet diameter over window time\")\n",
    "ax.grid(True, linestyle='-', color = '0.75')\n",
    "plt.show()"
   ]
  },
  {
   "cell_type": "markdown",
   "id": "522405e4",
   "metadata": {},
   "source": [
    "## HOUGH CIRCLE RESULTS:"
   ]
  },
  {
   "cell_type": "code",
   "execution_count": null,
   "id": "ba5611af",
   "metadata": {
    "tags": []
   },
   "outputs": [],
   "source": [
    "@pims.pipeline\n",
    "def crop2(image, x1, y1, x2, y2):    \n",
    "    #image = cv2.GaussianBlur(image, ksize = [7,7], sigmaX = 1.5, sigmaY = 1.5)\n",
    "    npImage = np.array(image)\n",
    "    # Create same size alpha layer with circle\n",
    "    alpha = Image.new('L', (920, 960), 0)\n",
    "\n",
    "    draw = ImageDraw.Draw(alpha)\n",
    "    draw.pieslice(((x1, y1), (x2, y2)), 0, 360, fill=255)\n",
    "\n",
    "    # Convert alpha Image to numpy array\n",
    "    npAlpha = np.array(alpha)\n",
    "    npImage = npImage[:, :, 1] * npAlpha\n",
    "    \n",
    "    ind = np.where(npImage == 0)\n",
    "    # npImage[200, 200] color of the border to swap with the black\n",
    "    npImage[ind] = npImage[200, 200]\n",
    "    npImage = cv2.medianBlur(npImage, 5)\n",
    "    return npImage\n",
    "\n",
    "@joblib.delayed\n",
    "def loc_frame(correct_n, frame, img, parameters):\n",
    "\ttemp = cv2.HoughCircles(img, cv2.HOUGH_GRADIENT_ALT, **parameters)\n",
    "\tif temp.shape[1] == correct_n:\n",
    "\t\treturn np.hstack((temp[0], (np.ones((correct_n, 1), dtype=int)*frame), np.ones((correct_n, 1), dtype=int)*temp.shape[1]))\n",
    "\telse: \n",
    "\t\treturn np.hstack((np.zeros((correct_n, 3)), (np.ones((correct_n, 1), dtype=int)*frame), np.ones((correct_n, 1), dtype=int)*temp.shape[1]))\n"
   ]
  },
  {
   "cell_type": "code",
   "execution_count": null,
   "id": "d429bb31",
   "metadata": {
    "tags": []
   },
   "outputs": [],
   "source": [
    "# parameters of the HoughCircles function\n",
    "parameters_pre_merge = {\"dp\": 1.5, \"minDist\": 15, \"param1\": 100, \"param2\": 0.8, \"minRadius\": 15, \"maxRadius\": 25}\n",
    "parameters_post_merge = {\"dp\": 1.5, \"minDist\": 10, \"param1\": 100, \"param2\": 0.8, \"minRadius\": 10, \"maxRadius\": 30}\n",
    "# load data\n",
    "data = crop2(pims.open('./data/movie.mp4'), 40, 55, 895, 910)\n",
    "nFrames = len(data)\n",
    "merge_frame = 32269\n",
    "\n",
    "if 0:\n",
    "\t# pre merge detection\n",
    "\tparallel = joblib.Parallel(n_jobs = -1)\n",
    "\ttemp = parallel(\n",
    "\t\tloc_frame(50, frame, data[frame], parameters_pre_merge)\n",
    "\t\tfor frame in tqdm( range(merge_frame) )\n",
    "\t)\n",
    "\tpre_merge_droplets = np.array(temp).reshape(merge_frame*50, 5)\n",
    "\tpre_merge_droplets = pd.DataFrame(pre_merge_droplets, columns = [\"x\", \"y\", \"d\", \"frame\", \"nDroplets\"])\n",
    "\tpre_merge_droplets.to_parquet(\"pre_merge_droplets2.parquet\")\n",
    "\tpre_merge_droplets.replace(0, np.nan, inplace=True)\n",
    "\tpre_merge_droplets.loc[:50, \"frame\"] = 0\n",
    "\t\n",
    "\tparallel = joblib.Parallel(n_jobs = -1)\n",
    "\ttemp = parallel(\n",
    "\t\tloc_frame(49, frame, data[frame], parameters_post_merge)\n",
    "\t\tfor frame in tqdm( range(merge_frame, nFrames) )\n",
    "\t)\n",
    "\tpost_merge_droplets = np.array(temp).reshape((nFrames-merge_frame)*49, 5)\n",
    "\tpost_merge_droplets = pd.DataFrame(post_merge_droplets, columns = [\"x\", \"y\", \"d\", \"frame\", \"nDroplets\"])\n",
    "\tpost_merge_droplets.to_parquet(\"post_merge_droplets2.parquet\")\n",
    "\tpost_merge_droplets.replace(0, np.nan, inplace=True)\n",
    "\n",
    "else:\n",
    "\tpre_merge_droplets = pd.read_parquet(\"./pre_merge_droplets.parquet\").replace(0, np.nan)\n",
    "\tpre_merge_droplets.loc[:50, \"frame\"] = 0\n",
    "\tpost_merge_droplets = pd.read_parquet(\"./post_merge_droplets.parquet\").replace(0, np.nan)\n",
    "\t\n",
    "pre_merge_err_frames = np.where(pre_merge_droplets.groupby(\"frame\").mean().x.isna())[0]\n",
    "post_merge_err_frames = merge_frame + np.where(post_merge_droplets.groupby(\"frame\").mean().x.isna())[0]\n",
    "pre_merge_errors = int(len(pre_merge_err_frames))\n",
    "post_merge_errors = int(len(post_merge_err_frames))\n",
    "\n",
    "print(f\"Errors before merging: {pre_merge_errors} --> {np.round(100*pre_merge_errors/merge_frame, 2)} %\")\n",
    "print(f\"Errors after merging:  {post_merge_errors} --> {np.round(100*post_merge_errors/(nFrames-merge_frame), 2)} %\")"
   ]
  },
  {
   "cell_type": "code",
   "execution_count": null,
   "id": "3d15a3db",
   "metadata": {
    "tags": []
   },
   "outputs": [],
   "source": [
    "# load data\n",
    "data = crop2(pims.open('./data/movie.mp4'), 40, 55, 895, 910)\n",
    "merge_frame = 32269\n",
    "if 1: data_preload = list(data[merge_frame:len(data)])\n",
    "\n",
    "# pre merge test\n",
    "if 0:\n",
    "\tparameters_pre_merge = {\"dp\": 1.5, \"minDist\": 15, \"param1\": 100, \"param2\": 0.9, \"minRadius\": 15, \"maxRadius\": 25}\n",
    "\tstartFrame = 0\n",
    "\tendFrame = 5000 #merge_frame\n",
    "\tframes = np.arange(startFrame, endFrame, 1)\n",
    "\tn = len(frames)\n",
    "\tparallel = joblib.Parallel(n_jobs = -2)\n",
    "\ttemp = parallel(\n",
    "\t    loc_frame(50, frame, data[frame], parameters_pre_merge)\n",
    "\t    for frame in tqdm( frames )\n",
    "\t)\n",
    "\ttemp = pd.DataFrame(np.array(temp).reshape(n*50, 5), columns = [\"x\", \"y\", \"d\", \"frame\", \"nDroplets\"])\n",
    "\ttemp = temp.replace(0, np.nan)\n",
    "\ttemp.loc[:50, \"frame\"] = 0\n",
    "\tprint(temp)\n",
    "\n",
    "\terr_frames = np.where(temp.groupby(\"frame\").mean().x.isna())[0]\n",
    "\tprint(f\"Errors before merging:  {len(err_frames)} --> {np.round(100*len(err_frames)/n, 2)} %\")\n",
    "\n",
    "\tfig, (ax, ax1) = plt.subplots(2, 1, figsize = (10, 4))\n",
    "\tax.plot(temp.groupby(\"frame\").mean().nDroplets, \"o\", ms = 1)\n",
    "\tax1.plot(temp.d, \"o\", ms = 1)\n",
    "\tax.set_xlabel(\"Frame\")\n",
    "\tax.set_ylabel(\"Number of droplets\")\n",
    "\tax.set_title(\"Number of droplets detected per frame\")\n",
    "\tplt.show()\n",
    "\n",
    "# Post merge test\n",
    "if 1:\n",
    "\tparameters_post_merge = {\"dp\": 1.5, \"minDist\": 14, \"param1\": 100, \"param2\": 0.8, \"minRadius\": 14, \"maxRadius\": 25}\n",
    "\tstartFrame = merge_frame\n",
    "\tendFrame =  len(data) #startFrame + 5000 #len(data)\n",
    "\tframes = np.arange(startFrame, endFrame, 1)\n",
    "\tn = len(frames)\n",
    "\n",
    "\tparallel = joblib.Parallel(n_jobs = -1)\n",
    "\ttemp2 = parallel(\n",
    "\t    loc_frame(49, frame, data_preload[frame-startFrame], parameters_post_merge)\n",
    "\t    for frame in tqdm( frames )\n",
    "\t) \n",
    "\ttemp2 = pd.DataFrame(np.array(temp2).reshape(n*49, 5), columns = [\"x\", \"y\", \"d\", \"frame\", \"nDroplets\"])\n",
    "\ttemp2 = temp2.replace(0, np.nan)\n",
    "\tprint(temp2)\n",
    "\n",
    "\terr_frames2 = np.where(temp2.groupby(\"frame\").mean().x.isna())[0]\n",
    "\tprint(f\"Errors after merging:  {len(err_frames2)} --> {np.round(100*len(err_frames2)/n, 2)} %\")\n",
    "\n",
    "\tfig, (ax, ax1) = plt.subplots(2, 1, figsize = (10, 4))\n",
    "\tax.plot(temp2.nDroplets)\n",
    "\tax1.plot(temp2.d)\n",
    "\tax.set_xlabel(\"Frame\")\n",
    "\tax.set_ylabel(\"Number of droplets\")\n",
    "\tax.set_title(\"Number of droplets detected per frame\")\n",
    "\tplt.show()"
   ]
  },
  {
   "cell_type": "code",
   "execution_count": null,
   "id": "a125ab58",
   "metadata": {},
   "outputs": [],
   "source": [
    "problem_frame = np.where(temp.groupby(\"frame\").mean().nDroplets == 47)[0][0] + merge_frame\n",
    "temp = cv2.HoughCircles(data[problem_frame], cv2.HOUGH_GRADIENT_ALT, **parameters)"
   ]
  },
  {
   "cell_type": "code",
   "execution_count": null,
   "id": "c53ba4b3",
   "metadata": {},
   "outputs": [],
   "source": [
    "fig, (ax, ax1) = plt.subplots(2, 1, figsize = (10, 10))\n",
    "ax.imshow(data[problem_frame], cmap = \"gray\")\n",
    "for i in range(temp.shape[1]):\n",
    "    ax.add_patch(plt.Circle((temp[0][i][0], temp[0][i][1]), temp[0][i][2], color = \"r\", fill = False))\n",
    "ax1.plot(temp[0][:, 2], \"o\", ms = 1)\n",
    "plt.show()\n"
   ]
  },
  {
   "cell_type": "code",
   "execution_count": null,
   "id": "1d060d37",
   "metadata": {},
   "outputs": [],
   "source": [
    "fig, ax = plt.subplots(1, 1)\n",
    "ax.plot(pre_merge_droplets.groupby(\"frame\").mean().nDroplets, label=\"Before merging\")\n",
    "ax.plot(post_merge_droplets.groupby(\"frame\").mean().nDroplets, label=\"After merging\")\n",
    "ax.set(xlabel=\"Frame\", ylabel=\"Mean number of droplets\")\n",
    "ax.grid()\n",
    "ax.legend()\n",
    "if save_verb: plt.savefig(\"./results/dimension_analysis/mean_nDroplets.png\", bbox_inches='tight')\n",
    "if show_verb:\n",
    "    plt.show()\n",
    "else:\n",
    "    plt.close()"
   ]
  },
  {
   "cell_type": "code",
   "execution_count": null,
   "id": "c964f6fb",
   "metadata": {},
   "outputs": [],
   "source": [
    "pre_merge_mean_dim = pre_merge_droplets.groupby(\"frame\").mean().d.values\n",
    "post_merge_mean_dim = post_merge_droplets.groupby(\"frame\").mean().d.values\n",
    "mean_dim_hough = np.append(pre_merge_mean_dim, post_merge_mean_dim)\n",
    "\n",
    "fig, (ax,ax1) = plt.subplots(2, 1, gridspec_kw={'height_ratios': [2, 1]})\n",
    "ax.plot(mean_dim_hough)\n",
    "ax.vlines(merge_frame, np.nanmin(mean_dim_hough), np.nanmax(mean_dim_hough), color=\"r\")\n",
    "ax.set(xlabel=\"Frame\", ylabel=\"Mean diameter\")\n",
    "ax.grid()\n",
    "ax1.hist(np.argwhere(np.isnan(mean_dim_hough)), bins = np.arange(0, len(data), 320), cumulative=True, histtype=\"step\")\n",
    "ax1.set(xlabel=\"Frame\", ylabel=\"Cumulative number of errors\")\n",
    "plt.tight_layout()\n",
    "if save_verb: plt.savefig(\"./results/dimension_analysis/mean_dim_hough.png\",  bbox_inches = 'tight')\n",
    "if show_verb:\n",
    "    plt.show()\n",
    "else:\n",
    "    plt.close()\n",
    "plt.show()\n",
    "\n",
    "# confront betwee trackpy and hough results\n",
    "fig, ax = plt.subplots(1, 1)\n",
    "ax.plot(2*mean_dim, label=\"Trackpy\")\n",
    "ax.plot(mean_dim_hough, label=\"Hough\")\n",
    "ax.vlines(merge_frame, np.nanmin(mean_dim_hough), np.nanmax(mean_dim_hough), color=\"r\")\n",
    "ax.set(xlabel=\"Frame\", ylabel=\"Mean diameter\")\n",
    "ax.grid()\n",
    "ax.legend()\n",
    "if save_verb: plt.savefig(\"./results/dimension_analysis/mean_dim_comparison.png\",  bbox_inches='tight')\n",
    "if show_verb:\n",
    "    plt.show()\n",
    "else:\n",
    "    plt.close()"
   ]
  },
  {
   "cell_type": "code",
   "execution_count": null,
   "id": "96909310",
   "metadata": {},
   "outputs": [],
   "source": [
    "# match detected particles to rawTrajs particle index:\n",
    "ids = np.zeros((100, 50), dtype=int)\n",
    "err_count = 0\n",
    "for frame in tqdm(range(100)):\n",
    "    if frame in error_frames:\n",
    "        continue\n",
    "        #temp = err_circles[err_count]\n",
    "        #err_count += 1\n",
    "    else:\n",
    "        temp = detected_circles[frame]\n",
    "\n",
    "    dist_mat = distance_matrix(temp[:, :2], rawTrajs.loc[rawTrajs.frame==frame, [\"x\", \"y\"]])\n",
    "    ids[frame] = np.argmin(dist_mat, axis = 1)\n",
    "\n",
    "colors = np.array([\"#\"+''.join([random.choice('0123456789ABCDEF') for j in range(6)]) for i in range(50)])\n",
    "fig, ax = plt.subplots(1, 1)\n",
    "for i in range(50):\n",
    "    ax.scatter(detected_circles[0, ids[0], 0], detected_circles[0, ids[0], 1], color = colors[i])\n",
    "ax.scatter(rawTrajs.loc[rawTrajs.frame==0, [\"x\"]], rawTrajs.loc[rawTrajs.frame==0, [\"y\"]], color = colors)\n",
    "ax.imshow(data_preload[0])\n",
    "plt.show()"
   ]
  },
  {
   "cell_type": "code",
   "execution_count": null,
   "id": "2a8fff8d",
   "metadata": {},
   "outputs": [],
   "source": [
    "def analyze_error(img, parameters, plot):\n",
    "    temp = cv2.HoughCircles(img, cv2.HOUGH_GRADIENT_ALT, **parameters)[0]\n",
    "    print(f\"Found {temp.shape[0]} circles\")\n",
    "    # compute distance between detected circles\n",
    "    dist_list = []\n",
    "    for i in range(temp.shape[0]):\n",
    "        for j in range(i):\n",
    "            dist_list.append(np.linalg.norm(temp[i, :2] - temp[j, :2]))\n",
    "    # find the two circles that are the closest\n",
    "    problems_id = []\n",
    "    for i in range(temp.shape[0]):\n",
    "        for j in range(i):\n",
    "            if np.linalg.norm(temp[i, :2] - temp[j, :2]) == min(dist_list):\n",
    "                problems_id = [i, j]\n",
    "                #print(\"Circles ID:\", problems_id, \"found at distance:\", np.linalg.norm(temp[i, :2] - temp[j, :2]))\n",
    "\n",
    "    # prepare the circles for plotting, different color for the two problematic circles\n",
    "    circles_plot = []\n",
    "    for i in range(temp.shape[0]):\n",
    "        if (i == problems_id[0]) or (i == problems_id[1]):\n",
    "            circles_plot.append(plt.Circle((temp[i, 0], temp[i, 1]), temp[i, 2], color='r', fill=False))\n",
    "        else:\n",
    "            circles_plot.append(plt.Circle((temp[i, 0], temp[i, 1]), temp[i, 2], color='b', fill=False))\n",
    "    if plot:\n",
    "        # plot the image with the circles\n",
    "        fig, ax = plt.subplots(1, 1)\n",
    "        ax.imshow(img)\n",
    "        for i in range(temp.shape[0]):\n",
    "            ax.add_artist(circles_plot[i])\n",
    "        plt.show()\n",
    "    return 0"
   ]
  },
  {
   "cell_type": "code",
   "execution_count": null,
   "id": "a9efc14c",
   "metadata": {},
   "outputs": [],
   "source": [
    "if 0:\n",
    "    data_preload_pre_merge = list(data[pre_merge_err_frames[0]:pre_merge_err_frames[10]])\n",
    "    data_preload_post_merge = list(data[post_merge_err_frames[0]:post_merge_err_frames[10]])"
   ]
  },
  {
   "cell_type": "code",
   "execution_count": null,
   "id": "59377e83",
   "metadata": {},
   "outputs": [],
   "source": [
    "print(\"Pre merge -> 50 droplets\")\n",
    "for i in range(10):\n",
    "    analyze_error(data_preload_pre_merge[i], parameters, False)\n",
    "print(\"Post merge -> 49 droplets \")\n",
    "for i in range(10):\n",
    "    analyze_error(data_preload_post_merge[i], parameters, False)"
   ]
  },
  {
   "cell_type": "markdown",
   "id": "e379a5a4",
   "metadata": {
    "tags": []
   },
   "source": [
    "# estimate error in the tracking\n",
    "\n",
    "I note that between frames 18300 and 18900 a droplet 40 seems stable and isolated.\\\n",
    "Then applying a rectangular mask around it I compute the \"benchmark\" position of the droplet using Canny Edge Detection and Hough Transform.\\\n",
    "Finally I confront the tracking result with the benchmark and different window sizes of smoothing."
   ]
  },
  {
   "cell_type": "code",
   "execution_count": null,
   "id": "6552bf09",
   "metadata": {
    "tags": []
   },
   "outputs": [],
   "source": [
    "# apply mask to perform edge detection only on the benchmark particle\n",
    "@pims.pipeline\n",
    "def crop2(image, x1, y1, x2, y2):   \n",
    "    npImage = np.array(image)\n",
    "    alpha = Image.new('L', (920, 960), 0)\n",
    "    draw = ImageDraw.Draw(alpha)\n",
    "    draw.rectangle([(x1, y1), (x2, y2)], fill = 255)\n",
    "    npAlpha = np.array(alpha)\n",
    "    npImage = npImage[:, :, 1] * npAlpha\n",
    "    return npImage"
   ]
  },
  {
   "cell_type": "code",
   "execution_count": null,
   "id": "aa16f714",
   "metadata": {
    "tags": []
   },
   "outputs": [],
   "source": [
    "startFrame = 18300\n",
    "endFrame = 18900\n",
    "framesArray = np.arange(startFrame, endFrame, 1) \n",
    "\n",
    "rawTrajs = pd.read_parquet(\"./results/parquet/pre_merge_tracking.parquet\")\n",
    "benchmark_particle_id = 40\n",
    "print(\"Benchmark particle:\", benchmark_particle_id)\n",
    "rawTraj = rawTrajs.loc[(rawTrajs.frame.between(startFrame, endFrame-1)) & (rawTrajs.particle == benchmark_particle_id)]\n",
    "if 1: ref = list(pims.open('./data/movie.mp4')[startFrame:endFrame])"
   ]
  },
  {
   "cell_type": "code",
   "execution_count": null,
   "id": "162b5325",
   "metadata": {
    "tags": []
   },
   "outputs": [],
   "source": [
    "# apply mask to perform edge detection only on the benchmark particle\n",
    "y1 = rawTraj.iloc[0].y - 50\n",
    "x1 = rawTraj.iloc[0].x - 50\n",
    "y2 = rawTraj.iloc[0].y + 110\n",
    "x2 = rawTraj.iloc[0].x + 120\n",
    "if 1: ref_masked = list(crop2(pims.open('./data/movie.mp4'), x1, y1, x2, y2)[startFrame:endFrame])"
   ]
  },
  {
   "cell_type": "code",
   "execution_count": null,
   "id": "4829c59e",
   "metadata": {
    "tags": []
   },
   "outputs": [],
   "source": [
    "fig, (ax, ax1) = plt.subplots(1, 2, figsize = (8, 6))\n",
    "ax.imshow(ref[0])\n",
    "ax.scatter(rawTraj.iloc[0].x, rawTraj.iloc[0].y, s=150, facecolors='none', edgecolors='b')\n",
    "ax.set(title = \"Selection of benchmark particle\", xlabel = \"x [px]\", ylabel = \"y [px]\")\n",
    "ax1.imshow(ref_masked[0])\n",
    "ax1.scatter(rawTraj.iloc[0].x, rawTraj.iloc[0].y, s=150, facecolors='none', edgecolors='b')\n",
    "ax1.set(title = \"Masked video\", xlabel = \"x [px]\")\n",
    "plt.tight_layout()\n",
    "plt.savefig(\"./results/error_estimation/masked_frame.png\", bbox_inches='tight')\n",
    "plt.show()"
   ]
  },
  {
   "cell_type": "code",
   "execution_count": null,
   "id": "662cfae4",
   "metadata": {},
   "outputs": [],
   "source": [
    "# needed to check that only particle 40 is selected by the mask\n",
    "fig = plt.figure()\n",
    "anim_running = True\n",
    "\n",
    "def onClick(event):\n",
    "    global anim_running\n",
    "    if anim_running:\n",
    "        ani.event_source.stop()\n",
    "        anim_running = False\n",
    "    else:\n",
    "        ani.event_source.start()\n",
    "        anim_running = True\n",
    "\n",
    "def update_graph(frame):\n",
    "    df = rawTraj.loc[rawTraj.frame == startFrame + frame, [\"x\",\"y\", \"color\"]]\n",
    "    graph.set_offsets(df)\n",
    "    graph2.set_data(ref_masked[frame])\n",
    "    title.set_text('frame = {}'.format(startFrame + frame))\n",
    "    return graph\n",
    "\n",
    "ax = fig.add_subplot(111)\n",
    "title = ax.set_title(f'frame = {startFrame}')\n",
    "df = rawTraj.loc[rawTraj.frame == startFrame, [\"x\",\"y\", \"color\"]]\n",
    "\n",
    "graph = ax.scatter(df.x, df.y, facecolors = 'none', edgecolors= df.color, s = 150)\n",
    "\n",
    "graph2 = ax.imshow(ref_masked[0])\n",
    "\n",
    "fig.canvas.mpl_connect('button_press_event', onClick)\n",
    "ani = matplotlib.animation.FuncAnimation(fig, update_graph, endFrame-startFrame, interval = 2, blit=False)\n",
    "plt.show()"
   ]
  },
  {
   "cell_type": "code",
   "execution_count": null,
   "id": "95b6de5f",
   "metadata": {
    "tags": []
   },
   "outputs": [],
   "source": [
    "circles = []\n",
    "problems = 0\n",
    "\n",
    "for i in tqdm(range(0, len(ref_masked))):\n",
    "    img = ref_masked[i]\n",
    "    \"\"\"\n",
    "                    -- this works fine !!!!! --\n",
    "    # Apply Canny Edge Detection to find edges in the image\n",
    "    edges = cv2.Canny(img, 30, 30)\n",
    "    # Apply the Hough Transform to find circles in the image \n",
    "    temp = cv2.HoughCircles(edges, cv2.HOUGH_GRADIENT, 1, minDist=20, param1=50, param2=30, minRadius=0, maxRadius=0)\n",
    "    if temp is not None:\n",
    "        circles.append(temp[0][0])\n",
    "   \"\"\"\n",
    "    \n",
    "    # this gives better results\n",
    "    temp = cv2.HoughCircles(img, cv2.HOUGH_GRADIENT_ALT, 1.5, minDist=1, param1=300, param2=0.6, minRadius=10, maxRadius=21)\n",
    "    if temp is not None:\n",
    "        circles.append(temp[0][0])\n",
    "        \n",
    "    else:\n",
    "        break\n",
    "        problems += 1\n",
    "print(\"Number of problems:\", problems)"
   ]
  },
  {
   "cell_type": "code",
   "execution_count": null,
   "id": "38934f51",
   "metadata": {
    "tags": []
   },
   "outputs": [],
   "source": [
    "x = np.zeros(len(circles))\n",
    "y = np.zeros(len(circles))\n",
    "d = np.zeros(len(circles))\n",
    "\n",
    "for i in range(len(circles)):\n",
    "    x[i] = circles[i][0]\n",
    "    y[i] = circles[i][1]\n",
    "    d[i] = circles[i][2]\n",
    "    \n",
    "benchmark_traj = pd.DataFrame({\"x\": x, \"y\": y, \"d\": d})"
   ]
  },
  {
   "cell_type": "code",
   "execution_count": null,
   "id": "355e392c-a35f-43a1-a554-b008d0eb2116",
   "metadata": {
    "tags": []
   },
   "outputs": [],
   "source": [
    "fig, ax = plt.subplots(1, 1, figsize = (8, 6))\n",
    "ax.plot(np.arange(startFrame, endFrame, 1), benchmark_traj.d, label = \"benchmark\")\n",
    "ax.plot(np.arange(startFrame, endFrame, 1), 2*rawTraj[\"size\"], label = \"traj\")\n",
    "ax.legend()\n",
    "plt.show()"
   ]
  },
  {
   "cell_type": "code",
   "execution_count": null,
   "id": "a510b867-8441-4268-b872-5bb80388144a",
   "metadata": {
    "tags": []
   },
   "outputs": [],
   "source": [
    "c1 = plt.Circle(( x[100] , y[100] ), d[100], fill = False, color = \"red\")\n",
    "c2 = plt.Circle((rawTraj.x.values[100], rawTraj.y.values[100]), 2*rawTraj[\"size\"].values[100], fill = False, color=\"blue\")\n",
    "\n",
    "fig, (ax, ax1) = plt.subplots(1, 2, figsize = (10, 8))\n",
    "ax.imshow(ref_masked[100])\n",
    "ax.add_artist(c1)\n",
    "ax.scatter(x[100], y[100], color = \"red\")\n",
    "ax.set(xlim = (x1, x2), ylim = (y1, y2))\n",
    "ax1.imshow(ref_masked[100])\n",
    "ax1.add_artist(c2)\n",
    "ax1.scatter(rawTraj.x.values[100], rawTraj.y.values[100], color = \"blue\")\n",
    "ax1.set(xlim = (x1, x2), ylim = (y1, y2))\n",
    "plt.show()"
   ]
  },
  {
   "cell_type": "markdown",
   "id": "caa3cdb7-8e8d-4c8e-a327-7bb372e68ca1",
   "metadata": {
    "tags": []
   },
   "source": [
    "## POSITION ERROR"
   ]
  },
  {
   "cell_type": "code",
   "execution_count": null,
   "id": "59d14fcb",
   "metadata": {
    "tags": []
   },
   "outputs": [],
   "source": [
    "tracking_pos = np.sqrt(rawTraj.x**2 + rawTraj.y**2)\n",
    "\n",
    "benchmark_pos = np.sqrt(x**2 + y**2)\n",
    "mse_raw = ((benchmark_pos - tracking_pos)**2).mean()\n",
    "print(\"MSE with raw trajectory:\", mse_raw)"
   ]
  },
  {
   "cell_type": "code",
   "execution_count": null,
   "id": "d1488998",
   "metadata": {
    "tags": []
   },
   "outputs": [],
   "source": [
    "from scipy.signal import savgol_filter\n",
    "def get_smooth_trajs(trajs, nDrops, windLen, orderofPoly):\n",
    "    # Trajectory Smoothing: using a Savgol Filter in order to drop the noise due to the tracking procedure\n",
    "    ret = trajs.copy()\n",
    "    for i in range(nDrops):\n",
    "        ret.loc[ret.particle == i, \"x\"] = savgol_filter(trajs.loc[trajs.particle == i].x.values, windLen, orderofPoly)\n",
    "        ret.loc[ret.particle == i, \"y\"] = savgol_filter(trajs.loc[trajs.particle == i].y.values, windLen, orderofPoly)    \n",
    "    return ret"
   ]
  },
  {
   "cell_type": "code",
   "execution_count": null,
   "id": "a5201bc4",
   "metadata": {
    "tags": []
   },
   "outputs": [],
   "source": [
    "windLen = 30\n",
    "smoothTrajs = get_smooth_trajs(rawTrajs, 50, windLen, 2)\n",
    "smoothTraj = smoothTrajs.loc[(smoothTrajs.frame.between(startFrame, endFrame-1)) & (smoothTrajs.particle == benchmark_particle_id)]\n",
    "tracking_smooth_pos = np.sqrt(smoothTraj.x**2 + smoothTraj.y**2)\n",
    "mse = ((benchmark_pos - tracking_smooth_pos)**2).mean()\n",
    "print(f\"MSE smoothing window {windLen}:\", mse)"
   ]
  },
  {
   "cell_type": "code",
   "execution_count": null,
   "id": "ab93cfab",
   "metadata": {
    "tags": []
   },
   "outputs": [],
   "source": [
    "fig, (ax, ax1) = plt.subplots(1, 2, figsize = (10, 5))\n",
    "ax.plot(framesArray, benchmark_pos, label = \"benchmark\")\n",
    "ax.plot(framesArray, tracking_pos, label = \"tracking\")\n",
    "ax.set_title(\"Confront with raw traj\")\n",
    "ax1.plot(framesArray, benchmark_pos, label = \"benchmark\")\n",
    "ax1.plot(framesArray, tracking_smooth_pos, label = \"tracking\")\n",
    "ax1.set_title(f\"Confront with smooth traj (window = {windLen})\")\n",
    "ax.legend()\n",
    "ax1.legend()\n",
    "plt.tight_layout()\n",
    "plt.savefig(\"./results/error_estimation/benchmark_confront_wind30.png\", bbox_inches='tight')\n",
    "plt.show()"
   ]
  },
  {
   "cell_type": "markdown",
   "id": "109f09cf",
   "metadata": {
    "tags": []
   },
   "source": [
    "### MSE ANALYSIS OF THE SMOOTHING WINDOW"
   ]
  },
  {
   "cell_type": "code",
   "execution_count": null,
   "id": "b38d7bbf",
   "metadata": {},
   "outputs": [],
   "source": [
    "windLenList = np.arange(3, 100, 1)\n",
    "mse = np.zeros(len(windLenList))\n",
    "\n",
    "for k in tqdm(range(len(windLenList))):\n",
    "    smoothTrajs = get_smooth_trajs(rawTrajs, 50, windLenList[k], 2)\n",
    "    smoothTraj = smoothTrajs.loc[(smoothTrajs.frame.between(startFrame, endFrame-1)) & (smoothTrajs.particle == benchmark_particle_id)]\n",
    "    tracking_smooth_pos = np.sqrt(smoothTraj.x**2 + smoothTraj.y**2)\n",
    "    mse[k] = ((benchmark_pos - tracking_smooth_pos)**2).mean()"
   ]
  },
  {
   "cell_type": "code",
   "execution_count": null,
   "id": "3d34e8d8",
   "metadata": {},
   "outputs": [],
   "source": [
    "fig, ax = plt.subplots(1, 1, figsize = (8, 6))\n",
    "ax.hlines(mse_raw, windLenList[0], windLenList[-1], 'r', label = \"raw\")\n",
    "ax.plot(windLenList, mse, label = \"smooth\")\n",
    "ax.set_title(\"MSE vs smoothing window\")\n",
    "ax.set_xlabel(\"Smoothing window\")\n",
    "ax.set_ylabel(\"MSE\")\n",
    "ax.legend(loc='center right')\n",
    "plt.savefig(\"./results/error_estimation/mse_vs_window.png\", bbox_inches='tight')\n",
    "plt.show()"
   ]
  },
  {
   "cell_type": "markdown",
   "id": "d854aa7c-d1ab-4070-a068-2d51651dba04",
   "metadata": {},
   "source": [
    "# TRACKING WITHOUT TRACKPY"
   ]
  },
  {
   "cell_type": "code",
   "execution_count": null,
   "id": "2132bcf2-4e5e-49d5-a81a-b3b472586706",
   "metadata": {
    "tags": []
   },
   "outputs": [],
   "source": [
    "fig, ax = plt.subplots(1,1)\n",
    "ax.imshow(ref_masked[2])\n",
    "plt.show()"
   ]
  },
  {
   "cell_type": "code",
   "execution_count": null,
   "id": "7c8aa1e7-24be-472e-91ca-78efac89ce0d",
   "metadata": {
    "tags": []
   },
   "outputs": [],
   "source": [
    "from scipy.optimize import linear_sum_assignment\n",
    "\n",
    "# Initialize a list to store the circle data\n",
    "circles_list = []\n",
    "\n",
    "for i in tqdm(range(0, len(ref))):\n",
    "    img = ref_masked[i]\n",
    "    \n",
    "    # Detect the circles in the frame\n",
    "    circles = cv2.HoughCircles(img, cv2.HOUGH_GRADIENT_ALT, 1.5, minDist=1, param1=300, param2=0.6, minRadius=10, maxRadius=21)\n",
    "    \n",
    "    # If circles were detected, add them to the list\n",
    "    if circles is not None:\n",
    "        circles = np.round(circles[0, :]).astype(\"int\")\n",
    "        circles_list.append(circles)"
   ]
  },
  {
   "cell_type": "code",
   "execution_count": null,
   "id": "2e95f892-6728-49d9-9672-92b5129b0879",
   "metadata": {
    "tags": []
   },
   "outputs": [],
   "source": [
    "circles_list"
   ]
  },
  {
   "cell_type": "code",
   "execution_count": null,
   "id": "0f7d442b-9468-4b43-8b22-65e4dd0e9e48",
   "metadata": {},
   "outputs": [],
   "source": [
    "\n",
    "# Initialize a dictionary to store the circle data\n",
    "circles_dict = {}\n",
    "next_id = 0\n",
    "\n",
    "# Loop through the frames\n",
    "for frame_idx, circles in enumerate(circles_list):\n",
    "    # Initialize a cost matrix for the circles in this frame and the previous frame\n",
    "    num_circles = len(circles)\n",
    "    if frame_idx == 0:\n",
    "        prev_circles = []\n",
    "        cost_matrix = np.zeros((num_circles, 1))\n",
    "    else:\n",
    "        prev_circles = circles_list[frame_idx-1]\n",
    "        num_prev_circles = len(prev_circles)\n",
    "        cost_matrix = np.zeros((num_circles, num_prev_circles))\n",
    "        for i, (x1, y1, r1) in enumerate(circles):\n",
    "            for j, (x2, y2, r2) in enumerate(prev_circles):\n",
    "                dist = np.sqrt((x1 - x2) ** 2 + (y1 - y2) ** 2)\n",
    "                cost_matrix[i, j] = dist\n",
    "    \n",
    "    # Use the Hungarian algorithm to find the optimal assignment of circles\n",
    "    row_ind, col_ind = linear_sum_assignment(cost_matrix)\n",
    "    \n",
    "    # Add the circles to the dictionary\n",
    "    for i, j in zip(row_ind, col_ind):\n",
    "        if frame_idx == 0:\n",
    "            circles_dict[next_id] = [(circles[i][0], circles[i][1], circles[i][2])]\n",
    "            next_id += 1\n",
    "       \n"
   ]
  },
  {
   "cell_type": "markdown",
   "id": "300bd97a",
   "metadata": {
    "jp-MarkdownHeadingCollapsed": true,
    "tags": []
   },
   "source": [
    "# MERGING ANALYSIS"
   ]
  },
  {
   "cell_type": "code",
   "execution_count": null,
   "id": "d1cc0d40",
   "metadata": {},
   "outputs": [],
   "source": [
    "preMerge = data[32268]\n",
    "merge = data[32269]\n",
    "postMerge = data[32270]\n",
    "\n",
    "# feature location with minMass, have some problems but the spurious effect are solved\n",
    "f = tp.locate(preMerge, dropSize, minmass = minMass, separation = sep, topn = nDrops, engine = 'numba')\n",
    "\n",
    "fig, (ax1, ax2) = plt.subplots(1, 2)\n",
    "ax1.hist(f['mass'], bins = 20)\n",
    "ax1.set(xlabel='mass', ylabel='count')\n",
    "ax2.imshow(preMerge)\n",
    "ax2.plot(f.x, f.y, 'bo')\n",
    "plt.suptitle(f\"Number of features found: {len(f)}\")\n",
    "plt.show()\n",
    "\n",
    "f = tp.locate(merge, dropSize, minmass = minMass, separation = sep, topn = nDrops-1, engine = 'numba')\n",
    "fig, (ax1, ax2) = plt.subplots(1, 2)\n",
    "ax1.hist(f['mass'], bins = 20)\n",
    "ax1.set(xlabel='mass', ylabel='count')\n",
    "ax2.imshow(merge)\n",
    "ax2.plot(f.x, f.y, 'bo')\n",
    "plt.suptitle(f\"Number of features found: {len(f)}\")\n",
    "\n",
    "f = tp.locate(postMerge, dropSize, minmass = minMass, separation = sep, topn = nDrops-1, engine = 'numba')\n",
    "fig, (ax1, ax2) = plt.subplots(1, 2)\n",
    "ax1.hist(f['mass'], bins = 20)\n",
    "ax1.set(xlabel='mass', ylabel='count')\n",
    "ax2.imshow(postMerge)\n",
    "ax2.plot(f.x, f.y, 'bo')\n",
    "plt.suptitle(f\"Number of features found: {len(f)}\")\n",
    "\n",
    "plt.show()\n",
    "tp.subpx_bias(f)\n",
    "plt.show()"
   ]
  }
 ],
 "metadata": {
  "kernelspec": {
   "display_name": "Python 3 (ipykernel)",
   "language": "python",
   "name": "python3"
  },
  "language_info": {
   "codemirror_mode": {
    "name": "ipython",
    "version": 3
   },
   "file_extension": ".py",
   "mimetype": "text/x-python",
   "name": "python",
   "nbconvert_exporter": "python",
   "pygments_lexer": "ipython3",
   "version": "3.10.6"
  },
  "vscode": {
   "interpreter": {
    "hash": "cda584d4033b4fbc423661afef9f2afe920081905f188573e835f76abdc60dee"
   }
  }
 },
 "nbformat": 4,
 "nbformat_minor": 5
}
