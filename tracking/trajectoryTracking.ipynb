{
 "cells": [
  {
   "cell_type": "code",
   "execution_count": null,
   "id": "00e32dc7",
   "metadata": {},
   "outputs": [],
   "source": [
    "import matplotlib as mpl\n",
    "import matplotlib.pyplot as plt\n",
    "%matplotlib inline\n",
    "plt.rcParams['figure.figsize'] = [12, 4]\n",
    "import matplotlib.animation\n",
    "writervideo = matplotlib.animation.FFMpegWriter(fps=30)\n",
    "\n",
    "import numpy as np\n",
    "import pandas as pd\n",
    "\n",
    "import pims\n",
    "import trackpy as tp\n",
    "tp.quiet()\n",
    "from PIL import Image, ImageDraw\n",
    "import cv2\n",
    "\n",
    "from tqdm import tqdm\n",
    "import timeit\n",
    "\n",
    "import random\n",
    "\n",
    "run_analysis_verb = True\n",
    "show_verb = False\n",
    "save_verb = True"
   ]
  },
  {
   "attachments": {},
   "cell_type": "markdown",
   "id": "8044e885",
   "metadata": {},
   "source": [
    "# PRE PROCESSING"
   ]
  },
  {
   "cell_type": "code",
   "execution_count": 61,
   "id": "8e46a58c",
   "metadata": {},
   "outputs": [],
   "source": [
    "@pims.pipeline\n",
    "def crop(image, x1, y1, x2, y2):    \n",
    "    npImage = np.array(image)\n",
    "    # Create same size alpha layer with circle\n",
    "    #alpha = Image.new('L', (920, 960), 0)\n",
    "    alpha = Image.new('L', (920, 960), 0)\n",
    "\n",
    "    draw = ImageDraw.Draw(alpha)\n",
    "    draw.pieslice(((x1, y1), (x2, y2)), 0, 360, fill=255)\n",
    "\n",
    "    # Convert alpha Image to numpy arrayf\n",
    "    npAlpha = np.array(alpha)\n",
    "    npImage = npImage[:, :, 1] * npAlpha\n",
    "    \n",
    "    ind = np.where(npImage == 0)\n",
    "    # npImage[200, 200] color of the border to swap with the black\n",
    "    npImage[ind] = npImage[200, 200]\n",
    "    return npImage"
   ]
  },
  {
   "cell_type": "code",
   "execution_count": null,
   "id": "f024ea16",
   "metadata": {},
   "outputs": [],
   "source": [
    "data = crop(pims.open('./data/movie.mp4'), 55, 55, 880, 880)\n",
    "data_ref = pims.open('./data/movie.mp4')"
   ]
  },
  {
   "cell_type": "code",
   "execution_count": null,
   "id": "0bd5fac4",
   "metadata": {
    "scrolled": false
   },
   "outputs": [],
   "source": [
    "fig, (ax1, ax2) = plt.subplots(1, 2)\n",
    "ax1.imshow(data[0])\n",
    "ax2.imshow(data_ref[0])\n",
    "plt.tight_layout()\n",
    "if save_verb: plt.savefig('./results/pre_processing.png', dpi=300, bbox_inches='tight')\n",
    "if 1: \n",
    "    plt.show()\n",
    "else:\n",
    "    plt.close()"
   ]
  },
  {
   "attachments": {},
   "cell_type": "markdown",
   "id": "e3b7f592",
   "metadata": {},
   "source": [
    "# TRACKING "
   ]
  },
  {
   "cell_type": "code",
   "execution_count": null,
   "id": "d0181830",
   "metadata": {},
   "outputs": [],
   "source": [
    "# parameters of the tracking\n",
    "dropSize = 31  \n",
    "minMass = 2000\n",
    "sep = 16\n",
    "nDrops = 50"
   ]
  },
  {
   "cell_type": "code",
   "execution_count": null,
   "id": "3a8faa4f",
   "metadata": {},
   "outputs": [],
   "source": [
    "# FEATURES LOCATION\n",
    "\n",
    "nFrames = 100 # total number of frames of video --> len(data)\n",
    "startFrame = 0\n",
    "endFrame = startFrame + nFrames\n",
    "\n",
    "f = tp.batch(data[startFrame:endFrame], dropSize, minmass = minMass, separation = sep, topn = nDrops, engine = 'numba')    \n",
    "display(f)"
   ]
  },
  {
   "cell_type": "code",
   "execution_count": null,
   "id": "782d5021",
   "metadata": {},
   "outputs": [],
   "source": [
    "# ANOMALIES DETECTION\n",
    "\n",
    "num = np.zeros(nFrames)\n",
    "for i in range(nFrames):\n",
    "    num[i] = len(f.loc[f['frame'] == i])\n",
    "\n",
    "idx = np.where(num != nDrops)[0]\n",
    "print(idx)\n",
    "\n",
    "if len(idx) != 0:\n",
    "    delta = np.zeros(len(idx)-1)\n",
    "    for i in range(len(idx)-1):\n",
    "        delta[i] = idx[i+1]-idx[i]\n",
    "    print(delta)"
   ]
  },
  {
   "cell_type": "code",
   "execution_count": null,
   "id": "a0452d54",
   "metadata": {},
   "outputs": [],
   "source": [
    "# FEATURES LINKING\n",
    "\"\"\" f : DataFrame\n",
    "    The DataFrame must include any number of column(s) for position and a\n",
    "    column of frame numbers. By default, 'x' and 'y' are expected for\n",
    "    position, and 'frame' is expected for frame number. See below for\n",
    "    options to use custom column names.\n",
    "search_range : float or tuple\n",
    "    the maximum distance features can move between frames,\n",
    "    optionally per dimension\n",
    "pos_columns : list of str, optional\n",
    "    Default is ['y', 'x'], or ['z', 'y', 'x'] when 'z' is present in f\n",
    "t_column : str, optional\n",
    "    Default is 'frame'\n",
    "memory : integer, optional\n",
    "    the maximum number of frames during which a feature can vanish\n",
    "\"\"\"\n",
    "\n",
    "t = tp.link_df(f, 150, memory = 2, link_strategy = 'hybrid', neighbor_strategy = 'KDTree', adaptive_stop = 1)\n",
    "display(t)"
   ]
  },
  {
   "cell_type": "code",
   "execution_count": null,
   "id": "99ab8dcd",
   "metadata": {},
   "outputs": [],
   "source": [
    "n = max(t.particle)\n",
    "print(n)\n",
    "random.seed(5)\n",
    "colors = [\"#\"+''.join([random.choice('0123456789ABCDEF') for j in range(6)]) for i in range(n)]\n",
    "for i in range(max(t.particle)+1-n):\n",
    "    colors.append(\"#00FFFF\")\n",
    "c = []\n",
    "for p in t.particle:\n",
    "    c.append(colors[p])\n",
    "t[\"color\"] = c\n"
   ]
  },
  {
   "cell_type": "code",
   "execution_count": null,
   "id": "06a18d1a",
   "metadata": {},
   "outputs": [],
   "source": [
    "lost_particles = []\n",
    "for i in range(nFrames-1):\n",
    "    a = t.loc[t.frame == i].sort_values('particle').particle.values\n",
    "    b = t.loc[t.frame == i+1].sort_values('particle').particle.values\n",
    "    ind = np.where(np.in1d(a, b)==False)[0]\n",
    "    if ind.size > 0:\n",
    "        lost_particles.append([i, a[ind]])\n",
    "\n",
    "print(\"Total problems:\", len(lost_particles))\n",
    "if len(lost_particles) > 0: \n",
    "    print(f\"First failure occurred at frame {lost_particles[0][0]}\")\n",
    "    f1 = lost_particles[0][0]\n",
    "    f2 = lost_particles[0][0]+1\n",
    "    print(t.loc[t.frame == f1].sort_values('particle').particle.values)\n",
    "    print(t.loc[t.frame == f2].sort_values('particle').particle.values)"
   ]
  },
  {
   "cell_type": "code",
   "execution_count": null,
   "id": "86195d86",
   "metadata": {
    "scrolled": true
   },
   "outputs": [],
   "source": [
    "if len(lost_particles)>0: \n",
    "    fig, (ax, ax1) = plt.subplots(1, 2)\n",
    "    df = t.loc[t['frame'] == f1, [\"x\", \"y\", \"color\", \"particle\"]]\n",
    "    ax.scatter(df.x, df.y, s=50, ec = \"w\", facecolor = df.color)\n",
    "    #ax.scatter(df.loc[df.particle==43].x, df.loc[df.particle==43].y, s=100)\n",
    "    #ax.scatter(df.loc[df.particle==82].x, df.loc[df.particle==82].y, s=100)\n",
    "    ax.imshow(data[f1])\n",
    "\n",
    "    df1 = t.loc[t['frame'] == f2, [\"x\", \"y\", \"color\"]]\n",
    "    ax1.scatter(df1.x, df1.y, s=50, ec = \"w\", facecolor = df1.color)\n",
    "    ax1.imshow(data[f2])\n",
    "\n",
    "    plt.show()"
   ]
  },
  {
   "cell_type": "code",
   "execution_count": null,
   "id": "bf08a491",
   "metadata": {},
   "outputs": [],
   "source": [
    "t1 = tp.filter_stubs(t, nFrames/2)\n",
    "# Compare the number of particles in the unfiltered and filtered data.\n",
    "print('Before:', t['particle'].nunique())\n",
    "print('After:', t1['particle'].nunique())"
   ]
  },
  {
   "cell_type": "code",
   "execution_count": null,
   "id": "7931aaae",
   "metadata": {
    "scrolled": false
   },
   "outputs": [],
   "source": [
    "plt.figure()\n",
    "tp.plot_traj(t1)\n",
    "plt.show()"
   ]
  },
  {
   "cell_type": "code",
   "execution_count": null,
   "id": "cbf138ca",
   "metadata": {},
   "outputs": [],
   "source": [
    "plt.figure()\n",
    "plt.title(f\"1: {len(t1[t1['particle'] == 0].x)}\")\n",
    "plt.plot(t1[t1['particle'] == 0].x, t1[t1['particle'] == 0].y, linewidth=.1)\n",
    "plt.plot(t1[t1['particle'] == 1].x, t1[t1['particle'] == 1].y, linewidth=.1)\n",
    "plt.plot(t1[t1['particle'] == 2].x, t1[t1['particle'] == 2].y, linewidth=.1)\n",
    "plt.show()"
   ]
  },
  {
   "cell_type": "code",
   "execution_count": null,
   "id": "044bd424",
   "metadata": {},
   "outputs": [],
   "source": [
    "df = rawTrajs.loc[(rawTrajs.frame == 0) , [\"x\", \"y\", \"color\"]]\n",
    "fig, ax = plt.subplots(1,1)\n",
    "ax.scatter(df.x, df.y, facecolors = 'none', edgecolors = df.color, s = 150)\n",
    "ax.imshow(data[0])\n",
    "if save_verb: plt.savefig(\"../results/location_example.png\", dpi=500, bbox_inches='tight')\n",
    "if show_verb: \n",
    "    plt.show()\n",
    "else:\n",
    "    plt.close()\n",
    "\n",
    "fig = plt.figure()\n",
    "anim_running = True\n",
    "\n",
    "def onClick(event):\n",
    "    global anim_running\n",
    "    if anim_running:\n",
    "        ani.event_source.stop()\n",
    "        anim_running = False\n",
    "    else:\n",
    "        ani.event_source.start()\n",
    "        anim_running = True\n",
    "\n",
    "def update_graph(frame):\n",
    "    df = rawTrajs.loc[(rawTrajs.frame == frame) & (rawTrajs.particle == red_particle_idx) , [\"x\",\"y\",\"color\"]]\n",
    "    graph.set_offsets(df)\n",
    "    graph.set_edgecolor(df.color)\n",
    "    graph2.set_data(data[frame])\n",
    "    title.set_text('frame = {}'.format(frame))\n",
    "    return graph\n",
    "\n",
    "ax = fig.add_subplot(111)\n",
    "title = ax.set_title('frame = 0')\n",
    "df = rawTrajs.loc[(rawTrajs.frame == 0) & (rawTrajs.particle == red_particle_idx), [\"x\",\"y\",\"color\"]]\n",
    "\n",
    "graph = ax.scatter(df.x, df.y, facecolors = 'none', edgecolors = df.color, s = 150)\n",
    "\n",
    "graph2 = ax.imshow(data[0])\n",
    "\n",
    "fig.canvas.mpl_connect('button_press_event', onClick)\n",
    "ani = matplotlib.animation.FuncAnimation(fig, update_graph, 100, interval = 5, blit=False)\n",
    "if 0: ani.save('../results/video/tracking.mp4', fps=30, extra_args=['-vcodec', 'libx264'])\n",
    "if anim_show_verb:\n",
    "    plt.show()\n",
    "else:\n",
    "    plt.close()\n"
   ]
  },
  {
   "attachments": {},
   "cell_type": "markdown",
   "id": "e379a5a4",
   "metadata": {},
   "source": [
    "# estimate error in the tracking\n",
    "\n",
    "I note that between frames 18300 and 18900 a droplet 40 seems stable and isolated.\\\n",
    "Then applying a rectangular mask around it I compute the \"benchmark\" position of the droplet using Canny Edge Detection and Hough Transform.\\\n",
    "Finally I confront the tracking result with the benchmark and different window sizes of smoothing."
   ]
  },
  {
   "cell_type": "code",
   "execution_count": 86,
   "id": "6552bf09",
   "metadata": {},
   "outputs": [],
   "source": [
    "# apply mask to perform edge detection only on the benchmark particle\n",
    "@pims.pipeline\n",
    "def crop2(image, x1, y1, x2, y2):   \n",
    "    npImage = np.array(image)\n",
    "    alpha = Image.new('L', (920, 960), 0)\n",
    "    draw = ImageDraw.Draw(alpha)\n",
    "    draw.rectangle([(x1, y1), (x2, y2)], fill = 255)\n",
    "    npAlpha = np.array(alpha)\n",
    "    npImage = npImage[:, :, 1] * npAlpha\n",
    "    return npImage"
   ]
  },
  {
   "cell_type": "code",
   "execution_count": 100,
   "id": "aa16f714",
   "metadata": {},
   "outputs": [
    {
     "name": "stdout",
     "output_type": "stream",
     "text": [
      "Benchmark particle: 40\n"
     ]
    }
   ],
   "source": [
    "startFrame = 18300\n",
    "endFrame = 18900\n",
    "framesArray = np.arange(startFrame, endFrame, 1) \n",
    "\n",
    "rawTrajs = pd.read_parquet(\"./results/pre_merge_tracking.parquet\")\n",
    "benchmark_particle_id = 40\n",
    "print(\"Benchmark particle:\", benchmark_particle_id)\n",
    "rawTraj = rawTrajs.loc[(rawTrajs.frame.between(startFrame, endFrame-1)) & (rawTrajs.particle == benchmark_particle_id)]\n",
    "if 1: ref = list(pims.open('./data/movie.mp4')[startFrame:endFrame])"
   ]
  },
  {
   "cell_type": "code",
   "execution_count": 106,
   "id": "162b5325",
   "metadata": {},
   "outputs": [
    {
     "name": "stderr",
     "output_type": "stream",
     "text": [
      "deprecated pixel format used, make sure you did set range correctly\n",
      " (repeated 599 more times)\n",
      "deprecated pixel format used, make sure you did set range correctly\n",
      "deprecated pixel format used, make sure you did set range correctly\n",
      "deprecated pixel format used, make sure you did set range correctly\n",
      " (repeated 18649 more times)\n",
      "deprecated pixel format used, make sure you did set range correctly\n",
      "deprecated pixel format used, make sure you did set range correctly\n"
     ]
    }
   ],
   "source": [
    "# apply mask to perform edge detection only on the benchmark particle\n",
    "y1 = rawTraj.iloc[0].y - 50\n",
    "x1 = rawTraj.iloc[0].x - 50\n",
    "y2 = rawTraj.iloc[0].y + 110\n",
    "x2 = rawTraj.iloc[0].x + 120\n",
    "if 1: ref_masked = list(crop2(pims.open('./data/movie.mp4'), x1, y1, x2, y2)[startFrame:endFrame])"
   ]
  },
  {
   "cell_type": "code",
   "execution_count": 179,
   "id": "4829c59e",
   "metadata": {},
   "outputs": [],
   "source": [
    "\n",
    "fig, (ax, ax1) = plt.subplots(1, 2, figsize = (8, 6))\n",
    "ax.imshow(ref[0])\n",
    "ax.scatter(rawTraj.iloc[0].x, rawTraj.iloc[0].y, s=150, facecolors='none', edgecolors='b')\n",
    "ax.set(title = \"Selection of benchmark particle\", xlabel = \"x [px]\", ylabel = \"y [px]\")\n",
    "ax1.imshow(ref_masked[0])\n",
    "ax1.scatter(rawTraj.iloc[0].x, rawTraj.iloc[0].y, s=150, facecolors='none', edgecolors='b')\n",
    "ax1.set(title = \"Masked video\", xlabel = \"x [px]\")\n",
    "plt.tight_layout()\n",
    "plt.savefig(\"./results/masked_frame.png\", bbox_inches='tight')\n",
    "plt.close()"
   ]
  },
  {
   "cell_type": "code",
   "execution_count": 109,
   "id": "662cfae4",
   "metadata": {},
   "outputs": [
    {
     "data": {
      "application/vnd.jupyter.widget-view+json": {
       "model_id": "15dcfeff0b5b455f94c562f69fe856bc",
       "version_major": 2,
       "version_minor": 0
      },
      "image/png": "[encoded data removed]",
      "text/html": [
       "\n",
       "            <div style=\"display: inline-block;\">\n",
       "                <div class=\"jupyter-widgets widget-label\" style=\"text-align: center;\">\n",
       "                    Figure\n",
       "                </div>\n",
       "                <img src='data:image/png;base64,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' width=1200.0/>\n",
       "            </div>\n",
       "        "
      ],
      "text/plain": [
       "Canvas(toolbar=Toolbar(toolitems=[('Home', 'Reset original view', 'home', 'home'), ('Back', 'Back to previous …"
      ]
     },
     "metadata": {},
     "output_type": "display_data"
    }
   ],
   "source": [
    "# needed to check that only particle 40 is selected by the mask\n",
    "fig = plt.figure()\n",
    "anim_running = True\n",
    "\n",
    "def onClick(event):\n",
    "    global anim_running\n",
    "    if anim_running:\n",
    "        ani.event_source.stop()\n",
    "        anim_running = False\n",
    "    else:\n",
    "        ani.event_source.start()\n",
    "        anim_running = True\n",
    "\n",
    "def update_graph(frame):\n",
    "    df = rawTraj.loc[rawTraj.frame == startFrame + frame, [\"x\",\"y\", \"color\"]]\n",
    "    graph.set_offsets(df)\n",
    "    graph2.set_data(ref_masked[frame])\n",
    "    title.set_text('frame = {}'.format(startFrame + frame))\n",
    "    return graph\n",
    "\n",
    "ax = fig.add_subplot(111)\n",
    "title = ax.set_title(f'frame = {startFrame}')\n",
    "df = rawTraj.loc[rawTraj.frame == startFrame, [\"x\",\"y\", \"color\"]]\n",
    "\n",
    "graph = ax.scatter(df.x, df.y, facecolors = 'none', edgecolors= df.color, s = 150)\n",
    "\n",
    "graph2 = ax.imshow(ref_masked[0])\n",
    "\n",
    "fig.canvas.mpl_connect('button_press_event', onClick)\n",
    "ani = matplotlib.animation.FuncAnimation(fig, update_graph, endFrame-startFrame, interval = 2, blit=False)\n",
    "plt.show()"
   ]
  },
  {
   "cell_type": "code",
   "execution_count": 143,
   "id": "95b6de5f",
   "metadata": {},
   "outputs": [
    {
     "name": "stderr",
     "output_type": "stream",
     "text": [
      "100%|██████████| 600/600 [00:11<00:00, 52.90it/s]"
     ]
    },
    {
     "name": "stdout",
     "output_type": "stream",
     "text": [
      "Number of problems: 0\n"
     ]
    },
    {
     "name": "stderr",
     "output_type": "stream",
     "text": [
      "\n"
     ]
    }
   ],
   "source": [
    "circles = []\n",
    "problems = 0\n",
    "for i in tqdm(range(0, len(ref_masked))):\n",
    "    img = ref_masked[i]\n",
    "    # Apply Canny Edge Detection to find edges in the image\n",
    "    edges = cv2.Canny(img, 30, 30)\n",
    "\n",
    "    # Apply the Hough Transform to find circles in the image\n",
    "    temp = cv2.HoughCircles(edges, cv2.HOUGH_GRADIENT, 1, minDist=20, param1=50, param2=30, minRadius=0, maxRadius=0)\n",
    "    if temp is not None:\n",
    "        circles.append(temp[0][0])\n",
    "    else:\n",
    "        problems += 1\n",
    "print(\"Number of problems:\", problems)"
   ]
  },
  {
   "cell_type": "code",
   "execution_count": 144,
   "id": "38934f51",
   "metadata": {},
   "outputs": [],
   "source": [
    "x = np.zeros(len(circles))\n",
    "y = np.zeros(len(circles))\n",
    "d = np.zeros(len(circles))\n",
    "\n",
    "for i in range(len(circles)):\n",
    "    x[i] = circles[i][0]\n",
    "    y[i] = circles[i][1]\n",
    "    d[i] = circles[i][2]\n",
    "    \n",
    "benchmark_traj = pd.DataFrame({\"x\": x, \"y\": y, \"d\": d})"
   ]
  },
  {
   "cell_type": "code",
   "execution_count": 173,
   "id": "59d14fcb",
   "metadata": {},
   "outputs": [
    {
     "name": "stdout",
     "output_type": "stream",
     "text": [
      "MSE with raw trajectory: 4.295885879566109\n"
     ]
    }
   ],
   "source": [
    "benchmark_pos = np.sqrt(x**2 + y**2)\n",
    "tracking_pos = np.sqrt(rawTraj.x**2 + rawTraj.y**2)\n",
    "mse_raw = ((benchmark_pos - tracking_pos)**2).mean()\n",
    "print(\"MSE with raw trajectory:\", mse_raw)"
   ]
  },
  {
   "cell_type": "code",
   "execution_count": 160,
   "id": "d1488998",
   "metadata": {},
   "outputs": [],
   "source": [
    "from scipy.signal import savgol_filter\n",
    "def get_smooth_trajs(trajs, nDrops, windLen, orderofPoly):\n",
    "    # Trajectory Smoothing: using a Savgol Filter in order to drop the noise due to the tracking procedure\n",
    "    ret = trajs.copy()\n",
    "    for i in range(nDrops):\n",
    "        ret.loc[ret.particle == i, \"x\"] = savgol_filter(trajs.loc[trajs.particle == i].x.values, windLen, orderofPoly)\n",
    "        ret.loc[ret.particle == i, \"y\"] = savgol_filter(trajs.loc[trajs.particle == i].y.values, windLen, orderofPoly)    \n",
    "    return ret"
   ]
  },
  {
   "cell_type": "code",
   "execution_count": 166,
   "id": "a5201bc4",
   "metadata": {},
   "outputs": [],
   "source": [
    "windLen = 30\n",
    "smoothTrajs = get_smooth_trajs(rawTrajs, 50, windLen, 2)\n",
    "smoothTraj = smoothTrajs.loc[(smoothTrajs.frame.between(startFrame, endFrame-1)) & (smoothTrajs.particle == benchmark_particle_id)]\n",
    "tracking_smooth_pos = np.sqrt(smoothTraj.x**2 + smoothTraj.y**2)\n",
    "mse = ((benchmark_pos - tracking_smooth_pos)**2).mean()\n",
    "print(f\"MSE smoothing window {windLen}:\", mse)"
   ]
  },
  {
   "cell_type": "code",
   "execution_count": 181,
   "id": "ab93cfab",
   "metadata": {},
   "outputs": [],
   "source": [
    "fig, (ax, ax1) = plt.subplots(1, 2, figsize = (10, 5))\n",
    "ax.plot(framesArray, benchmark_pos, label = \"benchmark\")\n",
    "ax.plot(framesArray, tracking_pos, label = \"tracking\")\n",
    "ax.set_title(\"Confront with raw traj\")\n",
    "ax1.plot(framesArray, benchmark_pos, label = \"benchmark\")\n",
    "ax1.plot(framesArray, tracking_smooth_pos, label = \"tracking\")\n",
    "ax1.set_title(f\"Confront with smooth traj (window = {windLen})\")\n",
    "ax.legend()\n",
    "ax1.legend()\n",
    "plt.tight_layout()\n",
    "plt.savefig(\"./results/benchmark_confront_wind30.png\", bbox_inches='tight')\n",
    "plt.close()"
   ]
  },
  {
   "attachments": {},
   "cell_type": "markdown",
   "id": "109f09cf",
   "metadata": {},
   "source": [
    "## MSE ANALYSIS OF THE SMOOTHING WINDOW"
   ]
  },
  {
   "cell_type": "code",
   "execution_count": 171,
   "id": "b38d7bbf",
   "metadata": {},
   "outputs": [
    {
     "name": "stderr",
     "output_type": "stream",
     "text": [
      "100%|██████████| 27/27 [00:57<00:00,  2.13s/it]\n"
     ]
    }
   ],
   "source": [
    "windLenList = np.arange(3, 30, 1)\n",
    "mse = np.zeros(len(windLenList))\n",
    "for k in tqdm(range(len(windLenList))):\n",
    "    smoothTrajs = get_smooth_trajs(rawTrajs, 50, windLenList[k], 2)\n",
    "    smoothTraj = smoothTrajs.loc[(smoothTrajs.frame.between(startFrame, endFrame-1)) & (smoothTrajs.particle == benchmark_particle_id)]\n",
    "    tracking_smooth_pos = np.sqrt(smoothTraj.x**2 + smoothTraj.y**2)\n",
    "    mse[k] = ((benchmark_pos - tracking_smooth_pos)**2).mean()"
   ]
  },
  {
   "cell_type": "code",
   "execution_count": 186,
   "id": "3d34e8d8",
   "metadata": {},
   "outputs": [],
   "source": [
    "fig, ax = plt.subplots(1, 1, figsize = (8, 6))\n",
    "ax.hlines(mse_raw, windLenList[0], windLenList[-1], 'r', label = \"raw\")\n",
    "ax.plot(windLenList, mse, label = \"smooth\")\n",
    "ax.set_title(\"MSE vs smoothing window\")\n",
    "ax.set_xlabel(\"Smoothing window\")\n",
    "ax.set_ylabel(\"MSE\")\n",
    "ax.legend(loc='center right')\n",
    "plt.savefig(\"./results/mse_vs_window.png\", bbox_inches='tight')\n",
    "plt.close()"
   ]
  },
  {
   "attachments": {},
   "cell_type": "markdown",
   "id": "300bd97a",
   "metadata": {},
   "source": [
    "# MERGING ANALYSIS"
   ]
  },
  {
   "cell_type": "code",
   "execution_count": null,
   "id": "d1cc0d40",
   "metadata": {},
   "outputs": [],
   "source": [
    "preMerge = data[32268]\n",
    "merge = data[32269]\n",
    "postMerge = data[32270]\n",
    "\n",
    "# feature location with minMass, have some problems but the spurious effect are solved\n",
    "f = tp.locate(preMerge, dropSize, minmass = minMass, separation = sep, topn = nDrops, engine = 'numba')\n",
    "\n",
    "fig, (ax1, ax2) = plt.subplots(1, 2)\n",
    "ax1.hist(f['mass'], bins = 20)\n",
    "ax1.set(xlabel='mass', ylabel='count')\n",
    "ax2.imshow(preMerge)\n",
    "ax2.plot(f.x, f.y, 'bo')\n",
    "plt.suptitle(f\"Number of features found: {len(f)}\")\n",
    "plt.show()\n",
    "\n",
    "f = tp.locate(merge, dropSize, minmass = minMass, separation = sep, topn = nDrops-1, engine = 'numba')\n",
    "fig, (ax1, ax2) = plt.subplots(1, 2)\n",
    "ax1.hist(f['mass'], bins = 20)\n",
    "ax1.set(xlabel='mass', ylabel='count')\n",
    "ax2.imshow(merge)\n",
    "ax2.plot(f.x, f.y, 'bo')\n",
    "plt.suptitle(f\"Number of features found: {len(f)}\")\n",
    "\n",
    "f = tp.locate(postMerge, dropSize, minmass = minMass, separation = sep, topn = nDrops-1, engine = 'numba')\n",
    "fig, (ax1, ax2) = plt.subplots(1, 2)\n",
    "ax1.hist(f['mass'], bins = 20)\n",
    "ax1.set(xlabel='mass', ylabel='count')\n",
    "ax2.imshow(postMerge)\n",
    "ax2.plot(f.x, f.y, 'bo')\n",
    "plt.suptitle(f\"Number of features found: {len(f)}\")\n",
    "\n",
    "plt.show()\n",
    "tp.subpx_bias(f)\n",
    "plt.show()"
   ]
  }
 ],
 "metadata": {
  "kernelspec": {
   "display_name": "pyenv",
   "language": "python",
   "name": "python3"
  },
  "language_info": {
   "codemirror_mode": {
    "name": "ipython",
    "version": 3
   },
   "file_extension": ".py",
   "mimetype": "text/x-python",
   "name": "python",
   "nbconvert_exporter": "python",
   "pygments_lexer": "ipython3",
   "version": "3.10.6"
  },
  "vscode": {
   "interpreter": {
    "hash": "1d03f01ef291c499e995b04207f4c53df5fb0240f9f8862c7ea43be3c52b56d8"
   }
  }
 },
 "nbformat": 4,
 "nbformat_minor": 5
}
