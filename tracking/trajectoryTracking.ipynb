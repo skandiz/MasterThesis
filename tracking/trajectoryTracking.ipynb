{
 "cells": [
  {
   "cell_type": "code",
   "execution_count": 66,
   "id": "00e32dc7",
   "metadata": {
    "tags": []
   },
   "outputs": [],
   "source": [
    "import matplotlib as mpl\n",
    "import matplotlib.pyplot as plt\n",
    "import matplotlib.gridspec as gridspec\n",
    "%matplotlib ipympl\n",
    "plt.rcParams['figure.figsize'] = [10, 4]\n",
    "plt.rcParams['font.size'] = 8\n",
    "mpl.rc('image', cmap='gray')\n",
    "gs = gridspec.GridSpec(2, 2)\n",
    "\n",
    "import matplotlib.animation\n",
    "writervideo = matplotlib.animation.FFMpegWriter(fps=30)\n",
    "\n",
    "import numpy as np\n",
    "import pandas as pd\n",
    "import csv, json\n",
    "\n",
    "import pims\n",
    "import trackpy as tp\n",
    "tp.quiet()\n",
    "from PIL import Image, ImageDraw\n",
    "import cv2\n",
    "\n",
    "from scipy.optimize import dual_annealing, minimize\n",
    "from scipy.optimize import linear_sum_assignment\n",
    "\n",
    "from tqdm import tqdm\n",
    "import joblib\n",
    "\n",
    "from scipy.spatial import distance_matrix\n",
    "from scipy.ndimage import uniform_filter1d\n",
    "\n",
    "import random\n",
    "\n",
    "run_analysis_verb = False\n",
    "show_verb = True\n",
    "save_verb = True"
   ]
  },
  {
   "attachments": {},
   "cell_type": "markdown",
   "id": "807ab6cd",
   "metadata": {},
   "source": [
    "# TRACKPY TRACKING \n",
    "Since in movie.mp4 at frame merge_frame = 32269 two droplets merge together, the tracking procedure is divided into two parts: \\\n",
    "    - Pre merge [0:merge_frame] --> 50 features to locate \\\n",
    "    - Post merge [merge_frame:] --> 49 features to locate"
   ]
  },
  {
   "cell_type": "code",
   "execution_count": null,
   "id": "8e46a58c",
   "metadata": {},
   "outputs": [],
   "source": [
    "# PRE PROCESSING\n",
    "@pims.pipeline\n",
    "def trackpy_preprocessing(image, x1, y1, x2, y2):    \n",
    "    npImage = np.array(image)\n",
    "    # Create same size alpha layer with circle\n",
    "    #alpha = Image.new('L', (920, 960), 0)\n",
    "    alpha = Image.new('L', (920, 960), 0)\n",
    "\n",
    "    draw = ImageDraw.Draw(alpha)\n",
    "    draw.pieslice(((x1, y1), (x2, y2)), 0, 360, fill=255)\n",
    "\n",
    "    # Convert alpha Image to numpy arrayf\n",
    "    npAlpha = np.array(alpha)\n",
    "    npImage = npImage[:, :, 1] * npAlpha\n",
    "    \n",
    "    ind = np.where(npImage == 0)\n",
    "    # npImage[200, 200] color of the border to swap with the black\n",
    "    npImage[ind] = npImage[200, 200]\n",
    "    return npImage"
   ]
  },
  {
   "cell_type": "code",
   "execution_count": null,
   "id": "f024ea16",
   "metadata": {},
   "outputs": [],
   "source": [
    "# import video with pre processing applied\n",
    "data = trackpy_preprocessing(pims.open('./data/movie.mp4'), 55, 55, 880, 880)\n",
    "data_ref = pims.open('./data/movie.mp4')"
   ]
  },
  {
   "cell_type": "code",
   "execution_count": null,
   "id": "0bd5fac4",
   "metadata": {},
   "outputs": [],
   "source": [
    "frame = 0\n",
    "fig, (ax, ax1) = plt.subplots(1, 2)\n",
    "ax.imshow(data_ref[frame])\n",
    "ax.set(title = f'Original - frame {frame}', xlabel = 'X [px]', ylabel = 'Y [px]')\n",
    "ax1.imshow(data[frame])\n",
    "ax1.set(title = f'Processed - frame {frame}', xlabel = 'X [px]', ylabel = 'Y [px]')\n",
    "plt.tight_layout()\n",
    "if save_verb: plt.savefig('./results/pre_processing_example.png', bbox_inches='tight')\n",
    "if show_verb: \n",
    "    plt.show()\n",
    "else:\n",
    "    plt.close()"
   ]
  },
  {
   "attachments": {},
   "cell_type": "markdown",
   "id": "c383209e",
   "metadata": {},
   "source": [
    "## PRE MERGE "
   ]
  },
  {
   "cell_type": "code",
   "execution_count": null,
   "id": "d0181830",
   "metadata": {},
   "outputs": [],
   "source": [
    "run_analysis_verb = False\n",
    "if run_analysis_verb:\n",
    "    ###############################################################################################\n",
    "    #                                           PARAMETERS                                        #\n",
    "    ###############################################################################################\n",
    "    dropSize = 31  \n",
    "    minMass = 2000\n",
    "    sep = 16\n",
    "    nDrops = 50\n",
    "    trackpy_params = {\"dropSize\": dropSize, \"minMass\": minMass, \"sep\": sep, \"nDrops\": nDrops}\n",
    "    # save parameters used for the trial tracking:\n",
    "    with open('./results/tracking_data/trackpy_trial_params.txt', 'w') as fp:\n",
    "        json.dump(trackpy_params, fp)\n",
    "\n",
    "    ###############################################################################################\n",
    "    #                                     FEATURES LOCATION                                       #\n",
    "    ###############################################################################################\n",
    "    nFrames = 100 # up to merge_frame\n",
    "    startFrame = 0\n",
    "    endFrame = startFrame + nFrames\n",
    "    f = tp.batch(data[startFrame:endFrame], dropSize, minmass = minMass, separation = sep, topn = nDrops, engine = 'numba')    \n",
    "    display(f)\n",
    "\n",
    "    ###############################################################################################\n",
    "    #                                      FEATURES LINKING                                       #\n",
    "    ###############################################################################################\n",
    "    t = tp.link_df(f, 150, memory = 2, link_strategy = 'hybrid', neighbor_strategy = 'KDTree', adaptive_stop = 1)\n",
    "    display(t)\n",
    "\n",
    "    # CREATE COLOR COLUMN AND SAVE DF\n",
    "    n = max(t.particle)\n",
    "    print(n)\n",
    "    random.seed(5)\n",
    "    colors = [\"#\"+''.join([random.choice('0123456789ABCDEF') for j in range(6)]) for i in range(n)]\n",
    "    for i in range(max(t.particle)+1-n):\n",
    "        colors.append(\"#00FFFF\")\n",
    "    c = []\n",
    "    for p in t.particle:\n",
    "        c.append(colors[p])\n",
    "    t[\"color\"] = c\n",
    "    trajectory = t.copy()\n",
    "    trajectory.to_parquet('./results/tracking_data/trackpy_trial.parquet')\n",
    "    display(trajectory)\n",
    "else:\n",
    "    try:\n",
    "        trajectory = pd.read_parquet('./results/tracking_data/trackpy_pre_merge_sorted_and_colored.parquet')\n",
    "        display(trajectory)\n",
    "    except:\n",
    "        print(\"ERROR: no trajectory data found\")"
   ]
  },
  {
   "cell_type": "code",
   "execution_count": null,
   "id": "e5bf8961",
   "metadata": {},
   "outputs": [],
   "source": [
    "\"\"\"\n",
    "# need to work on this\n",
    "\n",
    "# ANOMALIES DETECTION\n",
    "num = np.zeros(1000)\n",
    "for i in range(1000):\n",
    "    num[i] = len(f.loc[f['frame'] == i + startFrame])\n",
    "\n",
    "idx = np.where(num != nDrops)[0]\n",
    "print(idx)\n",
    "if len(idx) != 0:\n",
    "    delta = np.zeros(len(idx)-1)\n",
    "    for i in range(len(idx)-1):\n",
    "        delta[i] = idx[i+1]-idx[i]\n",
    "    print(delta)\n",
    "\n",
    "t = tp.link_df(f, 50, memory = 2, link_strategy = 'hybrid', neighbor_strategy = 'KDTree', adaptive_stop = 1)\n",
    "t = tp.filter_stubs(t, 50)\n",
    "\n",
    "# ANOMALIES DETECTION\n",
    "n = max(t.particle)\n",
    "print(n)\n",
    "random.seed(5)\n",
    "colors = [\"#\"+''.join([random.choice('0123456789ABCDEF') for j in range(6)]) for i in range(n)]\n",
    "for i in range(max(t.particle)+1-n):\n",
    "    colors.append(\"#00FFFF\")\n",
    "c = []\n",
    "for p in t.particle:\n",
    "    c.append(colors[p])\n",
    "t[\"color\"] = c\n",
    "\n",
    "display(t)\n",
    "df = t.loc[(t.frame == startFrame+100) , [\"x\", \"y\", \"color\"]]\n",
    "fig, ax = plt.subplots(1, 1)\n",
    "ax.scatter(df.x, df.y, facecolors = 'none', edgecolors = df.color, s = 50)\n",
    "ax.imshow(data_preload[100])\n",
    "plt.show()\n",
    "df = t.loc[t['frame'] == f1, [\"x\", \"y\", \"color\", \"particle\"]]\n",
    "\n",
    "fig, (ax, ax1) = plt.subplots(1, 2)\n",
    "ax.scatter(df.x, df.y, s=50, ec = \"w\", facecolor = df.color)\n",
    "ax.imshow(data[f1])\n",
    "df1 = t.loc[t['frame'] == f2, [\"x\", \"y\", \"color\"]]\n",
    "ax1.scatter(df1.x, df1.y, s=50, ec = \"w\", facecolor = df1.color)\n",
    "ax1.imshow(data[f2])\n",
    "plt.show()\n",
    "lost_particles = []\n",
    "for i in range(nFrames-1):\n",
    "    a = t.loc[t.frame == i].sort_values('particle').particle.values\n",
    "    b = t.loc[t.frame == i+1].sort_values('particle').particle.values\n",
    "    ind = np.where(np.in1d(a, b)==False)[0]\n",
    "    if ind.size > 0:\n",
    "        lost_particles.append([i, a[ind]])\n",
    "print(\"Total problems:\", len(lost_particles))\n",
    "print(ind)\n",
    "\n",
    "if len(lost_particles) > 0: \n",
    "    print(f\"First failure occurred at frame {lost_particles[0][0]}\")\n",
    "    f1 = lost_particles[0][0]\n",
    "    f2 = lost_particles[0][0]+1\n",
    "    print(t.loc[t.frame == f1].sort_values('particle').particle.values)\n",
    "    print(t.loc[t.frame == f2].sort_values('particle').particle.values)\n",
    "\n",
    "if len(lost_particles)>0: \n",
    "    fig, (ax, ax1) = plt.subplots(1, 2)\n",
    "    df = t.loc[t['frame'] == f1, [\"x\", \"y\", \"color\", \"particle\"]]\n",
    "    ax.scatter(df.x, df.y, s=50, ec = \"w\", facecolor = df.color)\n",
    "    #ax.scatter(df.loc[df.particle==43].x, df.loc[df.particle==43].y, s=100)\n",
    "    #ax.scatter(df.loc[df.particle==82].x, df.loc[df.particle==82].y, s=100)\n",
    "    ax.imshow(data[f1])\n",
    "\n",
    "    df1 = t.loc[t['frame'] == f2, [\"x\", \"y\", \"color\"]]\n",
    "    ax1.scatter(df1.x, df1.y, s=50, ec = \"w\", facecolor = df1.color)\n",
    "    ax1.imshow(data[f2])\n",
    "\n",
    "    plt.show()\n",
    "\"\"\""
   ]
  },
  {
   "cell_type": "code",
   "execution_count": null,
   "id": "044bd424",
   "metadata": {},
   "outputs": [],
   "source": [
    "# animated plot of the tracking results\n",
    "fig = plt.figure(figsize = (5, 5))\n",
    "anim_running = True\n",
    "\n",
    "def onClick(event):\n",
    "    global anim_running\n",
    "    if anim_running:\n",
    "        ani.event_source.stop()\n",
    "        anim_running = False\n",
    "    else:\n",
    "        ani.event_source.start()\n",
    "        anim_running = True\n",
    "\n",
    "def update_graph(frame):\n",
    "    df = trajectory.loc[(trajectory.frame == frame) , [\"x\",\"y\",\"color\",\"size\"]]\n",
    "    for i in range(50):\n",
    "        graph[i].center = (df.x.values[i], df.y.values[i])\n",
    "        graph[i].radius = 2*df[\"size\"].values[i]\n",
    "    graph2.set_data(data[frame])\n",
    "    title.set_text('Tracking raw - frame = {}'.format(frame))\n",
    "    return graph\n",
    "\n",
    "ax = fig.add_subplot(111)\n",
    "title = ax.set_title('Tracking raw - frame = 0')\n",
    "ax.set(xlabel = 'X [px]', ylabel = 'Y [px]')\n",
    "df = trajectory.loc[(trajectory.frame == 0), [\"x\",\"y\",\"color\",\"size\"]]\n",
    "\n",
    "graph = []\n",
    "for i in range(50):\n",
    "    graph.append(ax.add_artist(plt.Circle((df.x.values[i], df.y.values[i]), 2*df[\"size\"].values[i], color = df.color.values[i],\\\n",
    "                                           fill = False, linewidth=1)))\n",
    "graph2 = ax.imshow(data[0])\n",
    "\n",
    "fig.canvas.mpl_connect('button_press_event', onClick)\n",
    "ani = matplotlib.animation.FuncAnimation(fig, update_graph, range(0, max(trajectory.frame), 1), interval = 5, blit=False)\n",
    "if 0: \n",
    "    writer = matplotlib.animation.FFMpegWriter(fps = 30, metadata = dict(artist='Matteo Scandola'), extra_args=['-vcodec', 'libx264'])\n",
    "    ani.save('./results/tracking_raw_trial.mp4', writer=writer, dpi = 300)\n",
    "plt.show()"
   ]
  },
  {
   "attachments": {},
   "cell_type": "markdown",
   "id": "ec4587f9",
   "metadata": {},
   "source": [
    "## POST MERGE  - to do"
   ]
  },
  {
   "cell_type": "code",
   "execution_count": null,
   "id": "bf54c30f",
   "metadata": {},
   "outputs": [],
   "source": [
    "# parameters of the tracking\n",
    "dropSize = 31  \n",
    "minMass = 2000\n",
    "sep = 16\n",
    "nDrops = 49\n",
    "\n",
    "# FEATURES LOCATION\n",
    "nFrames = 100 # total number of frames of video --> len(data)\n",
    "startFrame = merge_frame + 100 \n",
    "endFrame = startFrame + nFrames\n",
    "\n",
    "preload = True\n",
    "if preload:\n",
    "    data_preload = list(data[startFrame:endFrame])"
   ]
  },
  {
   "cell_type": "code",
   "execution_count": null,
   "id": "c457a825",
   "metadata": {},
   "outputs": [],
   "source": [
    "f = tp.batch(data_preload, dropSize, minmass = minMass, separation = sep, topn = nDrops, engine = 'numba')    \n",
    "f.frame = f.frame + startFrame"
   ]
  },
  {
   "cell_type": "code",
   "execution_count": null,
   "id": "3e75fc0b",
   "metadata": {},
   "outputs": [],
   "source": []
  },
  {
   "attachments": {},
   "cell_type": "markdown",
   "id": "629fb8d1",
   "metadata": {},
   "source": [
    "# HOUGH TRACKING"
   ]
  },
  {
   "cell_type": "code",
   "execution_count": 67,
   "id": "c9af4731",
   "metadata": {},
   "outputs": [],
   "source": [
    "@pims.pipeline\n",
    "def hough_preprocessing(image, x1, y1, x2, y2):    \n",
    "    #image = cv2.GaussianBlur(image, ksize = [7,7], sigmaX = 1.5, sigmaY = 1.5)\n",
    "    npImage = np.array(image)\n",
    "    # Create same size alpha layer with circle\n",
    "    alpha = Image.new('L', (920, 960), 0)\n",
    "\n",
    "    draw = ImageDraw.Draw(alpha)\n",
    "    draw.pieslice(((x1, y1), (x2, y2)), 0, 360, fill=255)\n",
    "\n",
    "    # Convert alpha Image to numpy array\n",
    "    npAlpha = np.array(alpha)\n",
    "    npImage = npImage[:, :, 1] * npAlpha\n",
    "    \n",
    "    ind = np.where(npImage == 0)\n",
    "    # npImage[200, 200] color of the border to swap with the black\n",
    "    npImage[ind] = npImage[200, 200]\n",
    "    npImage = cv2.medianBlur(npImage, 5)\n",
    "    return npImage\n",
    "\n",
    "@joblib.delayed\n",
    "def loc_frame(correct_n, frame, img, parameters):\n",
    "\ttemp = cv2.HoughCircles(img, cv2.HOUGH_GRADIENT_ALT, **parameters)\n",
    "\tif (temp is not None) and (temp.shape[1] == correct_n):\n",
    "\t\treturn np.hstack((temp[0], (np.ones((correct_n, 1), dtype=int)*frame), np.ones((correct_n, 1), dtype=int)*correct_n))\n",
    "\telif (temp is not None) and (temp.shape[1] != correct_n):\n",
    "\t\treturn np.hstack((np.zeros((correct_n, 3)), (np.ones((correct_n, 1), dtype=int)*frame), np.ones((correct_n, 1), dtype=int)*temp.shape[1]))\n",
    "\telse:\n",
    "\t\treturn np.hstack((np.zeros((correct_n, 3)), (np.ones((correct_n, 1), dtype=int)*frame), np.zeros((correct_n, 1), dtype=int)))\n"
   ]
  },
  {
   "cell_type": "code",
   "execution_count": 68,
   "id": "ed12301c",
   "metadata": {},
   "outputs": [],
   "source": [
    "def hough_feature_location(data_preload, frames, correct_n, params):\n",
    "    parallel = joblib.Parallel(n_jobs = -2)\n",
    "    temp = parallel(\n",
    "        loc_frame(correct_n, frame, data_preload[frame-frames[0]], params)\n",
    "        for frame in frames #tqdm(frames)\n",
    "    )\n",
    "    temp = pd.DataFrame(np.array(temp).reshape(len(frames)*correct_n, 5), columns = [\"x\", \"y\", \"d\", \"frame\", \"nDroplets\"])\n",
    "    err_frames = frames[0] + np.where(temp.groupby(\"frame\").mean().nDroplets!=correct_n)[0]\n",
    "    loss = err_frames.shape[0]/frames.shape[0]\n",
    "    return temp, err_frames, loss"
   ]
  },
  {
   "cell_type": "code",
   "execution_count": 69,
   "id": "491045fe",
   "metadata": {},
   "outputs": [],
   "source": [
    "def optimize_params(x, *args):\n",
    "    data_preload, frames, correct_n, writer = args\n",
    "    params = {\"dp\":x[0], \"minDist\":x[1], \"param1\":x[2], \"param2\":x[3], \"minRadius\":int(x[4]), \"maxRadius\":int(x[5])}\n",
    "    _, _, loss = hough_feature_location(data_preload, frames, correct_n, params)\n",
    "    # write to csv loss and parameters\n",
    "    writer.writerow([loss] + list(params.values()))\n",
    "    return loss\n",
    "\n",
    "def plot_optimization_results(opt_result_df, slot2):\n",
    "    fig, ax = plt.subplots(1, 1)\n",
    "    ax.plot(np.arange(0, len(opt_result_df.loss), 1), opt_result_df.loss, 'b-')\n",
    "    ax.set_ylabel(\"loss\", color = 'b') \n",
    "    ax1 = ax.twinx() \n",
    "    ax1.plot(np.arange(0, len(opt_result_df[slot2]), 1), opt_result_df[slot2], 'r.')\n",
    "    ax1.set_ylabel(slot2, color='r')\n",
    "    ax.grid()\n",
    "    plt.show()\n",
    "    return fig"
   ]
  },
  {
   "attachments": {},
   "cell_type": "markdown",
   "id": "9985feb9",
   "metadata": {},
   "source": [
    "## PRE MERGE"
   ]
  },
  {
   "cell_type": "code",
   "execution_count": 80,
   "id": "c144b96b",
   "metadata": {},
   "outputs": [
    {
     "name": "stderr",
     "output_type": "stream",
     "text": [
      "deprecated pixel format used, make sure you did set range correctly\n"
     ]
    }
   ],
   "source": [
    "# SETUP\n",
    "preload_load_data = False # takes 20 min\n",
    "merge_frame = 32269\n",
    "data = hough_preprocessing(pims.open('./data/movie.mp4'), 40, 55, 895, 910)\n",
    "if preload_load_data: data_preload = list(data[:merge_frame])\n",
    "\n",
    "startFrame = 0\n",
    "endFrame = merge_frame\n",
    "frames = np.arange(startFrame, endFrame, 100)\n",
    "correct_n = 50\n",
    "default_parameters = {\"dp\": 1.5, \"minDist\": 15, \"param1\": 100, \"param2\": 0.8, \"minRadius\": 15, \"maxRadius\": 25}"
   ]
  },
  {
   "cell_type": "code",
   "execution_count": 72,
   "id": "7addc829",
   "metadata": {},
   "outputs": [
    {
     "name": "stdout",
     "output_type": "stream",
     "text": [
      "{'dp': 1.5, 'minDist': 15, 'param1': 100, 'param2': 0.8, 'minRadius': 15, 'maxRadius': 25}\n"
     ]
    }
   ],
   "source": [
    "optimization_verb = False\n",
    "run_optimization_verb = False\n",
    "if optimization_verb:\n",
    "    if run_optimization_verb:\n",
    "        with open(\"./results/tracking_data/hough/pre_merge_optimization.csv\", 'w') as f1:\n",
    "            writer = csv.writer(f1, delimiter='\\t',lineterminator='\\n',)\n",
    "            writer.writerow([\"loss\", \"dp\", \"minDist\", \"param1\", \"param2\", \"minRadius\", \"maxRadius\"])\n",
    "            opt_result = dual_annealing(optimize_params, x0 = [1.5, 15, 100, 0.9, 15, 25], \\\n",
    "                                        args = (data_preload, frames, correct_n, writer),\\\n",
    "                                        bounds = [(1, 3), (5, 20), (50, 200), (0.3, 1), (5, 20), (10, 30)],\\\n",
    "                                        maxiter = 2000)\n",
    "    else:\n",
    "        try:\n",
    "            opt_result_df = pd.read_csv(\"./results/tracking_data/hough/pre_merge_optimization.csv\", sep=\"\\t\").sort_values(\"loss\", ascending=False)\n",
    "        except:\n",
    "            raise Exception(\"No optimization results found\")\n",
    "\n",
    "        optimized_parameters = opt_result_df.iloc[-1]\n",
    "        optimized_parameters = {\"dp\": optimized_parameters.dp, \"minDist\": optimized_parameters.minDist,\\\n",
    "                                \"param1\": optimized_parameters.param1, \"param2\": optimized_parameters.param2,\\\n",
    "                                \"minRadius\": int(optimized_parameters.minRadius), \"maxRadius\": int(optimized_parameters.maxRadius)}\n",
    "        parameters = optimized_parameters\n",
    "        print(\"Optimized parameters:\", parameters)\n",
    "else:\n",
    "    parameters = default_parameters\n",
    "    print(\"Default parameters:\", parameters)"
   ]
  },
  {
   "cell_type": "code",
   "execution_count": 78,
   "id": "a4291bd3",
   "metadata": {},
   "outputs": [
    {
     "name": "stdout",
     "output_type": "stream",
     "text": [
      "{'dp': 1.5, 'minDist': 10, 'param1': 100, 'param2': 0.8, 'minRadius': 10, 'maxRadius': 30}\n"
     ]
    },
    {
     "data": {
      "text/html": [
       "<div>\n",
       "<style scoped>\n",
       "    .dataframe tbody tr th:only-of-type {\n",
       "        vertical-align: middle;\n",
       "    }\n",
       "\n",
       "    .dataframe tbody tr th {\n",
       "        vertical-align: top;\n",
       "    }\n",
       "\n",
       "    .dataframe thead th {\n",
       "        text-align: right;\n",
       "    }\n",
       "</style>\n",
       "<table border=\"1\" class=\"dataframe\">\n",
       "  <thead>\n",
       "    <tr style=\"text-align: right;\">\n",
       "      <th></th>\n",
       "      <th>x</th>\n",
       "      <th>y</th>\n",
       "      <th>d</th>\n",
       "      <th>frame</th>\n",
       "    </tr>\n",
       "  </thead>\n",
       "  <tbody>\n",
       "    <tr>\n",
       "      <th>0</th>\n",
       "      <td>289.5</td>\n",
       "      <td>312.0</td>\n",
       "      <td>20.343748</td>\n",
       "      <td>0.0</td>\n",
       "    </tr>\n",
       "    <tr>\n",
       "      <th>1</th>\n",
       "      <td>376.5</td>\n",
       "      <td>736.5</td>\n",
       "      <td>20.462193</td>\n",
       "      <td>0.0</td>\n",
       "    </tr>\n",
       "    <tr>\n",
       "      <th>2</th>\n",
       "      <td>561.0</td>\n",
       "      <td>402.0</td>\n",
       "      <td>20.357298</td>\n",
       "      <td>0.0</td>\n",
       "    </tr>\n",
       "    <tr>\n",
       "      <th>3</th>\n",
       "      <td>505.5</td>\n",
       "      <td>529.5</td>\n",
       "      <td>20.472479</td>\n",
       "      <td>0.0</td>\n",
       "    </tr>\n",
       "    <tr>\n",
       "      <th>4</th>\n",
       "      <td>612.0</td>\n",
       "      <td>295.5</td>\n",
       "      <td>19.760178</td>\n",
       "      <td>0.0</td>\n",
       "    </tr>\n",
       "    <tr>\n",
       "      <th>...</th>\n",
       "      <td>...</td>\n",
       "      <td>...</td>\n",
       "      <td>...</td>\n",
       "      <td>...</td>\n",
       "    </tr>\n",
       "    <tr>\n",
       "      <th>1613445</th>\n",
       "      <td>603.0</td>\n",
       "      <td>661.5</td>\n",
       "      <td>17.479904</td>\n",
       "      <td>32268.0</td>\n",
       "    </tr>\n",
       "    <tr>\n",
       "      <th>1613446</th>\n",
       "      <td>711.0</td>\n",
       "      <td>393.0</td>\n",
       "      <td>17.456051</td>\n",
       "      <td>32268.0</td>\n",
       "    </tr>\n",
       "    <tr>\n",
       "      <th>1613447</th>\n",
       "      <td>274.5</td>\n",
       "      <td>295.5</td>\n",
       "      <td>17.386591</td>\n",
       "      <td>32268.0</td>\n",
       "    </tr>\n",
       "    <tr>\n",
       "      <th>1613448</th>\n",
       "      <td>364.5</td>\n",
       "      <td>679.5</td>\n",
       "      <td>17.219559</td>\n",
       "      <td>32268.0</td>\n",
       "    </tr>\n",
       "    <tr>\n",
       "      <th>1613449</th>\n",
       "      <td>339.0</td>\n",
       "      <td>654.0</td>\n",
       "      <td>17.693829</td>\n",
       "      <td>32268.0</td>\n",
       "    </tr>\n",
       "  </tbody>\n",
       "</table>\n",
       "<p>1613450 rows × 4 columns</p>\n",
       "</div>"
      ],
      "text/plain": [
       "             x      y          d    frame\n",
       "0        289.5  312.0  20.343748      0.0\n",
       "1        376.5  736.5  20.462193      0.0\n",
       "2        561.0  402.0  20.357298      0.0\n",
       "3        505.5  529.5  20.472479      0.0\n",
       "4        612.0  295.5  19.760178      0.0\n",
       "...        ...    ...        ...      ...\n",
       "1613445  603.0  661.5  17.479904  32268.0\n",
       "1613446  711.0  393.0  17.456051  32268.0\n",
       "1613447  274.5  295.5  17.386591  32268.0\n",
       "1613448  364.5  679.5  17.219559  32268.0\n",
       "1613449  339.0  654.0  17.693829  32268.0\n",
       "\n",
       "[1613450 rows x 4 columns]"
      ]
     },
     "metadata": {},
     "output_type": "display_data"
    }
   ],
   "source": [
    "if run_analysis_verb:\n",
    "    # save to txt parameters:\n",
    "    with open('./results/tracking_data/hough/hough_pre_merge.txt', 'w') as f:\n",
    "        f.write(json.dumps(parameters))\n",
    "    pre_merge_df, err_frames, error = hough_feature_location(data_preload, frames, correct_n, parameters)\n",
    "    pre_merge_df.to_parquet(\"./results/tracking_data/hough_pre_merge.parquet\")\n",
    "else:\n",
    "    try:\n",
    "        parameters = json.load(open('./results/tracking_data/hough/hough_pre_merge.txt'))\n",
    "        pre_merge_df = pd.read_parquet(\"./results/tracking_data/hough/hough_pre_merge.parquet\")\n",
    "        print(parameters)\n",
    "        display(pre_merge_df)\n",
    "    except:\n",
    "        raise Exception(\"No pre merge data found, run analysis first\")"
   ]
  },
  {
   "cell_type": "code",
   "execution_count": 88,
   "id": "aba25f19",
   "metadata": {},
   "outputs": [
    {
     "name": "stdout",
     "output_type": "stream",
     "text": [
      "Number of frames: 32269\n",
      "Percentage of error: 121/32269\n"
     ]
    }
   ],
   "source": [
    "frames = (pre_merge_df.frame.values[::correct_n]).astype(int)\n",
    "print(f\"Number of frames: {len(frames)}\")\n",
    "err_frames = frames[0] + np.where(pre_merge_df.groupby(\"frame\").mean().x==0)[0]\n",
    "print(f\"Percentage of error: {len(err_frames)}/{len(frames)}\")"
   ]
  },
  {
   "attachments": {},
   "cell_type": "markdown",
   "id": "8f476656",
   "metadata": {},
   "source": [
    "## POST MERGE "
   ]
  },
  {
   "cell_type": "code",
   "execution_count": 89,
   "id": "8ae9cf6f",
   "metadata": {},
   "outputs": [
    {
     "name": "stderr",
     "output_type": "stream",
     "text": [
      "deprecated pixel format used, make sure you did set range correctly\n"
     ]
    }
   ],
   "source": [
    "# SETUP\n",
    "preload_load_data = False # takes 20 min\n",
    "merge_frame = 32269\n",
    "data = hough_preprocessing(pims.open('./data/movie.mp4'), 40, 55, 895, 910)\n",
    "if preload_load_data: data_preload = list(data[merge_frame:])\n",
    "\n",
    "startFrame = merge_frame\n",
    "endFrame = len(data) \n",
    "frames = np.arange(startFrame, endFrame, 1)\n",
    "opt_test_frames = np.arange(startFrame, endFrame, 500)\n",
    "correct_n = 49\n",
    "default_parameters = {\"dp\": 1.5, \"minDist\": 10, \"param1\": 100, \"param2\": 0.8, \"minRadius\": 10, \"maxRadius\": 30}"
   ]
  },
  {
   "cell_type": "code",
   "execution_count": 90,
   "id": "69448516",
   "metadata": {},
   "outputs": [
    {
     "data": {
      "application/vnd.jupyter.widget-view+json": {
       "model_id": "575b9c183037429baa708d75c28ae4b8",
       "version_major": 2,
       "version_minor": 0
      },
      "image/png": "[encoded data removed]",
      "text/html": [
       "\n",
       "            <div style=\"display: inline-block;\">\n",
       "                <div class=\"jupyter-widgets widget-label\" style=\"text-align: center;\">\n",
       "                    Figure\n",
       "                </div>\n",
       "                <img src='data:image/png;base64,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' width=1000.0/>\n",
       "            </div>\n",
       "        "
      ],
      "text/plain": [
       "Canvas(toolbar=Toolbar(toolitems=[('Home', 'Reset original view', 'home', 'home'), ('Back', 'Back to previous …"
      ]
     },
     "metadata": {},
     "output_type": "display_data"
    },
    {
     "name": "stdout",
     "output_type": "stream",
     "text": [
      "Optimized parameters: {'dp': 1.956521718714157, 'minDist': 6.397777520212912, 'param1': 68.451647079123, 'param2': 0.6675999321347759, 'minRadius': 9, 'maxRadius': 29}\n"
     ]
    }
   ],
   "source": [
    "optimization_verb = True\n",
    "run_optimization_verb = False\n",
    "if optimization_verb:\n",
    "    if run_optimization_verb:\n",
    "        with open(\"./results/tracking_data/hough/post_merge_optimization.csv\", 'w') as f1:\n",
    "            writer = csv.writer(f1, delimiter='\\t',lineterminator='\\n',)\n",
    "            writer.writerow([\"loss\", \"dp\", \"minDist\", \"param1\", \"param2\", \"minRadius\", \"maxRadius\"])\n",
    "            opt_result = dual_annealing(optimize_params, x0 = [1.5, 15, 100, 0.9, 15, 25], \\\n",
    "                                        args = (data_preload, opt_test_frames, correct_n, writer),\\\n",
    "                                        bounds = [(1, 3), (5, 20), (50, 200), (0.3, 1), (5, 20), (10, 30)],\\\n",
    "                                        maxiter = 2000)\n",
    "    else:\n",
    "        opt_result_df = pd.read_csv(\"./results/tracking_data/hough/post_merge_optimization.csv\", sep=\"\\t\").sort_values(\"loss\", ascending=False)\n",
    "        # plot example of optimization result, in this case minRadius, can be any parameter\n",
    "        plot_optimization_results(opt_result_df, \"minRadius\")\n",
    "        \n",
    "        optimized_parameters = opt_result_df.iloc[-1]\n",
    "        optimized_parameters = {\"dp\": optimized_parameters.dp, \"minDist\": optimized_parameters.minDist,\\\n",
    "                                \"param1\": optimized_parameters.param1, \"param2\": optimized_parameters.param2,\\\n",
    "                                \"minRadius\": int(optimized_parameters.minRadius), \"maxRadius\": int(optimized_parameters.maxRadius)}\n",
    "        parameters = optimized_parameters\n",
    "        print(\"Optimized parameters:\", parameters)\n",
    "else:\n",
    "    parameters = default_parameters\n",
    "    print(\"default parameters:\", parameters)"
   ]
  },
  {
   "cell_type": "code",
   "execution_count": 91,
   "id": "78e5f619",
   "metadata": {},
   "outputs": [
    {
     "name": "stdout",
     "output_type": "stream",
     "text": [
      "{'dp': 1.956521718714157, 'minDist': 6.397777520212912, 'param1': 68.451647079123, 'param2': 0.6675999321347759, 'minRadius': 9, 'maxRadius': 29}\n"
     ]
    },
    {
     "data": {
      "text/html": [
       "<div>\n",
       "<style scoped>\n",
       "    .dataframe tbody tr th:only-of-type {\n",
       "        vertical-align: middle;\n",
       "    }\n",
       "\n",
       "    .dataframe tbody tr th {\n",
       "        vertical-align: top;\n",
       "    }\n",
       "\n",
       "    .dataframe thead th {\n",
       "        text-align: right;\n",
       "    }\n",
       "</style>\n",
       "<table border=\"1\" class=\"dataframe\">\n",
       "  <thead>\n",
       "    <tr style=\"text-align: right;\">\n",
       "      <th></th>\n",
       "      <th>x</th>\n",
       "      <th>y</th>\n",
       "      <th>d</th>\n",
       "      <th>frame</th>\n",
       "    </tr>\n",
       "  </thead>\n",
       "  <tbody>\n",
       "    <tr>\n",
       "      <th>0</th>\n",
       "      <td>633.0</td>\n",
       "      <td>640.5</td>\n",
       "      <td>17.849775</td>\n",
       "      <td>32269.0</td>\n",
       "    </tr>\n",
       "    <tr>\n",
       "      <th>1</th>\n",
       "      <td>612.0</td>\n",
       "      <td>249.0</td>\n",
       "      <td>18.781656</td>\n",
       "      <td>32269.0</td>\n",
       "    </tr>\n",
       "    <tr>\n",
       "      <th>2</th>\n",
       "      <td>570.0</td>\n",
       "      <td>679.5</td>\n",
       "      <td>18.428820</td>\n",
       "      <td>32269.0</td>\n",
       "    </tr>\n",
       "    <tr>\n",
       "      <th>3</th>\n",
       "      <td>177.0</td>\n",
       "      <td>465.0</td>\n",
       "      <td>18.383776</td>\n",
       "      <td>32269.0</td>\n",
       "    </tr>\n",
       "    <tr>\n",
       "      <th>4</th>\n",
       "      <td>252.0</td>\n",
       "      <td>324.0</td>\n",
       "      <td>18.631866</td>\n",
       "      <td>32269.0</td>\n",
       "    </tr>\n",
       "    <tr>\n",
       "      <th>...</th>\n",
       "      <td>...</td>\n",
       "      <td>...</td>\n",
       "      <td>...</td>\n",
       "      <td>...</td>\n",
       "    </tr>\n",
       "    <tr>\n",
       "      <th>2377720</th>\n",
       "      <td>0.0</td>\n",
       "      <td>0.0</td>\n",
       "      <td>0.000000</td>\n",
       "      <td>80793.0</td>\n",
       "    </tr>\n",
       "    <tr>\n",
       "      <th>2377721</th>\n",
       "      <td>0.0</td>\n",
       "      <td>0.0</td>\n",
       "      <td>0.000000</td>\n",
       "      <td>80793.0</td>\n",
       "    </tr>\n",
       "    <tr>\n",
       "      <th>2377722</th>\n",
       "      <td>0.0</td>\n",
       "      <td>0.0</td>\n",
       "      <td>0.000000</td>\n",
       "      <td>80793.0</td>\n",
       "    </tr>\n",
       "    <tr>\n",
       "      <th>2377723</th>\n",
       "      <td>0.0</td>\n",
       "      <td>0.0</td>\n",
       "      <td>0.000000</td>\n",
       "      <td>80793.0</td>\n",
       "    </tr>\n",
       "    <tr>\n",
       "      <th>2377724</th>\n",
       "      <td>0.0</td>\n",
       "      <td>0.0</td>\n",
       "      <td>0.000000</td>\n",
       "      <td>80793.0</td>\n",
       "    </tr>\n",
       "  </tbody>\n",
       "</table>\n",
       "<p>2377725 rows × 4 columns</p>\n",
       "</div>"
      ],
      "text/plain": [
       "             x      y          d    frame\n",
       "0        633.0  640.5  17.849775  32269.0\n",
       "1        612.0  249.0  18.781656  32269.0\n",
       "2        570.0  679.5  18.428820  32269.0\n",
       "3        177.0  465.0  18.383776  32269.0\n",
       "4        252.0  324.0  18.631866  32269.0\n",
       "...        ...    ...        ...      ...\n",
       "2377720    0.0    0.0   0.000000  80793.0\n",
       "2377721    0.0    0.0   0.000000  80793.0\n",
       "2377722    0.0    0.0   0.000000  80793.0\n",
       "2377723    0.0    0.0   0.000000  80793.0\n",
       "2377724    0.0    0.0   0.000000  80793.0\n",
       "\n",
       "[2377725 rows x 4 columns]"
      ]
     },
     "metadata": {},
     "output_type": "display_data"
    }
   ],
   "source": [
    "if run_analysis_verb:\n",
    "    # save to txt parameters:\n",
    "    with open('./results/tracking_data/hough/hough_post_merge.txt', 'w') as f:\n",
    "        f.write(json.dumps(parameters))\n",
    "    post_merge_df, err_frames, error = hough_feature_location(data_preload, frames, correct_n, parameters)\n",
    "    post_merge_df.to_parquet(\"./results/tracking_data/hough/hough_post_merge.parquet\")\n",
    "else:\n",
    "    try:\n",
    "        parameters = json.load(open('./results/tracking_data/hough/hough_post_merge.txt'))\n",
    "        post_merge_df = pd.read_parquet(\"./results/tracking_data/hough/hough_post_merge.parquet\")\n",
    "        print(parameters)\n",
    "        display(post_merge_df)\n",
    "    except:\n",
    "        raise Exception(\"No post merge data found, run analysis first\")"
   ]
  },
  {
   "cell_type": "code",
   "execution_count": 92,
   "id": "79baf1c3",
   "metadata": {},
   "outputs": [
    {
     "name": "stdout",
     "output_type": "stream",
     "text": [
      "Number of frames: 48525\n",
      "Percentage of error: 17688/48525\n"
     ]
    }
   ],
   "source": [
    "frames = (post_merge_df.frame.values[::correct_n]).astype(int)\n",
    "print(f\"Number of frames: {len(frames)}\")\n",
    "err_frames = frames[0] + np.where(post_merge_df.groupby(\"frame\").mean().x==0)[0]\n",
    "print(f\"Percentage of error: {len(err_frames)}/{len(frames)}\")"
   ]
  },
  {
   "cell_type": "code",
   "execution_count": null,
   "id": "4a0a117f",
   "metadata": {},
   "outputs": [],
   "source": [
    "# example of a frame with errors\n",
    "problem_frame = frames[np.where(post_merge_df.groupby(\"frame\").mean().nDroplets == 48)[0][-1]] #- merge_frame\n",
    "example = cv2.HoughCircles(data_preload[problem_frame], cv2.HOUGH_GRADIENT_ALT, **parameters)\n",
    "\n",
    "fig = plt.figure(figsize=(10, 4))\n",
    "ax1 = fig.add_subplot(gs[0, 1]) \n",
    "ax1.plot(frames, test_result.groupby(\"frame\").mean().nDroplets, 'b-')\n",
    "ax1.set(title = \"Detected droplets\", ylabel = \"n\")\n",
    "ax1.grid()\n",
    "\n",
    "ax2 = fig.add_subplot(gs[1, 1]) \n",
    "ax2.plot(frames, test_result.d.values.reshape(len(frames), correct_n), 'b.', markersize=1)\n",
    "ax2.set(xlabel = \"Frame\", ylabel = \"d [px]\", title = \"Droplets diameter\")\n",
    "ax2.grid()\n",
    "\n",
    "ax3 = fig.add_subplot(gs[:, 0]) \n",
    "ax3.imshow(data_preload[problem_frame], cmap = \"gray\")\n",
    "ax3.set(title=f\"Detected droplets: {example.shape[1]} - Frame: {problem_frame + merge_frame}\", xlabel = \"X [px]\", ylabel = \"Y [px]\")\n",
    "for i in range(example.shape[1]):\n",
    "    ax3.add_patch(plt.Circle((example[0][i][0], example[0][i][1]), example[0][i][2], color = \"r\", fill = False))\n",
    "plt.tight_layout()\n",
    "plt.show()"
   ]
  },
  {
   "attachments": {},
   "cell_type": "markdown",
   "id": "48ad65ac",
   "metadata": {},
   "source": [
    "# LINK HOUGH RESULT TO TRACKPY RESULT !!!!! NEWWWWWW"
   ]
  },
  {
   "cell_type": "code",
   "execution_count": 3,
   "id": "db5fcc8a",
   "metadata": {},
   "outputs": [
    {
     "name": "stderr",
     "output_type": "stream",
     "text": [
      "deprecated pixel format used, make sure you did set range correctly\n"
     ]
    }
   ],
   "source": [
    "data = hough_preprocessing(pims.open('./data/movie.mp4'), 40, 55, 895, 910)\n",
    "nFrames = len(data)\n",
    "merge_frame = 32269"
   ]
  },
  {
   "cell_type": "code",
   "execution_count": 41,
   "id": "91fad1aa",
   "metadata": {},
   "outputs": [],
   "source": [
    "trackpy_df = pd.read_parquet(\"./results/tracking_data/trackpy_pre_merge_sorted_and_colored.parquet\")\n",
    "colors = trackpy_df.loc[trackpy_df.frame == 0].color.values\n",
    "\n",
    "hough_df = pd.read_parquet(\"./results/tracking_data/hough/hough_pre_merge.parquet\").replace(0, np.nan)\n",
    "hough_df.loc[:49, [\"frame\"]] = 0\n",
    "hough_df = hough_df.loc[hough_df.frame.between(0, max(trackpy_df.frame)), :]\n",
    "# set to -1 particles id, to see the error frames after the linking procedure\n",
    "hough_df[\"particle\"] = np.ones(len(hough_df), dtype=int)*(-1)\n",
    "pre_merge_err_frames = np.where(hough_df.groupby(\"frame\").mean().x.isna())[0]"
   ]
  },
  {
   "cell_type": "code",
   "execution_count": 42,
   "id": "8d92d567",
   "metadata": {},
   "outputs": [
    {
     "name": "stderr",
     "output_type": "stream",
     "text": [
      "100%|██████████| 31999/31999 [06:34<00:00, 81.14it/s] \n"
     ]
    },
    {
     "data": {
      "text/html": [
       "<div>\n",
       "<style scoped>\n",
       "    .dataframe tbody tr th:only-of-type {\n",
       "        vertical-align: middle;\n",
       "    }\n",
       "\n",
       "    .dataframe tbody tr th {\n",
       "        vertical-align: top;\n",
       "    }\n",
       "\n",
       "    .dataframe thead th {\n",
       "        text-align: right;\n",
       "    }\n",
       "</style>\n",
       "<table border=\"1\" class=\"dataframe\">\n",
       "  <thead>\n",
       "    <tr style=\"text-align: right;\">\n",
       "      <th></th>\n",
       "      <th>x</th>\n",
       "      <th>y</th>\n",
       "      <th>d</th>\n",
       "      <th>frame</th>\n",
       "      <th>particle</th>\n",
       "      <th>color</th>\n",
       "    </tr>\n",
       "  </thead>\n",
       "  <tbody>\n",
       "    <tr>\n",
       "      <th>9</th>\n",
       "      <td>417.0</td>\n",
       "      <td>174.0</td>\n",
       "      <td>20.315157</td>\n",
       "      <td>0.0</td>\n",
       "      <td>0</td>\n",
       "      <td>#8B0E71</td>\n",
       "    </tr>\n",
       "    <tr>\n",
       "      <th>3</th>\n",
       "      <td>505.5</td>\n",
       "      <td>529.5</td>\n",
       "      <td>20.472479</td>\n",
       "      <td>0.0</td>\n",
       "      <td>1</td>\n",
       "      <td>#53BF7C</td>\n",
       "    </tr>\n",
       "    <tr>\n",
       "      <th>30</th>\n",
       "      <td>555.0</td>\n",
       "      <td>528.0</td>\n",
       "      <td>20.537350</td>\n",
       "      <td>0.0</td>\n",
       "      <td>2</td>\n",
       "      <td>#3706D8</td>\n",
       "    </tr>\n",
       "    <tr>\n",
       "      <th>32</th>\n",
       "      <td>759.0</td>\n",
       "      <td>538.5</td>\n",
       "      <td>20.583065</td>\n",
       "      <td>0.0</td>\n",
       "      <td>3</td>\n",
       "      <td>#5C524E</td>\n",
       "    </tr>\n",
       "    <tr>\n",
       "      <th>21</th>\n",
       "      <td>172.5</td>\n",
       "      <td>559.5</td>\n",
       "      <td>20.962828</td>\n",
       "      <td>0.0</td>\n",
       "      <td>4</td>\n",
       "      <td>#440066</td>\n",
       "    </tr>\n",
       "    <tr>\n",
       "      <th>...</th>\n",
       "      <td>...</td>\n",
       "      <td>...</td>\n",
       "      <td>...</td>\n",
       "      <td>...</td>\n",
       "      <td>...</td>\n",
       "      <td>...</td>\n",
       "    </tr>\n",
       "    <tr>\n",
       "      <th>1599995</th>\n",
       "      <td>532.5</td>\n",
       "      <td>657.0</td>\n",
       "      <td>18.199669</td>\n",
       "      <td>31999.0</td>\n",
       "      <td>-1</td>\n",
       "      <td>#00FFFF</td>\n",
       "    </tr>\n",
       "    <tr>\n",
       "      <th>1599996</th>\n",
       "      <td>568.5</td>\n",
       "      <td>646.5</td>\n",
       "      <td>17.618984</td>\n",
       "      <td>31999.0</td>\n",
       "      <td>-1</td>\n",
       "      <td>#00FFFF</td>\n",
       "    </tr>\n",
       "    <tr>\n",
       "      <th>1599997</th>\n",
       "      <td>382.5</td>\n",
       "      <td>675.0</td>\n",
       "      <td>17.074390</td>\n",
       "      <td>31999.0</td>\n",
       "      <td>-1</td>\n",
       "      <td>#00FFFF</td>\n",
       "    </tr>\n",
       "    <tr>\n",
       "      <th>1599998</th>\n",
       "      <td>502.5</td>\n",
       "      <td>204.0</td>\n",
       "      <td>17.989542</td>\n",
       "      <td>31999.0</td>\n",
       "      <td>-1</td>\n",
       "      <td>#00FFFF</td>\n",
       "    </tr>\n",
       "    <tr>\n",
       "      <th>1599999</th>\n",
       "      <td>697.5</td>\n",
       "      <td>511.5</td>\n",
       "      <td>17.731398</td>\n",
       "      <td>31999.0</td>\n",
       "      <td>-1</td>\n",
       "      <td>#00FFFF</td>\n",
       "    </tr>\n",
       "  </tbody>\n",
       "</table>\n",
       "<p>1600000 rows × 6 columns</p>\n",
       "</div>"
      ],
      "text/plain": [
       "             x      y          d    frame  particle    color\n",
       "9        417.0  174.0  20.315157      0.0         0  #8B0E71\n",
       "3        505.5  529.5  20.472479      0.0         1  #53BF7C\n",
       "30       555.0  528.0  20.537350      0.0         2  #3706D8\n",
       "32       759.0  538.5  20.583065      0.0         3  #5C524E\n",
       "21       172.5  559.5  20.962828      0.0         4  #440066\n",
       "...        ...    ...        ...      ...       ...      ...\n",
       "1599995  532.5  657.0  18.199669  31999.0        -1  #00FFFF\n",
       "1599996  568.5  646.5  17.618984  31999.0        -1  #00FFFF\n",
       "1599997  382.5  675.0  17.074390  31999.0        -1  #00FFFF\n",
       "1599998  502.5  204.0  17.989542  31999.0        -1  #00FFFF\n",
       "1599999  697.5  511.5  17.731398  31999.0        -1  #00FFFF\n",
       "\n",
       "[1600000 rows x 6 columns]"
      ]
     },
     "metadata": {},
     "output_type": "display_data"
    }
   ],
   "source": [
    "# associate at each frame droplet ID from trackpy to the one from hough circles by minimizing distance matrix\n",
    "link_verb = True\n",
    "if link_verb:\n",
    "    for frame in tqdm(range(max(trackpy_df.frame))):\n",
    "        # neglect frames with error in hough circle detection\n",
    "        if frame in pre_merge_err_frames:\n",
    "            continue\n",
    "        hoguh_frame = hough_df.loc[hough_df.frame == frame]\n",
    "        trackpy_frame = trackpy_df.loc[trackpy_df.frame == frame]\n",
    "        dist = distance_matrix(hoguh_frame[[\"x\", \"y\"]].values, trackpy_frame[[\"x\", \"y\"]].values)\n",
    "        row_ind, col_ind = linear_sum_assignment(dist)\n",
    "        hough_df.loc[hough_df.frame == frame, [\"particle\"]] = trackpy_frame.loc[:, [\"particle\"]].values[col_ind,:]\n",
    "\n",
    "    c = []\n",
    "    for p in hough_df.particle:\n",
    "        c.append(colors[p])\n",
    "    hough_df[\"color\"] = c\n",
    "    hough_df.sort_values(by=[\"frame\", \"particle\"], inplace=True)\n",
    "    display(hough_df)\n",
    "    hough_df.to_parquet(\"./results/tracking_data/tracking_hough_trackpy_linking.parquet\")\n",
    "else:\n",
    "    try:\n",
    "        hough_df = pd.read_parquet(\"./results/tracking_data/tracking_hough_trackpy_linking.parquet\")\n",
    "    except:\n",
    "        print(\"No parquet file found, run the linking code\")"
   ]
  },
  {
   "cell_type": "code",
   "execution_count": 31,
   "id": "b3adf1c7",
   "metadata": {},
   "outputs": [
    {
     "name": "stdout",
     "output_type": "stream",
     "text": [
      "Number of errors: 102/31999\n"
     ]
    }
   ],
   "source": [
    "err_frames = np.where(hough_df.groupby(\"frame\").mean().particle==-1)[0]\n",
    "print(f\"Number of errors: {len(err_frames)}/{int(max(hough_df.frame))}\")\n",
    "check = np.where(np.array(hough_df.loc[hough_df.frame.isin(err_frames), [\"particle\"]].values).flatten()!=-1)[0]\n",
    "assert check.shape[0] == 0 # check if there are no particles with id different from -1 in error frames"
   ]
  },
  {
   "cell_type": "code",
   "execution_count": null,
   "id": "a32aaf7d",
   "metadata": {},
   "outputs": [],
   "source": [
    "frame = 100\n",
    "hough_temp = hough_df.loc[(hough_df.frame == frame)] #  & (hough_df.particle == 10)\n",
    "trackpy_temp = trackpy_df.loc[(trackpy_df.frame == frame) ] #  & (trackpy_df.particle == 10)\n",
    "\n",
    "fig, (ax, ax1) = plt.subplots(1, 2, figsize = (10, 4))\n",
    "ax.imshow(data[frame])\n",
    "#ax.scatter(trackpy_temp.x.values, trackpy_temp.y.values, color = trackpy_temp.color.values)\n",
    "ax.set(title = \"Trackpy result\")\n",
    "ax1.imshow(data[frame])\n",
    "#ax1.scatter(hough_temp.x.values, hough_temp.y.values, color = hough_temp.color.values)\n",
    "ax1.set(title = \"Hough result\")\n",
    "\n",
    "for i in range(50):\n",
    "    ax.add_artist(plt.Circle((trackpy_temp.x.values[i],\\\n",
    "                               trackpy_temp.y.values[i]), \\\n",
    "                               2*trackpy_temp[\"size\"].values[i],\\\n",
    "                               color = trackpy_temp.color.values[i], fill=False, linewidth=1))\n",
    "    \n",
    "    ax1.add_artist(plt.Circle((hough_temp.x.values[i], \\\n",
    "                              hough_temp.y.values[i]),\\\n",
    "                              hough_temp.d.values[i],\\\n",
    "                              color = hough_temp.color.values[i], fill=False, linewidth=1))\n",
    "\n",
    "plt.show()"
   ]
  },
  {
   "cell_type": "code",
   "execution_count": null,
   "id": "5cc493f7",
   "metadata": {},
   "outputs": [],
   "source": [
    "fig = plt.figure(figsize = (5, 5))\n",
    "#fig.subplots_adjust(left=0, right=1, bottom=0, top=1, wspace=None, hspace=None)\n",
    "anim_running = True\n",
    "\n",
    "def onClick(event):\n",
    "    global anim_running\n",
    "    if anim_running:\n",
    "        ani.event_source.stop()\n",
    "        anim_running = False\n",
    "    else:\n",
    "        ani.event_source.start()\n",
    "        anim_running = True\n",
    "\n",
    "def update_graph(frame):\n",
    "    df = hough_df.loc[(hough_df.frame == frame) , [\"x\",\"y\",\"color\",\"d\"]]\n",
    "    for i in range(50):\n",
    "        graph[i].center = (df.x.values[i], df.y.values[i])\n",
    "        graph[i].radius = df.d.values[i]\n",
    "    graph2.set_data(data[frame])\n",
    "    title.set_text('Hough features location & Trackpy linking - frame = {}'.format(frame))\n",
    "    return graph\n",
    "\n",
    "ax = fig.add_subplot(111)\n",
    "title = ax.set_title('Hough features location & Trackpy linking - frame = 0')\n",
    "ax.set(xlabel = 'X [px]', ylabel = 'Y [px]')\n",
    "df = hough_df.loc[(hough_df.frame == 0), [\"x\",\"y\",\"color\",\"d\"]]\n",
    "\n",
    "graph = []\n",
    "for i in range(50):\n",
    "    graph.append(ax.add_artist(plt.Circle((df.x.values[i], df.y.values[i]), df.d.values[i], color = df.color.values[i],\\\n",
    "                                           fill = False, linewidth=1)))\n",
    "graph2 = ax.imshow(data[0])\n",
    "\n",
    "fig.canvas.mpl_connect('button_press_event', onClick)\n",
    "ani = matplotlib.animation.FuncAnimation(fig, update_graph, range(0, int(max(hough_df.frame)), 1), interval = 5, blit=False)\n",
    "if 0: \n",
    "    writer = matplotlib.animation.FFMpegWriter(fps = 30, metadata = dict(artist='Matteo Scandola'), extra_args=['-vcodec', 'libx264'])\n",
    "    ani.save('./results/tracking_hough_trackpy_linking.mp4', writer=writer, dpi = 300)\n",
    "plt.show()"
   ]
  },
  {
   "cell_type": "markdown",
   "id": "81ab9eef",
   "metadata": {},
   "source": [
    "# DIMENSION OF DROPLETS ANALYSIS"
   ]
  },
  {
   "attachments": {},
   "cell_type": "markdown",
   "id": "1a9eba65",
   "metadata": {},
   "source": [
    "## TRACKPY"
   ]
  },
  {
   "cell_type": "code",
   "execution_count": null,
   "id": "900fab99",
   "metadata": {},
   "outputs": [],
   "source": [
    "rawTrajs = pd.read_parquet(\"./results/tracking_data/trackpy_full.parquet\")\n",
    "mean_dim = rawTrajs.groupby(\"frame\").mean()\n",
    "merge_frame = 32269\n",
    "\n",
    "fig, ax = plt.subplots(1, 1)\n",
    "ax.plot(mean_dim.index/10, 2*mean_dim[\"size\"])\n",
    "ax.vlines(merge_frame/10, 2*mean_dim[\"size\"].values.min(), 2*mean_dim[\"size\"].max(), color=\"r\")\n",
    "ax.set(xlabel = \"Time [s]\", ylabel = \"d [px]\", title = \"Mean particle diameter\")\n",
    "ax.grid(True, linestyle='-', color = '0.75')\n",
    "if save_verb: plt.savefig(\"./results/dimension_analysis/mean_diameter_trackpy.png\", bbox_inches='tight')\n",
    "if show_verb:\n",
    "    plt.show()\n",
    "else:\n",
    "    plt.close()"
   ]
  },
  {
   "cell_type": "code",
   "execution_count": null,
   "id": "b10616cf",
   "metadata": {},
   "outputs": [],
   "source": [
    "# windowed ?\n",
    "nFrames = len(mean_dim)\n",
    "print(nFrames)\n",
    "# WINDOWED ANALYSIS PARAMETERS\n",
    "window = 3200 # 320 s\n",
    "stride = 100 # 10 s\n",
    "print(f\"window of {window/10} s, stride of {stride/10} s\")\n",
    "startFrames = np.arange(0, nFrames-window, stride, dtype=int)\n",
    "endFrames = startFrames + window\n",
    "nSteps = len(startFrames)\n",
    "print(f\"number of steps: {nSteps}\")\n",
    "\n",
    "# mean and std droplet diameter per frame\n",
    "mean_d_wind = np.zeros(nSteps)\n",
    "std_d_wind = np.zeros(nSteps)\n",
    "for i, start in enumerate(startFrames):\n",
    "    mean_d_wind[i] = np.mean(2*mean_dim[\"size\"][start:start+window])\n",
    "    std_d_wind[i] = np.std(2*mean_dim[\"size\"][start:start+window])"
   ]
  },
  {
   "cell_type": "code",
   "execution_count": null,
   "id": "59812ba8",
   "metadata": {},
   "outputs": [],
   "source": [
    "fig, ax = plt.subplots(1, 1, figsize = (10, 5))\n",
    "ax.plot(startFrames/10, mean_d_wind)\n",
    "ax.vlines(merge_frame/10, mean_d_wind.min(), mean_d_wind.max(), color=\"r\")\n",
    "ax.fill_between(startFrames/10, mean_d_wind - std_d_wind, mean_d_wind + std_d_wind, alpha=0.5)\n",
    "ax.set(xlabel = \"Window Time [s]\", ylabel = \"d [px]\", title = \"Droplet diameter over window time\")\n",
    "ax.grid(True, linestyle='-', color = '0.75')\n",
    "plt.show()"
   ]
  },
  {
   "attachments": {},
   "cell_type": "markdown",
   "id": "81e78c36",
   "metadata": {},
   "source": [
    "## confront trackpy and hough circle results"
   ]
  },
  {
   "cell_type": "code",
   "execution_count": 45,
   "id": "cd690023",
   "metadata": {},
   "outputs": [
    {
     "data": {
      "text/html": [
       "<div>\n",
       "<style scoped>\n",
       "    .dataframe tbody tr th:only-of-type {\n",
       "        vertical-align: middle;\n",
       "    }\n",
       "\n",
       "    .dataframe tbody tr th {\n",
       "        vertical-align: top;\n",
       "    }\n",
       "\n",
       "    .dataframe thead th {\n",
       "        text-align: right;\n",
       "    }\n",
       "</style>\n",
       "<table border=\"1\" class=\"dataframe\">\n",
       "  <thead>\n",
       "    <tr style=\"text-align: right;\">\n",
       "      <th></th>\n",
       "      <th>x</th>\n",
       "      <th>y</th>\n",
       "      <th>d</th>\n",
       "      <th>frame</th>\n",
       "      <th>particle</th>\n",
       "      <th>color</th>\n",
       "    </tr>\n",
       "  </thead>\n",
       "  <tbody>\n",
       "    <tr>\n",
       "      <th>9</th>\n",
       "      <td>417.0</td>\n",
       "      <td>174.0</td>\n",
       "      <td>20.315157</td>\n",
       "      <td>0.0</td>\n",
       "      <td>0</td>\n",
       "      <td>#8B0E71</td>\n",
       "    </tr>\n",
       "    <tr>\n",
       "      <th>3</th>\n",
       "      <td>505.5</td>\n",
       "      <td>529.5</td>\n",
       "      <td>20.472479</td>\n",
       "      <td>0.0</td>\n",
       "      <td>1</td>\n",
       "      <td>#53BF7C</td>\n",
       "    </tr>\n",
       "    <tr>\n",
       "      <th>30</th>\n",
       "      <td>555.0</td>\n",
       "      <td>528.0</td>\n",
       "      <td>20.537350</td>\n",
       "      <td>0.0</td>\n",
       "      <td>2</td>\n",
       "      <td>#3706D8</td>\n",
       "    </tr>\n",
       "    <tr>\n",
       "      <th>32</th>\n",
       "      <td>759.0</td>\n",
       "      <td>538.5</td>\n",
       "      <td>20.583065</td>\n",
       "      <td>0.0</td>\n",
       "      <td>3</td>\n",
       "      <td>#5C524E</td>\n",
       "    </tr>\n",
       "    <tr>\n",
       "      <th>21</th>\n",
       "      <td>172.5</td>\n",
       "      <td>559.5</td>\n",
       "      <td>20.962828</td>\n",
       "      <td>0.0</td>\n",
       "      <td>4</td>\n",
       "      <td>#440066</td>\n",
       "    </tr>\n",
       "    <tr>\n",
       "      <th>...</th>\n",
       "      <td>...</td>\n",
       "      <td>...</td>\n",
       "      <td>...</td>\n",
       "      <td>...</td>\n",
       "      <td>...</td>\n",
       "      <td>...</td>\n",
       "    </tr>\n",
       "    <tr>\n",
       "      <th>1599995</th>\n",
       "      <td>532.5</td>\n",
       "      <td>657.0</td>\n",
       "      <td>18.199669</td>\n",
       "      <td>31999.0</td>\n",
       "      <td>-1</td>\n",
       "      <td>#00FFFF</td>\n",
       "    </tr>\n",
       "    <tr>\n",
       "      <th>1599996</th>\n",
       "      <td>568.5</td>\n",
       "      <td>646.5</td>\n",
       "      <td>17.618984</td>\n",
       "      <td>31999.0</td>\n",
       "      <td>-1</td>\n",
       "      <td>#00FFFF</td>\n",
       "    </tr>\n",
       "    <tr>\n",
       "      <th>1599997</th>\n",
       "      <td>382.5</td>\n",
       "      <td>675.0</td>\n",
       "      <td>17.074390</td>\n",
       "      <td>31999.0</td>\n",
       "      <td>-1</td>\n",
       "      <td>#00FFFF</td>\n",
       "    </tr>\n",
       "    <tr>\n",
       "      <th>1599998</th>\n",
       "      <td>502.5</td>\n",
       "      <td>204.0</td>\n",
       "      <td>17.989542</td>\n",
       "      <td>31999.0</td>\n",
       "      <td>-1</td>\n",
       "      <td>#00FFFF</td>\n",
       "    </tr>\n",
       "    <tr>\n",
       "      <th>1599999</th>\n",
       "      <td>697.5</td>\n",
       "      <td>511.5</td>\n",
       "      <td>17.731398</td>\n",
       "      <td>31999.0</td>\n",
       "      <td>-1</td>\n",
       "      <td>#00FFFF</td>\n",
       "    </tr>\n",
       "  </tbody>\n",
       "</table>\n",
       "<p>1600000 rows × 6 columns</p>\n",
       "</div>"
      ],
      "text/plain": [
       "             x      y          d    frame  particle    color\n",
       "9        417.0  174.0  20.315157      0.0         0  #8B0E71\n",
       "3        505.5  529.5  20.472479      0.0         1  #53BF7C\n",
       "30       555.0  528.0  20.537350      0.0         2  #3706D8\n",
       "32       759.0  538.5  20.583065      0.0         3  #5C524E\n",
       "21       172.5  559.5  20.962828      0.0         4  #440066\n",
       "...        ...    ...        ...      ...       ...      ...\n",
       "1599995  532.5  657.0  18.199669  31999.0        -1  #00FFFF\n",
       "1599996  568.5  646.5  17.618984  31999.0        -1  #00FFFF\n",
       "1599997  382.5  675.0  17.074390  31999.0        -1  #00FFFF\n",
       "1599998  502.5  204.0  17.989542  31999.0        -1  #00FFFF\n",
       "1599999  697.5  511.5  17.731398  31999.0        -1  #00FFFF\n",
       "\n",
       "[1600000 rows x 6 columns]"
      ]
     },
     "metadata": {},
     "output_type": "display_data"
    }
   ],
   "source": [
    "hough_df2 = pd.read_parquet(\"./results/tracking_data/tracking_hough_trackpy_linking.parquet\")\n",
    "display(hough_df2)"
   ]
  },
  {
   "cell_type": "code",
   "execution_count": 57,
   "id": "80348bfb",
   "metadata": {},
   "outputs": [
    {
     "data": {
      "text/plain": [
       "1600000"
      ]
     },
     "execution_count": 57,
     "metadata": {},
     "output_type": "execute_result"
    }
   ],
   "source": [
    "32000* 50"
   ]
  },
  {
   "cell_type": "code",
   "execution_count": 59,
   "id": "96571d0a",
   "metadata": {},
   "outputs": [
    {
     "data": {
      "text/plain": [
       "31999"
      ]
     },
     "execution_count": 59,
     "metadata": {},
     "output_type": "execute_result"
    }
   ],
   "source": [
    "int(max(hough_df2.frame))"
   ]
  },
  {
   "cell_type": "code",
   "execution_count": 61,
   "id": "cd0815bd",
   "metadata": {},
   "outputs": [
    {
     "name": "stderr",
     "output_type": "stream",
     "text": [
      "/Users/matteoscandola/miniconda3/envs/pyenv3/lib/python3.10/site-packages/matplotlib/axes/_base.py:2480: UserWarning: Warning: converting a masked element to nan.\n",
      "  xys = np.asarray(xys)\n"
     ]
    },
    {
     "data": {
      "application/vnd.jupyter.widget-view+json": {
       "model_id": "fdd47cf3833943859b2e5a1f158001c9",
       "version_major": 2,
       "version_minor": 0
      },
      "image/png": "[encoded data removed]",
      "text/html": [
       "\n",
       "            <div style=\"display: inline-block;\">\n",
       "                <div class=\"jupyter-widgets widget-label\" style=\"text-align: center;\">\n",
       "                    Figure\n",
       "                </div>\n",
       "                <img src='data:image/png;base64,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' width=1000.0/>\n",
       "            </div>\n",
       "        "
      ],
      "text/plain": [
       "Canvas(toolbar=Toolbar(toolitems=[('Home', 'Reset original view', 'home', 'home'), ('Back', 'Back to previous …"
      ]
     },
     "metadata": {},
     "output_type": "display_data"
    }
   ],
   "source": [
    "fig, ax = plt.subplots(1, 1)\n",
    "ax.plot(np.arange(0, max(hough_df2.frame)+1, 1), hough_df2[\"d\"].values.reshape(int(max(hough_df2.frame))+1, 50))\n",
    "ax.vlines(merge_frame/10, hough_df2[\"d\"].values.min(), hough_df2[\"d\"].max(), color=\"r\")\n",
    "ax.set(xlabel = \"Time [s]\", ylabel = \"d [px]\", title = \"Mean particle diameter\")\n",
    "ax.grid(True, linestyle='-', color = '0.75')\n",
    "plt.show()"
   ]
  },
  {
   "attachments": {},
   "cell_type": "markdown",
   "id": "e379a5a4",
   "metadata": {
    "tags": []
   },
   "source": [
    "# TRACKPY TRACKING ERROR ESTIMATION\n",
    "\n",
    "I note that between frames 18300 and 18900 a droplet 40 seems stable and isolated.\\\n",
    "Then applying a rectangular mask around it I compute the \"benchmark\" position of the droplet using Canny Edge Detection and Hough Transform.\\\n",
    "Finally I confront the tracking result with the benchmark and different window sizes of smoothing."
   ]
  },
  {
   "cell_type": "code",
   "execution_count": null,
   "id": "6552bf09",
   "metadata": {
    "tags": []
   },
   "outputs": [],
   "source": [
    "# apply mask to perform edge detection only on the benchmark particle\n",
    "@pims.pipeline\n",
    "def crop(image, x1, y1, x2, y2):   \n",
    "    npImage = np.array(image)\n",
    "    alpha = Image.new('L', (920, 960), 0)\n",
    "    draw = ImageDraw.Draw(alpha)\n",
    "    draw.rectangle([(x1, y1), (x2, y2)], fill = 255)\n",
    "    npAlpha = np.array(alpha)\n",
    "    npImage = npImage[:, :, 1] * npAlpha\n",
    "    return npImage"
   ]
  },
  {
   "cell_type": "code",
   "execution_count": null,
   "id": "aa16f714",
   "metadata": {
    "tags": []
   },
   "outputs": [],
   "source": [
    "startFrame = 18300\n",
    "endFrame = 18900\n",
    "framesArray = np.arange(startFrame, endFrame, 1) \n",
    "\n",
    "rawTrajs = pd.read_parquet(\"./results/tracking_data/trackpy_pre_merge.parquet\")\n",
    "benchmark_particle_id = 40\n",
    "print(\"Benchmark particle:\", benchmark_particle_id)\n",
    "rawTraj = rawTrajs.loc[(rawTrajs.frame.between(startFrame, endFrame-1)) & (rawTrajs.particle == benchmark_particle_id)]\n",
    "if 1: ref = list(pims.open('./data/movie.mp4')[startFrame:endFrame])"
   ]
  },
  {
   "cell_type": "code",
   "execution_count": null,
   "id": "162b5325",
   "metadata": {
    "tags": []
   },
   "outputs": [],
   "source": [
    "# apply mask to perform edge detection only on the benchmark particle\n",
    "y1 = rawTraj.iloc[0].y - 50\n",
    "x1 = rawTraj.iloc[0].x - 50\n",
    "y2 = rawTraj.iloc[0].y + 110\n",
    "x2 = rawTraj.iloc[0].x + 120\n",
    "if 1: ref_masked = list(crop(pims.open('./data/movie.mp4'), x1, y1, x2, y2)[startFrame:endFrame])"
   ]
  },
  {
   "cell_type": "code",
   "execution_count": null,
   "id": "4829c59e",
   "metadata": {
    "tags": []
   },
   "outputs": [],
   "source": [
    "fig, (ax, ax1) = plt.subplots(1, 2, figsize = (8, 6))\n",
    "ax.imshow(ref[0])\n",
    "ax.scatter(rawTraj.iloc[0].x, rawTraj.iloc[0].y, s=150, facecolors='none', edgecolors='b')\n",
    "ax.set(title = \"Selection of benchmark particle\", xlabel = \"x [px]\", ylabel = \"y [px]\")\n",
    "ax1.imshow(ref_masked[0])\n",
    "ax1.scatter(rawTraj.iloc[0].x, rawTraj.iloc[0].y, s=150, facecolors='none', edgecolors='b')\n",
    "ax1.set(title = \"Masked video\", xlabel = \"x [px]\")\n",
    "plt.tight_layout()\n",
    "plt.savefig(\"./results/error_estimation/masked_frame.png\", bbox_inches='tight')\n",
    "plt.show()"
   ]
  },
  {
   "cell_type": "code",
   "execution_count": null,
   "id": "662cfae4",
   "metadata": {},
   "outputs": [],
   "source": [
    "# needed to check that only particle 40 is selected by the mask\n",
    "fig = plt.figure()\n",
    "anim_running = True\n",
    "\n",
    "def onClick(event):\n",
    "    global anim_running\n",
    "    if anim_running:\n",
    "        ani.event_source.stop()\n",
    "        anim_running = False\n",
    "    else:\n",
    "        ani.event_source.start()\n",
    "        anim_running = True\n",
    "\n",
    "def update_graph(frame):\n",
    "    df = rawTraj.loc[rawTraj.frame == startFrame + frame, [\"x\",\"y\", \"color\"]]\n",
    "    graph.set_offsets(df)\n",
    "    graph2.set_data(ref_masked[frame])\n",
    "    title.set_text('frame = {}'.format(startFrame + frame))\n",
    "    return graph\n",
    "\n",
    "ax = fig.add_subplot(111)\n",
    "title = ax.set_title(f'frame = {startFrame}')\n",
    "df = rawTraj.loc[rawTraj.frame == startFrame, [\"x\",\"y\", \"color\"]]\n",
    "\n",
    "graph = ax.scatter(df.x, df.y, facecolors = 'none', edgecolors= df.color, s = 150)\n",
    "\n",
    "graph2 = ax.imshow(ref_masked[0])\n",
    "\n",
    "fig.canvas.mpl_connect('button_press_event', onClick)\n",
    "ani = matplotlib.animation.FuncAnimation(fig, update_graph, endFrame-startFrame, interval = 2, blit=False)\n",
    "plt.show()"
   ]
  },
  {
   "cell_type": "code",
   "execution_count": null,
   "id": "95b6de5f",
   "metadata": {
    "tags": []
   },
   "outputs": [],
   "source": [
    "circles = []\n",
    "problems = 0\n",
    "\n",
    "for i in tqdm(range(0, len(ref_masked))):\n",
    "    img = ref_masked[i]\n",
    "    \"\"\"\n",
    "                    -- this works fine !!!!! --\n",
    "    # Apply Canny Edge Detection to find edges in the image\n",
    "    edges = cv2.Canny(img, 30, 30)\n",
    "    # Apply the Hough Transform to find circles in the image \n",
    "    temp = cv2.HoughCircles(edges, cv2.HOUGH_GRADIENT, 1, minDist=20, param1=50, param2=30, minRadius=0, maxRadius=0)\n",
    "    if temp is not None:\n",
    "        circles.append(temp[0][0])\n",
    "   \"\"\"\n",
    "    \n",
    "    # this gives better results\n",
    "    temp = cv2.HoughCircles(img, cv2.HOUGH_GRADIENT_ALT, 1.5, minDist=1, param1=300, param2=0.6, minRadius=10, maxRadius=21)\n",
    "    if temp is not None:\n",
    "        circles.append(temp[0][0])\n",
    "        \n",
    "    else:\n",
    "        break\n",
    "        problems += 1\n",
    "print(\"Number of problems:\", problems)"
   ]
  },
  {
   "cell_type": "code",
   "execution_count": null,
   "id": "38934f51",
   "metadata": {
    "tags": []
   },
   "outputs": [],
   "source": [
    "x = np.zeros(len(circles))\n",
    "y = np.zeros(len(circles))\n",
    "d = np.zeros(len(circles))\n",
    "\n",
    "for i in range(len(circles)):\n",
    "    x[i] = circles[i][0]\n",
    "    y[i] = circles[i][1]\n",
    "    d[i] = circles[i][2]\n",
    "    \n",
    "benchmark_traj = pd.DataFrame({\"x\": x, \"y\": y, \"d\": d})"
   ]
  },
  {
   "cell_type": "code",
   "execution_count": null,
   "id": "355e392c-a35f-43a1-a554-b008d0eb2116",
   "metadata": {
    "tags": []
   },
   "outputs": [],
   "source": [
    "fig, ax = plt.subplots(1, 1, figsize = (8, 6))\n",
    "ax.plot(np.arange(startFrame, endFrame, 1), benchmark_traj.d, label = \"benchmark\")\n",
    "ax.plot(np.arange(startFrame, endFrame, 1), 2*rawTraj[\"size\"], label = \"traj\")\n",
    "ax.legend()\n",
    "plt.show()"
   ]
  },
  {
   "cell_type": "code",
   "execution_count": null,
   "id": "a510b867-8441-4268-b872-5bb80388144a",
   "metadata": {
    "tags": []
   },
   "outputs": [],
   "source": [
    "c1 = plt.Circle(( x[100] , y[100] ), d[100], fill = False, color = \"red\")\n",
    "c2 = plt.Circle((rawTraj.x.values[100], rawTraj.y.values[100]), 2*rawTraj[\"size\"].values[100], fill = False, color=\"blue\")\n",
    "\n",
    "fig, (ax, ax1) = plt.subplots(1, 2, figsize = (10, 8))\n",
    "ax.imshow(ref_masked[100])\n",
    "ax.add_artist(c1)\n",
    "ax.scatter(x[100], y[100], color = \"red\")\n",
    "ax.set(xlim = (x1, x2), ylim = (y1, y2))\n",
    "ax1.imshow(ref_masked[100])\n",
    "ax1.add_artist(c2)\n",
    "ax1.scatter(rawTraj.x.values[100], rawTraj.y.values[100], color = \"blue\")\n",
    "ax1.set(xlim = (x1, x2), ylim = (y1, y2))\n",
    "plt.show()"
   ]
  },
  {
   "cell_type": "markdown",
   "id": "caa3cdb7-8e8d-4c8e-a327-7bb372e68ca1",
   "metadata": {
    "tags": []
   },
   "source": [
    "## POSITION ERROR"
   ]
  },
  {
   "cell_type": "code",
   "execution_count": null,
   "id": "59d14fcb",
   "metadata": {
    "tags": []
   },
   "outputs": [],
   "source": [
    "tracking_pos = np.sqrt(rawTraj.x**2 + rawTraj.y**2)\n",
    "\n",
    "benchmark_pos = np.sqrt(x**2 + y**2)\n",
    "mse_raw = ((benchmark_pos - tracking_pos)**2).mean()\n",
    "print(\"MSE with raw trajectory:\", mse_raw)"
   ]
  },
  {
   "cell_type": "code",
   "execution_count": null,
   "id": "d1488998",
   "metadata": {
    "tags": []
   },
   "outputs": [],
   "source": [
    "from scipy.signal import savgol_filter\n",
    "def get_smooth_trajs(trajs, nDrops, windLen, orderofPoly):\n",
    "    # Trajectory Smoothing: using a Savgol Filter in order to drop the noise due to the tracking procedure\n",
    "    ret = trajs.copy()\n",
    "    for i in range(nDrops):\n",
    "        ret.loc[ret.particle == i, \"x\"] = savgol_filter(trajs.loc[trajs.particle == i].x.values, windLen, orderofPoly)\n",
    "        ret.loc[ret.particle == i, \"y\"] = savgol_filter(trajs.loc[trajs.particle == i].y.values, windLen, orderofPoly)    \n",
    "    return ret"
   ]
  },
  {
   "cell_type": "code",
   "execution_count": null,
   "id": "a5201bc4",
   "metadata": {
    "tags": []
   },
   "outputs": [],
   "source": [
    "windLen = 30\n",
    "smoothTrajs = get_smooth_trajs(rawTrajs, 50, windLen, 2)\n",
    "smoothTraj = smoothTrajs.loc[(smoothTrajs.frame.between(startFrame, endFrame-1)) & (smoothTrajs.particle == benchmark_particle_id)]\n",
    "tracking_smooth_pos = np.sqrt(smoothTraj.x**2 + smoothTraj.y**2)\n",
    "mse = ((benchmark_pos - tracking_smooth_pos)**2).mean()\n",
    "print(f\"MSE smoothing window {windLen}:\", mse)"
   ]
  },
  {
   "cell_type": "code",
   "execution_count": null,
   "id": "ab93cfab",
   "metadata": {
    "tags": []
   },
   "outputs": [],
   "source": [
    "fig, (ax, ax1) = plt.subplots(1, 2, figsize = (10, 5))\n",
    "ax.plot(framesArray, benchmark_pos, label = \"benchmark\")\n",
    "ax.plot(framesArray, tracking_pos, label = \"tracking\")\n",
    "ax.set_title(\"Confront with raw traj\")\n",
    "ax1.plot(framesArray, benchmark_pos, label = \"benchmark\")\n",
    "ax1.plot(framesArray, tracking_smooth_pos, label = \"tracking\")\n",
    "ax1.set_title(f\"Confront with smooth traj (window = {windLen})\")\n",
    "ax.legend()\n",
    "ax1.legend()\n",
    "plt.tight_layout()\n",
    "plt.savefig(\"./results/error_estimation/benchmark_confront_wind30.png\", bbox_inches='tight')\n",
    "plt.show()"
   ]
  },
  {
   "cell_type": "markdown",
   "id": "109f09cf",
   "metadata": {
    "tags": []
   },
   "source": [
    "### MSE ANALYSIS OF THE SMOOTHING WINDOW"
   ]
  },
  {
   "cell_type": "code",
   "execution_count": null,
   "id": "b38d7bbf",
   "metadata": {},
   "outputs": [],
   "source": [
    "windLenList = np.arange(3, 100, 1)\n",
    "mse = np.zeros(len(windLenList))\n",
    "\n",
    "for k in tqdm(range(len(windLenList))):\n",
    "    smoothTrajs = get_smooth_trajs(rawTrajs, 50, windLenList[k], 2)\n",
    "    smoothTraj = smoothTrajs.loc[(smoothTrajs.frame.between(startFrame, endFrame-1)) & (smoothTrajs.particle == benchmark_particle_id)]\n",
    "    tracking_smooth_pos = np.sqrt(smoothTraj.x**2 + smoothTraj.y**2)\n",
    "    mse[k] = ((benchmark_pos - tracking_smooth_pos)**2).mean()"
   ]
  },
  {
   "cell_type": "code",
   "execution_count": null,
   "id": "3d34e8d8",
   "metadata": {},
   "outputs": [],
   "source": [
    "fig, ax = plt.subplots(1, 1, figsize = (8, 6))\n",
    "ax.hlines(mse_raw, windLenList[0], windLenList[-1], 'r', label = \"raw\")\n",
    "ax.plot(windLenList, mse, label = \"smooth\")\n",
    "ax.set_title(\"MSE vs smoothing window\")\n",
    "ax.set_xlabel(\"Smoothing window\")\n",
    "ax.set_ylabel(\"MSE\")\n",
    "ax.legend(loc='center right')\n",
    "plt.savefig(\"./results/error_estimation/mse_vs_window.png\", bbox_inches='tight')\n",
    "plt.show()"
   ]
  },
  {
   "cell_type": "markdown",
   "id": "300bd97a",
   "metadata": {
    "jp-MarkdownHeadingCollapsed": true,
    "tags": []
   },
   "source": [
    "# MERGING ANALYSIS"
   ]
  },
  {
   "cell_type": "code",
   "execution_count": null,
   "id": "d1cc0d40",
   "metadata": {},
   "outputs": [],
   "source": [
    "preMerge = data[32268]\n",
    "merge = data[32269]\n",
    "postMerge = data[32270]\n",
    "\n",
    "# feature location with minMass, have some problems but the spurious effect are solved\n",
    "f = tp.locate(preMerge, dropSize, minmass = minMass, separation = sep, topn = nDrops, engine = 'numba')\n",
    "\n",
    "fig, (ax1, ax2) = plt.subplots(1, 2)\n",
    "ax1.hist(f['mass'], bins = 20)\n",
    "ax1.set(xlabel='mass', ylabel='count')\n",
    "ax2.imshow(preMerge)\n",
    "ax2.plot(f.x, f.y, 'bo')\n",
    "plt.suptitle(f\"Number of features found: {len(f)}\")\n",
    "plt.show()\n",
    "\n",
    "f = tp.locate(merge, dropSize, minmass = minMass, separation = sep, topn = nDrops-1, engine = 'numba')\n",
    "fig, (ax1, ax2) = plt.subplots(1, 2)\n",
    "ax1.hist(f['mass'], bins = 20)\n",
    "ax1.set(xlabel='mass', ylabel='count')\n",
    "ax2.imshow(merge)\n",
    "ax2.plot(f.x, f.y, 'bo')\n",
    "plt.suptitle(f\"Number of features found: {len(f)}\")\n",
    "\n",
    "f = tp.locate(postMerge, dropSize, minmass = minMass, separation = sep, topn = nDrops-1, engine = 'numba')\n",
    "fig, (ax1, ax2) = plt.subplots(1, 2)\n",
    "ax1.hist(f['mass'], bins = 20)\n",
    "ax1.set(xlabel='mass', ylabel='count')\n",
    "ax2.imshow(postMerge)\n",
    "ax2.plot(f.x, f.y, 'bo')\n",
    "plt.suptitle(f\"Number of features found: {len(f)}\")\n",
    "\n",
    "plt.show()\n",
    "tp.subpx_bias(f)\n",
    "plt.show()"
   ]
  }
 ],
 "metadata": {
  "kernelspec": {
   "display_name": "Python 3 (ipykernel)",
   "language": "python",
   "name": "python3"
  },
  "language_info": {
   "codemirror_mode": {
    "name": "ipython",
    "version": 3
   },
   "file_extension": ".py",
   "mimetype": "text/x-python",
   "name": "python",
   "nbconvert_exporter": "python",
   "pygments_lexer": "ipython3",
   "version": "3.10.6"
  },
  "vscode": {
   "interpreter": {
    "hash": "cda584d4033b4fbc423661afef9f2afe920081905f188573e835f76abdc60dee"
   }
  }
 },
 "nbformat": 4,
 "nbformat_minor": 5
}
