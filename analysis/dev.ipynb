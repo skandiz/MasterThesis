{
 "cells": [
  {
   "cell_type": "code",
   "execution_count": 1,
   "metadata": {},
   "outputs": [],
   "source": [
    "import matplotlib.pyplot as plt\n",
    "from matplotlib  import cm\n",
    "import matplotlib.animation\n",
    "plt.rcParams.update({'font.size': 8})\n",
    "\n",
    "%matplotlib ipympl\n",
    "import numpy as np\n",
    "import pandas as pd\n",
    "import random\n",
    "\n",
    "from scipy.spatial import KDTree, cKDTree\n",
    "from scipy.ndimage import uniform_filter1d\n",
    "from scipy.signal import savgol_filter\n",
    "from scipy.optimize import curve_fit\n",
    "\n",
    "import joblib\n",
    "import time\n",
    "from numba_progress import ProgressBar\n",
    "from tqdm import tqdm\n",
    "import trackpy as tp\n",
    "from numba import njit, prange\n",
    "\n",
    "from yupi import Trajectory\n",
    "import yupi.graphics as yg\n",
    "import yupi.stats as ys\n",
    "\n",
    "from utility import get_imsd, get_imsd_windowed, get_emsd, get_emsd_windowed, fit_hist, MB_2D,\\\n",
    "                    normal_distr, lorentian_distr, get_trajs, speed_windowed, theta_windowed, \\\n",
    "                    get_smooth_trajs, get_velocities\n",
    "\n",
    "show_verb = False\n",
    "save_verb = True\n",
    "anim_show_verb = False"
   ]
  },
  {
   "cell_type": "code",
   "execution_count": 2,
   "metadata": {},
   "outputs": [
    {
     "data": {
      "text/html": [
       "<div>\n",
       "<style scoped>\n",
       "    .dataframe tbody tr th:only-of-type {\n",
       "        vertical-align: middle;\n",
       "    }\n",
       "\n",
       "    .dataframe tbody tr th {\n",
       "        vertical-align: top;\n",
       "    }\n",
       "\n",
       "    .dataframe thead th {\n",
       "        text-align: right;\n",
       "    }\n",
       "</style>\n",
       "<table border=\"1\" class=\"dataframe\">\n",
       "  <thead>\n",
       "    <tr style=\"text-align: right;\">\n",
       "      <th></th>\n",
       "      <th>y</th>\n",
       "      <th>x</th>\n",
       "      <th>mass</th>\n",
       "      <th>size</th>\n",
       "      <th>ecc</th>\n",
       "      <th>signal</th>\n",
       "      <th>raw_mass</th>\n",
       "      <th>ep</th>\n",
       "      <th>frame</th>\n",
       "      <th>particle</th>\n",
       "      <th>color</th>\n",
       "    </tr>\n",
       "  </thead>\n",
       "  <tbody>\n",
       "    <tr>\n",
       "      <th>0</th>\n",
       "      <td>171.735232</td>\n",
       "      <td>417.068536</td>\n",
       "      <td>6831.555216</td>\n",
       "      <td>10.518919</td>\n",
       "      <td>0.017850</td>\n",
       "      <td>12.622410</td>\n",
       "      <td>70005.0</td>\n",
       "      <td>0.001334</td>\n",
       "      <td>0</td>\n",
       "      <td>0</td>\n",
       "      <td>#8B0E71</td>\n",
       "    </tr>\n",
       "    <tr>\n",
       "      <th>1</th>\n",
       "      <td>529.175095</td>\n",
       "      <td>508.570095</td>\n",
       "      <td>7479.073073</td>\n",
       "      <td>10.578953</td>\n",
       "      <td>0.014188</td>\n",
       "      <td>14.155974</td>\n",
       "      <td>74285.0</td>\n",
       "      <td>0.001096</td>\n",
       "      <td>0</td>\n",
       "      <td>1</td>\n",
       "      <td>#53BF7C</td>\n",
       "    </tr>\n",
       "    <tr>\n",
       "      <th>2</th>\n",
       "      <td>528.655276</td>\n",
       "      <td>559.415666</td>\n",
       "      <td>7042.243300</td>\n",
       "      <td>10.341892</td>\n",
       "      <td>0.035362</td>\n",
       "      <td>15.689538</td>\n",
       "      <td>72910.0</td>\n",
       "      <td>0.001162</td>\n",
       "      <td>0</td>\n",
       "      <td>2</td>\n",
       "      <td>#3706D8</td>\n",
       "    </tr>\n",
       "    <tr>\n",
       "      <th>3</th>\n",
       "      <td>536.996577</td>\n",
       "      <td>765.536854</td>\n",
       "      <td>7202.087843</td>\n",
       "      <td>10.486024</td>\n",
       "      <td>0.053956</td>\n",
       "      <td>14.391907</td>\n",
       "      <td>75383.0</td>\n",
       "      <td>0.001047</td>\n",
       "      <td>0</td>\n",
       "      <td>3</td>\n",
       "      <td>#5C524E</td>\n",
       "    </tr>\n",
       "    <tr>\n",
       "      <th>4</th>\n",
       "      <td>555.453979</td>\n",
       "      <td>172.020692</td>\n",
       "      <td>7593.854431</td>\n",
       "      <td>10.570402</td>\n",
       "      <td>0.016828</td>\n",
       "      <td>14.038008</td>\n",
       "      <td>77709.0</td>\n",
       "      <td>0.000958</td>\n",
       "      <td>0</td>\n",
       "      <td>4</td>\n",
       "      <td>#440066</td>\n",
       "    </tr>\n",
       "  </tbody>\n",
       "</table>\n",
       "</div>"
      ],
      "text/plain": [
       "            y           x         mass       size       ecc     signal  \\\n",
       "0  171.735232  417.068536  6831.555216  10.518919  0.017850  12.622410   \n",
       "1  529.175095  508.570095  7479.073073  10.578953  0.014188  14.155974   \n",
       "2  528.655276  559.415666  7042.243300  10.341892  0.035362  15.689538   \n",
       "3  536.996577  765.536854  7202.087843  10.486024  0.053956  14.391907   \n",
       "4  555.453979  172.020692  7593.854431  10.570402  0.016828  14.038008   \n",
       "\n",
       "   raw_mass        ep  frame  particle    color  \n",
       "0   70005.0  0.001334      0         0  #8B0E71  \n",
       "1   74285.0  0.001096      0         1  #53BF7C  \n",
       "2   72910.0  0.001162      0         2  #3706D8  \n",
       "3   75383.0  0.001047      0         3  #5C524E  \n",
       "4   77709.0  0.000958      0         4  #440066  "
      ]
     },
     "metadata": {},
     "output_type": "display_data"
    },
    {
     "name": "stdout",
     "output_type": "stream",
     "text": [
      "nDrops:50\n",
      "nFrames:32000 --> 3200.00 s\n",
      "window of 320.0 s, stride of 10.0 s\n",
      "number of steps: 288\n"
     ]
    }
   ],
   "source": [
    "rawTrajs = pd.read_parquet(\"../tracking/results/tracking_data/trackpy_pre_merge.parquet\")\n",
    "\n",
    "n = max(rawTrajs.particle)\n",
    "random.seed(5)\n",
    "colors = [\"#\"+''.join([random.choice('0123456789ABCDEF') for j in range(6)]) for i in range(n)]\n",
    "for i in range(max(rawTrajs.particle)+1-n):\n",
    "    colors.append(\"#00FFFF\")\n",
    "c = []\n",
    "for p in rawTrajs.particle:\n",
    "    c.append(colors[p])\n",
    "rawTrajs[\"color\"] = c\n",
    "display(rawTrajs.head())\n",
    "\n",
    "red_particle_idx = 17\n",
    "nDrops = len(rawTrajs.loc[rawTrajs.frame==0])\n",
    "nFrames = max(rawTrajs.frame) + 1\n",
    "print(f\"nDrops:{nDrops}\")\n",
    "print(f\"nFrames:{nFrames} --> {nFrames/10:.2f} s\")\n",
    "\n",
    "\n",
    "# WINDOWED ANALYSIS PARAMETERS\n",
    "window = 3200 # 320 s\n",
    "stride = 100 # 10 s\n",
    "print(f\"window of {window/10} s, stride of {stride/10} s\")\n",
    "startFrames = np.arange(0, nFrames-window, stride, dtype=int)\n",
    "endFrames = startFrames + window\n",
    "nSteps = len(startFrames)\n",
    "print(f\"number of steps: {nSteps}\")\n",
    "\n",
    "\n",
    "# step 10 with a 10 fps video --> 1 s\n",
    "units = \"px/s\"\n",
    "default_kwargs_blue = {\"color\": \"#00FFFF\", \"ec\": (0, 0, 0, 0.6), \"density\": True}\n",
    "default_kwargs_red = {\"color\": \"#EE4B2B\", \"ec\": (0, 0, 0, 0.6), \"density\": True}\n",
    "    \n",
    "maxLagtime = 1000\n",
    "#x = np.arange(0.1, 100.1, 0.1) # without initial point\n",
    "x = np.arange(0, 100, 0.1) # with initial point\n",
    "\n",
    "blueTrajs, redTraj = get_trajs(nDrops, red_particle_idx, rawTrajs)\n",
    "\n",
    "# Trajectory Smoothing: using a Savgol Filter in order to drop the noise due to the tracking procedure\n",
    "smoothTrajs = get_smooth_trajs(rawTrajs, nDrops, 30, 2)"
   ]
  },
  {
   "attachments": {},
   "cell_type": "markdown",
   "metadata": {},
   "source": [
    "# NEW UPDATES "
   ]
  },
  {
   "cell_type": "code",
   "execution_count": null,
   "metadata": {},
   "outputs": [],
   "source": [
    "# select 100 frames from the trajectory of  particle id = 10\n",
    "test = smoothTrajs.loc[(smoothTrajs.frame.between(0, 30000)) & (smoothTrajs.particle == 10)]\n",
    "\n",
    "fig, ax = plt.subplots(1, 1, figsize = (6, 6))\n",
    "scatter = ax.scatter(test.x, test.y, c = np.arange(0, 30001, 1), s = .1, cmap = cm.jet)\n",
    "ax.set(xlabel=\"x [px]\", ylabel=\"y [px]\", title = \"Trajectory of particle id = 10\", xlim=(0, 900), ylim=(0, 900))\n",
    "ax.grid(True, linestyle='-', color = '0.75')\n",
    "ax.legend(*scatter.legend_elements(), title = \"Time\", fontsize = 8, bbox_to_anchor=(1.05, 1), loc=2, borderaxespad=0)\n",
    "plt.show()"
   ]
  },
  {
   "attachments": {},
   "cell_type": "markdown",
   "metadata": {},
   "source": [
    "## CHECK BALLISTIC REGIME BETWEEN 0-1 S "
   ]
  },
  {
   "cell_type": "code",
   "execution_count": 3,
   "metadata": {},
   "outputs": [],
   "source": [
    "pxDimension = 1 # has to be fixed \n",
    "fps = 10 # fps of the video\n",
    "maxLagtime = 1000 # maximum lagtime to be considered\n",
    "#x = np.array(imsd[1:].index)\n",
    "x = np.arange(1., 100.1, .1)\n",
    "imsd, fit, pw_exp, fit_ball, pw_exp_ball = get_imsd(smoothTrajs, pxDimension, fps, maxLagtime, nDrops)"
   ]
  },
  {
   "cell_type": "code",
   "execution_count": 4,
   "metadata": {},
   "outputs": [
    {
     "data": {
      "text/plain": [
       "(50, 10)"
      ]
     },
     "execution_count": 4,
     "metadata": {},
     "output_type": "execute_result"
    }
   ],
   "source": [
    "fit_ball.shape"
   ]
  },
  {
   "cell_type": "code",
   "execution_count": 5,
   "metadata": {},
   "outputs": [
    {
     "data": {
      "application/vnd.jupyter.widget-view+json": {
       "model_id": "443d4aee4f1e4a358f73da433768921a",
       "version_major": 2,
       "version_minor": 0
      },
      "image/png": "[encoded data removed]",
      "text/html": [
       "\n",
       "            <div style=\"display: inline-block;\">\n",
       "                <div class=\"jupyter-widgets widget-label\" style=\"text-align: center;\">\n",
       "                    Figure\n",
       "                </div>\n",
       "                <img src='data:image/png;base64,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' width=800.0/>\n",
       "            </div>\n",
       "        "
      ],
      "text/plain": [
       "Canvas(toolbar=Toolbar(toolitems=[('Home', 'Reset original view', 'home', 'home'), ('Back', 'Back to previous …"
      ]
     },
     "metadata": {},
     "output_type": "display_data"
    }
   ],
   "source": [
    "fig, (ax, ax1) = plt.subplots(2, 1, figsize = (8, 4))\n",
    "ax.plot(imsd.index, imsd, '.',  markersize = 1)\n",
    "ax.plot(imsd[:1].index, fit_ball.T, linewidth = 1)\n",
    "ax.plot(imsd[1:].index, fit.T, linewidth = 1)\n",
    "ax.set(xlabel=\"lag time [s]\", ylabel=\"MSD [px$^2$]\", xscale = \"log\", yscale = \"log\", xlim=(0.01, 10))\n",
    "ax.grid(True, linestyle='-', color = '0.75')\n",
    "ax1.errorbar(np.arange(0, nDrops, 1), pw_exp_ball[:, 0, 1], yerr = pw_exp_ball[:, 1, 0], fmt = '.', markersize = 5, label = \"ballistic\")\n",
    "ax1.errorbar(np.arange(0, nDrops, 1), pw_exp[:, 0, 1], yerr = pw_exp_ball[:, 1, 0], fmt = '.', markersize = 5, label = \"diffusive\")\n",
    "ax1.set(xlabel=\"Droplet ID\", ylabel=\"Pw exponent\")\n",
    "ax1.grid(True, linestyle='-', color = '0.75')\n",
    "ax1.legend()\n",
    "plt.show()"
   ]
  },
  {
   "cell_type": "code",
   "execution_count": 6,
   "metadata": {},
   "outputs": [],
   "source": [
    "MSD_b_smooth, MSD_r_smooth, diffusive_results, ballistic_results = get_emsd(imsd, x, red_particle_idx, nDrops)"
   ]
  },
  {
   "cell_type": "code",
   "execution_count": 8,
   "metadata": {},
   "outputs": [
    {
     "data": {
      "text/plain": [
       "dict_keys(['fit_b', 'pw_exp_b', 'fit_r', 'pw_exp_r'])"
      ]
     },
     "execution_count": 8,
     "metadata": {},
     "output_type": "execute_result"
    }
   ],
   "source": [
    "ballistic_results.keys()"
   ]
  },
  {
   "cell_type": "code",
   "execution_count": null,
   "metadata": {},
   "outputs": [],
   "source": [
    "fit_b_ball, pw_exp_b_ball = powerLawFit(MSD_b[0][:10], np.arange(0.1, 1.1, 0.1), 1, MSD_b[1][:9])\n",
    "fit_r_ball, pw_exp_r_ball = powerLawFit(MSD_r[:10], np.arange(0.1, 1.1, 0.1), 1, None)"
   ]
  },
  {
   "cell_type": "code",
   "execution_count": null,
   "metadata": {},
   "outputs": [],
   "source": [
    "a = [round(pw_exp_b_ball[0, 1], 3), round(pw_exp_b_ball[1, 1], 3)]\n",
    "b = [round(pw_exp_r_ball[0, 1], 3), round(pw_exp_r_ball[1, 1], 3)]\n",
    "print(f\"Smooth trajs - Ballistic - Blue Particles: {a[0]} ± {a[1]}, Red Particle: {b[0]} ± {b[1]}\")\n",
    "\n",
    "a = [round(fit[\"pw_exp_b\"][0, 1], 3), round(fit[\"pw_exp_b\"][1, 1], 3)]\n",
    "b = [round(fit[\"pw_exp_r\"][0, 1], 3), round(fit[\"pw_exp_r\"][1, 1], 3)]\n",
    "print(f\"Smooth trajs - Diffusive - Blue Particles: {a[0]} ± {a[1]}, Red Particle: {b[0]} ± {b[1]}\")\n",
    "\n",
    "fig, ax = plt.subplots(1, 1, figsize = (10, 4))\n",
    "ax.plot(imsd.index, MSD_b[0], 'b-', label = \"Blue particles\") \n",
    "ax.plot(imsd[1:].index, fit[\"fit_b\"], 'b--')\n",
    "ax.plot(imsd[:1].index, fit_b_ball, 'b--')\n",
    "ax.fill_between(imsd.index, MSD_b[0] - MSD_b[1], MSD_b[0] + MSD_b[1], alpha=0.5, edgecolor='#00FFFF', facecolor='#F0FFFF')\n",
    "ax.plot(imsd.index, MSD_r, 'r-', label = \"Red particle\")\n",
    "ax.plot(imsd[1:].index, fit[\"fit_r\"], 'r--')\n",
    "ax.plot(imsd[:1].index, fit_r_ball, 'r--')\n",
    "ax.set(xscale = 'log', yscale = 'log', ylabel = r'$\\langle \\Delta r^2 \\rangle$ [$px^2$]',   \n",
    "        xlabel = 'lag time $t$ [s]', title = \"EMSD - Raw Trajectories\")\n",
    "ax.legend()\n",
    "ax.grid()\n",
    "plt.show()"
   ]
  },
  {
   "attachments": {},
   "cell_type": "markdown",
   "metadata": {},
   "source": [
    "# DROPLET SIZE VS THINGS"
   ]
  },
  {
   "cell_type": "code",
   "execution_count": null,
   "metadata": {},
   "outputs": [],
   "source": [
    "# mean and std droplet diameter per frame\n",
    "mean_d = 2*rawTrajs.groupby(\"frame\").mean()[\"size\"].values\n",
    "std_d = 2*rawTrajs.groupby(\"frame\").std()[\"size\"].values\n",
    "\n",
    "# mean and std droplet diameter per frame\n",
    "mean_d_wind = np.zeros(nSteps)\n",
    "std_d_wind = np.zeros(nSteps)\n",
    "for i, start in enumerate(startFrames):\n",
    "    mean_d_wind[i] = np.mean(mean_d[start:start+window])\n",
    "    std_d_wind[i] = np.std(mean_d[start:start+window])"
   ]
  },
  {
   "cell_type": "code",
   "execution_count": null,
   "metadata": {},
   "outputs": [],
   "source": [
    "fig, ax = plt.subplots(1, 1, figsize = (10, 5))\n",
    "ax.plot(np.arange(0, nFrames, 1)/10, mean_d)\n",
    "ax.fill_between(np.arange(0, nFrames, 1)/10, mean_d - std_d, mean_d + std_d, alpha=0.5)\n",
    "ax.set(xlabel = \"Time [s]\", ylabel = \"d [px]\", title = \"Droplet diameter over time\")\n",
    "ax.grid(True, linestyle='-', color = '0.75')\n",
    "plt.show()\n",
    "\n",
    "fig, ax = plt.subplots(1, 1, figsize = (10, 5))\n",
    "ax.plot(startFrames/10, mean_d_wind)\n",
    "ax.fill_between(startFrames/10, mean_d_wind - std_d_wind, mean_d_wind + std_d_wind, alpha=0.5)\n",
    "ax.set(xlabel = \"Window Time [s]\", ylabel = \"d [px]\", title = \"Droplet diameter over window time\")\n",
    "ax.grid(True, linestyle='-', color = '0.75')\n",
    "plt.show()"
   ]
  },
  {
   "attachments": {},
   "cell_type": "markdown",
   "metadata": {},
   "source": [
    "## vs Velocity Variance"
   ]
  },
  {
   "cell_type": "code",
   "execution_count": null,
   "metadata": {},
   "outputs": [],
   "source": [
    "show_verb = False\n",
    "run_windowed_analysis = False\n",
    "overwrite = False\n",
    "animated_plot_verb = False\n",
    "\n",
    "print(f\"Velocity Autocorrelation Analysis: show_verb = {show_verb}, run_windowed_analysis = {run_windowed_analysis}, animated_plot_verb = {animated_plot_verb}\")\n",
    "%run ./analysis_modules/velocity_autocorrelation.ipynb"
   ]
  },
  {
   "cell_type": "code",
   "execution_count": null,
   "metadata": {},
   "outputs": [],
   "source": [
    "fig, (ax, ax1) = plt.subplots(1, 2, figsize = (10, 5), sharex = True, sharey = True)\n",
    "scatter = ax.scatter(vacf_b_wind[\"0\"], mean_d_wind, s = 10, c = startFrames/10, marker = 'o', cmap = cm.Blues)\n",
    "scatter1 = ax.scatter(vacf_r_wind[\"0\"], mean_d_wind, s = 10, c = startFrames/10, marker = 'o', cmap = cm.Reds)\n",
    "ax.set(title = \"Raw Trajs\", xlabel = r\"$\\sigma_v^2$\", ylabel = \"d [px]\" )\n",
    "ax.grid(True, linestyle='-', color = '0.75')\n",
    "\n",
    "scatter2 = ax1.scatter(vacf_b_wind_smooth[\"0\"], mean_d_wind, s = 10, c = startFrames/10, marker = 'o', cmap = cm.Blues)\n",
    "scatter3 = ax1.scatter(vacf_r_wind_smooth[\"0\"], mean_d_wind, s = 10, c = startFrames/10, marker = 'o', cmap = cm.Reds)\n",
    "ax1.set(title = \"Smooth Trajs\", xlabel = r\"$\\sigma_v^2$\", ylabel = \"d [px]\")\n",
    "ax1.grid(True, linestyle='-', color = '0.75')\n",
    "\n",
    "fig.suptitle(\"Velocity Variance vs. Mean Distance\")\n",
    "fig.legend(*scatter3.legend_elements(), title = \"Window Time\", fontsize = 8, loc = 7)\n",
    "fig.tight_layout()\n",
    "fig.subplots_adjust(right=1)\n",
    "if save_verb: plt.savefig('./results/distance_scatterplots/v_variance.png', bbox_inches='tight')\n",
    "if show_verb:\n",
    "    plt.show()\n",
    "else:\n",
    "    plt.close()"
   ]
  },
  {
   "attachments": {},
   "cell_type": "markdown",
   "metadata": {},
   "source": [
    "## vs Effective Temperature from velocity distribution"
   ]
  },
  {
   "cell_type": "code",
   "execution_count": null,
   "metadata": {},
   "outputs": [],
   "source": [
    "show_verb = False\n",
    "animated_plot_verb = False\n",
    "print(f\"Speed and Turning Angles Analysis: show_verb = {show_verb}, animated_plot_verb = {animated_plot_verb}\")\n",
    "%run ./analysis_modules/speed_and_turning_angles.ipynb"
   ]
  },
  {
   "cell_type": "code",
   "execution_count": null,
   "metadata": {},
   "outputs": [],
   "source": [
    "eff_T_speed_b = blue_fit_wind[:, 0]\n",
    "eff_T_speed_b_sigma = blue_fit_wind[:, 1]\n",
    "eff_T_speed_r = red_fit_wind[:, 0]\n",
    "eff_T_speed_r_sigma = red_fit_wind[:, 1]\n",
    "\n",
    "eff_T_speed_b_smooth = blue_fit_wind_smooth[:, 0]\n",
    "eff_T_speed_b_sigma_smooth = blue_fit_wind_smooth[:, 1]\n",
    "eff_T_speed_r_smooth = red_fit_wind_smooth[:, 0]\n",
    "eff_T_speed_r_sigma_smooth = red_fit_wind_smooth[:, 1]"
   ]
  },
  {
   "cell_type": "code",
   "execution_count": null,
   "metadata": {},
   "outputs": [],
   "source": [
    "fig, (ax, ax1) = plt.subplots(1, 2, figsize = (10, 5), sharex = True, sharey = True)\n",
    "scatter = ax.scatter(eff_T_speed_b, mean_d_wind, s = 20, c = startFrames/10, marker = 'o', cmap = cm.Blues)\n",
    "scatter1 = ax.scatter(eff_T_speed_r, mean_d_wind, s = 20, c = startFrames/10, marker = 'o', cmap = cm.Reds)\n",
    "ax.set(title = \"Raw Trajs\", xlabel = r\"$T_{eff} \\; [??]$\", ylabel = \"d [px]\")\n",
    "ax.grid(True, linestyle='-', color = '0.75')\n",
    "\n",
    "scatter2 = ax1.scatter(eff_T_speed_b_smooth, mean_d_wind, s = 20, c = startFrames/10, marker = 'o', cmap = cm.Blues)\n",
    "scatter3 = ax1.scatter(eff_T_speed_r_smooth, mean_d_wind, s = 20, c = startFrames/10, marker = 'o', cmap = cm.Reds)\n",
    "ax1.set(title = \"Smooth Trajs\", xlabel = r\"$T_{eff} \\; [??]$\", ylabel = \"d [px]\")\n",
    "ax1.grid(True, linestyle='-', color = '0.75')\n",
    "\n",
    "fig.suptitle(\"Effective Temperature vs. Mean Distance\")\n",
    "fig.legend(*scatter3.legend_elements(), title = \"Window Time\", fontsize = 8, loc=7)\n",
    "fig.tight_layout()\n",
    "fig.subplots_adjust(right=1)\n",
    "plt.tight_layout()\n",
    "if save_verb: plt.savefig('./results/distance_scatterplots/eff_T.png', bbox_inches='tight')\n",
    "if show_verb:\n",
    "    plt.show()\n",
    "else:\n",
    "    plt.close()"
   ]
  },
  {
   "attachments": {},
   "cell_type": "markdown",
   "metadata": {},
   "source": [
    "## vs Power law exponent from msd "
   ]
  },
  {
   "cell_type": "code",
   "execution_count": null,
   "metadata": {},
   "outputs": [],
   "source": [
    "show_verb = False\n",
    "run_windowed_analysis = False\n",
    "animated_plot_verb = False\n",
    "print(f\"MSD Analysis: show_verb = {show_verb}, run_windowed_analysis = {run_windowed_analysis}, animated_plot_verb = {animated_plot_verb}\")\n",
    "\n",
    "%run ./analysis_modules/msd.ipynb"
   ]
  },
  {
   "cell_type": "code",
   "execution_count": null,
   "metadata": {},
   "outputs": [],
   "source": [
    "pw_b = fit_dict[\"pw_exp_wind_b\"][:, 0, 1]\n",
    "pw_b_std = fit_dict[\"pw_exp_wind_b\"][:, 1, 1]\n",
    "pw_r = fit_dict[\"pw_exp_wind_r\"][:, 0, 1]\n",
    "pw_r_std = fit_dict[\"pw_exp_wind_r\"][:, 1, 1]\n",
    "\n",
    "pw_b_smooth = fit_dict_smooth[\"pw_exp_wind_b\"][:, 0, 1]\n",
    "pw_b_std_smooth = fit_dict_smooth[\"pw_exp_wind_b\"][:, 1, 1]\n",
    "pw_r_smooth = fit_dict_smooth[\"pw_exp_wind_r\"][:, 0, 1]\n",
    "pw_r_std_smooth = fit_dict_smooth[\"pw_exp_wind_r\"][:, 1, 1]"
   ]
  },
  {
   "cell_type": "code",
   "execution_count": null,
   "metadata": {},
   "outputs": [],
   "source": [
    "fig, (ax, ax1) = plt.subplots(1, 2, figsize = (10, 5), sharex = True, sharey = True)\n",
    "scatter = ax.scatter(pw_b, mean_d_wind, s = 20, c = startFrames/10, marker = 'o', cmap = cm.Blues)\n",
    "scatter1 = ax.scatter(pw_r, mean_d_wind, s = 20, c = startFrames/10, marker = 'o', cmap = cm.Reds)\n",
    "ax.set(title = \"Raw Trajs\", xlabel =  \"pw exponent\", ylabel = \"d [px]\")\n",
    "ax.grid(True, linestyle='-', color = '0.75')\n",
    "\n",
    "scatter2 = ax1.scatter(pw_b_smooth, mean_d_wind, s = 20, c = startFrames/10, marker = 'o', cmap = cm.Blues)\n",
    "scatter3 = ax1.scatter(pw_r_smooth, mean_d_wind, s = 20, c = startFrames/10, marker = 'o', cmap = cm.Reds)\n",
    "ax1.set(title = \"Smooth Trajs\", xlabel = \"pw exponent\", ylabel = \"d [px]\")\n",
    "ax1.grid(True, linestyle='-', color = '0.75')\n",
    "\n",
    "fig.suptitle(\"Power Law Exponent vs. Mean Distance\")\n",
    "fig.legend(*scatter3.legend_elements(), title = \"Window Time\", fontsize = 8, loc=7)\n",
    "fig.tight_layout()\n",
    "fig.subplots_adjust(right=1)\n",
    "plt.tight_layout()\n",
    "if save_verb: plt.savefig('./results/distance_scatterplots/pw_law.png', bbox_inches='tight')\n",
    "if show_verb:\n",
    "    plt.show()\n",
    "else:\n",
    "    plt.close()"
   ]
  },
  {
   "attachments": {},
   "cell_type": "markdown",
   "metadata": {},
   "source": [
    "# 3 body"
   ]
  },
  {
   "cell_type": "code",
   "execution_count": null,
   "metadata": {},
   "outputs": [],
   "source": [
    "@njit(fastmath=True)\n",
    "def b_weight(x, mu, sigma):\n",
    "    return np.exp(-0.5*((x-mu)/sigma)**2)\n",
    "\n",
    "@njit(fastmath=True)\n",
    "def angle_between(v1, v2):\n",
    "    return np.arccos(np.dot(v1, v2) / (np.linalg.norm(v1) * np.linalg.norm(v2)))\n",
    "\n",
    "@njit(parallel = True, fastmath=True)\n",
    "def three_body_frame(coords, b, sigma):\n",
    "    temp = np.zeros(( nDrops, (nDrops-1)*(nDrops-2) ))\n",
    "    temp1 = np.zeros(( nDrops, (nDrops-1)*(nDrops-2) ))\n",
    "    for i in prange(nDrops):\n",
    "        count = 0\n",
    "        r_i = coords[i]\n",
    "        for j in range(nDrops):\n",
    "            if i != j:\n",
    "                r_ij = coords[j] - r_i\n",
    "                for k in range(nDrops):\n",
    "                    if k != i and k != j:\n",
    "                        r_ik = coords[k] - r_i\n",
    "                        temp[i, count] = angle_between(r_ij, r_ik)\n",
    "                        temp1[i, count] = b_weight(np.linalg.norm(r_ij), b, sigma) * b_weight(np.linalg.norm(r_ik), b, sigma)\n",
    "                        count += 1 \n",
    "    return temp, temp1 "
   ]
  },
  {
   "cell_type": "code",
   "execution_count": null,
   "metadata": {},
   "outputs": [],
   "source": [
    "coords = COORDS[0*nDrops:(0+1)*nDrops,:]\n",
    "print(coords[:3])\n",
    "i = 0\n",
    "# coords without index i, without using delete\n",
    "indx = np.ones(nDrops, dtype=int)\n",
    "indx[i] = 0\n",
    "coords1 = coords[indx]\n",
    "print(coords1[:3])"
   ]
  },
  {
   "cell_type": "code",
   "execution_count": null,
   "metadata": {},
   "outputs": [],
   "source": [
    "COORDS = np.array(rawTrajs.loc[:,[\"x\",\"y\"]])\n",
    "bList = [i/10 for i in range(1, 10, 1)]\n",
    "sigma = 10\n",
    "H = np.zeros((len(bList), nDrops, (nDrops-1)*(nDrops-2) ))\n",
    "ang = np.zeros((len(bList), nDrops, (nDrops-1)*(nDrops-2) ))\n",
    "\n",
    "for b_ind, b in tqdm(enumerate(bList)):\n",
    "    ang[b_ind], H[b_ind] = three_body_frame(COORDS[0*nDrops:(0+1)*nDrops,:], b, sigma)"
   ]
  },
  {
   "cell_type": "code",
   "execution_count": null,
   "metadata": {},
   "outputs": [],
   "source": [
    "hist_bins = np.linspace(0, np.pi, 10)\n",
    "counts = np.zeros((len(bList), nDrops, len(hist_bins)-1))\n",
    "bins = np.zeros((len(bList), nDrops, len(hist_bins)))\n",
    "for b_ind in range(len(bList)):\n",
    "    for i in range(nDrops):\n",
    "        counts[b_ind, i], bins[b_ind, i] = np.histogram(ang[b_ind, i], bins=hist_bins, weights=H[b_ind, i])"
   ]
  },
  {
   "cell_type": "code",
   "execution_count": null,
   "metadata": {},
   "outputs": [],
   "source": [
    "fig, ax = plt.subplots(2, 2, figsize=(6, 6), sharex=True, sharey=True)\n",
    "ax[0, 0].stairs(counts[0, 0], bins[0, 0], fill=True)\n",
    "ax[1, 0].stairs(counts[2, 0], bins[2, 0], fill=True)\n",
    "ax[0, 1].stairs(counts[5, 0], bins[5, 0], fill=True)\n",
    "ax[1, 1].stairs(counts[-1, 0], bins[-1, 0], fill=True)\n",
    "plt.tight_layout()\n",
    "plt.show()"
   ]
  },
  {
   "attachments": {},
   "cell_type": "markdown",
   "metadata": {},
   "source": [
    "# CUMULATIVE TURNING ANGLES"
   ]
  },
  {
   "cell_type": "code",
   "execution_count": null,
   "metadata": {},
   "outputs": [],
   "source": [
    "blueTrajs_smooth, redTraj_smooth = get_trajs(nDrops, red_particle_idx, smoothTrajs)\n",
    "\n",
    "theta_blue_smooth = ys.turning_angles_ensemble(blueTrajs_smooth, centered = True, accumulate = True)\n",
    "theta_red_smooth = ys.turning_angles_ensemble(redTraj_smooth, centered = True, accumulate = True)"
   ]
  },
  {
   "cell_type": "code",
   "execution_count": null,
   "metadata": {},
   "outputs": [],
   "source": [
    "fig, ax = plt.subplots(1, 1, figsize=(10, 5), sharex=True, sharey=True)\n",
    "ax.plot(np.arange(0, 31999), theta_red_smooth)\n",
    "ax.set(title = \"Turning Angles\", xlabel = \"Time\", ylabel = \"Turning Angle\")\n",
    "ax.grid(True, linestyle='-', color = '0.75')\n",
    "plt.show()"
   ]
  },
  {
   "attachments": {},
   "cell_type": "markdown",
   "metadata": {},
   "source": [
    "# MEAN SQUARED ANGULAR DIFFERENCE"
   ]
  },
  {
   "cell_type": "code",
   "execution_count": 9,
   "metadata": {},
   "outputs": [],
   "source": [
    "def get_msad(maxLagtime, r):\n",
    "    current_msd = np.empty(maxLagtime)\n",
    "    for lag_ in prange(1, maxLagtime + 1):\n",
    "        x_ = np.sum(r[lag_:] * r[:-lag_], axis=1) / (np.linalg.norm(r[lag_:], axis=1)*np.linalg.norm(r[:-lag_], axis=1))\n",
    "        temp = np.arccos( np.clip(x_, -1, 1) )\n",
    "        current_msd[lag_ - 1] = np.mean(temp)\n",
    "    return current_msd"
   ]
  },
  {
   "cell_type": "code",
   "execution_count": 10,
   "metadata": {},
   "outputs": [
    {
     "name": "stderr",
     "output_type": "stream",
     "text": [
      "100%|██████████| 49/49 [01:24<00:00,  1.72s/it]\n"
     ]
    }
   ],
   "source": [
    "# mean squared angular displacement \n",
    "blueTrajs, redTraj = get_trajs(nDrops, red_particle_idx, rawTrajs)\n",
    "maxLagtime = 1000\n",
    "msad = np.empty((len(blueTrajs), maxLagtime))\n",
    "for i in tqdm(range(len(blueTrajs))):\n",
    "    r = np.array(blueTrajs[i].r)\n",
    "    current_msd = get_msad(maxLagtime, r)\n",
    "    msad[i] = current_msd\n",
    "msad_b = np.mean(msad, axis=0)\n",
    "msad_b_std = np.std(msad, axis=0)\n",
    "\n",
    "msad_r = get_msad(maxLagtime, np.array(redTraj[0].r))"
   ]
  },
  {
   "cell_type": "code",
   "execution_count": 11,
   "metadata": {},
   "outputs": [
    {
     "data": {
      "application/vnd.jupyter.widget-view+json": {
       "model_id": "0384a3ca6fe6413f9c93dc2ebd8b7497",
       "version_major": 2,
       "version_minor": 0
      },
      "image/png": "[encoded data removed]",
      "text/html": [
       "\n",
       "            <div style=\"display: inline-block;\">\n",
       "                <div class=\"jupyter-widgets widget-label\" style=\"text-align: center;\">\n",
       "                    Figure\n",
       "                </div>\n",
       "                <img src='data:image/png;base64,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' width=640.0/>\n",
       "            </div>\n",
       "        "
      ],
      "text/plain": [
       "Canvas(toolbar=Toolbar(toolitems=[('Home', 'Reset original view', 'home', 'home'), ('Back', 'Back to previous …"
      ]
     },
     "metadata": {},
     "output_type": "display_data"
    }
   ],
   "source": [
    "fig, ax = plt.subplots()\n",
    "ax.plot(np.arange(1, maxLagtime+1, 1)/10, msad_b, 'b', label=\"blue\")\n",
    "ax.plot(np.arange(1, maxLagtime+1, 1)/10, msad_r, 'r', label=\"red\")\n",
    "ax.legend()\n",
    "ax.grid()\n",
    "ax.set(xlabel=\"lag [s]\", ylabel=\"MSAD \", xscale=\"log\", yscale=\"log\")\n",
    "plt.show()"
   ]
  },
  {
   "attachments": {},
   "cell_type": "markdown",
   "metadata": {},
   "source": [
    "# VELOCITY CORRELATION"
   ]
  },
  {
   "cell_type": "code",
   "execution_count": null,
   "metadata": {},
   "outputs": [],
   "source": [
    "@njit(parallel=True, fastmath=True)\n",
    "def get_corr(velocities, maxLagtime_):\n",
    "    xx = np.zeros((velocities.shape[0], maxLagtime_))\n",
    "    yy = np.zeros((velocities.shape[0], maxLagtime_))\n",
    "    xy = np.zeros((velocities.shape[0], maxLagtime_))\n",
    "    for i in prange(velocities.shape[0]):\n",
    "        v = velocities[i]\n",
    "        xx[i, 0] = np.corrcoef(v[0], v[0])[0, 1]\n",
    "        yy[i, 0] = np.corrcoef(v[1], v[1])[0, 1]\n",
    "        xy[i, 0] = np.corrcoef(v[0], v[1])[0, 1]\n",
    "        \n",
    "        for lag_ in prange(1, maxLagtime_):\n",
    "            xx[i, lag_] = np.corrcoef(v[0, :-lag_], v[0, lag_:])[0, 1]\n",
    "            yy[i, lag_] = np.corrcoef(v[1, :-lag_], v[1, lag_:])[0, 1]\n",
    "            xy[i, lag_] = np.corrcoef(v[0, :-lag_], v[1, lag_:])[0, 1]\n",
    "    return xx, yy, xy\n",
    "\n",
    "def corr_windowed(nSteps, maxLagtime, startFrames, endFrames, trajectories, red_particle_idx, nDrops):\n",
    "    corr_b = np.zeros((nSteps, 3, maxLagtime))\n",
    "    corr_std_b = np.zeros((nSteps, 3, maxLagtime))\n",
    "    corr_r = np.zeros((nSteps, 3, maxLagtime))\n",
    "    corr_std_r = np.zeros((nSteps, 3, maxLagtime))\n",
    "\n",
    "    for k in tqdm(range(nSteps)):\n",
    "        trajs = trajectories.loc[trajectories.frame.between(startFrames[k], endFrames[k])]\n",
    "        blueTrajs, redTraj = get_trajs(nDrops, red_particle_idx, trajs)\n",
    "\n",
    "        res = np.array(get_corr(get_velocities(blueTrajs), maxLagtime))\n",
    "        corr_b[k], corr_std_b[k] = res.mean(axis=1), res.std(axis=1)\n",
    "        \n",
    "        res = np.array(get_corr(get_velocities(redTraj), maxLagtime))\n",
    "        corr_r[k], corr_std_r[k] = res.mean(axis=1), res.std(axis=1)\n",
    "\n",
    "    return corr_b, corr_std_b, corr_r, corr_std_r"
   ]
  },
  {
   "cell_type": "code",
   "execution_count": null,
   "metadata": {},
   "outputs": [],
   "source": [
    "if 0:\n",
    "    maxLagtime = 300\n",
    "    corr_b, corr_std_b, corr_r, corr_std_r = corr_windowed(nSteps, maxLagtime, startFrames, endFrames, rawTrajs, red_particle_idx, nDrops)\n",
    "\n",
    "    windLenght = 10\n",
    "    polyOrder = 2\n",
    "    smoothTrajs = get_smooth_trajs(rawTrajs, nDrops, windLenght, polyOrder)\n",
    "    corr_b_smooth, corr_std_b_smooth, corr_r_smooth, corr_std_r_smooth = corr_windowed(nSteps, maxLagtime, startFrames, endFrames, smoothTrajs, red_particle_idx, nDrops)\n",
    "    if 1:\n",
    "        path = \"./analysis_data/corr/raw/\"\n",
    "        pd.DataFrame(corr_b[:,0]).to_csv(path+\"corr_b_x.csv\", index=False)\n",
    "        pd.DataFrame(corr_b[:,1]).to_csv(path+\"corr_b_y.csv\", index=False)\n",
    "        pd.DataFrame(corr_b[:,2]).to_csv(path+\"corr_b_xy.csv\", index=False)\n",
    "        pd.DataFrame(corr_std_b[:,0]).to_csv(path+\"corr_std_b_x.csv\", index=False)\n",
    "        pd.DataFrame(corr_std_b[:,1]).to_csv(path+\"corr_std_b_y.csv\", index=False)\n",
    "        pd.DataFrame(corr_std_b[:,2]).to_csv(path+\"corr_std_b_xy.csv\", index=False)\n",
    "        pd.DataFrame(corr_r[:,0]).to_csv(path+\"corr_r_x.csv\", index=False)\n",
    "        pd.DataFrame(corr_r[:,1]).to_csv(path+\"corr_r_y.csv\", index=False)\n",
    "        pd.DataFrame(corr_r[:,2]).to_csv(path+\"corr_r_xy.csv\", index=False)\n",
    "        pd.DataFrame(corr_std_r[:,0]).to_csv(path+\"corr_std_r_x.csv\", index=False)\n",
    "        pd.DataFrame(corr_std_r[:,1]).to_csv(path+\"corr_std_r_y.csv\", index=False)\n",
    "        pd.DataFrame(corr_std_r[:,2]).to_csv(path+\"corr_std_r_xy.csv\", index=False)\n",
    "\n",
    "        path = \"./analysis_data/corr/smooth/\"\n",
    "        text_file = open(path+\"specs.txt\", \"w\")\n",
    "        n = text_file.write(f'Window size: {windLenght}, polyorder: {polyOrder}')\n",
    "        text_file.close()\n",
    "\n",
    "        pd.DataFrame(corr_b_smooth[:,0]).to_csv(path+\"corr_b_x.csv\", index=False)\n",
    "        pd.DataFrame(corr_b_smooth[:,1]).to_csv(path+\"corr_b_y.csv\", index=False)\n",
    "        pd.DataFrame(corr_b_smooth[:,2]).to_csv(path+\"corr_b_xy.csv\", index=False)\n",
    "        pd.DataFrame(corr_std_b_smooth[:,0]).to_csv(path+\"corr_std_b_x.csv\", index=False)\n",
    "        pd.DataFrame(corr_std_b_smooth[:,1]).to_csv(path+\"corr_std_b_y.csv\", index=False)\n",
    "        pd.DataFrame(corr_std_b_smooth[:,2]).to_csv(path+\"corr_std_b_xy.csv\", index=False)\n",
    "        pd.DataFrame(corr_r_smooth[:,0]).to_csv(path+\"corr_r_x.csv\", index=False)\n",
    "        pd.DataFrame(corr_r_smooth[:,1]).to_csv(path+\"corr_r_y.csv\", index=False)\n",
    "        pd.DataFrame(corr_r_smooth[:,2]).to_csv(path+\"corr_r_xy.csv\", index=False)\n",
    "        pd.DataFrame(corr_std_r_smooth[:,0]).to_csv(path+\"corr_std_r_x.csv\", index=False)\n",
    "        pd.DataFrame(corr_std_r_smooth[:,1]).to_csv(path+\"corr_std_r_y.csv\", index=False)\n",
    "        pd.DataFrame(corr_std_r_smooth[:,2]).to_csv(path+\"corr_std_r_xy.csv\", index=False)\n",
    "else:\n",
    "    maxLagtime = 300\n",
    "    type_list = [\"x\", \"y\", \"xy\"]\n",
    "    path = \"./analysis_data/corr/raw/\"\n",
    "    corr_b = np.zeros((nSteps, 3, maxLagtime))\n",
    "    corr_b_std = np.zeros((nSteps, 3, maxLagtime))\n",
    "    corr_r = np.zeros((nSteps, 3, maxLagtime))\n",
    "    corr_r_std = np.zeros((nSteps, 3, maxLagtime))\n",
    "\n",
    "    for i in range(3):\n",
    "        corr_b[:, i] = pd.read_csv(path+f\"corr_b_{type_list[i]}.csv\").values\n",
    "        corr_b_std[:, i] = pd.read_csv(path+f\"corr_std_b_{type_list[i]}.csv\").values\n",
    "        corr_r[:, i] = pd.read_csv(path+f\"corr_r_{type_list[i]}.csv\").values\n",
    "        corr_r_std[:, i] = pd.read_csv(path+f\"corr_std_r_{type_list[i]}.csv\").values\n",
    "\n",
    "    path = \"./analysis_data/corr/smooth/\"\n",
    "    corr_b_smooth = np.zeros((nSteps, 3, maxLagtime))\n",
    "    corr_b_std_smooth = np.zeros((nSteps, 3, maxLagtime))\n",
    "    corr_r_smooth = np.zeros((nSteps, 3, maxLagtime))\n",
    "    corr_r_std_smooth = np.zeros((nSteps, 3, maxLagtime))\n",
    "    for i in range(3):\n",
    "        corr_b_smooth[:, i] = pd.read_csv(path+f\"corr_b_{type_list[i]}.csv\").values\n",
    "        corr_b_std_smooth[:, i] = pd.read_csv(path+f\"corr_std_b_{type_list[i]}.csv\").values\n",
    "        corr_r_smooth[:, i] = pd.read_csv(path+f\"corr_r_{type_list[i]}.csv\").values\n",
    "        corr_r_std_smooth[:, i] = pd.read_csv(path+f\"corr_std_r_{type_list[i]}.csv\").values\n"
   ]
  },
  {
   "cell_type": "code",
   "execution_count": null,
   "metadata": {},
   "outputs": [],
   "source": [
    "type = \"Raw\"\n",
    "\n",
    "if type == \"Raw\":\n",
    "    corr_b_plot = corr_b\n",
    "    corr_r_plot = corr_r\n",
    "\n",
    "elif type == \"Smooth\":\n",
    "    corr_b_plot = corr_b_smooth\n",
    "    corr_r_plot = corr_r_smooth\n",
    "\n",
    "else:\n",
    "    print(\"Wrong type\")\n",
    "\n",
    "coord_list = [\"x\", \"y\", \"xy\"]\n",
    "\n",
    "fig = plt.figure(figsize = (8, 5))\n",
    "anim_running = True\n",
    "\n",
    "def onClick(event):\n",
    "    global anim_running\n",
    "    if anim_running:\n",
    "        ani.event_source.stop()\n",
    "        anim_running = False\n",
    "    else:\n",
    "        ani.event_source.start()\n",
    "        anim_running = True\n",
    "\n",
    "def update_graph(step):\n",
    "    title.set_text(f\"Velocity autocorrelation - {type} Trajectories - window [{startFrames[step]/10} - {endFrames[step]/10}] s\")\n",
    "    for i in range(3):\n",
    "        graphs[i].set_ydata(corr_b_plot[step, i])  \n",
    "        graphs1[i].set_ydata(corr_b_plot[step, i])\n",
    "    return graphs, graphs1\n",
    "\n",
    "ax = fig.add_subplot(211)\n",
    "title = ax.set_title(f\"Velocity autocorrelation - {type} Trajectories - window [{startFrames[0]/10} - {endFrames[0]/10}] s\")\n",
    "graphs = []\n",
    "for i in range(3):\n",
    "    graphs.append(ax.plot(np.arange(0, maxLagtime, 1)/10, corr_b_plot[0, i], label = f\"{coord_list[i]}\")[0])\n",
    "ax.set(ylabel = r'vacf [$(px/s)^2$]', xlabel = 'lag time $t$ [s]', xlim = (-1, 10), ylim = (-0.5, 1))\n",
    "ax.grid()\n",
    "ax.legend()\n",
    "\n",
    "ax1 = fig.add_subplot(212)\n",
    "graphs1 = []\n",
    "for i in range(3):\n",
    "    graphs1.append(ax1.plot(np.arange(0, maxLagtime, 1)/10, corr_r_smooth[0, i], label = f\"{type_list[i]}\")[0])\n",
    "ax1.set(ylabel = r'vacf [$(px/s)^2$]', xlabel = 'lag time $t$ [s]', xlim = (-1, 10), ylim = (-0.5, 1))\n",
    "ax1.grid()\n",
    "ax1.legend()\n",
    "\n",
    "plt.tight_layout()\n",
    "fig.canvas.mpl_connect('button_press_event', onClick)\n",
    "ani = matplotlib.animation.FuncAnimation(fig, update_graph, nSteps, interval = 5, blit=False)\n",
    "if 1:\n",
    "    ani.save(f'./results/corr/corr_{type.lower()}.mp4', fps=30, extra_args=['-vcodec', 'libx264'])\n",
    "if 0:\n",
    "    plt.show()\n",
    "else:\n",
    "    plt.close()"
   ]
  },
  {
   "attachments": {},
   "cell_type": "markdown",
   "metadata": {},
   "source": [
    "# difference from raw trajs"
   ]
  },
  {
   "cell_type": "code",
   "execution_count": null,
   "metadata": {},
   "outputs": [],
   "source": [
    "corr_b, corr_std_b = get_corr(get_velocities(blueTrajs), maxLagtime)\n",
    "corr_r, corr_std_r = get_corr(get_velocities(redTraj), maxLagtime)"
   ]
  },
  {
   "cell_type": "code",
   "execution_count": null,
   "metadata": {},
   "outputs": [],
   "source": [
    "corr_b.shape"
   ]
  },
  {
   "cell_type": "code",
   "execution_count": null,
   "metadata": {},
   "outputs": [],
   "source": [
    "windList = np.linspace(3, 13, 10, dtype=int)\n",
    "\n",
    "corr_b_smooth = np.zeros((len(windList), 3, maxLagtime))\n",
    "corr_r_smooth = np.zeros((len(windList), 3, maxLagtime))\n",
    "corr_std_b_smooth = np.zeros((len(windList), 3, maxLagtime))\n",
    "corr_std_r_smooth = np.zeros((len(windList), 3, maxLagtime))\n",
    "                            \n",
    "for k in tqdm(range(10)):\n",
    "    smoothTrajs = get_smooth_trajs(rawTrajs, nDrops, windList[k], 2)\n",
    "    blueTrajs_smooth, redTraj_smooth = get_trajs(nDrops, red_particle_idx, smoothTrajs)\n",
    "    v_b_smooth = get_velocities(blueTrajs_smooth)\n",
    "\n",
    "    corr_b_smooth[k], corr_std_b_smooth[k] = get_corr(get_velocities(blueTrajs), maxLagtime)\n",
    "    corr_r_smooth[k], corr_std_r_smooth[k] = get_corr(get_velocities(redTraj), maxLagtime)"
   ]
  },
  {
   "cell_type": "code",
   "execution_count": null,
   "metadata": {},
   "outputs": [],
   "source": [
    "fig, (ax, ax1) = plt.subplots(1, 2, figsize=(10, 4))\n",
    "for i in range(0, 10):\n",
    "    ax.plot(x, corr[0] - corr_smooth[i, 0], '-b', alpha = 1/(i+1))\n",
    "ax.set_xlim(-1, 4)\n",
    "#ax.legend()\n",
    "for i in range(0, 10):\n",
    "    ax1.plot(x, corr[1] - corr_smooth[i, 1], 'b', alpha = 1/(i+1))\n",
    "#ax1.legend()\n",
    "ax1.set_xlim(-1, 4)\n",
    "plt.show()"
   ]
  },
  {
   "cell_type": "code",
   "execution_count": null,
   "metadata": {},
   "outputs": [],
   "source": [
    "fig, ax = plt.subplots(1, 2, figsize=(10, 5))\n",
    "ax[0].plot(x, A)\n",
    "ax[0].fill_between(x, A - A_std, A + A_std, alpha=0.2)\n",
    "ax[0].set(xlabel = \"lagtime [s]\", xlim=(-1, 20), title = \"x\")\n",
    "\n",
    "ax[1].plot(x, B, label=\"y\")\n",
    "ax[1].fill_between(x, B - B_std, B + B_std, alpha=0.2)\n",
    "ax[1].set(xlabel=\"lagtime [s]\" , ylabel = \"correlation\", xlim=(-1, 20), title = \"y\")\n",
    "plt.show()\n",
    "\n",
    "fig, ax = plt.subplots(1, 2, figsize=(10, 5))\n",
    "ax[0].plot(x, A_smooth)\n",
    "ax[0].fill_between(x, A_smooth - A_std_smooth, A_smooth + A_std_smooth, alpha=0.2)\n",
    "ax[0].set(xlabel = \"lagtime [s]\", xlim=(-1, 20), title = \"x\")\n",
    "\n",
    "ax[1].plot(x, B_smooth, label=\"y\")\n",
    "ax[1].fill_between(x, B_smooth - B_std_smooth, B_smooth + B_std_smooth, alpha=0.2)\n",
    "ax[1].set(xlabel=\"lagtime [s]\" , ylabel = \"correlation\", xlim=(-1, 20), title = \"y\")\n",
    "plt.show()\n"
   ]
  }
 ],
 "metadata": {
  "kernelspec": {
   "display_name": "Python 3 (ipykernel)",
   "language": "python",
   "name": "python3"
  },
  "language_info": {
   "codemirror_mode": {
    "name": "ipython",
    "version": 3
   },
   "file_extension": ".py",
   "mimetype": "text/x-python",
   "name": "python",
   "nbconvert_exporter": "python",
   "pygments_lexer": "ipython3",
   "version": "3.10.6"
  }
 },
 "nbformat": 4,
 "nbformat_minor": 2
}
