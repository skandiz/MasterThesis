{
 "cells": [
  {
   "cell_type": "code",
   "execution_count": 1,
   "id": "1e649092",
   "metadata": {},
   "outputs": [],
   "source": [
    "import matplotlib.pyplot as plt\n",
    "import matplotlib.gridspec as gridspec\n",
    "import matplotlib.animation\n",
    "%matplotlib ipympl\n",
    "import numpy as np\n",
    "import pandas as pd\n",
    "\n",
    "from scipy.spatial import KDTree, cKDTree\n",
    "from scipy.ndimage import uniform_filter1d\n",
    "from scipy.signal import savgol_filter\n",
    "from scipy.optimize import curve_fit\n",
    "\n",
    "import time\n",
    "import joblib\n",
    "from tqdm import tqdm\n",
    "import trackpy as tp\n",
    "from numba import njit, prange\n",
    "\n",
    "from yupi import Trajectory\n",
    "import yupi.graphics as yg\n",
    "import yupi.stats as ys\n",
    "\n",
    "from utility import get_imsd, get_imsd_windowed, get_emsd, get_emsd_windowed, fit_hist, MB_2D,\\\n",
    "                    normal_distr, lorentzian_distr, get_trajs, speed_windowed, theta_windowed, \\\n",
    "                    get_smooth_trajs, get_velocities"
   ]
  },
  {
   "cell_type": "code",
   "execution_count": 7,
   "id": "a166b38a",
   "metadata": {},
   "outputs": [
    {
     "name": "stdout",
     "output_type": "stream",
     "text": [
      "Number of Droplets: 50\n",
      "Number of Frames: 30000 at 10 fps --> 3000.00 s\n",
      "Windowed analysis args:\n",
      "window of 320.0 s, stride of 10.0 s --> 268 steps\n"
     ]
    }
   ],
   "source": [
    "traj_verb = \"stardist\"\n",
    "\n",
    "if traj_verb == \"trackpy\": \n",
    "    rawTrajs = pd.read_parquet(\"../tracking/results/tracking_data/trackpy_pre_merge.parquet\")\n",
    "    nDrops = int(len(rawTrajs.loc[rawTrajs.frame==0]))\n",
    "    red_particle_idx = 17\n",
    "    # Trajectory Smoothing: using a Savgol Filter in order to drop the noise due to the tracking procedure\n",
    "    smoothTrajs = get_smooth_trajs(rawTrajs, nDrops, 30, 2)\n",
    "\n",
    "    res_path = \"results\"\n",
    "    analysis_data_path = \"analysis_data\"\n",
    "\n",
    "elif traj_verb == \"hough\":\n",
    "    rawTrajs = pd.read_parquet(\"../tracking/results/tracking_data//hough/linked_pre_merge.parquet\")#pd.read_parquet(\"../tracking/results/tracking_data/tracking_hough_trackpy_linking.parquet\")\n",
    "    nDrops = int(len(rawTrajs.loc[rawTrajs.frame==0]))\n",
    "    red_particle_idx = 17\n",
    "    # Trajectory Smoothing: using a Savgol Filter in order to drop the noise due to the tracking procedure\n",
    "    smoothTrajs = get_smooth_trajs(rawTrajs, nDrops, 30, 2)\n",
    "    \n",
    "    res_path = \"hough_results\"\n",
    "    analysis_data_path = \"hough_analysis_data\"\n",
    "\n",
    "elif traj_verb == \"stardist\":\n",
    "    rawTrajs = pd.read_parquet(\"../tracking/stardist_res/noblur/df_linked.parquet\")\n",
    "    nDrops = int(len(rawTrajs.loc[rawTrajs.frame==0]))\n",
    "    # Trajectory Smoothing: using a Savgol Filter in order to drop the noise due to the tracking procedure\n",
    "    smoothTrajs = get_smooth_trajs(rawTrajs, nDrops, 30, 2)\n",
    "    red_particle_idx = 10\n",
    "\n",
    "    res_path = \"stardist_results\" \n",
    "    analysis_data_path = \"stardist_analysis_data\"\n",
    "else:\n",
    "    raise ValueError(\"traj_verb must be either 'trackpy' or 'hough'\")\n",
    "\n",
    "\n",
    "colors = rawTrajs.loc[rawTrajs.frame == 0, 'color'].values\n",
    "nFrames = int(max(rawTrajs.frame) + 1)\n",
    "fps = 10\n",
    "print(f\"Number of Droplets: {nDrops}\")\n",
    "print(f\"Number of Frames: {nFrames} at {fps} fps --> {nFrames/10:.2f} s\")\n",
    "\n",
    "# WINDOWED ANALYSIS PARAMETERS\n",
    "window = 3200 # 320 s\n",
    "stride = 100 # 10 s\n",
    "print(\"Windowed analysis args:\")\n",
    "\n",
    "startFrames = np.arange(0, nFrames-window, stride, dtype=int)\n",
    "endFrames = startFrames + window\n",
    "nSteps = len(startFrames)\n",
    "print(f\"window of {window/10} s, stride of {stride/10} s --> {nSteps} steps\")\n",
    "\n",
    "# step 10 with a 10 fps video --> 1 s\n",
    "units = \"px/s\"\n",
    "default_kwargs_blue = {\"color\": \"#00FFFF\", \"ec\": (0, 0, 0, 0.6), \"density\": True}\n",
    "default_kwargs_red = {\"color\": \"#EE4B2B\", \"ec\": (0, 0, 0, 0.6), \"density\": True}"
   ]
  },
  {
   "cell_type": "markdown",
   "id": "1a826682",
   "metadata": {},
   "source": [
    "# MSD"
   ]
  },
  {
   "cell_type": "code",
   "execution_count": 9,
   "id": "55469559",
   "metadata": {},
   "outputs": [
    {
     "name": "stdout",
     "output_type": "stream",
     "text": [
      "MSD Analysis: trajs_verb = stardist, show_verb = False, run_windowed_analysis = True, animated_plot_verb = True\n",
      "Global IMSD\n",
      "Global EMSD\n",
      "Raw trajs - Blue Particles: a = 1.178 ± 0.002, K = 61.491 ± 0.431\n",
      "Raw trajs - Red Particle: a = 0.763 ± 0.001, K = 1475.813 ± 8.621\n",
      "Smooth trajs - Blue Particles: a = 1.18 ± 0.002, K = 61.032 ± 0.435\n",
      "Smooth trajs - Red Particle: a = 0.765 ± 0.001, K = 1455.679 ± 8.736\n",
      "Windowed IMSD\n"
     ]
    },
    {
     "name": "stderr",
     "output_type": "stream",
     "text": [
      "100%|██████████| 268/268 [04:33<00:00,  1.02s/it]\n",
      "100%|██████████| 268/268 [04:35<00:00,  1.03s/it]\n",
      "12:21:53 [INFO] Animation.save using <class 'matplotlib.animation.FFMpegWriter'>\n",
      "12:21:53 [INFO] MovieWriter._run: running command: ffmpeg -f rawvideo -vcodec rawvideo -s 800x500 -pix_fmt rgba -r 30 -loglevel error -i pipe: -vcodec h264 -pix_fmt yuv420p -vcodec libx264 -y ./stardist_results/mean_squared_displacement/windowed_analysis/IMSD_wind_raw.mp4\n",
      "12:22:28 [INFO] Animation.save using <class 'matplotlib.animation.FFMpegWriter'>\n",
      "12:22:28 [INFO] MovieWriter._run: running command: ffmpeg -f rawvideo -vcodec rawvideo -s 800x500 -pix_fmt rgba -r 30 -loglevel error -i pipe: -vcodec h264 -pix_fmt yuv420p -vcodec libx264 -y ./stardist_results/mean_squared_displacement/windowed_analysis/IMSD_wind_smooth.mp4\n"
     ]
    },
    {
     "name": "stdout",
     "output_type": "stream",
     "text": [
      "Windowed EMSD\n"
     ]
    },
    {
     "name": "stderr",
     "output_type": "stream",
     "text": [
      "12:23:11 [INFO] Animation.save using <class 'matplotlib.animation.FFMpegWriter'>\n",
      "12:23:11 [INFO] MovieWriter._run: running command: ffmpeg -f rawvideo -vcodec rawvideo -s 800x500 -pix_fmt rgba -r 30 -loglevel error -i pipe: -vcodec h264 -pix_fmt yuv420p -vcodec libx264 -y ./stardist_results/mean_squared_displacement/windowed_analysis/EMSD_wind_raw.mp4\n",
      "12:23:37 [INFO] Animation.save using <class 'matplotlib.animation.FFMpegWriter'>\n",
      "12:23:37 [INFO] MovieWriter._run: running command: ffmpeg -f rawvideo -vcodec rawvideo -s 800x500 -pix_fmt rgba -r 30 -loglevel error -i pipe: -vcodec h264 -pix_fmt yuv420p -vcodec libx264 -y ./stardist_results/mean_squared_displacement/windowed_analysis/EMSD_wind_smooth.mp4\n"
     ]
    }
   ],
   "source": [
    "show_verb = False\n",
    "run_windowed_analysis = True\n",
    "plot_verb = True\n",
    "animated_plot_verb = True\n",
    "save_verb = True\n",
    "\n",
    "print(f\"MSD Analysis: trajs_verb = {traj_verb}, show_verb = {show_verb}, run_windowed_analysis = {run_windowed_analysis}, animated_plot_verb = {animated_plot_verb}\")\n",
    "%run ./analysis_modules/msd.ipynb\n",
    "#%run ./analysis_modules/msd.py"
   ]
  },
  {
   "attachments": {},
   "cell_type": "markdown",
   "id": "78dc2ddd",
   "metadata": {},
   "source": [
    "# VELOCITY DISTRIBUTION\n",
    "\n",
    "$$ \\huge p(v) = \\frac{v}{\\sigma^2} e^{-\\frac{v^2}{2\\sigma^2}} $$"
   ]
  },
  {
   "cell_type": "code",
   "execution_count": 10,
   "id": "4a1370b8",
   "metadata": {},
   "outputs": [
    {
     "name": "stdout",
     "output_type": "stream",
     "text": [
      "Speed Analysis: trajs_verb = stardist, show_verb = False, animated_plot_verb = True\n",
      "\n",
      " Global speed distribution analysis\n",
      "Raw Trajectories\n",
      "Blue Particles σ: 2.840536643626226 ± 0.019486900067007207\n",
      "Red Particle σ: 8.523510198137256 ± 0.17484495828328145\n",
      "Smooth Trajectories\n",
      "Blue Particles σ: 2.695091926784261 ± 0.018440786910659774\n",
      "Red Particle σ: 8.582079069410534 ± 0.17660785993843936\n",
      "\n",
      " Windowed speed distribution Analysis\n"
     ]
    },
    {
     "name": "stderr",
     "output_type": "stream",
     "text": [
      "100%|██████████| 268/268 [00:59<00:00,  4.50it/s]\n",
      "100%|██████████| 268/268 [00:58<00:00,  4.62it/s]\n",
      "15:18:09 [INFO] Animation.save using <class 'matplotlib.animation.FFMpegWriter'>\n",
      "15:18:09 [INFO] MovieWriter._run: running command: ffmpeg -f rawvideo -vcodec rawvideo -s 800x500 -pix_fmt rgba -r 30 -loglevel error -i pipe: -vcodec h264 -pix_fmt yuv420p -vcodec libx264 -y ./stardist_results/speed_distribution/speed_raw_wind.mp4\n",
      "15:20:16 [INFO] Animation.save using <class 'matplotlib.animation.FFMpegWriter'>\n",
      "15:20:16 [INFO] MovieWriter._run: running command: ffmpeg -f rawvideo -vcodec rawvideo -s 800x500 -pix_fmt rgba -r 30 -loglevel error -i pipe: -vcodec h264 -pix_fmt yuv420p -vcodec libx264 -y ./stardist_results/speed_distribution/speed_smooth_wind.mp4\n"
     ]
    }
   ],
   "source": [
    "show_verb = False\n",
    "plot_verb = True\n",
    "animated_plot_verb = True\n",
    "save_verb = True\n",
    "\n",
    "v_step = 10\n",
    "\n",
    "print(f\"Speed Analysis: trajs_verb = {traj_verb}, show_verb = {show_verb}, animated_plot_verb = {animated_plot_verb}\")\n",
    "%run ./analysis_modules/velocity_distr.ipynb"
   ]
  },
  {
   "attachments": {},
   "cell_type": "markdown",
   "id": "57e43c27",
   "metadata": {},
   "source": [
    "# TURNING ANGLES DISTRIBUTIONS"
   ]
  },
  {
   "cell_type": "code",
   "execution_count": 11,
   "id": "8582a5bc",
   "metadata": {},
   "outputs": [
    {
     "name": "stdout",
     "output_type": "stream",
     "text": [
      "Turning Angles Analysis: trajs_verb = stardist, show_verb = False, animated_plot_verb = True\n",
      "\n",
      " Global turning angles analysis\n",
      "Raw Trajectories\n",
      "Blue Particles σ: 0.2603550046364755 ± 0.0031217060943062873, μ: 0.000860941389088082 ± 0.003120981977861532\n",
      "Red Particle σ: 0.17493170562112526 ± 0.0023488120487898385, μ: -0.005456977614727908 ± 0.0023484620771724737\n",
      "Smooth Trajectories\n",
      "Blue Particles σ: 0.07154922678931545 ± 0.0005369027908970597, μ: -7.924505823246546e-05 ± 0.0004420583223647755\n",
      "Red Particle σ: 0.053794393098102744 ± 0.0007349125671607246, μ: 0.0017895247510092355 ± 0.0004343643959283088\n",
      "\n",
      " Windowed turning angles analysis\n"
     ]
    },
    {
     "name": "stderr",
     "output_type": "stream",
     "text": [
      "100%|██████████| 268/268 [00:39<00:00,  6.79it/s]\n",
      "100%|██████████| 268/268 [00:37<00:00,  7.09it/s]\n",
      "15:25:03 [INFO] Animation.save using <class 'matplotlib.animation.FFMpegWriter'>\n",
      "15:25:03 [INFO] MovieWriter._run: running command: ffmpeg -f rawvideo -vcodec rawvideo -s 800x500 -pix_fmt rgba -r 30 -loglevel error -i pipe: -vcodec h264 -pix_fmt yuv420p -vcodec libx264 -y ./stardist_results/turning_angles/lorentzian/turn_ang_wind_raw.mp4\n",
      "15:25:30 [INFO] Animation.save using <class 'matplotlib.animation.FFMpegWriter'>\n",
      "15:25:30 [INFO] MovieWriter._run: running command: ffmpeg -f rawvideo -vcodec rawvideo -s 800x500 -pix_fmt rgba -r 30 -loglevel error -i pipe: -vcodec h264 -pix_fmt yuv420p -vcodec libx264 -y ./stardist_results/turning_angles/lorentzian/turn_ang_wind_smooth.mp4\n"
     ]
    }
   ],
   "source": [
    "show_verb = False\n",
    "run_windowed_analysis = True\n",
    "plot_verb = True\n",
    "animated_plot_verb = True\n",
    "save_verb = True\n",
    "\n",
    "# choose the distribution to fit\n",
    "distribution_str = \"lorentzian\"\n",
    "\n",
    "if distribution_str == \"gaussian\":\n",
    "    distribution = normal_distr\n",
    "elif distribution_str == \"lorentzian\":\n",
    "    distribution = lorentzian_distr\n",
    "    distribution_str = \"lorentzian\"\n",
    "else:\n",
    "    raise ValueError(\"distribution_str must be either 'gaussian' or 'lorentzian'\")\n",
    "\n",
    "print(f\"Turning Angles Analysis: trajs_verb = {traj_verb}, show_verb = {show_verb}, animated_plot_verb = {animated_plot_verb}\")\n",
    "%run ./analysis_modules/turning_angles.ipynb"
   ]
  },
  {
   "cell_type": "markdown",
   "id": "dc392ce1",
   "metadata": {},
   "source": [
    "# VELOCITY AUTOCORRELATION"
   ]
  },
  {
   "cell_type": "code",
   "execution_count": 13,
   "id": "09d190ba",
   "metadata": {},
   "outputs": [
    {
     "name": "stdout",
     "output_type": "stream",
     "text": [
      "Velocity Autocorrelation Analysis: show_verb = False, run_windowed_analysis = True, animated_plot_verb = True\n",
      "Global Velocity Autocovariance Function\n",
      "Windowed analysis\n"
     ]
    },
    {
     "name": "stderr",
     "output_type": "stream",
     "text": [
      "100%|██████████| 268/268 [31:21<00:00,  7.02s/it]\n",
      "100%|██████████| 268/268 [31:15<00:00,  7.00s/it]\n",
      "16:32:25 [INFO] Animation.save using <class 'matplotlib.animation.FFMpegWriter'>\n",
      "16:32:25 [INFO] MovieWriter._run: running command: ffmpeg -f rawvideo -vcodec rawvideo -s 800x500 -pix_fmt rgba -r 30 -loglevel error -i pipe: -vcodec h264 -pix_fmt yuv420p -vcodec libx264 -y ./stardist_results/velocity_autocovariance/vacf_wind_raw.mp4\n",
      "16:32:46 [INFO] Animation.save using <class 'matplotlib.animation.FFMpegWriter'>\n",
      "16:32:46 [INFO] MovieWriter._run: running command: ffmpeg -f rawvideo -vcodec rawvideo -s 800x500 -pix_fmt rgba -r 30 -loglevel error -i pipe: -vcodec h264 -pix_fmt yuv420p -vcodec libx264 -y ./stardist_results/velocity_autocovariance/vacf_wind_smooth.mp4\n"
     ]
    }
   ],
   "source": [
    "show_verb = False\n",
    "run_windowed_analysis = True\n",
    "plot_verb = True\n",
    "animated_plot_verb = True\n",
    "save_verb = True\n",
    "overwrite = False\n",
    "\n",
    "print(f\"Velocity Autocorrelation Analysis: show_verb = {show_verb}, run_windowed_analysis = {run_windowed_analysis}, animated_plot_verb = {animated_plot_verb}\")\n",
    "%run ./analysis_modules/velocity_autocorrelation.ipynb"
   ]
  },
  {
   "cell_type": "markdown",
   "id": "c7269601",
   "metadata": {},
   "source": [
    "# RADIAL DISTRIBUTON FUNCTION"
   ]
  },
  {
   "cell_type": "code",
   "execution_count": 17,
   "id": "5e00f8d7",
   "metadata": {},
   "outputs": [
    {
     "name": "stdout",
     "output_type": "stream",
     "text": [
      "Radial Distribution Function Analysis: stardist, run_analysis_verb = True, show_verb = False, animated_plot_verb = True\n",
      "RDF - Raw Trajectories\n",
      "raw\n"
     ]
    },
    {
     "name": "stderr",
     "output_type": "stream",
     "text": [
      "100%|██████████| 30000/30000 [1:13:38<00:00,  6.79it/s]\n",
      "19:22:14 [INFO] Animation.save using <class 'matplotlib.animation.FFMpegWriter'>\n",
      "19:22:14 [INFO] MovieWriter._run: running command: ffmpeg -f rawvideo -vcodec rawvideo -s 1000x400 -pix_fmt rgba -r 60 -loglevel error -i pipe: -vcodec h264 -pix_fmt yuv420p -vcodec libx264 -y ./stardist_results/radial_distribution_function/rdf_raw.mp4\n"
     ]
    },
    {
     "name": "stdout",
     "output_type": "stream",
     "text": [
      "RDF from center - Raw Trajectories\n"
     ]
    },
    {
     "name": "stderr",
     "output_type": "stream",
     "text": [
      "100%|██████████| 30000/30000 [02:51<00:00, 174.57it/s]\n"
     ]
    },
    {
     "name": "stdout",
     "output_type": "stream",
     "text": [
      "RDF from center - Smooth Trajectories\n"
     ]
    },
    {
     "name": "stderr",
     "output_type": "stream",
     "text": [
      "100%|██████████| 30000/30000 [02:43<00:00, 183.09it/s]\n",
      "19:29:17 [INFO] Animation.save using <class 'matplotlib.animation.FFMpegWriter'>\n",
      "19:29:17 [INFO] MovieWriter._run: running command: ffmpeg -f rawvideo -vcodec rawvideo -s 640x480 -pix_fmt rgba -r 60 -loglevel error -i pipe: -vcodec h264 -pix_fmt yuv420p -vcodec libx264 -y ./stardist_results/radial_distribution_function/rdf_from_center_raw.mp4\n",
      "19:30:34 [INFO] Animation.save using <class 'matplotlib.animation.FFMpegWriter'>\n",
      "19:30:34 [INFO] MovieWriter._run: running command: ffmpeg -f rawvideo -vcodec rawvideo -s 640x480 -pix_fmt rgba -r 60 -loglevel error -i pipe: -vcodec h264 -pix_fmt yuv420p -vcodec libx264 -y ./stardist_results/radial_distribution_function/rdf_from_center_smooth.mp4\n"
     ]
    }
   ],
   "source": [
    "run_analysis_verb = True\n",
    "show_verb = False\n",
    "animated_plot_verb = True\n",
    "save_verb = True\n",
    "\n",
    "print(f\"Radial Distribution Function Analysis: {traj_verb}, run_analysis_verb = {run_analysis_verb}, show_verb = {show_verb}, animated_plot_verb = {animated_plot_verb}\")\n",
    "%run ./analysis_modules/radial_distribution_function.ipynb"
   ]
  },
  {
   "cell_type": "markdown",
   "id": "3ef42996",
   "metadata": {},
   "source": [
    "# 3 BODY STRUCTURE METRIC"
   ]
  },
  {
   "cell_type": "code",
   "execution_count": null,
   "id": "cf43967f",
   "metadata": {},
   "outputs": [],
   "source": [
    "run_analysis_verb = False\n",
    "show_verb = False\n",
    "animated_plot_verb = False\n",
    "\n",
    "%run ./analysis_modules/3body_analysis.ipynb"
   ]
  },
  {
   "cell_type": "code",
   "execution_count": null,
   "id": "786e3d11",
   "metadata": {},
   "outputs": [],
   "source": []
  }
 ],
 "metadata": {
  "kernelspec": {
   "display_name": "Python 3 (ipykernel)",
   "language": "python",
   "name": "python3"
  },
  "language_info": {
   "codemirror_mode": {
    "name": "ipython",
    "version": 3
   },
   "file_extension": ".py",
   "mimetype": "text/x-python",
   "name": "python",
   "nbconvert_exporter": "python",
   "pygments_lexer": "ipython3",
   "version": "3.10.6"
  },
  "vscode": {
   "interpreter": {
    "hash": "cda584d4033b4fbc423661afef9f2afe920081905f188573e835f76abdc60dee"
   }
  }
 },
 "nbformat": 4,
 "nbformat_minor": 5
}
