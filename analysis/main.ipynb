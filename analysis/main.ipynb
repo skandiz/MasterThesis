{
 "cells": [
  {
   "cell_type": "code",
   "execution_count": 1,
   "id": "1e649092",
   "metadata": {},
   "outputs": [],
   "source": [
    "import matplotlib.pyplot as plt\n",
    "import matplotlib.animation\n",
    "%matplotlib ipympl\n",
    "import numpy as np\n",
    "import pandas as pd\n",
    "\n",
    "from scipy.spatial import KDTree, cKDTree\n",
    "from scipy.ndimage import uniform_filter1d\n",
    "from scipy.signal import savgol_filter\n",
    "from scipy.optimize import curve_fit\n",
    "\n",
    "import time\n",
    "import joblib\n",
    "from tqdm import tqdm\n",
    "import trackpy as tp\n",
    "from numba import njit, prange\n",
    "\n",
    "from yupi import Trajectory\n",
    "import yupi.graphics as yg\n",
    "import yupi.stats as ys\n",
    "\n",
    "from utility import get_imsd, get_imsd_windowed, get_emsd, get_emsd_windowed, fit_hist, MB_2D,\\\n",
    "                    normal_distr, lorentzian_distr, get_trajs, speed_windowed, theta_windowed, \\\n",
    "                    get_smooth_trajs, get_velocities"
   ]
  },
  {
   "cell_type": "code",
   "execution_count": 2,
   "id": "a166b38a",
   "metadata": {},
   "outputs": [
    {
     "name": "stdout",
     "output_type": "stream",
     "text": [
      "Number of Droplets: 50\n",
      "Number of Frames: 32000 at 10 fps --> 3200.00 s\n",
      "Windowed analysis args:\n",
      "window of 320.0 s, stride of 10.0 s --> 288 steps\n"
     ]
    }
   ],
   "source": [
    "traj_verb = \"hough\"\n",
    "\n",
    "if traj_verb == \"trackpy\": \n",
    "    rawTrajs = pd.read_parquet(\"../tracking/results/tracking_data/trackpy_pre_merge.parquet\")\n",
    "    nDrops = int(len(rawTrajs.loc[rawTrajs.frame==0]))\n",
    "    # Trajectory Smoothing: using a Savgol Filter in order to drop the noise due to the tracking procedure\n",
    "    smoothTrajs = get_smooth_trajs(rawTrajs, nDrops, 30, 2)\n",
    "\n",
    "    res_path = \"results\"\n",
    "    analysis_data_path = \"analysis_data\"\n",
    "\n",
    "elif traj_verb == \"hough\":\n",
    "    rawTrajs = pd.read_parquet(\"../tracking/results/tracking_data/tracking_hough_trackpy_linking.parquet\")\n",
    "    nDrops = int(len(rawTrajs.loc[rawTrajs.frame==0]))\n",
    "    # Trajectory Smoothing: using a Savgol Filter in order to drop the noise due to the tracking procedure\n",
    "    smoothTrajs = get_smooth_trajs(rawTrajs, nDrops, 30, 2)\n",
    "\n",
    "    res_path = \"hough_results\"\n",
    "    analysis_data_path = \"hough_analysis_data\"\n",
    "else:\n",
    "    raise ValueError(\"traj_verb must be either 'trackpy' or 'hough'\")\n",
    "\n",
    "red_particle_idx = 17\n",
    "colors = rawTrajs.loc[rawTrajs.frame == 0, 'color'].values\n",
    "nFrames = int(max(rawTrajs.frame) + 1)\n",
    "fps = 10\n",
    "print(f\"Number of Droplets: {nDrops}\")\n",
    "print(f\"Number of Frames: {nFrames} at {fps} fps --> {nFrames/10:.2f} s\")\n",
    "\n",
    "# WINDOWED ANALYSIS PARAMETERS\n",
    "window = 3200 # 320 s\n",
    "stride = 100 # 10 s\n",
    "print(\"Windowed analysis args:\")\n",
    "\n",
    "startFrames = np.arange(0, nFrames-window, stride, dtype=int)\n",
    "endFrames = startFrames + window\n",
    "nSteps = len(startFrames)\n",
    "print(f\"window of {window/10} s, stride of {stride/10} s --> {nSteps} steps\")\n",
    "\n",
    "# step 10 with a 10 fps video --> 1 s\n",
    "units = \"px/s\"\n",
    "default_kwargs_blue = {\"color\": \"#00FFFF\", \"ec\": (0, 0, 0, 0.6), \"density\": True}\n",
    "default_kwargs_red = {\"color\": \"#EE4B2B\", \"ec\": (0, 0, 0, 0.6), \"density\": True}"
   ]
  },
  {
   "cell_type": "markdown",
   "id": "1a826682",
   "metadata": {},
   "source": [
    "# MSD"
   ]
  },
  {
   "cell_type": "code",
   "execution_count": 4,
   "id": "55469559",
   "metadata": {},
   "outputs": [
    {
     "name": "stdout",
     "output_type": "stream",
     "text": [
      "MSD Analysis: trajs_verb = hough, show_verb = False, run_windowed_analysis = True, animated_plot_verb = True\n",
      "Global IMSD\n",
      "Global EMSD\n",
      "Raw trajs - Blue Particles: 1.183 ± 0.002, Red Particle: 0.762 ± 0.002\n",
      "Smooth trajs - Blue Particles: 1.184 ± 0.002, Red Particle: 0.765 ± 0.002\n",
      "Windowed IMSD\n"
     ]
    },
    {
     "name": "stderr",
     "output_type": "stream",
     "text": [
      "100%|██████████| 288/288 [06:11<00:00,  1.29s/it]\n",
      "100%|██████████| 288/288 [06:08<00:00,  1.28s/it]\n",
      "17:22:31 [INFO] Animation.save using <class 'matplotlib.animation.FFMpegWriter'>\n",
      "17:22:31 [INFO] MovieWriter._run: running command: ffmpeg -f rawvideo -vcodec rawvideo -s 800x500 -pix_fmt rgba -r 30 -loglevel error -i pipe: -vcodec h264 -pix_fmt yuv420p -vcodec libx264 -y ./hough_results/mean_squared_displacement/windowed_analysis/IMSD_wind_raw.mp4\n",
      "17:23:24 [INFO] Animation.save using <class 'matplotlib.animation.FFMpegWriter'>\n",
      "17:23:24 [INFO] MovieWriter._run: running command: ffmpeg -f rawvideo -vcodec rawvideo -s 800x500 -pix_fmt rgba -r 30 -loglevel error -i pipe: -vcodec h264 -pix_fmt yuv420p -vcodec libx264 -y ./hough_results/mean_squared_displacement/windowed_analysis/IMSD_wind_smooth.mp4\n"
     ]
    },
    {
     "name": "stdout",
     "output_type": "stream",
     "text": [
      "Windowed EMSD\n"
     ]
    },
    {
     "name": "stderr",
     "output_type": "stream",
     "text": [
      "17:24:19 [INFO] Animation.save using <class 'matplotlib.animation.FFMpegWriter'>\n",
      "17:24:19 [INFO] MovieWriter._run: running command: ffmpeg -f rawvideo -vcodec rawvideo -s 800x500 -pix_fmt rgba -r 30 -loglevel error -i pipe: -vcodec h264 -pix_fmt yuv420p -vcodec libx264 -y ./hough_results/mean_squared_displacement/windowed_analysis/EMSD_wind_raw.mp4\n",
      "17:24:51 [INFO] Animation.save using <class 'matplotlib.animation.FFMpegWriter'>\n",
      "17:24:51 [INFO] MovieWriter._run: running command: ffmpeg -f rawvideo -vcodec rawvideo -s 800x500 -pix_fmt rgba -r 30 -loglevel error -i pipe: -vcodec h264 -pix_fmt yuv420p -vcodec libx264 -y ./hough_results/mean_squared_displacement/windowed_analysis/EMSD_wind_smooth.mp4\n"
     ]
    }
   ],
   "source": [
    "show_verb = False\n",
    "run_windowed_analysis = True\n",
    "plot_verb = True\n",
    "animated_plot_verb = True\n",
    "save_verb = True\n",
    "\n",
    "print(f\"MSD Analysis: trajs_verb = {traj_verb}, show_verb = {show_verb}, run_windowed_analysis = {run_windowed_analysis}, animated_plot_verb = {animated_plot_verb}\")\n",
    "%run ./analysis_modules/msd.ipynb\n",
    "#%run ./analysis_modules/msd.py"
   ]
  },
  {
   "attachments": {},
   "cell_type": "markdown",
   "id": "78dc2ddd",
   "metadata": {},
   "source": [
    "# VELOCITY DISTRIBUTION\n",
    "\n",
    "$$ \\huge p(v) = \\frac{v}{\\sigma^2} e^{-\\frac{v^2}{2\\sigma^2}} $$"
   ]
  },
  {
   "cell_type": "code",
   "execution_count": 8,
   "id": "4a1370b8",
   "metadata": {},
   "outputs": [
    {
     "name": "stdout",
     "output_type": "stream",
     "text": [
      "Speed Analysis: trajs_verb = hough, show_verb = False, animated_plot_verb = True\n",
      "\n",
      " Global speed distribution analysis\n",
      "Raw Trajectories\n",
      "Blue Particles σ: 2.8142698983828414 ± 0.07242741090955332\n",
      "Red Particle σ: 7.622198654479617 ± 0.21007989747959196\n",
      "Smooth Trajectories\n",
      "Blue Particles σ: 2.656802399698486 ± 0.018146336090378336\n",
      "Red Particle σ: 7.655344604966516 ± 0.14809620224532655\n",
      "\n",
      " Windowed speed distribution Analysis\n"
     ]
    },
    {
     "name": "stderr",
     "output_type": "stream",
     "text": [
      "100%|██████████| 288/288 [01:08<00:00,  4.18it/s]\n",
      "100%|██████████| 288/288 [01:01<00:00,  4.67it/s]\n",
      "18:35:48 [INFO] Animation.save using <class 'matplotlib.animation.FFMpegWriter'>\n",
      "18:35:48 [INFO] MovieWriter._run: running command: ffmpeg -f rawvideo -vcodec rawvideo -s 800x500 -pix_fmt rgba -r 30 -loglevel error -i pipe: -vcodec h264 -pix_fmt yuv420p -vcodec libx264 -y ./hough_results/speed_distribution/speed_raw_wind.mp4\n",
      "18:38:04 [INFO] Animation.save using <class 'matplotlib.animation.FFMpegWriter'>\n",
      "18:38:04 [INFO] MovieWriter._run: running command: ffmpeg -f rawvideo -vcodec rawvideo -s 800x500 -pix_fmt rgba -r 30 -loglevel error -i pipe: -vcodec h264 -pix_fmt yuv420p -vcodec libx264 -y ./hough_results/speed_distribution/speed_smooth_wind.mp4\n"
     ]
    }
   ],
   "source": [
    "show_verb = False\n",
    "plot_verb = True\n",
    "animated_plot_verb = True\n",
    "save_verb = True\n",
    "\n",
    "v_step = 10\n",
    "\n",
    "print(f\"Speed Analysis: trajs_verb = {traj_verb}, show_verb = {show_verb}, animated_plot_verb = {animated_plot_verb}\")\n",
    "%run ./analysis_modules/velocity_distr.ipynb"
   ]
  },
  {
   "attachments": {},
   "cell_type": "markdown",
   "id": "57e43c27",
   "metadata": {},
   "source": [
    "# TURNING ANGLES DISTRIBUTIONS"
   ]
  },
  {
   "cell_type": "code",
   "execution_count": null,
   "id": "8582a5bc",
   "metadata": {},
   "outputs": [],
   "source": [
    "show_verb = False\n",
    "run_windowed_analysis = True\n",
    "plot_verb = True\n",
    "animated_plot_verb = True\n",
    "save_verb = True\n",
    "\n",
    "# choose the distribution to fit\n",
    "distribution_str = \"lorentzian\"\n",
    "\n",
    "if distribution_str == \"gaussian\":\n",
    "    distribution = normal_distr\n",
    "elif distribution_str == \"lorentzian\":\n",
    "    distribution = lorentzian_distr\n",
    "    distribution_str = \"lorentzian\"\n",
    "else:\n",
    "    raise ValueError(\"distribution_str must be either 'gaussian' or 'lorentzian'\")\n",
    "\n",
    "print(f\"Turning Angles Analysis: trajs_verb = {traj_verb}, show_verb = {show_verb}, animated_plot_verb = {animated_plot_verb}\")\n",
    "%run ./analysis_modules/turning_angles.ipynb"
   ]
  },
  {
   "cell_type": "markdown",
   "id": "dc392ce1",
   "metadata": {},
   "source": [
    "# VELOCITY AUTOCORRELATION"
   ]
  },
  {
   "cell_type": "code",
   "execution_count": null,
   "id": "09d190ba",
   "metadata": {},
   "outputs": [],
   "source": [
    "show_verb = False\n",
    "run_windowed_analysis = False\n",
    "plot_verb = True\n",
    "animated_plot_verb = True\n",
    "save_verb = True\n",
    "\n",
    "print(f\"Velocity Autocorrelation Analysis: show_verb = {show_verb}, run_windowed_analysis = {run_windowed_analysis}, animated_plot_verb = {animated_plot_verb}\")\n",
    "%run ./analysis_modules/velocity_autocorrelation.ipynb"
   ]
  },
  {
   "cell_type": "markdown",
   "id": "c7269601",
   "metadata": {},
   "source": [
    "# RADIAL DISTRIBUTON FUNCTION"
   ]
  },
  {
   "cell_type": "code",
   "execution_count": null,
   "id": "5e00f8d7",
   "metadata": {},
   "outputs": [],
   "source": [
    "run_analysis_verb = False\n",
    "show_verb = False\n",
    "animated_plot_verb = False\n",
    "\n",
    "print(\"Radial Distribution Function Analysis: run_analysis_verb = {run_analysis_verb}, show_verb = {show_verb}, animated_plot_verb = {animated_plot_verb}\")\n",
    "%run ./analysis_modules/radial_distribution_function.ipynb"
   ]
  },
  {
   "cell_type": "markdown",
   "id": "3ef42996",
   "metadata": {},
   "source": [
    "# 3 BODY STRUCTURE METRIC"
   ]
  },
  {
   "cell_type": "code",
   "execution_count": null,
   "id": "cf43967f",
   "metadata": {},
   "outputs": [],
   "source": [
    "run_analysis_verb = False\n",
    "show_verb = False\n",
    "animated_plot_verb = False\n",
    "\n",
    "%run ./analysis_modules/3body_analysis.ipynb"
   ]
  },
  {
   "cell_type": "code",
   "execution_count": null,
   "id": "786e3d11",
   "metadata": {},
   "outputs": [],
   "source": []
  }
 ],
 "metadata": {
  "kernelspec": {
   "display_name": "Python 3 (ipykernel)",
   "language": "python",
   "name": "python3"
  },
  "language_info": {
   "codemirror_mode": {
    "name": "ipython",
    "version": 3
   },
   "file_extension": ".py",
   "mimetype": "text/x-python",
   "name": "python",
   "nbconvert_exporter": "python",
   "pygments_lexer": "ipython3",
   "version": "3.10.6"
  },
  "vscode": {
   "interpreter": {
    "hash": "cda584d4033b4fbc423661afef9f2afe920081905f188573e835f76abdc60dee"
   }
  }
 },
 "nbformat": 4,
 "nbformat_minor": 5
}
