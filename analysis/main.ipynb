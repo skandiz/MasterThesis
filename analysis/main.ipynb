{
 "cells": [
  {
   "cell_type": "code",
   "execution_count": 1,
   "id": "1e649092",
   "metadata": {},
   "outputs": [],
   "source": [
    "import matplotlib.pyplot as plt\n",
    "import matplotlib.animation\n",
    "%matplotlib ipympl\n",
    "import numpy as np\n",
    "import pandas as pd\n",
    "\n",
    "from scipy.spatial import KDTree, cKDTree\n",
    "from scipy.ndimage import uniform_filter1d\n",
    "from scipy.signal import savgol_filter\n",
    "from scipy.optimize import curve_fit\n",
    "\n",
    "import joblib\n",
    "from tqdm import tqdm\n",
    "import trackpy as tp\n",
    "from numba import njit, prange\n",
    "\n",
    "from yupi import Trajectory\n",
    "import yupi.graphics as yg\n",
    "import yupi.stats as ys\n",
    "\n",
    "from utility import get_imsd, get_imsd_windowed, get_emsd, get_emsd_windowed, fit_hist, MB_2D,\\\n",
    "                    normal_distr, get_trajs, speed_windowed, theta_windowed, get_smooth_trajs, get_velocities\n",
    "                   \n",
    "show_verb = True\n",
    "save_verb = True\n",
    "anim_show_verb = False"
   ]
  },
  {
   "cell_type": "code",
   "execution_count": 3,
   "id": "a166b38a",
   "metadata": {},
   "outputs": [
    {
     "name": "stdout",
     "output_type": "stream",
     "text": [
      "nDrops:50\n",
      "nFrames:32000 --> 3200.00 s\n",
      "window of 320.0 s, stride of 10.0 s\n",
      "number of steps: 288\n"
     ]
    }
   ],
   "source": [
    "rawTrajs = pd.read_parquet(\"../tracking/tracking_data/pre_merge_tracking.parquet\")\n",
    "red_particle_idx = 17\n",
    "rawTrajs.loc[rawTrajs.particle != red_particle_idx, [\"color\"]] = \"#00007F\"\n",
    "rawTrajs.loc[rawTrajs.particle == red_particle_idx, [\"color\"]] = \"#FF0000\"\n",
    "colors = rawTrajs.loc[rawTrajs.frame == 0, 'color'].values\n",
    "nDrops = len(rawTrajs.loc[rawTrajs.frame==0])\n",
    "nFrames = max(rawTrajs.frame) + 1\n",
    "print(f\"nDrops:{nDrops}\")\n",
    "print(f\"nFrames:{nFrames} --> {nFrames/10:.2f} s\")\n",
    "\n",
    "\n",
    "# WINDOWED ANALYSIS PARAMETERS\n",
    "window = 3200 # 320 s\n",
    "stride = 100 # 10 s\n",
    "print(f\"window of {window/10} s, stride of {stride/10} s\")\n",
    "startFrames = np.arange(0, nFrames-window, stride, dtype=int)\n",
    "endFrames = startFrames + window\n",
    "nSteps = len(startFrames)\n",
    "print(f\"number of steps: {nSteps}\")\n",
    "\n",
    "\n",
    "# step 10 with a 10 fps video --> 1 s\n",
    "units = \"px/s\"\n",
    "default_kwargs_blue = {\"color\": \"#00FFFF\", \"ec\": (0, 0, 0, 0.6), \"density\": True}\n",
    "default_kwargs_red = {\"color\": \"#EE4B2B\", \"ec\": (0, 0, 0, 0.6), \"density\": True}"
   ]
  },
  {
   "cell_type": "code",
   "execution_count": 6,
   "id": "0fd667b3",
   "metadata": {},
   "outputs": [],
   "source": [
    "# Trajectory Smoothing: using a Savgol Filter in order to drop the noise due to the tracking procedure\n",
    "smoothTrajs = get_smooth_trajs(rawTrajs, nDrops, 30, 2)"
   ]
  },
  {
   "cell_type": "code",
   "execution_count": 4,
   "id": "55469559",
   "metadata": {},
   "outputs": [
    {
     "name": "stdout",
     "output_type": "stream",
     "text": [
      "MSD Analysis: msd_plot_verb = False, run_windowed_analysis = False, animated_plot_verb = False\n",
      "Global IMSD\n",
      "Global EMSD\n",
      "Raw trajs - Blue Particles: 1.179 ± 0.002, Red Particle: 0.762 ± 0.002\n",
      "Smooth trajs - Blue Particles: 1.183 ± 0.002, Red Particle: 0.765 ± 0.002\n",
      "Windowed IMSD\n",
      "Windowed EMSD\n"
     ]
    }
   ],
   "source": [
    "%run ./analysis_modules/msd.ipynb"
   ]
  },
  {
   "cell_type": "code",
   "execution_count": 9,
   "id": "4a1370b8",
   "metadata": {},
   "outputs": [
    {
     "name": "stdout",
     "output_type": "stream",
     "text": [
      "Speed and Turning Angles Analysis: st_plot_verb = False, run_windowed_analysis = False, animated_plot_verb = False\n",
      "\n",
      " Global speed distribution analysis\n",
      "Raw Trajectories\n",
      "Blue Particles σ: 3.0812678386034857 ± 0.015939935826104385\n",
      "Red Particle σ: 7.3063902778733985 ± 0.1325638679530156\n",
      "Smooth Trajectories\n",
      "Blue Particles σ: 2.6247331712013717 ± 0.016982879149678404\n",
      "Red Particle σ: 7.501490328804058 ± 0.14385893343130896\n",
      "\n",
      " Windowed speed distribution Analysis\n"
     ]
    },
    {
     "name": "stderr",
     "output_type": "stream",
     "text": [
      "100%|██████████| 288/288 [01:00<00:00,  4.78it/s]\n",
      "100%|██████████| 288/288 [00:57<00:00,  5.05it/s]\n"
     ]
    },
    {
     "name": "stdout",
     "output_type": "stream",
     "text": [
      "\n",
      " Global turning angles analysis\n",
      "Raw Trajectories\n",
      "Blue Particles σ: 2.917682835740027 ± 0.30949859447841155, μ: -0.0007054159678248849 ± 0.4540618048966584\n",
      "Red Particle σ: 2.4384780096960923 ± 0.15247337370262667, μ: 0.017968089879776165 ± 0.19547887167646438\n",
      "Smooth Trajectories\n",
      "Blue Particles σ: 0.4532020875829226 ± 0.012243069144373108, μ: 0.00038165827270340245 ± 0.014994576804522203\n",
      "Red Particle σ: 0.19514856444555856 ± 0.004919473860240537, μ: 0.0040682468147739065 ± 0.00602510062559018\n",
      "\n",
      " Windowed turning angles analysis\n"
     ]
    },
    {
     "name": "stderr",
     "output_type": "stream",
     "text": [
      "100%|██████████| 288/288 [00:44<00:00,  6.43it/s]\n",
      "100%|██████████| 288/288 [00:41<00:00,  6.87it/s]\n"
     ]
    }
   ],
   "source": [
    "%run ./analysis_modules/speed_and_turning_angles.ipynb"
   ]
  },
  {
   "cell_type": "code",
   "execution_count": null,
   "id": "09d190ba",
   "metadata": {},
   "outputs": [],
   "source": [
    "%run ./analysis_modules/velocity_autocorrelation.ipynb"
   ]
  },
  {
   "cell_type": "markdown",
   "id": "73aa1758",
   "metadata": {},
   "source": [
    "# Radial Distribution Function\n",
    "\n",
    "\n",
    "The radial distribution function in 2D is:\n",
    "$$ g_2(r) = \\frac{n(r)}{\\pi [(r+\\delta r)^2 - r^2 ] \\rho} $$\n",
    "\n",
    "where the density is $\\rho = N/V $ and the number density $n(r)$ is computed (using a KDTree data structure) by taking the number of elements closer than $r + \\delta r$ minus the number of elements closer than $r$\n",
    "\n",
    "In 3D (i think):\n",
    "$$ S_r = 4 \\pi r^2 g_2(r) $$\n",
    "\n",
    "in 2D ???"
   ]
  },
  {
   "cell_type": "markdown",
   "id": "97a48aeb",
   "metadata": {},
   "source": [
    "## regular"
   ]
  },
  {
   "cell_type": "code",
   "execution_count": null,
   "id": "84ce6d31",
   "metadata": {},
   "outputs": [],
   "source": [
    "@joblib.delayed\n",
    "def computeRadialDistributionFunction(frame, COORDS, rList, dr, rho):\n",
    "    coords = COORDS[frame*nDrops:(frame+1)*nDrops,:]\n",
    "    kd = KDTree(coords)\n",
    "\n",
    "    avg_n = np.zeros(len(rList))\n",
    "    for i, r in enumerate(rList):\n",
    "        a = kd.query_ball_point(coords, r + 20)\n",
    "        b = kd.query_ball_point(coords, r)\n",
    "        \n",
    "        n1 = 0\n",
    "        for j in a:\n",
    "            n1 += len(j) - 1\n",
    "\n",
    "        n2 = 0\n",
    "        for j in b:\n",
    "            n2 += len(j) - 1\n",
    "        \n",
    "        avg_n[i] = n1/len(a) - n2/len(b)\n",
    "\n",
    "    g2 = avg_n/(np.pi*(dr**2 + 2*rList*dr)*rho)\n",
    "    return g2"
   ]
  },
  {
   "cell_type": "code",
   "execution_count": null,
   "id": "0d1f2d13",
   "metadata": {},
   "outputs": [],
   "source": [
    "dr = 5\n",
    "rDisk = 822/2\n",
    "rList = np.arange(0, 2*rDisk, 1)\n",
    "rho = nDrops/(np.pi*rDisk**2) # nDrops -1 !\n",
    "\n",
    "COORDS = np.array(rawTrajs.loc[:,[\"x\",\"y\"]])"
   ]
  },
  {
   "cell_type": "code",
   "execution_count": null,
   "id": "ca7f173b",
   "metadata": {},
   "outputs": [],
   "source": [
    "parallel = joblib.Parallel(n_jobs = -2)\n",
    "frames = 200\n",
    "trial = parallel(\n",
    "    computeRadialDistributionFunction(frame, COORDS, rList, dr, rho)\n",
    "    for frame in tqdm( range(frames) )\n",
    ")\n",
    "trial = np.array(trial)"
   ]
  },
  {
   "cell_type": "code",
   "execution_count": null,
   "id": "1cdf2c54",
   "metadata": {},
   "outputs": [],
   "source": [
    "fig, ax = plt.subplots()\n",
    "anim_running = True\n",
    "\n",
    "def onClick(event):\n",
    "    global anim_running\n",
    "    if anim_running:\n",
    "        ani.event_source.stop()\n",
    "        anim_running = False\n",
    "    else:\n",
    "        ani.event_source.start()\n",
    "        anim_running = True\n",
    "\n",
    "line, = ax.plot(rList, trial[0])\n",
    "title = ax.set_title('Test, time=0')\n",
    "\n",
    "def animate(frame):\n",
    "    line.set_ydata(trial[frame])  # update the data.\n",
    "    title.set_text('Test, time={}'.format(frame))\n",
    "    ax.set_ylim(-1, max(trial[frame]) + 4)\n",
    "    return line, \n",
    "\n",
    "fig.canvas.mpl_connect('button_press_event', onClick)\n",
    "ani = matplotlib.animation.FuncAnimation(fig, animate, range(0, frames), interval=20, blit=False)\n",
    "plt.show()"
   ]
  },
  {
   "cell_type": "markdown",
   "id": "2cd70a57",
   "metadata": {},
   "source": [
    "### RDF analysis with full dataset already computed"
   ]
  },
  {
   "cell_type": "code",
   "execution_count": null,
   "id": "786c3524",
   "metadata": {},
   "outputs": [],
   "source": [
    "g2 = np.array(pd.read_csv(\"/Users/matteoscandola/thesis/data/g2.csv\"))"
   ]
  },
  {
   "cell_type": "code",
   "execution_count": null,
   "id": "c955002e",
   "metadata": {},
   "outputs": [],
   "source": [
    "g2.shape"
   ]
  },
  {
   "cell_type": "code",
   "execution_count": null,
   "id": "23d248df",
   "metadata": {},
   "outputs": [],
   "source": [
    "g_plot = g2[::30, :].T\n",
    "\n",
    "timearr = np.linspace(0, 30000, 10)/10\n",
    "timearr = timearr.astype(int)\n",
    "\n",
    "\n",
    "fig, ax = plt.subplots(1, 1, figsize=(8,6))\n",
    "img = ax.imshow(np.log(1 + g_plot))\n",
    "ax.set_xticks(np.linspace(0, g_plot.shape[1], 10))\n",
    "ax.set_yticks(np.linspace(0, g_plot.shape[0], 10))\n",
    "ax.set_xticklabels(timearr)\n",
    "ax.set_yticklabels(np.linspace(0, 2*rDisk, 10).astype(int))\n",
    "fig.colorbar(img)\n",
    "plt.xlabel(\"Time [s]\")\n",
    "plt.ylabel(\"r [px]\")\n",
    "plt.title(\"$Log(1 + g_2)$ heatmap \")\n",
    "plt.show()"
   ]
  },
  {
   "cell_type": "code",
   "execution_count": null,
   "id": "5c458bf7",
   "metadata": {},
   "outputs": [],
   "source": [
    "fig, ax = plt.subplots()\n",
    "ax.errorbar(rList, np.mean(g2, axis = 0), yerr = np.std(g2, axis = 0), marker = \".\")\n",
    "#ax.plot(rList, g2[0])\n",
    "ax.set_ylabel(\"$g \\; (r)$\")\n",
    "ax.set_xlabel(\"r\")\n",
    "#ax.set_xlim(-5, 600)\n",
    "plt.show()"
   ]
  },
  {
   "cell_type": "markdown",
   "id": "baaf6a27",
   "metadata": {},
   "source": [
    "#### Moving averages"
   ]
  },
  {
   "cell_type": "code",
   "execution_count": null,
   "id": "41b8f954",
   "metadata": {},
   "outputs": [],
   "source": [
    "# axis = 0 --> Time moving average\n",
    "# axis = 1 --> Radius moving average\n",
    "def running_mean_uniform_filter1d(x, N, AX):\n",
    "    return uniform_filter1d(x, N, mode='constant', axis = AX, origin=-(N//2))#[:-(N-1)]"
   ]
  },
  {
   "cell_type": "markdown",
   "id": "8e4b414d",
   "metadata": {},
   "source": [
    "##### r-averaged"
   ]
  },
  {
   "cell_type": "code",
   "execution_count": null,
   "id": "492364d6",
   "metadata": {},
   "outputs": [],
   "source": [
    "g2_r_avg = running_mean_uniform_filter1d(g2, 5, 1)"
   ]
  },
  {
   "cell_type": "code",
   "execution_count": null,
   "id": "da1d7eea",
   "metadata": {},
   "outputs": [],
   "source": [
    "fig, ax = plt.subplots()\n",
    "#ax.plot(rList, g2_r_avg[0])\n",
    "ax.plot(rList, g2[0])\n",
    "ax.set_ylabel(\"$g \\; (r)$\")\n",
    "ax.set_xlabel(\"r\")\n",
    "#ax.set_xlim(-5, 600)\n",
    "plt.show()"
   ]
  },
  {
   "cell_type": "code",
   "execution_count": null,
   "id": "d7d07a6f",
   "metadata": {},
   "outputs": [],
   "source": [
    "fig, ax = plt.subplots()\n",
    "anim_running = True\n",
    "\n",
    "def onClick(event):\n",
    "    global anim_running\n",
    "    if anim_running:\n",
    "        ani.event_source.stop()\n",
    "        anim_running = False\n",
    "    else:\n",
    "        ani.event_source.start()\n",
    "        anim_running = True\n",
    "\n",
    "line, = ax.plot(rList, g2_r_avg[0])\n",
    "title = ax.set_title('Test, time=0')\n",
    "\n",
    "def animate(frame):\n",
    "    line.set_ydata(g2_r_avg[frame])  # update the data.\n",
    "    title.set_text('Test, time={}'.format(frame))\n",
    "    ax.set_ylim(-1, max(g2_r_avg[frame]) + 4)\n",
    "    return line, \n",
    "\n",
    "fig.canvas.mpl_connect('button_press_event', onClick)\n",
    "ani = matplotlib.animation.FuncAnimation(fig, animate, range(0, 30000, 5), interval=2, blit=False)\n",
    "plt.show()"
   ]
  },
  {
   "cell_type": "code",
   "execution_count": null,
   "id": "bf444940",
   "metadata": {},
   "outputs": [],
   "source": [
    "g2_r_avg.shape\n",
    "g2.shape"
   ]
  },
  {
   "cell_type": "code",
   "execution_count": null,
   "id": "fcbc4e83",
   "metadata": {},
   "outputs": [],
   "source": [
    "nFrames = 30000\n",
    "rmax = np.zeros(nFrames)\n",
    "rmax_r_avg = np.zeros(nFrames)\n",
    "\n",
    "rMin = 200\n",
    "\n",
    "for i in range(nFrames):\n",
    "    rmax[i] = rList[np.where(g2[i]==0)[0][np.where(g2[i]==0)[0]>rMin][0]]\n",
    "    rmax_r_avg[i] = rList[np.where(g2_r_avg[i]==0)[0][np.where(g2_r_avg[i]==0)[0]>rMin][0]]\n",
    "    \n",
    "framesList = np.arange(0, nFrames, 1)\n",
    "\n",
    "fig, (ax, ax1) = plt.subplots(1, 2)\n",
    "\n",
    "ax.plot(framesList, rmax)\n",
    "ax1.plot(framesList, rmax_r_avg)\n",
    "\n",
    "ax.set_title(\"$R_{max}$\")\n",
    "ax1.set_title(\"Moving average $R_{max}$\")\n",
    "plt.show()"
   ]
  },
  {
   "cell_type": "markdown",
   "id": "0785a0ba",
   "metadata": {},
   "source": [
    "##### time averaged "
   ]
  },
  {
   "cell_type": "code",
   "execution_count": null,
   "id": "6c322756",
   "metadata": {},
   "outputs": [],
   "source": [
    "g2_time_avg = running_mean_uniform_filter1d(g2, 50, 0)"
   ]
  },
  {
   "cell_type": "code",
   "execution_count": null,
   "id": "8d1f7654",
   "metadata": {},
   "outputs": [],
   "source": [
    "fig, ax = plt.subplots()\n",
    "ax.plot(rList, g2_time_avg[0])\n",
    "ax.plot(rList, g2[0])\n",
    "ax.set_ylabel(\"$g \\; (r)$\")\n",
    "ax.set_xlabel(\"r\")\n",
    "#ax.set_xlim(-5, 600)\n",
    "plt.show()"
   ]
  },
  {
   "cell_type": "code",
   "execution_count": null,
   "id": "23677911",
   "metadata": {},
   "outputs": [],
   "source": [
    "fig, ax = plt.subplots()\n",
    "anim_running = True\n",
    "\n",
    "def onClick(event):\n",
    "    global anim_running\n",
    "    if anim_running:\n",
    "        ani.event_source.stop()\n",
    "        anim_running = False\n",
    "    else:\n",
    "        ani.event_source.start()\n",
    "        anim_running = True\n",
    "\n",
    "line, = ax.plot(rList, g2_time_avg[0])\n",
    "title = ax.set_title('Test, time=0')\n",
    "\n",
    "def animate(frame):\n",
    "    line.set_ydata(g2_time_avg[frame])  # update the data.\n",
    "    title.set_text('Test, time={}'.format(frame))\n",
    "    ax.set_ylim(-1, max(g2_r_avg[frame]) + 4)\n",
    "    return line, \n",
    "\n",
    "fig.canvas.mpl_connect('button_press_event', onClick)\n",
    "ani = matplotlib.animation.FuncAnimation(fig, animate, range(25000, nFrames), interval=2, blit=False)\n",
    "#ani.save(f'/Users/matteoscandola/thesisData/rolled2.mp4', writer=writervideo)\n",
    "#plt.show()"
   ]
  },
  {
   "cell_type": "code",
   "execution_count": null,
   "id": "0d352558",
   "metadata": {},
   "outputs": [],
   "source": [
    "rmax = np.zeros(nFrames)\n",
    "rmax_roll = np.zeros(nFrames)\n",
    "\n",
    "rMin = 450\n",
    "\n",
    "for i in range(nFrames):\n",
    "    rmax[i] = rList[np.where(g_2[i]==0)[0][np.where(g_2[i]==0)[0]>rMin][0]]\n",
    "    rmax_roll[i] = rList[np.where(g_2_roll[i]==0)[0][np.where(g_2_roll[i]==0)[0]>rMin][0]]\n",
    "    \n",
    "framesList = np.arange(0, nFrames, 1)\n",
    "\n",
    "fig, (ax, ax1) = plt.subplots(1, 2)\n",
    "\n",
    "ax.plot(framesList, rmax)\n",
    "ax1.plot(framesList, rmax_roll)\n",
    "\n",
    "ax.set_title(\"$R_{max}$\")\n",
    "ax1.set_title(\"Moving average $R_{max}$\")\n",
    "plt.show()"
   ]
  },
  {
   "cell_type": "markdown",
   "id": "8d521754",
   "metadata": {},
   "source": [
    "## from centre"
   ]
  },
  {
   "cell_type": "code",
   "execution_count": null,
   "id": "c445ddd0",
   "metadata": {},
   "outputs": [],
   "source": [
    "dr = 20\n",
    "rDisk = 822/2\n",
    "rList = np.arange(0, rDisk, 1)\n",
    "rho = nDrops/(np.pi*rDisk**2) # nDrops -1 !\n",
    "\n",
    "COORDS = np.array(rawTrajs.loc[:,[\"x\",\"y\"]])\n",
    "\n",
    "#centre of the image --> to refine\n",
    "r_c = [470, 490]"
   ]
  },
  {
   "cell_type": "code",
   "execution_count": null,
   "id": "0264a075",
   "metadata": {},
   "outputs": [],
   "source": [
    "@joblib.delayed\n",
    "def rdf_from_centre(frame, COORDS, r_c, rList, dr, rho):\n",
    "    coords = COORDS[frame*nDrops:(frame+1)*nDrops,:]\n",
    "    kd = KDTree(coords)\n",
    "\n",
    "    avg_n = np.zeros(len(rList))\n",
    "    for i, r in enumerate(rList):\n",
    "        # find all the points within r+dr\n",
    "        a = kd.query_ball_point(r_c, r + dr)\n",
    "        n1 = len(a) \n",
    "        # find all the points within r+dr\n",
    "        b = kd.query_ball_point(r_c, r)\n",
    "        n2 = len(b)\n",
    "        \n",
    "        avg_n[i] = n1 - n2\n",
    "\n",
    "    g2 = avg_n/(np.pi*(dr**2 + 2*rList*dr)*rho)\n",
    "    return g2"
   ]
  },
  {
   "cell_type": "code",
   "execution_count": null,
   "id": "c8e7b2e3",
   "metadata": {},
   "outputs": [],
   "source": [
    "parallel = joblib.Parallel(n_jobs = -2)\n",
    "frames = nFrames\n",
    "trial = parallel(\n",
    "    rdf_from_centre(frame, COORDS, r_c, rList, dr, rho)\n",
    "    for frame in tqdm( range(frames) )\n",
    ")\n",
    "trial = np.array(trial)"
   ]
  },
  {
   "cell_type": "code",
   "execution_count": null,
   "id": "b1ff0619",
   "metadata": {},
   "outputs": [],
   "source": [
    "fig, ax = plt.subplots()\n",
    "anim_running = True\n",
    "\n",
    "def onClick(event):\n",
    "    global anim_running\n",
    "    if anim_running:\n",
    "        ani.event_source.stop()\n",
    "        anim_running = False\n",
    "    else:\n",
    "        ani.event_source.start()\n",
    "        anim_running = True\n",
    "\n",
    "line, = ax.plot(rList, trial[0])\n",
    "title = ax.set_title('Test, time=0')\n",
    "ax.set_ylim(-1, 10)\n",
    "\n",
    "def animate(frame):\n",
    "    line.set_ydata(trial[frame])  # update the data.\n",
    "    title.set_text('Test, time={}'.format(frame))\n",
    "    return line, \n",
    "\n",
    "fig.canvas.mpl_connect('button_press_event', onClick)\n",
    "ani = matplotlib.animation.FuncAnimation(fig, animate, range(0, frames), interval=5, blit=False)\n",
    "ani.save('../results/video/rdf_from_centre2.mp4', fps=60, extra_args=['-vcodec', 'libx264'])\n",
    "plt.close()"
   ]
  },
  {
   "cell_type": "code",
   "execution_count": null,
   "id": "666bdedc",
   "metadata": {},
   "outputs": [],
   "source": [
    "g2_centre = np.array(pd.read_parquet(\"../data/analysis/ref_centre.parquet\"))"
   ]
  },
  {
   "cell_type": "code",
   "execution_count": null,
   "id": "3b65fce6",
   "metadata": {},
   "outputs": [],
   "source": [
    "g_plot = g2_centre[::30, :].T\n",
    "\n",
    "timearr = np.linspace(0, 30000, 5)/10\n",
    "timearr = timearr.astype(int)\n",
    "\n",
    "fig, ax = plt.subplots(1, 1, figsize=(8,6))\n",
    "img = ax.imshow(np.log(1 + g_plot))\n",
    "ax.set_xticks(np.linspace(0, g_plot.shape[1], 5))\n",
    "ax.set_yticks(np.linspace(0, g_plot.shape[0], 5))\n",
    "ax.set_xticklabels(timearr)\n",
    "ax.set_yticklabels(np.linspace(0, 2*rDisk, 5).astype(int))\n",
    "ax.set_aspect(.6)\n",
    "fig.colorbar(img)\n",
    "plt.xlabel(\"Time [s]\")\n",
    "plt.ylabel(\"r [px]\")\n",
    "plt.title(\"$Log(1 + g_2)$ heatmap \")\n",
    "plt.show()"
   ]
  },
  {
   "cell_type": "code",
   "execution_count": null,
   "id": "e7178fe6",
   "metadata": {},
   "outputs": [],
   "source": [
    "frame = 0\n",
    "coords = COORDS[frame*nDrops:(frame+1)*nDrops,:]\n",
    "kd = KDTree(coords)"
   ]
  },
  {
   "cell_type": "code",
   "execution_count": null,
   "id": "9dbc01ad",
   "metadata": {},
   "outputs": [],
   "source": [
    "coords = COORDS[frame*nDrops:(frame+1)*nDrops,:]\n",
    "kd = KDTree(coords)\n",
    "\n",
    "r = 100\n",
    "a = kd.query_ball_point(centre, r + 20)\n",
    "b = kd.query_ball_point(centre, r)\n",
    "print(a)\n",
    "print('\\n')\n",
    "print(b)\n",
    "n1 = len(a)\n",
    "n2 = len(b)\n",
    "\n",
    "resu = n1-n2\n",
    "print(resu)"
   ]
  },
  {
   "cell_type": "code",
   "execution_count": null,
   "id": "f5bd3a72",
   "metadata": {},
   "outputs": [],
   "source": [
    "frame = 0\n",
    "covMatrix = np.cov(COORDS[frame*nDrops:(frame+1)*nDrops,:])\n",
    "trace_of_covMatrix = np.trace(covMatrix)\n",
    "eigenvalues, _ = np.linalg.eigh(covMatrix)\n",
    "#eigenvalues = np.sort(eigenvalues)[::-1]\n",
    "#diagCovMatrix = np.diag(eigenvalues)\n",
    "info = np.zeros(len(eigenvalues))\n",
    "for i in range(len(eigenvalues)):\n",
    "    info[i] = np.sum(np.sum(eigenvalues[:i]))\n",
    "info /= trace_of_covMatrix"
   ]
  },
  {
   "attachments": {},
   "cell_type": "markdown",
   "id": "3ef42996",
   "metadata": {},
   "source": [
    "# 3 body structure function"
   ]
  },
  {
   "cell_type": "code",
   "execution_count": null,
   "id": "cf43967f",
   "metadata": {},
   "outputs": [],
   "source": []
  }
 ],
 "metadata": {
  "kernelspec": {
   "display_name": "pyenv3",
   "language": "python",
   "name": "python3"
  },
  "language_info": {
   "codemirror_mode": {
    "name": "ipython",
    "version": 3
   },
   "file_extension": ".py",
   "mimetype": "text/x-python",
   "name": "python",
   "nbconvert_exporter": "python",
   "pygments_lexer": "ipython3",
   "version": "3.10.6"
  },
  "vscode": {
   "interpreter": {
    "hash": "cda584d4033b4fbc423661afef9f2afe920081905f188573e835f76abdc60dee"
   }
  }
 },
 "nbformat": 4,
 "nbformat_minor": 5
}
