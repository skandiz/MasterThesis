{
 "cells": [
  {
   "cell_type": "code",
   "execution_count": 1,
   "id": "1e649092",
   "metadata": {},
   "outputs": [],
   "source": [
    "import matplotlib.pyplot as plt\n",
    "import matplotlib.gridspec as gridspec\n",
    "import matplotlib.animation\n",
    "%matplotlib ipympl\n",
    "import numpy as np\n",
    "import pandas as pd\n",
    "\n",
    "from scipy.spatial import KDTree, cKDTree\n",
    "from scipy.ndimage import uniform_filter1d\n",
    "from scipy.signal import savgol_filter\n",
    "from scipy.optimize import curve_fit\n",
    "\n",
    "import time\n",
    "import joblib\n",
    "from tqdm import tqdm\n",
    "import trackpy as tp\n",
    "from numba import njit, prange\n",
    "\n",
    "from yupi import Trajectory\n",
    "import yupi.graphics as yg\n",
    "import yupi.stats as ys\n",
    "\n",
    "from utility import get_imsd, get_imsd_windowed, get_emsd, get_emsd_windowed, fit_hist, MB_2D,\\\n",
    "                    normal_distr, lorentzian_distr, get_trajs, speed_windowed, theta_windowed, \\\n",
    "                    get_smooth_trajs, get_velocities\n",
    "\n",
    "data_path = \"../tracking/49b_1r/49b_1r_pre_merge/df_linked.parquet\"\n",
    "smooth_verb = False"
   ]
  },
  {
   "cell_type": "code",
   "execution_count": 13,
   "id": "a166b38a",
   "metadata": {},
   "outputs": [
    {
     "name": "stdout",
     "output_type": "stream",
     "text": [
      "Import data...\n",
      "Number of Droplets: 50\n",
      "Number of Frames: 30000 at 10 fps --> 3000.00 s\n",
      "Windowed analysis args:\n",
      "window of 300.0 s, stride of 10.0 s --> 270 steps\n"
     ]
    }
   ],
   "source": [
    "print(\"Import data...\")\n",
    "if 1:\n",
    "    data_path = \"../tracking/49b_1r/49b_1r_pre_merge/df_linked.parquet\"\n",
    "    res_path = \"./49b_1r/results\"\n",
    "    analysis_data_path = \"./49b_1r/analysis_data\"\n",
    "    red_particle_idx = np.array([8]).astype(int)\n",
    "    fps = 10\n",
    "    maxLagtime = 100*fps # maximum lagtime to be considered in the analysis, 100 seconds\n",
    "    v_step = 10\n",
    "else:\n",
    "    data_path = \"../tracking/25b_25r/df_linked.parquet\"\n",
    "    res_path = \"./25b_25r/results\"\n",
    "    analysis_data_path = \"./25b_25r/analysis_data\"\n",
    "    red_particle_idx = np.sort(np.array([27, 24, 8, 16, 21, 10, 49, 14, 12, 9, 7, 37, 36, 40, 45, 42, 13, 20, 26, 2, 39, 5, 11, 22, 44])).astype(int)\n",
    "    fps = 30\n",
    "    maxLagtime = 100*fps # maximum lagtime to be considered in the analysis, 100 seconds\n",
    "    v_step = 30\n",
    "\n",
    "rawTrajs = pd.read_parquet(data_path)\n",
    "nDrops = int(len(rawTrajs.loc[rawTrajs.frame==0]))\n",
    "red_mask = np.zeros(nDrops, dtype=bool)\n",
    "red_mask[red_particle_idx] = True\n",
    "colors = np.array(['b' for i in range(nDrops)])\n",
    "colors[red_particle_idx] = 'r'\n",
    "\n",
    "frames = rawTrajs.frame.unique().astype(int)\n",
    "nFrames = len(frames)\n",
    "print(f\"Number of Droplets: {nDrops}\")\n",
    "print(f\"Number of Frames: {nFrames} at {fps} fps --> {nFrames/fps:.2f} s\")\n",
    "\n",
    "# ANALYSIS PARAMETERS\n",
    "pxDimension = 1 # has to be defined \n",
    "\n",
    "x = np.arange(1, maxLagtime/fps + 1/fps, 1/fps) # range of power law fit\n",
    "\n",
    "# WINDOWED ANALYSIS PARAMETERS\n",
    "window = 300*fps # 320 s\n",
    "stride = 10*fps # 10 s\n",
    "print(\"Windowed analysis args:\")\n",
    "startFrames = np.arange(0, nFrames-window, stride, dtype=int)\n",
    "endFrames = startFrames + window\n",
    "nSteps = len(startFrames)\n",
    "print(f\"window of {window/fps} s, stride of {stride/fps} s --> {nSteps} steps\")\n",
    "units = \"px/s\"\n",
    "default_kwargs_blue = {\"color\": \"#00FFFF\", \"ec\": (0, 0, 0, 0.6), \"density\": True}\n",
    "default_kwargs_red = {\"color\": \"#EE4B2B\", \"ec\": (0, 0, 0, 0.6), \"density\": True}"
   ]
  },
  {
   "attachments": {},
   "cell_type": "markdown",
   "id": "1a826682",
   "metadata": {},
   "source": [
    "# MSD"
   ]
  },
  {
   "cell_type": "code",
   "execution_count": 15,
   "id": "55469559",
   "metadata": {},
   "outputs": [
    {
     "name": "stdout",
     "output_type": "stream",
     "text": [
      "MSD Analysis: show_verb = False, run_windowed_analysis = True, animated_plot_verb = True\n",
      "Global IMSD\n",
      "Global EMSD\n",
      "Blue Particles: a = 1.178 ± 0.002, K = 61.499 ± 0.431\n",
      "Red Particle: a = 0.763 ± 0.001, K = 1475.92 ± 8.618\n",
      "Windowed IMSD\n"
     ]
    },
    {
     "name": "stderr",
     "output_type": "stream",
     "text": [
      "100%|██████████| 270/270 [05:49<00:00,  1.29s/it]\n",
      "16:24:49 [INFO] Animation.save using <class 'matplotlib.animation.FFMpegWriter'>\n",
      "16:24:49 [INFO] MovieWriter._run: running command: ffmpeg -f rawvideo -vcodec rawvideo -s 800x500 -pix_fmt rgba -r 30 -loglevel error -i pipe: -vcodec h264 -pix_fmt yuv420p -vcodec libx264 -y ././49b_1r/results/mean_squared_displacement/windowed_analysis/IMSD_wind.mp4\n"
     ]
    },
    {
     "name": "stdout",
     "output_type": "stream",
     "text": [
      "Windowed EMSD\n"
     ]
    },
    {
     "name": "stderr",
     "output_type": "stream",
     "text": [
      "100%|██████████| 270/270 [00:02<00:00, 108.76it/s]\n",
      "16:25:35 [INFO] Animation.save using <class 'matplotlib.animation.FFMpegWriter'>\n",
      "16:25:35 [INFO] MovieWriter._run: running command: ffmpeg -f rawvideo -vcodec rawvideo -s 800x500 -pix_fmt rgba -r 30 -loglevel error -i pipe: -vcodec h264 -pix_fmt yuv420p -vcodec libx264 -y ././49b_1r/results/mean_squared_displacement/windowed_analysis/EMSD_wind.mp4\n"
     ]
    }
   ],
   "source": [
    "show_verb = False\n",
    "run_windowed_analysis = True\n",
    "plot_verb = True\n",
    "animated_plot_verb = True\n",
    "save_verb = True\n",
    "smooth_verb = False\n",
    "\n",
    "print(f\"MSD Analysis: show_verb = {show_verb}, run_windowed_analysis = {run_windowed_analysis}, animated_plot_verb = {animated_plot_verb}\")\n",
    "%run ./analysis_modules/msd.ipynb"
   ]
  },
  {
   "attachments": {},
   "cell_type": "markdown",
   "id": "78dc2ddd",
   "metadata": {},
   "source": [
    "# VELOCITY DISTRIBUTION\n",
    "\n",
    "$$ \\huge p(v) = \\frac{v}{\\sigma^2} e^{-\\frac{v^2}{2\\sigma^2}} $$"
   ]
  },
  {
   "cell_type": "code",
   "execution_count": 25,
   "id": "4a1370b8",
   "metadata": {},
   "outputs": [
    {
     "name": "stdout",
     "output_type": "stream",
     "text": [
      "Speed Analysis: show_verb = False, animated_plot_verb = True\n",
      "\n",
      " Global speed distribution analysis\n",
      "Raw Trajectories\n",
      "Blue Particles σ: 2.842059051868812 ± 0.019462201664093782\n",
      "Red Particle σ: 8.527733950350948 ± 0.175593143474466\n",
      "\n",
      " Windowed speed distribution Analysis\n"
     ]
    },
    {
     "name": "stderr",
     "output_type": "stream",
     "text": [
      "100%|██████████| 270/270 [01:05<00:00,  4.15it/s]\n",
      "17:41:37 [INFO] Animation.save using <class 'matplotlib.animation.FFMpegWriter'>\n",
      "17:41:37 [INFO] MovieWriter._run: running command: ffmpeg -f rawvideo -vcodec rawvideo -s 800x500 -pix_fmt rgba -r 30 -loglevel error -i pipe: -vcodec h264 -pix_fmt yuv420p -vcodec libx264 -y ././49b_1r/results/speed_distribution/speed_raw_wind.mp4\n"
     ]
    }
   ],
   "source": [
    "show_verb = False\n",
    "plot_verb = True\n",
    "animated_plot_verb = True\n",
    "save_verb = True\n",
    "smooth_verb = False\n",
    "\n",
    "print(f\"Speed Analysis: show_verb = {show_verb}, animated_plot_verb = {animated_plot_verb}\")\n",
    "%run ./analysis_modules/velocity_distr.ipynb"
   ]
  },
  {
   "attachments": {},
   "cell_type": "markdown",
   "id": "57e43c27",
   "metadata": {},
   "source": [
    "# TURNING ANGLES DISTRIBUTIONS"
   ]
  },
  {
   "cell_type": "code",
   "execution_count": 5,
   "id": "8582a5bc",
   "metadata": {},
   "outputs": [
    {
     "name": "stdout",
     "output_type": "stream",
     "text": [
      "Turning Angles Analysis: show_verb = False, animated_plot_verb = True\n",
      "\n",
      " Global turning angles analysis\n",
      "Raw Trajectories\n",
      "Blue Particles σ: 0.27552311686634195 ± 0.0031321569279026697, μ: -0.0001749427467774336 ± 0.0031312785630483696\n",
      "Red Particle σ: 0.18034505358162833 ± 0.002232638268296026, μ: 0.007301939331799477 ± 0.0022323670065862856\n",
      "\n",
      " Windowed turning angles analysis\n"
     ]
    },
    {
     "name": "stderr",
     "output_type": "stream",
     "text": [
      "17:35:20 [INFO] Animation.save using <class 'matplotlib.animation.FFMpegWriter'>\n",
      "17:35:20 [INFO] MovieWriter._run: running command: ffmpeg -f rawvideo -vcodec rawvideo -s 800x500 -pix_fmt rgba -r 30 -loglevel error -i pipe: -vcodec h264 -pix_fmt yuv420p -vcodec libx264 -y ././49b_1r/results//turning_angles/lorentzian/turn_ang_wind_raw.mp4\n"
     ]
    }
   ],
   "source": [
    "show_verb = False\n",
    "run_windowed_analysis = True\n",
    "plot_verb = True\n",
    "animated_plot_verb = True\n",
    "save_verb = True\n",
    "smooth_verb = False\n",
    "\n",
    "# choose the distribution to fit\n",
    "distribution_str = \"lorentzian\"\n",
    "\n",
    "if distribution_str == \"gaussian\":\n",
    "    distribution = normal_distr\n",
    "elif distribution_str == \"lorentzian\":\n",
    "    distribution = lorentzian_distr\n",
    "    distribution_str = \"lorentzian\"\n",
    "else:\n",
    "    raise ValueError(\"distribution_str must be either 'gaussian' or 'lorentzian'\")\n",
    "\n",
    "print(f\"Turning Angles Analysis: show_verb = {show_verb}, animated_plot_verb = {animated_plot_verb}\")\n",
    "%run ./analysis_modules/turning_angles.ipynb"
   ]
  },
  {
   "attachments": {},
   "cell_type": "markdown",
   "id": "dc392ce1",
   "metadata": {},
   "source": [
    "# VELOCITY AUTOCORRELATION"
   ]
  },
  {
   "cell_type": "code",
   "execution_count": 6,
   "id": "09d190ba",
   "metadata": {},
   "outputs": [
    {
     "name": "stdout",
     "output_type": "stream",
     "text": [
      "Velocity Autocorrelation Analysis: show_verb = False, run_windowed_analysis = True, animated_plot_verb = True\n",
      "Global Velocity Autocovariance Function\n",
      "Windowed analysis\n"
     ]
    },
    {
     "name": "stderr",
     "output_type": "stream",
     "text": [
      "100%|██████████| 268/268 [37:07<00:00,  8.31s/it] \n",
      "100%|██████████| 268/268 [37:32<00:00,  8.40s/it] \n",
      "16:27:35 [INFO] Animation.save using <class 'matplotlib.animation.FFMpegWriter'>\n",
      "16:27:35 [INFO] MovieWriter._run: running command: ffmpeg -f rawvideo -vcodec rawvideo -s 800x500 -pix_fmt rgba -r 30 -loglevel error -i pipe: -vcodec h264 -pix_fmt yuv420p -vcodec libx264 -y ./stardist_results/velocity_autocovariance/vacf_wind_raw.mp4\n",
      "16:27:55 [INFO] Animation.save using <class 'matplotlib.animation.FFMpegWriter'>\n",
      "16:27:55 [INFO] MovieWriter._run: running command: ffmpeg -f rawvideo -vcodec rawvideo -s 800x500 -pix_fmt rgba -r 30 -loglevel error -i pipe: -vcodec h264 -pix_fmt yuv420p -vcodec libx264 -y ./stardist_results/velocity_autocovariance/vacf_wind_smooth.mp4\n"
     ]
    }
   ],
   "source": [
    "show_verb = False\n",
    "run_windowed_analysis = True\n",
    "plot_verb = True\n",
    "animated_plot_verb = True\n",
    "save_verb = True\n",
    "overwrite = False\n",
    "smooth_verb = False\n",
    "\n",
    "print(f\"Velocity Autocorrelation Analysis: show_verb = {show_verb}, run_windowed_analysis = {run_windowed_analysis}, animated_plot_verb = {animated_plot_verb}\")\n",
    "%run ./analysis_modules/velocity_autocorrelation.ipynb"
   ]
  },
  {
   "attachments": {},
   "cell_type": "markdown",
   "id": "c7269601",
   "metadata": {},
   "source": [
    "# RADIAL DISTRIBUTON FUNCTION"
   ]
  },
  {
   "cell_type": "code",
   "execution_count": 4,
   "id": "5e00f8d7",
   "metadata": {},
   "outputs": [
    {
     "name": "stdout",
     "output_type": "stream",
     "text": [
      "Radial Distribution Function Analysis: stardist, run_analysis_verb = True, show_verb = False, animated_plot_verb = True\n",
      "RDF - Raw Trajectories\n",
      "raw\n"
     ]
    },
    {
     "name": "stderr",
     "output_type": "stream",
     "text": [
      "  1%|          | 255/30000 [00:45<1:38:24,  5.04it/s]"
     ]
    },
    {
     "ename": "KeyboardInterrupt",
     "evalue": "",
     "output_type": "error",
     "traceback": [
      "\u001b[0;31m---------------------------------------------------------------------------\u001b[0m",
      "\u001b[0;31mKeyboardInterrupt\u001b[0m                         Traceback (most recent call last)",
      "File \u001b[0;32m/var/folders/8x/m08xmk_178vd007wy7lbx80w0000gn/T/ipykernel_96506/1580527018.py:7\u001b[0m\n\u001b[1;32m      4\u001b[0m rho \u001b[39m=\u001b[39m nDrops\u001b[39m/\u001b[39m(np\u001b[39m.\u001b[39mpi\u001b[39m*\u001b[39mrDisk\u001b[39m*\u001b[39m\u001b[39m*\u001b[39m\u001b[39m2\u001b[39m) \u001b[39m# nDrops - 1 !???\u001b[39;00m\n\u001b[1;32m      6\u001b[0m \u001b[39mprint\u001b[39m(\u001b[39m\"\u001b[39m\u001b[39mRDF - Raw Trajectories\u001b[39m\u001b[39m\"\u001b[39m)\n\u001b[0;32m----> 7\u001b[0m rdf_raw \u001b[39m=\u001b[39m get_rdf(run_analysis_verb, nFrames, \u001b[39m\"\u001b[39;49m\u001b[39mraw\u001b[39;49m\u001b[39m\"\u001b[39;49m, rList, dr, rho)\n",
      "File \u001b[0;32m/var/folders/8x/m08xmk_178vd007wy7lbx80w0000gn/T/ipykernel_96506/4187067039.py:32\u001b[0m, in \u001b[0;36mget_rdf\u001b[0;34m(run_analysis_verb, nFrames, trajs, rList, dr, rho)\u001b[0m\n\u001b[1;32m     30\u001b[0m COORDS \u001b[39m=\u001b[39m np\u001b[39m.\u001b[39marray(trajectories\u001b[39m.\u001b[39mloc[:, [\u001b[39m\"\u001b[39m\u001b[39mx\u001b[39m\u001b[39m\"\u001b[39m,\u001b[39m\"\u001b[39m\u001b[39my\u001b[39m\u001b[39m\"\u001b[39m]])\n\u001b[1;32m     31\u001b[0m parallel \u001b[39m=\u001b[39m joblib\u001b[39m.\u001b[39mParallel(n_jobs \u001b[39m=\u001b[39m \u001b[39m-\u001b[39m\u001b[39m2\u001b[39m)\n\u001b[0;32m---> 32\u001b[0m rdf \u001b[39m=\u001b[39m parallel(\n\u001b[1;32m     33\u001b[0m     rdf_frame(frame, COORDS, rList, dr, rho)\n\u001b[1;32m     34\u001b[0m     \u001b[39mfor\u001b[39;49;00m frame \u001b[39min\u001b[39;49;00m tqdm(\u001b[39mrange\u001b[39;49m(nFrames))\n\u001b[1;32m     35\u001b[0m )\n\u001b[1;32m     36\u001b[0m rdf \u001b[39m=\u001b[39m np\u001b[39m.\u001b[39marray(rdf)\n\u001b[1;32m     37\u001b[0m rdf_df \u001b[39m=\u001b[39m pd\u001b[39m.\u001b[39mDataFrame(rdf)\n",
      "File \u001b[0;32m~/miniconda3/envs/pyenv3/lib/python3.10/site-packages/joblib/parallel.py:1098\u001b[0m, in \u001b[0;36mParallel.__call__\u001b[0;34m(self, iterable)\u001b[0m\n\u001b[1;32m   1095\u001b[0m     \u001b[39mself\u001b[39m\u001b[39m.\u001b[39m_iterating \u001b[39m=\u001b[39m \u001b[39mFalse\u001b[39;00m\n\u001b[1;32m   1097\u001b[0m \u001b[39mwith\u001b[39;00m \u001b[39mself\u001b[39m\u001b[39m.\u001b[39m_backend\u001b[39m.\u001b[39mretrieval_context():\n\u001b[0;32m-> 1098\u001b[0m     \u001b[39mself\u001b[39;49m\u001b[39m.\u001b[39;49mretrieve()\n\u001b[1;32m   1099\u001b[0m \u001b[39m# Make sure that we get a last message telling us we are done\u001b[39;00m\n\u001b[1;32m   1100\u001b[0m elapsed_time \u001b[39m=\u001b[39m time\u001b[39m.\u001b[39mtime() \u001b[39m-\u001b[39m \u001b[39mself\u001b[39m\u001b[39m.\u001b[39m_start_time\n",
      "File \u001b[0;32m~/miniconda3/envs/pyenv3/lib/python3.10/site-packages/joblib/parallel.py:975\u001b[0m, in \u001b[0;36mParallel.retrieve\u001b[0;34m(self)\u001b[0m\n\u001b[1;32m    973\u001b[0m \u001b[39mtry\u001b[39;00m:\n\u001b[1;32m    974\u001b[0m     \u001b[39mif\u001b[39;00m \u001b[39mgetattr\u001b[39m(\u001b[39mself\u001b[39m\u001b[39m.\u001b[39m_backend, \u001b[39m'\u001b[39m\u001b[39msupports_timeout\u001b[39m\u001b[39m'\u001b[39m, \u001b[39mFalse\u001b[39;00m):\n\u001b[0;32m--> 975\u001b[0m         \u001b[39mself\u001b[39m\u001b[39m.\u001b[39m_output\u001b[39m.\u001b[39mextend(job\u001b[39m.\u001b[39;49mget(timeout\u001b[39m=\u001b[39;49m\u001b[39mself\u001b[39;49m\u001b[39m.\u001b[39;49mtimeout))\n\u001b[1;32m    976\u001b[0m     \u001b[39melse\u001b[39;00m:\n\u001b[1;32m    977\u001b[0m         \u001b[39mself\u001b[39m\u001b[39m.\u001b[39m_output\u001b[39m.\u001b[39mextend(job\u001b[39m.\u001b[39mget())\n",
      "File \u001b[0;32m~/miniconda3/envs/pyenv3/lib/python3.10/site-packages/joblib/_parallel_backends.py:567\u001b[0m, in \u001b[0;36mLokyBackend.wrap_future_result\u001b[0;34m(future, timeout)\u001b[0m\n\u001b[1;32m    564\u001b[0m \u001b[39m\"\"\"Wrapper for Future.result to implement the same behaviour as\u001b[39;00m\n\u001b[1;32m    565\u001b[0m \u001b[39mAsyncResults.get from multiprocessing.\"\"\"\u001b[39;00m\n\u001b[1;32m    566\u001b[0m \u001b[39mtry\u001b[39;00m:\n\u001b[0;32m--> 567\u001b[0m     \u001b[39mreturn\u001b[39;00m future\u001b[39m.\u001b[39;49mresult(timeout\u001b[39m=\u001b[39;49mtimeout)\n\u001b[1;32m    568\u001b[0m \u001b[39mexcept\u001b[39;00m CfTimeoutError \u001b[39mas\u001b[39;00m e:\n\u001b[1;32m    569\u001b[0m     \u001b[39mraise\u001b[39;00m \u001b[39mTimeoutError\u001b[39;00m \u001b[39mfrom\u001b[39;00m \u001b[39me\u001b[39;00m\n",
      "File \u001b[0;32m~/miniconda3/envs/pyenv3/lib/python3.10/concurrent/futures/_base.py:453\u001b[0m, in \u001b[0;36mFuture.result\u001b[0;34m(self, timeout)\u001b[0m\n\u001b[1;32m    450\u001b[0m \u001b[39melif\u001b[39;00m \u001b[39mself\u001b[39m\u001b[39m.\u001b[39m_state \u001b[39m==\u001b[39m FINISHED:\n\u001b[1;32m    451\u001b[0m     \u001b[39mreturn\u001b[39;00m \u001b[39mself\u001b[39m\u001b[39m.\u001b[39m__get_result()\n\u001b[0;32m--> 453\u001b[0m \u001b[39mself\u001b[39;49m\u001b[39m.\u001b[39;49m_condition\u001b[39m.\u001b[39;49mwait(timeout)\n\u001b[1;32m    455\u001b[0m \u001b[39mif\u001b[39;00m \u001b[39mself\u001b[39m\u001b[39m.\u001b[39m_state \u001b[39min\u001b[39;00m [CANCELLED, CANCELLED_AND_NOTIFIED]:\n\u001b[1;32m    456\u001b[0m     \u001b[39mraise\u001b[39;00m CancelledError()\n",
      "File \u001b[0;32m~/miniconda3/envs/pyenv3/lib/python3.10/threading.py:320\u001b[0m, in \u001b[0;36mCondition.wait\u001b[0;34m(self, timeout)\u001b[0m\n\u001b[1;32m    318\u001b[0m \u001b[39mtry\u001b[39;00m:    \u001b[39m# restore state no matter what (e.g., KeyboardInterrupt)\u001b[39;00m\n\u001b[1;32m    319\u001b[0m     \u001b[39mif\u001b[39;00m timeout \u001b[39mis\u001b[39;00m \u001b[39mNone\u001b[39;00m:\n\u001b[0;32m--> 320\u001b[0m         waiter\u001b[39m.\u001b[39;49macquire()\n\u001b[1;32m    321\u001b[0m         gotit \u001b[39m=\u001b[39m \u001b[39mTrue\u001b[39;00m\n\u001b[1;32m    322\u001b[0m     \u001b[39melse\u001b[39;00m:\n",
      "\u001b[0;31mKeyboardInterrupt\u001b[0m: "
     ]
    },
    {
     "ename": "KeyboardInterrupt",
     "evalue": "",
     "output_type": "error",
     "traceback": [
      "\u001b[0;31m---------------------------------------------------------------------------\u001b[0m",
      "\u001b[0;31mKeyboardInterrupt\u001b[0m                         Traceback (most recent call last)",
      "\u001b[1;32m/Users/matteoscandola/MasterThesis/analysis/main.ipynb Cell 12\u001b[0m in \u001b[0;36m7\n\u001b[1;32m      <a href='vscode-notebook-cell:/Users/matteoscandola/MasterThesis/analysis/main.ipynb#X14sZmlsZQ%3D%3D?line=3'>4</a>\u001b[0m save_verb \u001b[39m=\u001b[39m \u001b[39mTrue\u001b[39;00m\n\u001b[1;32m      <a href='vscode-notebook-cell:/Users/matteoscandola/MasterThesis/analysis/main.ipynb#X14sZmlsZQ%3D%3D?line=5'>6</a>\u001b[0m \u001b[39mprint\u001b[39m(\u001b[39mf\u001b[39m\u001b[39m\"\u001b[39m\u001b[39mRadial Distribution Function Analysis: \u001b[39m\u001b[39m{\u001b[39;00mtraj_verb\u001b[39m}\u001b[39;00m\u001b[39m, run_analysis_verb = \u001b[39m\u001b[39m{\u001b[39;00mrun_analysis_verb\u001b[39m}\u001b[39;00m\u001b[39m, show_verb = \u001b[39m\u001b[39m{\u001b[39;00mshow_verb\u001b[39m}\u001b[39;00m\u001b[39m, animated_plot_verb = \u001b[39m\u001b[39m{\u001b[39;00manimated_plot_verb\u001b[39m}\u001b[39;00m\u001b[39m\"\u001b[39m)\n\u001b[0;32m----> <a href='vscode-notebook-cell:/Users/matteoscandola/MasterThesis/analysis/main.ipynb#X14sZmlsZQ%3D%3D?line=6'>7</a>\u001b[0m get_ipython()\u001b[39m.\u001b[39;49mrun_line_magic(\u001b[39m'\u001b[39;49m\u001b[39mrun\u001b[39;49m\u001b[39m'\u001b[39;49m, \u001b[39m'\u001b[39;49m\u001b[39m./analysis_modules/radial_distribution_function.ipynb\u001b[39;49m\u001b[39m'\u001b[39;49m)\n",
      "File \u001b[0;32m~/miniconda3/envs/pyenv3/lib/python3.10/site-packages/IPython/core/interactiveshell.py:2309\u001b[0m, in \u001b[0;36mInteractiveShell.run_line_magic\u001b[0;34m(self, magic_name, line, _stack_depth)\u001b[0m\n\u001b[1;32m   2307\u001b[0m     kwargs[\u001b[39m'\u001b[39m\u001b[39mlocal_ns\u001b[39m\u001b[39m'\u001b[39m] \u001b[39m=\u001b[39m \u001b[39mself\u001b[39m\u001b[39m.\u001b[39mget_local_scope(stack_depth)\n\u001b[1;32m   2308\u001b[0m \u001b[39mwith\u001b[39;00m \u001b[39mself\u001b[39m\u001b[39m.\u001b[39mbuiltin_trap:\n\u001b[0;32m-> 2309\u001b[0m     result \u001b[39m=\u001b[39m fn(\u001b[39m*\u001b[39;49margs, \u001b[39m*\u001b[39;49m\u001b[39m*\u001b[39;49mkwargs)\n\u001b[1;32m   2310\u001b[0m \u001b[39mreturn\u001b[39;00m result\n",
      "File \u001b[0;32m~/miniconda3/envs/pyenv3/lib/python3.10/site-packages/IPython/core/magics/execution.py:717\u001b[0m, in \u001b[0;36mExecutionMagics.run\u001b[0;34m(self, parameter_s, runner, file_finder)\u001b[0m\n\u001b[1;32m    715\u001b[0m     \u001b[39mwith\u001b[39;00m preserve_keys(\u001b[39mself\u001b[39m\u001b[39m.\u001b[39mshell\u001b[39m.\u001b[39muser_ns, \u001b[39m'\u001b[39m\u001b[39m__file__\u001b[39m\u001b[39m'\u001b[39m):\n\u001b[1;32m    716\u001b[0m         \u001b[39mself\u001b[39m\u001b[39m.\u001b[39mshell\u001b[39m.\u001b[39muser_ns[\u001b[39m'\u001b[39m\u001b[39m__file__\u001b[39m\u001b[39m'\u001b[39m] \u001b[39m=\u001b[39m filename\n\u001b[0;32m--> 717\u001b[0m         \u001b[39mself\u001b[39;49m\u001b[39m.\u001b[39;49mshell\u001b[39m.\u001b[39;49msafe_execfile_ipy(filename, raise_exceptions\u001b[39m=\u001b[39;49m\u001b[39mTrue\u001b[39;49;00m)\n\u001b[1;32m    718\u001b[0m     \u001b[39mreturn\u001b[39;00m\n\u001b[1;32m    720\u001b[0m \u001b[39m# Control the response to exit() calls made by the script being run\u001b[39;00m\n",
      "File \u001b[0;32m~/miniconda3/envs/pyenv3/lib/python3.10/site-packages/IPython/core/interactiveshell.py:2815\u001b[0m, in \u001b[0;36mInteractiveShell.safe_execfile_ipy\u001b[0;34m(self, fname, shell_futures, raise_exceptions)\u001b[0m\n\u001b[1;32m   2813\u001b[0m result \u001b[39m=\u001b[39m \u001b[39mself\u001b[39m\u001b[39m.\u001b[39mrun_cell(cell, silent\u001b[39m=\u001b[39m\u001b[39mTrue\u001b[39;00m, shell_futures\u001b[39m=\u001b[39mshell_futures)\n\u001b[1;32m   2814\u001b[0m \u001b[39mif\u001b[39;00m raise_exceptions:\n\u001b[0;32m-> 2815\u001b[0m     result\u001b[39m.\u001b[39;49mraise_error()\n\u001b[1;32m   2816\u001b[0m \u001b[39melif\u001b[39;00m \u001b[39mnot\u001b[39;00m result\u001b[39m.\u001b[39msuccess:\n\u001b[1;32m   2817\u001b[0m     \u001b[39mbreak\u001b[39;00m\n",
      "File \u001b[0;32m~/miniconda3/envs/pyenv3/lib/python3.10/site-packages/IPython/core/interactiveshell.py:250\u001b[0m, in \u001b[0;36mExecutionResult.raise_error\u001b[0;34m(self)\u001b[0m\n\u001b[1;32m    248\u001b[0m     \u001b[39mraise\u001b[39;00m \u001b[39mself\u001b[39m\u001b[39m.\u001b[39merror_before_exec\n\u001b[1;32m    249\u001b[0m \u001b[39mif\u001b[39;00m \u001b[39mself\u001b[39m\u001b[39m.\u001b[39merror_in_exec \u001b[39mis\u001b[39;00m \u001b[39mnot\u001b[39;00m \u001b[39mNone\u001b[39;00m:\n\u001b[0;32m--> 250\u001b[0m     \u001b[39mraise\u001b[39;00m \u001b[39mself\u001b[39m\u001b[39m.\u001b[39merror_in_exec\n",
      "    \u001b[0;31m[... skipping hidden 1 frame]\u001b[0m\n",
      "File \u001b[0;32m/var/folders/8x/m08xmk_178vd007wy7lbx80w0000gn/T/ipykernel_96506/1580527018.py:7\u001b[0m\n\u001b[1;32m      4\u001b[0m rho \u001b[39m=\u001b[39m nDrops\u001b[39m/\u001b[39m(np\u001b[39m.\u001b[39mpi\u001b[39m*\u001b[39mrDisk\u001b[39m*\u001b[39m\u001b[39m*\u001b[39m\u001b[39m2\u001b[39m) \u001b[39m# nDrops - 1 !???\u001b[39;00m\n\u001b[1;32m      6\u001b[0m \u001b[39mprint\u001b[39m(\u001b[39m\"\u001b[39m\u001b[39mRDF - Raw Trajectories\u001b[39m\u001b[39m\"\u001b[39m)\n\u001b[0;32m----> 7\u001b[0m rdf_raw \u001b[39m=\u001b[39m get_rdf(run_analysis_verb, nFrames, \u001b[39m\"\u001b[39;49m\u001b[39mraw\u001b[39;49m\u001b[39m\"\u001b[39;49m, rList, dr, rho)\n",
      "File \u001b[0;32m/var/folders/8x/m08xmk_178vd007wy7lbx80w0000gn/T/ipykernel_96506/4187067039.py:32\u001b[0m, in \u001b[0;36mget_rdf\u001b[0;34m(run_analysis_verb, nFrames, trajs, rList, dr, rho)\u001b[0m\n\u001b[1;32m     30\u001b[0m COORDS \u001b[39m=\u001b[39m np\u001b[39m.\u001b[39marray(trajectories\u001b[39m.\u001b[39mloc[:, [\u001b[39m\"\u001b[39m\u001b[39mx\u001b[39m\u001b[39m\"\u001b[39m,\u001b[39m\"\u001b[39m\u001b[39my\u001b[39m\u001b[39m\"\u001b[39m]])\n\u001b[1;32m     31\u001b[0m parallel \u001b[39m=\u001b[39m joblib\u001b[39m.\u001b[39mParallel(n_jobs \u001b[39m=\u001b[39m \u001b[39m-\u001b[39m\u001b[39m2\u001b[39m)\n\u001b[0;32m---> 32\u001b[0m rdf \u001b[39m=\u001b[39m parallel(\n\u001b[1;32m     33\u001b[0m     rdf_frame(frame, COORDS, rList, dr, rho)\n\u001b[1;32m     34\u001b[0m     \u001b[39mfor\u001b[39;49;00m frame \u001b[39min\u001b[39;49;00m tqdm(\u001b[39mrange\u001b[39;49m(nFrames))\n\u001b[1;32m     35\u001b[0m )\n\u001b[1;32m     36\u001b[0m rdf \u001b[39m=\u001b[39m np\u001b[39m.\u001b[39marray(rdf)\n\u001b[1;32m     37\u001b[0m rdf_df \u001b[39m=\u001b[39m pd\u001b[39m.\u001b[39mDataFrame(rdf)\n",
      "File \u001b[0;32m~/miniconda3/envs/pyenv3/lib/python3.10/site-packages/joblib/parallel.py:1098\u001b[0m, in \u001b[0;36mParallel.__call__\u001b[0;34m(self, iterable)\u001b[0m\n\u001b[1;32m   1095\u001b[0m     \u001b[39mself\u001b[39m\u001b[39m.\u001b[39m_iterating \u001b[39m=\u001b[39m \u001b[39mFalse\u001b[39;00m\n\u001b[1;32m   1097\u001b[0m \u001b[39mwith\u001b[39;00m \u001b[39mself\u001b[39m\u001b[39m.\u001b[39m_backend\u001b[39m.\u001b[39mretrieval_context():\n\u001b[0;32m-> 1098\u001b[0m     \u001b[39mself\u001b[39;49m\u001b[39m.\u001b[39;49mretrieve()\n\u001b[1;32m   1099\u001b[0m \u001b[39m# Make sure that we get a last message telling us we are done\u001b[39;00m\n\u001b[1;32m   1100\u001b[0m elapsed_time \u001b[39m=\u001b[39m time\u001b[39m.\u001b[39mtime() \u001b[39m-\u001b[39m \u001b[39mself\u001b[39m\u001b[39m.\u001b[39m_start_time\n",
      "File \u001b[0;32m~/miniconda3/envs/pyenv3/lib/python3.10/site-packages/joblib/parallel.py:975\u001b[0m, in \u001b[0;36mParallel.retrieve\u001b[0;34m(self)\u001b[0m\n\u001b[1;32m    973\u001b[0m \u001b[39mtry\u001b[39;00m:\n\u001b[1;32m    974\u001b[0m     \u001b[39mif\u001b[39;00m \u001b[39mgetattr\u001b[39m(\u001b[39mself\u001b[39m\u001b[39m.\u001b[39m_backend, \u001b[39m'\u001b[39m\u001b[39msupports_timeout\u001b[39m\u001b[39m'\u001b[39m, \u001b[39mFalse\u001b[39;00m):\n\u001b[0;32m--> 975\u001b[0m         \u001b[39mself\u001b[39m\u001b[39m.\u001b[39m_output\u001b[39m.\u001b[39mextend(job\u001b[39m.\u001b[39;49mget(timeout\u001b[39m=\u001b[39;49m\u001b[39mself\u001b[39;49m\u001b[39m.\u001b[39;49mtimeout))\n\u001b[1;32m    976\u001b[0m     \u001b[39melse\u001b[39;00m:\n\u001b[1;32m    977\u001b[0m         \u001b[39mself\u001b[39m\u001b[39m.\u001b[39m_output\u001b[39m.\u001b[39mextend(job\u001b[39m.\u001b[39mget())\n",
      "File \u001b[0;32m~/miniconda3/envs/pyenv3/lib/python3.10/site-packages/joblib/_parallel_backends.py:567\u001b[0m, in \u001b[0;36mLokyBackend.wrap_future_result\u001b[0;34m(future, timeout)\u001b[0m\n\u001b[1;32m    564\u001b[0m \u001b[39m\"\"\"Wrapper for Future.result to implement the same behaviour as\u001b[39;00m\n\u001b[1;32m    565\u001b[0m \u001b[39mAsyncResults.get from multiprocessing.\"\"\"\u001b[39;00m\n\u001b[1;32m    566\u001b[0m \u001b[39mtry\u001b[39;00m:\n\u001b[0;32m--> 567\u001b[0m     \u001b[39mreturn\u001b[39;00m future\u001b[39m.\u001b[39;49mresult(timeout\u001b[39m=\u001b[39;49mtimeout)\n\u001b[1;32m    568\u001b[0m \u001b[39mexcept\u001b[39;00m CfTimeoutError \u001b[39mas\u001b[39;00m e:\n\u001b[1;32m    569\u001b[0m     \u001b[39mraise\u001b[39;00m \u001b[39mTimeoutError\u001b[39;00m \u001b[39mfrom\u001b[39;00m \u001b[39me\u001b[39;00m\n",
      "File \u001b[0;32m~/miniconda3/envs/pyenv3/lib/python3.10/concurrent/futures/_base.py:453\u001b[0m, in \u001b[0;36mFuture.result\u001b[0;34m(self, timeout)\u001b[0m\n\u001b[1;32m    450\u001b[0m \u001b[39melif\u001b[39;00m \u001b[39mself\u001b[39m\u001b[39m.\u001b[39m_state \u001b[39m==\u001b[39m FINISHED:\n\u001b[1;32m    451\u001b[0m     \u001b[39mreturn\u001b[39;00m \u001b[39mself\u001b[39m\u001b[39m.\u001b[39m__get_result()\n\u001b[0;32m--> 453\u001b[0m \u001b[39mself\u001b[39;49m\u001b[39m.\u001b[39;49m_condition\u001b[39m.\u001b[39;49mwait(timeout)\n\u001b[1;32m    455\u001b[0m \u001b[39mif\u001b[39;00m \u001b[39mself\u001b[39m\u001b[39m.\u001b[39m_state \u001b[39min\u001b[39;00m [CANCELLED, CANCELLED_AND_NOTIFIED]:\n\u001b[1;32m    456\u001b[0m     \u001b[39mraise\u001b[39;00m CancelledError()\n",
      "File \u001b[0;32m~/miniconda3/envs/pyenv3/lib/python3.10/threading.py:320\u001b[0m, in \u001b[0;36mCondition.wait\u001b[0;34m(self, timeout)\u001b[0m\n\u001b[1;32m    318\u001b[0m \u001b[39mtry\u001b[39;00m:    \u001b[39m# restore state no matter what (e.g., KeyboardInterrupt)\u001b[39;00m\n\u001b[1;32m    319\u001b[0m     \u001b[39mif\u001b[39;00m timeout \u001b[39mis\u001b[39;00m \u001b[39mNone\u001b[39;00m:\n\u001b[0;32m--> 320\u001b[0m         waiter\u001b[39m.\u001b[39;49macquire()\n\u001b[1;32m    321\u001b[0m         gotit \u001b[39m=\u001b[39m \u001b[39mTrue\u001b[39;00m\n\u001b[1;32m    322\u001b[0m     \u001b[39melse\u001b[39;00m:\n",
      "\u001b[0;31mKeyboardInterrupt\u001b[0m: "
     ]
    }
   ],
   "source": [
    "run_analysis_verb = True\n",
    "show_verb = False\n",
    "animated_plot_verb = True\n",
    "save_verb = True\n",
    "smooth_verb = False\n",
    "\n",
    "print(f\"Radial Distribution Function Analysis: {traj_verb}, run_analysis_verb = {run_analysis_verb}, show_verb = {show_verb}, animated_plot_verb = {animated_plot_verb}\")\n",
    "%run ./analysis_modules/radial_distribution_function.ipynb"
   ]
  },
  {
   "attachments": {},
   "cell_type": "markdown",
   "id": "3ef42996",
   "metadata": {},
   "source": [
    "# 3 BODY STRUCTURE METRIC"
   ]
  },
  {
   "cell_type": "code",
   "execution_count": null,
   "id": "cf43967f",
   "metadata": {},
   "outputs": [],
   "source": [
    "run_analysis_verb = False\n",
    "show_verb = False\n",
    "animated_plot_verb = False\n",
    "\n",
    "%run ./analysis_modules/3body_analysis.ipynb"
   ]
  },
  {
   "cell_type": "code",
   "execution_count": null,
   "id": "786e3d11",
   "metadata": {},
   "outputs": [],
   "source": []
  }
 ],
 "metadata": {
  "kernelspec": {
   "display_name": "Python 3 (ipykernel)",
   "language": "python",
   "name": "python3"
  },
  "language_info": {
   "codemirror_mode": {
    "name": "ipython",
    "version": 3
   },
   "file_extension": ".py",
   "mimetype": "text/x-python",
   "name": "python",
   "nbconvert_exporter": "python",
   "pygments_lexer": "ipython3",
   "version": "3.10.6"
  },
  "vscode": {
   "interpreter": {
    "hash": "cda584d4033b4fbc423661afef9f2afe920081905f188573e835f76abdc60dee"
   }
  }
 },
 "nbformat": 4,
 "nbformat_minor": 5
}
