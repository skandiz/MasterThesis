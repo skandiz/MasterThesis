{
 "cells": [
  {
   "cell_type": "code",
   "execution_count": 1,
   "id": "1e649092",
   "metadata": {},
   "outputs": [],
   "source": [
    "import matplotlib.pyplot as plt\n",
    "import matplotlib.animation\n",
    "%matplotlib ipympl\n",
    "import numpy as np\n",
    "import pandas as pd\n",
    "\n",
    "from scipy.spatial import KDTree, cKDTree\n",
    "from scipy.ndimage import uniform_filter1d\n",
    "from scipy.signal import savgol_filter\n",
    "from scipy.optimize import curve_fit\n",
    "\n",
    "import time\n",
    "import joblib\n",
    "from tqdm import tqdm\n",
    "import trackpy as tp\n",
    "from numba import njit, prange\n",
    "\n",
    "from yupi import Trajectory\n",
    "import yupi.graphics as yg\n",
    "import yupi.stats as ys\n",
    "\n",
    "from utility import get_imsd, get_imsd_windowed, get_emsd, get_emsd_windowed, fit_hist, MB_2D,\\\n",
    "                    normal_distr, get_trajs, speed_windowed, theta_windowed, get_smooth_trajs, get_velocities\n",
    "                   \n",
    "show_verb = True\n",
    "save_verb = True\n",
    "anim_show_verb = False"
   ]
  },
  {
   "cell_type": "code",
   "execution_count": 2,
   "id": "a166b38a",
   "metadata": {},
   "outputs": [
    {
     "name": "stdout",
     "output_type": "stream",
     "text": [
      "nDrops:50\n",
      "nFrames:32000 --> 3200.00 s\n",
      "window of 320.0 s, stride of 10.0 s\n",
      "number of steps: 288\n"
     ]
    }
   ],
   "source": [
    "rawTrajs = pd.read_parquet(\"../tracking/results/parquet/pre_merge_tracking.parquet\")\n",
    "red_particle_idx = 17\n",
    "rawTrajs.loc[rawTrajs.particle != red_particle_idx, [\"color\"]] = \"#00007F\"\n",
    "rawTrajs.loc[rawTrajs.particle == red_particle_idx, [\"color\"]] = \"#FF0000\"\n",
    "colors = rawTrajs.loc[rawTrajs.frame == 0, 'color'].values\n",
    "nDrops = len(rawTrajs.loc[rawTrajs.frame==0])\n",
    "nFrames = max(rawTrajs.frame) + 1\n",
    "print(f\"nDrops:{nDrops}\")\n",
    "print(f\"nFrames:{nFrames} --> {nFrames/10:.2f} s\")\n",
    "\n",
    "\n",
    "# WINDOWED ANALYSIS PARAMETERS\n",
    "window = 3200 # 320 s\n",
    "stride = 100 # 10 s\n",
    "print(f\"window of {window/10} s, stride of {stride/10} s\")\n",
    "startFrames = np.arange(0, nFrames-window, stride, dtype=int)\n",
    "endFrames = startFrames + window\n",
    "nSteps = len(startFrames)\n",
    "print(f\"number of steps: {nSteps}\")\n",
    "\n",
    "\n",
    "# step 10 with a 10 fps video --> 1 s\n",
    "units = \"px/s\"\n",
    "default_kwargs_blue = {\"color\": \"#00FFFF\", \"ec\": (0, 0, 0, 0.6), \"density\": True}\n",
    "default_kwargs_red = {\"color\": \"#EE4B2B\", \"ec\": (0, 0, 0, 0.6), \"density\": True}"
   ]
  },
  {
   "cell_type": "code",
   "execution_count": 3,
   "id": "0fd667b3",
   "metadata": {},
   "outputs": [],
   "source": [
    "# Trajectory Smoothing: using a Savgol Filter in order to drop the noise due to the tracking procedure\n",
    "smoothTrajs = get_smooth_trajs(rawTrajs, nDrops, 30, 2)"
   ]
  },
  {
   "attachments": {},
   "cell_type": "markdown",
   "id": "1a826682",
   "metadata": {},
   "source": [
    "# MSD"
   ]
  },
  {
   "cell_type": "code",
   "execution_count": 4,
   "id": "55469559",
   "metadata": {},
   "outputs": [
    {
     "name": "stdout",
     "output_type": "stream",
     "text": [
      "MSD Analysis: show_verb = False, run_windowed_analysis = False, animated_plot_verb = False\n",
      "Global IMSD\n",
      "Global EMSD\n",
      "Raw trajs - Blue Particles: 1.179 ± 0.002, Red Particle: 0.762 ± 0.002\n",
      "Smooth trajs - Blue Particles: 1.183 ± 0.002, Red Particle: 0.765 ± 0.002\n",
      "Windowed IMSD\n",
      "Windowed EMSD\n"
     ]
    }
   ],
   "source": [
    "show_verb = False\n",
    "run_windowed_analysis = False\n",
    "animated_plot_verb = False\n",
    "print(f\"MSD Analysis: show_verb = {show_verb}, run_windowed_analysis = {run_windowed_analysis}, animated_plot_verb = {animated_plot_verb}\")\n",
    "\n",
    "%run ./analysis_modules/msd.ipynb"
   ]
  },
  {
   "attachments": {},
   "cell_type": "markdown",
   "id": "78dc2ddd",
   "metadata": {},
   "source": [
    "# SPEED & TURNING ANGLES DISTRIBUTIONS"
   ]
  },
  {
   "cell_type": "code",
   "execution_count": null,
   "id": "4a1370b8",
   "metadata": {},
   "outputs": [],
   "source": [
    "show_verb = False\n",
    "animated_plot_verb = False\n",
    "print(f\"Speed and Turning Angles Analysis: show_verb = {show_verb}, animated_plot_verb = {animated_plot_verb}\")\n",
    "%run ./analysis_modules/speed_and_turning_angles.ipynb"
   ]
  },
  {
   "attachments": {},
   "cell_type": "markdown",
   "id": "dc392ce1",
   "metadata": {},
   "source": [
    "# VELOCITY AUTOCORRELATION"
   ]
  },
  {
   "cell_type": "code",
   "execution_count": 5,
   "id": "09d190ba",
   "metadata": {},
   "outputs": [
    {
     "name": "stdout",
     "output_type": "stream",
     "text": [
      "Velocity Autocorrelation Analysis: show_verb = False, run_windowed_analysis = False, animated_plot_verb = False\n",
      "Global Velocity Autocovariance Function\n",
      "Windowed analysis\n"
     ]
    }
   ],
   "source": [
    "show_verb = False\n",
    "run_windowed_analysis = False\n",
    "overwrite = False\n",
    "animated_plot_verb = False\n",
    "\n",
    "print(f\"Velocity Autocorrelation Analysis: show_verb = {show_verb}, run_windowed_analysis = {run_windowed_analysis}, animated_plot_verb = {animated_plot_verb}\")\n",
    "%run ./analysis_modules/velocity_autocorrelation.ipynb"
   ]
  },
  {
   "attachments": {},
   "cell_type": "markdown",
   "id": "c7269601",
   "metadata": {},
   "source": [
    "# RADIAL DISTRIBUTON FUNCTION"
   ]
  },
  {
   "cell_type": "code",
   "execution_count": 6,
   "id": "5e00f8d7",
   "metadata": {},
   "outputs": [
    {
     "name": "stdout",
     "output_type": "stream",
     "text": [
      "Radial Distribution Function Analysis: run_analysis_verb = {run_analysis_verb}, show_verb = {show_verb}, animated_plot_verb = {animated_plot_verb}\n",
      "Radial Distribution Function \n",
      "Radial Distribution Function from the center\n"
     ]
    }
   ],
   "source": [
    "run_analysis_verb = False\n",
    "show_verb = False\n",
    "animated_plot_verb = False\n",
    "\n",
    "print(\"Radial Distribution Function Analysis: run_analysis_verb = {run_analysis_verb}, show_verb = {show_verb}, animated_plot_verb = {animated_plot_verb}\")\n",
    "%run ./analysis_modules/radial_distribution_function.ipynb"
   ]
  },
  {
   "attachments": {},
   "cell_type": "markdown",
   "id": "3ef42996",
   "metadata": {},
   "source": [
    "# 3 BODY STRUCTURE METRIC"
   ]
  },
  {
   "cell_type": "code",
   "execution_count": 7,
   "id": "cf43967f",
   "metadata": {},
   "outputs": [
    {
     "name": "stdout",
     "output_type": "stream",
     "text": [
      "Calculating 3-body angles for raw trajs...\n"
     ]
    },
    {
     "name": "stderr",
     "output_type": "stream",
     "text": [
      "100%|██████████| 32000/32000 [00:15<00:00, 2022.12it/s]\n"
     ]
    },
    {
     "name": "stdout",
     "output_type": "stream",
     "text": [
      "Calculating 3-body angles for smooth trajs...\n"
     ]
    },
    {
     "name": "stderr",
     "output_type": "stream",
     "text": [
      "100%|██████████| 32000/32000 [00:14<00:00, 2170.02it/s]\n"
     ]
    },
    {
     "name": "stdout",
     "output_type": "stream",
     "text": [
      "[[-4.91950863e-04 -2.10295746e-01  3.74798520e-02 ... -2.80754088e-02\n",
      "   1.08862700e-01  5.74505769e-01]\n",
      " [-1.21492192e-01  9.32149025e-02  1.71536941e+00 ...  2.46996235e-02\n",
      "   8.81826506e-02  1.26986255e-02]\n",
      " [ 1.28812997e+00  7.69975378e-02 -2.16473331e-03 ... -8.47483882e-01\n",
      "  -8.25670375e-03 -5.19737686e-02]\n",
      " ...\n",
      " [ 1.06039114e-01  7.16752066e-03  3.22019303e-02 ... -7.32807325e-03\n",
      "  -1.35886755e-01 -3.97214909e-02]\n",
      " [-1.07390152e-01 -2.01982371e-01 -7.34379684e-02 ...  1.01658457e-01\n",
      "   9.24140708e-02  5.55032744e-02]\n",
      " [-1.48274284e-01 -6.71211350e-02  1.61650982e-01 ... -8.98000434e-02\n",
      "   1.35891397e-02 -1.70256258e-01]]\n"
     ]
    }
   ],
   "source": [
    "run_analysis_verb = False\n",
    "show_verb = False\n",
    "animated_plot_verb = False\n",
    "\n",
    "%run ./analysis_modules/3body_analysis.ipynb"
   ]
  },
  {
   "cell_type": "code",
   "execution_count": null,
   "id": "786e3d11",
   "metadata": {},
   "outputs": [],
   "source": []
  }
 ],
 "metadata": {
  "kernelspec": {
   "display_name": "pyenv3",
   "language": "python",
   "name": "python3"
  },
  "language_info": {
   "codemirror_mode": {
    "name": "ipython",
    "version": 3
   },
   "file_extension": ".py",
   "mimetype": "text/x-python",
   "name": "python",
   "nbconvert_exporter": "python",
   "pygments_lexer": "ipython3",
   "version": "3.10.6"
  },
  "vscode": {
   "interpreter": {
    "hash": "cda584d4033b4fbc423661afef9f2afe920081905f188573e835f76abdc60dee"
   }
  }
 },
 "nbformat": 4,
 "nbformat_minor": 5
}
