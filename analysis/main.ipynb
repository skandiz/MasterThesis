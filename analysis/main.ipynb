{
 "cells": [
  {
   "cell_type": "code",
   "execution_count": 1,
   "id": "1e649092",
   "metadata": {},
   "outputs": [],
   "source": [
    "import matplotlib.pyplot as plt\n",
    "import matplotlib.animation\n",
    "%matplotlib ipympl\n",
    "import numpy as np\n",
    "import pandas as pd\n",
    "\n",
    "from scipy.spatial import KDTree, cKDTree\n",
    "from scipy.ndimage import uniform_filter1d\n",
    "from scipy.signal import savgol_filter\n",
    "from scipy.optimize import curve_fit\n",
    "\n",
    "import time\n",
    "import joblib\n",
    "from tqdm import tqdm\n",
    "import trackpy as tp\n",
    "from numba import njit, prange\n",
    "\n",
    "from yupi import Trajectory\n",
    "import yupi.graphics as yg\n",
    "import yupi.stats as ys\n",
    "\n",
    "from utility import get_imsd, get_imsd_windowed, get_emsd, get_emsd_windowed, fit_hist, MB_2D,\\\n",
    "                    normal_distr, lorentian_distr, get_trajs, speed_windowed, theta_windowed, \\\n",
    "                    get_smooth_trajs, get_velocities\n",
    "                   \n",
    "show_verb = True\n",
    "save_verb = True\n",
    "anim_show_verb = False"
   ]
  },
  {
   "cell_type": "code",
   "execution_count": 2,
   "id": "a166b38a",
   "metadata": {},
   "outputs": [
    {
     "name": "stdout",
     "output_type": "stream",
     "text": [
      "nDrops:50\n",
      "nFrames:32000 --> 3200.00 s\n",
      "window of 320.0 s, stride of 10.0 s\n",
      "number of steps: 288\n"
     ]
    }
   ],
   "source": [
    "rawTrajs = pd.read_parquet(\"../tracking/results/parquet/pre_merge_tracking.parquet\")\n",
    "red_particle_idx = 17\n",
    "rawTrajs.loc[rawTrajs.particle != red_particle_idx, [\"color\"]] = \"#00007F\"\n",
    "rawTrajs.loc[rawTrajs.particle == red_particle_idx, [\"color\"]] = \"#FF0000\"\n",
    "colors = rawTrajs.loc[rawTrajs.frame == 0, 'color'].values\n",
    "nDrops = len(rawTrajs.loc[rawTrajs.frame==0])\n",
    "nFrames = max(rawTrajs.frame) + 1\n",
    "print(f\"nDrops:{nDrops}\")\n",
    "print(f\"nFrames:{nFrames} --> {nFrames/10:.2f} s\")\n",
    "\n",
    "\n",
    "# WINDOWED ANALYSIS PARAMETERS\n",
    "window = 3200 # 320 s\n",
    "stride = 100 # 10 s\n",
    "print(f\"window of {window/10} s, stride of {stride/10} s\")\n",
    "startFrames = np.arange(0, nFrames-window, stride, dtype=int)\n",
    "endFrames = startFrames + window\n",
    "nSteps = len(startFrames)\n",
    "print(f\"number of steps: {nSteps}\")\n",
    "\n",
    "\n",
    "# step 10 with a 10 fps video --> 1 s\n",
    "units = \"px/s\"\n",
    "default_kwargs_blue = {\"color\": \"#00FFFF\", \"ec\": (0, 0, 0, 0.6), \"density\": True}\n",
    "default_kwargs_red = {\"color\": \"#EE4B2B\", \"ec\": (0, 0, 0, 0.6), \"density\": True}"
   ]
  },
  {
   "cell_type": "code",
   "execution_count": 3,
   "id": "0fd667b3",
   "metadata": {},
   "outputs": [],
   "source": [
    "# Trajectory Smoothing: using a Savgol Filter in order to drop the noise due to the tracking procedure\n",
    "smoothTrajs = get_smooth_trajs(rawTrajs, nDrops, 30, 2)"
   ]
  },
  {
   "cell_type": "markdown",
   "id": "1a826682",
   "metadata": {},
   "source": [
    "# MSD"
   ]
  },
  {
   "cell_type": "code",
   "execution_count": null,
   "id": "55469559",
   "metadata": {},
   "outputs": [],
   "source": [
    "show_verb = False\n",
    "run_windowed_analysis = False\n",
    "animated_plot_verb = False\n",
    "print(f\"MSD Analysis: show_verb = {show_verb}, run_windowed_analysis = {run_windowed_analysis}, animated_plot_verb = {animated_plot_verb}\")\n",
    "\n",
    "%run ./analysis_modules/msd.ipynb"
   ]
  },
  {
   "attachments": {},
   "cell_type": "markdown",
   "id": "78dc2ddd",
   "metadata": {},
   "source": [
    "# VELOCITY DISTRIBUTION"
   ]
  },
  {
   "cell_type": "code",
   "execution_count": 4,
   "id": "4a1370b8",
   "metadata": {},
   "outputs": [
    {
     "name": "stdout",
     "output_type": "stream",
     "text": [
      "Speed and Turning Angles Analysis: show_verb = False, animated_plot_verb = False\n",
      "\n",
      " Global speed distribution analysis\n",
      "Raw Trajectories\n",
      "Blue Particles σ: 3.0812678386034857 ± 0.015939935826104385\n",
      "Red Particle σ: 7.3063902778733985 ± 0.1325638679530156\n",
      "Smooth Trajectories\n",
      "Blue Particles σ: 2.6247331712013717 ± 0.016982879149678404\n",
      "Red Particle σ: 7.501490328804058 ± 0.14385893343130896\n",
      "\n",
      " Windowed speed distribution Analysis\n"
     ]
    },
    {
     "name": "stderr",
     "output_type": "stream",
     "text": [
      "100%|██████████| 288/288 [01:04<00:00,  4.45it/s]\n",
      "100%|██████████| 288/288 [01:04<00:00,  4.43it/s]\n"
     ]
    }
   ],
   "source": [
    "show_verb = False\n",
    "animated_plot_verb = False\n",
    "print(f\"Speed and Turning Angles Analysis: show_verb = {show_verb}, animated_plot_verb = {animated_plot_verb}\")\n",
    "%run ./analysis_modules/velocity_distr.ipynb"
   ]
  },
  {
   "attachments": {},
   "cell_type": "markdown",
   "id": "57e43c27",
   "metadata": {},
   "source": [
    "# TURNING ANGLES DISTRIBUTIONS"
   ]
  },
  {
   "cell_type": "code",
   "execution_count": 5,
   "id": "8582a5bc",
   "metadata": {},
   "outputs": [
    {
     "name": "stdout",
     "output_type": "stream",
     "text": [
      "Speed and Turning Angles Analysis: show_verb = False, animated_plot_verb = False\n",
      "\n",
      " Global turning angles analysis\n",
      "Raw Trajectories\n",
      "Blue Particles σ: 2.497021447528245 ± 0.4101053482508507, μ: 0.0055759244140203435 ± 0.43102324792811025\n",
      "Red Particle σ: 1.8195193626205122 ± 0.17936967429817283, μ: 0.028399012774180964 ± 0.17941401010417252\n",
      "Smooth Trajectories\n",
      "Blue Particles σ: 0.3184052484952828 ± 0.0026005990592533417, μ: 0.0001197299050340255 ± 0.0025994981455607523\n",
      "Red Particle σ: 0.14040069882588682 ± 0.0009333366055569999, μ: 0.0007676986138275656 ± 0.0009319299883564692\n",
      "\n",
      " Windowed turning angles analysis\n"
     ]
    },
    {
     "name": "stderr",
     "output_type": "stream",
     "text": [
      "100%|██████████| 288/288 [00:52<00:00,  5.46it/s]\n",
      "100%|██████████| 288/288 [00:54<00:00,  5.31it/s]\n"
     ]
    }
   ],
   "source": [
    "if 0:\n",
    "    distribution = normal_distr\n",
    "    distribution_str = \"gaussian\"\n",
    "else:\n",
    "    distribution = lorentian_distr\n",
    "    distribution_str = \"lorentian\"\n",
    "\n",
    "show_verb = False\n",
    "animated_plot_verb = False\n",
    "print(f\"Speed and Turning Angles Analysis: show_verb = {show_verb}, animated_plot_verb = {animated_plot_verb}\")\n",
    "%run ./analysis_modules/turning_angles.ipynb"
   ]
  },
  {
   "cell_type": "markdown",
   "id": "dc392ce1",
   "metadata": {},
   "source": [
    "# VELOCITY AUTOCORRELATION"
   ]
  },
  {
   "cell_type": "code",
   "execution_count": null,
   "id": "09d190ba",
   "metadata": {},
   "outputs": [],
   "source": [
    "show_verb = False\n",
    "run_windowed_analysis = False\n",
    "overwrite = False\n",
    "animated_plot_verb = False\n",
    "\n",
    "print(f\"Velocity Autocorrelation Analysis: show_verb = {show_verb}, run_windowed_analysis = {run_windowed_analysis}, animated_plot_verb = {animated_plot_verb}\")\n",
    "%run ./analysis_modules/velocity_autocorrelation.ipynb"
   ]
  },
  {
   "cell_type": "markdown",
   "id": "c7269601",
   "metadata": {},
   "source": [
    "# RADIAL DISTRIBUTON FUNCTION"
   ]
  },
  {
   "cell_type": "code",
   "execution_count": 7,
   "id": "5e00f8d7",
   "metadata": {},
   "outputs": [
    {
     "name": "stdout",
     "output_type": "stream",
     "text": [
      "Radial Distribution Function Analysis: run_analysis_verb = {run_analysis_verb}, show_verb = {show_verb}, animated_plot_verb = {animated_plot_verb}\n",
      "RDF - Raw Trajectories\n",
      "raw\n"
     ]
    },
    {
     "name": "stderr",
     "output_type": "stream",
     "text": []
    },
    {
     "ename": "KeyboardInterrupt",
     "evalue": "",
     "output_type": "error",
     "traceback": [
      "\u001b[0;31m---------------------------------------------------------------------------\u001b[0m",
      "\u001b[0;31mKeyboardInterrupt\u001b[0m                         Traceback (most recent call last)",
      "File \u001b[0;32m/var/folders/8x/m08xmk_178vd007wy7lbx80w0000gn/T/ipykernel_1807/3100714607.py:7\u001b[0m\n\u001b[1;32m      4\u001b[0m rho \u001b[39m=\u001b[39m nDrops\u001b[39m/\u001b[39m(np\u001b[39m.\u001b[39mpi\u001b[39m*\u001b[39mrDisk\u001b[39m*\u001b[39m\u001b[39m*\u001b[39m\u001b[39m2\u001b[39m) \u001b[39m# nDrops - 1 !???\u001b[39;00m\n\u001b[1;32m      6\u001b[0m \u001b[39mprint\u001b[39m(\u001b[39m\"\u001b[39m\u001b[39mRDF - Raw Trajectories\u001b[39m\u001b[39m\"\u001b[39m)\n\u001b[0;32m----> 7\u001b[0m rdf_raw \u001b[39m=\u001b[39m get_rdf(run_analysis_verb, nFrames, \u001b[39m\"\u001b[39;49m\u001b[39mraw\u001b[39;49m\u001b[39m\"\u001b[39;49m, rList, dr, rho)\n\u001b[1;32m      8\u001b[0m \u001b[39mprint\u001b[39m(\u001b[39m\"\u001b[39m\u001b[39mRDF - Smooth Trajectories\u001b[39m\u001b[39m\"\u001b[39m)\n\u001b[1;32m      9\u001b[0m rdf_smooth \u001b[39m=\u001b[39m get_rdf(run_analysis_verb, nFrames, \u001b[39m\"\u001b[39m\u001b[39msmooth\u001b[39m\u001b[39m\"\u001b[39m, rList, dr, rho)\n",
      "File \u001b[0;32m/var/folders/8x/m08xmk_178vd007wy7lbx80w0000gn/T/ipykernel_1807/2830762535.py:32\u001b[0m, in \u001b[0;36mget_rdf\u001b[0;34m(run_analysis_verb, nFrames, trajs, rList, dr, rho)\u001b[0m\n\u001b[1;32m     30\u001b[0m COORDS \u001b[39m=\u001b[39m np\u001b[39m.\u001b[39marray(trajectories\u001b[39m.\u001b[39mloc[:, [\u001b[39m\"\u001b[39m\u001b[39mx\u001b[39m\u001b[39m\"\u001b[39m,\u001b[39m\"\u001b[39m\u001b[39my\u001b[39m\u001b[39m\"\u001b[39m]])\n\u001b[1;32m     31\u001b[0m parallel \u001b[39m=\u001b[39m joblib\u001b[39m.\u001b[39mParallel(n_jobs \u001b[39m=\u001b[39m \u001b[39m-\u001b[39m\u001b[39m2\u001b[39m)\n\u001b[0;32m---> 32\u001b[0m rdf \u001b[39m=\u001b[39m parallel(\n\u001b[1;32m     33\u001b[0m     rdf_frame(frame, COORDS, rList, dr, rho)\n\u001b[1;32m     34\u001b[0m     \u001b[39mfor\u001b[39;49;00m frame \u001b[39min\u001b[39;49;00m tqdm(\u001b[39mrange\u001b[39;49m(nFrames))\n\u001b[1;32m     35\u001b[0m )\n\u001b[1;32m     36\u001b[0m rdf \u001b[39m=\u001b[39m np\u001b[39m.\u001b[39marray(rdf)\n\u001b[1;32m     37\u001b[0m rdf_df \u001b[39m=\u001b[39m pd\u001b[39m.\u001b[39mDataFrame(rdf)\n",
      "File \u001b[0;32m~/miniconda3/envs/pyenv3/lib/python3.10/site-packages/joblib/parallel.py:1098\u001b[0m, in \u001b[0;36mParallel.__call__\u001b[0;34m(self, iterable)\u001b[0m\n\u001b[1;32m   1095\u001b[0m     \u001b[39mself\u001b[39m\u001b[39m.\u001b[39m_iterating \u001b[39m=\u001b[39m \u001b[39mFalse\u001b[39;00m\n\u001b[1;32m   1097\u001b[0m \u001b[39mwith\u001b[39;00m \u001b[39mself\u001b[39m\u001b[39m.\u001b[39m_backend\u001b[39m.\u001b[39mretrieval_context():\n\u001b[0;32m-> 1098\u001b[0m     \u001b[39mself\u001b[39;49m\u001b[39m.\u001b[39;49mretrieve()\n\u001b[1;32m   1099\u001b[0m \u001b[39m# Make sure that we get a last message telling us we are done\u001b[39;00m\n\u001b[1;32m   1100\u001b[0m elapsed_time \u001b[39m=\u001b[39m time\u001b[39m.\u001b[39mtime() \u001b[39m-\u001b[39m \u001b[39mself\u001b[39m\u001b[39m.\u001b[39m_start_time\n",
      "File \u001b[0;32m~/miniconda3/envs/pyenv3/lib/python3.10/site-packages/joblib/parallel.py:975\u001b[0m, in \u001b[0;36mParallel.retrieve\u001b[0;34m(self)\u001b[0m\n\u001b[1;32m    973\u001b[0m \u001b[39mtry\u001b[39;00m:\n\u001b[1;32m    974\u001b[0m     \u001b[39mif\u001b[39;00m \u001b[39mgetattr\u001b[39m(\u001b[39mself\u001b[39m\u001b[39m.\u001b[39m_backend, \u001b[39m'\u001b[39m\u001b[39msupports_timeout\u001b[39m\u001b[39m'\u001b[39m, \u001b[39mFalse\u001b[39;00m):\n\u001b[0;32m--> 975\u001b[0m         \u001b[39mself\u001b[39m\u001b[39m.\u001b[39m_output\u001b[39m.\u001b[39mextend(job\u001b[39m.\u001b[39;49mget(timeout\u001b[39m=\u001b[39;49m\u001b[39mself\u001b[39;49m\u001b[39m.\u001b[39;49mtimeout))\n\u001b[1;32m    976\u001b[0m     \u001b[39melse\u001b[39;00m:\n\u001b[1;32m    977\u001b[0m         \u001b[39mself\u001b[39m\u001b[39m.\u001b[39m_output\u001b[39m.\u001b[39mextend(job\u001b[39m.\u001b[39mget())\n",
      "File \u001b[0;32m~/miniconda3/envs/pyenv3/lib/python3.10/site-packages/joblib/_parallel_backends.py:567\u001b[0m, in \u001b[0;36mLokyBackend.wrap_future_result\u001b[0;34m(future, timeout)\u001b[0m\n\u001b[1;32m    564\u001b[0m \u001b[39m\"\"\"Wrapper for Future.result to implement the same behaviour as\u001b[39;00m\n\u001b[1;32m    565\u001b[0m \u001b[39mAsyncResults.get from multiprocessing.\"\"\"\u001b[39;00m\n\u001b[1;32m    566\u001b[0m \u001b[39mtry\u001b[39;00m:\n\u001b[0;32m--> 567\u001b[0m     \u001b[39mreturn\u001b[39;00m future\u001b[39m.\u001b[39;49mresult(timeout\u001b[39m=\u001b[39;49mtimeout)\n\u001b[1;32m    568\u001b[0m \u001b[39mexcept\u001b[39;00m CfTimeoutError \u001b[39mas\u001b[39;00m e:\n\u001b[1;32m    569\u001b[0m     \u001b[39mraise\u001b[39;00m \u001b[39mTimeoutError\u001b[39;00m \u001b[39mfrom\u001b[39;00m \u001b[39me\u001b[39;00m\n",
      "File \u001b[0;32m~/miniconda3/envs/pyenv3/lib/python3.10/concurrent/futures/_base.py:453\u001b[0m, in \u001b[0;36mFuture.result\u001b[0;34m(self, timeout)\u001b[0m\n\u001b[1;32m    450\u001b[0m \u001b[39melif\u001b[39;00m \u001b[39mself\u001b[39m\u001b[39m.\u001b[39m_state \u001b[39m==\u001b[39m FINISHED:\n\u001b[1;32m    451\u001b[0m     \u001b[39mreturn\u001b[39;00m \u001b[39mself\u001b[39m\u001b[39m.\u001b[39m__get_result()\n\u001b[0;32m--> 453\u001b[0m \u001b[39mself\u001b[39;49m\u001b[39m.\u001b[39;49m_condition\u001b[39m.\u001b[39;49mwait(timeout)\n\u001b[1;32m    455\u001b[0m \u001b[39mif\u001b[39;00m \u001b[39mself\u001b[39m\u001b[39m.\u001b[39m_state \u001b[39min\u001b[39;00m [CANCELLED, CANCELLED_AND_NOTIFIED]:\n\u001b[1;32m    456\u001b[0m     \u001b[39mraise\u001b[39;00m CancelledError()\n",
      "File \u001b[0;32m~/miniconda3/envs/pyenv3/lib/python3.10/threading.py:320\u001b[0m, in \u001b[0;36mCondition.wait\u001b[0;34m(self, timeout)\u001b[0m\n\u001b[1;32m    318\u001b[0m \u001b[39mtry\u001b[39;00m:    \u001b[39m# restore state no matter what (e.g., KeyboardInterrupt)\u001b[39;00m\n\u001b[1;32m    319\u001b[0m     \u001b[39mif\u001b[39;00m timeout \u001b[39mis\u001b[39;00m \u001b[39mNone\u001b[39;00m:\n\u001b[0;32m--> 320\u001b[0m         waiter\u001b[39m.\u001b[39;49macquire()\n\u001b[1;32m    321\u001b[0m         gotit \u001b[39m=\u001b[39m \u001b[39mTrue\u001b[39;00m\n\u001b[1;32m    322\u001b[0m     \u001b[39melse\u001b[39;00m:\n",
      "\u001b[0;31mKeyboardInterrupt\u001b[0m: "
     ]
    },
    {
     "ename": "KeyboardInterrupt",
     "evalue": "",
     "output_type": "error",
     "traceback": [
      "\u001b[0;31m---------------------------------------------------------------------------\u001b[0m",
      "\u001b[0;31mKeyboardInterrupt\u001b[0m                         Traceback (most recent call last)",
      "\u001b[1;32m/Users/matteoscandola/Desktop/MasterThesis/analysis/main.ipynb Cell 12\u001b[0m in \u001b[0;36m6\n\u001b[1;32m      <a href='vscode-notebook-cell:/Users/matteoscandola/Desktop/MasterThesis/analysis/main.ipynb#X13sZmlsZQ%3D%3D?line=2'>3</a>\u001b[0m animated_plot_verb \u001b[39m=\u001b[39m \u001b[39mTrue\u001b[39;00m\n\u001b[1;32m      <a href='vscode-notebook-cell:/Users/matteoscandola/Desktop/MasterThesis/analysis/main.ipynb#X13sZmlsZQ%3D%3D?line=4'>5</a>\u001b[0m \u001b[39mprint\u001b[39m(\u001b[39m\"\u001b[39m\u001b[39mRadial Distribution Function Analysis: run_analysis_verb = \u001b[39m\u001b[39m{run_analysis_verb}\u001b[39;00m\u001b[39m, show_verb = \u001b[39m\u001b[39m{show_verb}\u001b[39;00m\u001b[39m, animated_plot_verb = \u001b[39m\u001b[39m{animated_plot_verb}\u001b[39;00m\u001b[39m\"\u001b[39m)\n\u001b[0;32m----> <a href='vscode-notebook-cell:/Users/matteoscandola/Desktop/MasterThesis/analysis/main.ipynb#X13sZmlsZQ%3D%3D?line=5'>6</a>\u001b[0m get_ipython()\u001b[39m.\u001b[39;49mrun_line_magic(\u001b[39m'\u001b[39;49m\u001b[39mrun\u001b[39;49m\u001b[39m'\u001b[39;49m, \u001b[39m'\u001b[39;49m\u001b[39m./analysis_modules/radial_distribution_function.ipynb\u001b[39;49m\u001b[39m'\u001b[39;49m)\n",
      "File \u001b[0;32m~/miniconda3/envs/pyenv3/lib/python3.10/site-packages/IPython/core/interactiveshell.py:2309\u001b[0m, in \u001b[0;36mInteractiveShell.run_line_magic\u001b[0;34m(self, magic_name, line, _stack_depth)\u001b[0m\n\u001b[1;32m   2307\u001b[0m     kwargs[\u001b[39m'\u001b[39m\u001b[39mlocal_ns\u001b[39m\u001b[39m'\u001b[39m] \u001b[39m=\u001b[39m \u001b[39mself\u001b[39m\u001b[39m.\u001b[39mget_local_scope(stack_depth)\n\u001b[1;32m   2308\u001b[0m \u001b[39mwith\u001b[39;00m \u001b[39mself\u001b[39m\u001b[39m.\u001b[39mbuiltin_trap:\n\u001b[0;32m-> 2309\u001b[0m     result \u001b[39m=\u001b[39m fn(\u001b[39m*\u001b[39;49margs, \u001b[39m*\u001b[39;49m\u001b[39m*\u001b[39;49mkwargs)\n\u001b[1;32m   2310\u001b[0m \u001b[39mreturn\u001b[39;00m result\n",
      "File \u001b[0;32m~/miniconda3/envs/pyenv3/lib/python3.10/site-packages/IPython/core/magics/execution.py:717\u001b[0m, in \u001b[0;36mExecutionMagics.run\u001b[0;34m(self, parameter_s, runner, file_finder)\u001b[0m\n\u001b[1;32m    715\u001b[0m     \u001b[39mwith\u001b[39;00m preserve_keys(\u001b[39mself\u001b[39m\u001b[39m.\u001b[39mshell\u001b[39m.\u001b[39muser_ns, \u001b[39m'\u001b[39m\u001b[39m__file__\u001b[39m\u001b[39m'\u001b[39m):\n\u001b[1;32m    716\u001b[0m         \u001b[39mself\u001b[39m\u001b[39m.\u001b[39mshell\u001b[39m.\u001b[39muser_ns[\u001b[39m'\u001b[39m\u001b[39m__file__\u001b[39m\u001b[39m'\u001b[39m] \u001b[39m=\u001b[39m filename\n\u001b[0;32m--> 717\u001b[0m         \u001b[39mself\u001b[39;49m\u001b[39m.\u001b[39;49mshell\u001b[39m.\u001b[39;49msafe_execfile_ipy(filename, raise_exceptions\u001b[39m=\u001b[39;49m\u001b[39mTrue\u001b[39;49;00m)\n\u001b[1;32m    718\u001b[0m     \u001b[39mreturn\u001b[39;00m\n\u001b[1;32m    720\u001b[0m \u001b[39m# Control the response to exit() calls made by the script being run\u001b[39;00m\n",
      "File \u001b[0;32m~/miniconda3/envs/pyenv3/lib/python3.10/site-packages/IPython/core/interactiveshell.py:2815\u001b[0m, in \u001b[0;36mInteractiveShell.safe_execfile_ipy\u001b[0;34m(self, fname, shell_futures, raise_exceptions)\u001b[0m\n\u001b[1;32m   2813\u001b[0m result \u001b[39m=\u001b[39m \u001b[39mself\u001b[39m\u001b[39m.\u001b[39mrun_cell(cell, silent\u001b[39m=\u001b[39m\u001b[39mTrue\u001b[39;00m, shell_futures\u001b[39m=\u001b[39mshell_futures)\n\u001b[1;32m   2814\u001b[0m \u001b[39mif\u001b[39;00m raise_exceptions:\n\u001b[0;32m-> 2815\u001b[0m     result\u001b[39m.\u001b[39;49mraise_error()\n\u001b[1;32m   2816\u001b[0m \u001b[39melif\u001b[39;00m \u001b[39mnot\u001b[39;00m result\u001b[39m.\u001b[39msuccess:\n\u001b[1;32m   2817\u001b[0m     \u001b[39mbreak\u001b[39;00m\n",
      "File \u001b[0;32m~/miniconda3/envs/pyenv3/lib/python3.10/site-packages/IPython/core/interactiveshell.py:250\u001b[0m, in \u001b[0;36mExecutionResult.raise_error\u001b[0;34m(self)\u001b[0m\n\u001b[1;32m    248\u001b[0m     \u001b[39mraise\u001b[39;00m \u001b[39mself\u001b[39m\u001b[39m.\u001b[39merror_before_exec\n\u001b[1;32m    249\u001b[0m \u001b[39mif\u001b[39;00m \u001b[39mself\u001b[39m\u001b[39m.\u001b[39merror_in_exec \u001b[39mis\u001b[39;00m \u001b[39mnot\u001b[39;00m \u001b[39mNone\u001b[39;00m:\n\u001b[0;32m--> 250\u001b[0m     \u001b[39mraise\u001b[39;00m \u001b[39mself\u001b[39m\u001b[39m.\u001b[39merror_in_exec\n",
      "    \u001b[0;31m[... skipping hidden 1 frame]\u001b[0m\n",
      "File \u001b[0;32m/var/folders/8x/m08xmk_178vd007wy7lbx80w0000gn/T/ipykernel_1807/3100714607.py:7\u001b[0m\n\u001b[1;32m      4\u001b[0m rho \u001b[39m=\u001b[39m nDrops\u001b[39m/\u001b[39m(np\u001b[39m.\u001b[39mpi\u001b[39m*\u001b[39mrDisk\u001b[39m*\u001b[39m\u001b[39m*\u001b[39m\u001b[39m2\u001b[39m) \u001b[39m# nDrops - 1 !???\u001b[39;00m\n\u001b[1;32m      6\u001b[0m \u001b[39mprint\u001b[39m(\u001b[39m\"\u001b[39m\u001b[39mRDF - Raw Trajectories\u001b[39m\u001b[39m\"\u001b[39m)\n\u001b[0;32m----> 7\u001b[0m rdf_raw \u001b[39m=\u001b[39m get_rdf(run_analysis_verb, nFrames, \u001b[39m\"\u001b[39;49m\u001b[39mraw\u001b[39;49m\u001b[39m\"\u001b[39;49m, rList, dr, rho)\n\u001b[1;32m      8\u001b[0m \u001b[39mprint\u001b[39m(\u001b[39m\"\u001b[39m\u001b[39mRDF - Smooth Trajectories\u001b[39m\u001b[39m\"\u001b[39m)\n\u001b[1;32m      9\u001b[0m rdf_smooth \u001b[39m=\u001b[39m get_rdf(run_analysis_verb, nFrames, \u001b[39m\"\u001b[39m\u001b[39msmooth\u001b[39m\u001b[39m\"\u001b[39m, rList, dr, rho)\n",
      "File \u001b[0;32m/var/folders/8x/m08xmk_178vd007wy7lbx80w0000gn/T/ipykernel_1807/2830762535.py:32\u001b[0m, in \u001b[0;36mget_rdf\u001b[0;34m(run_analysis_verb, nFrames, trajs, rList, dr, rho)\u001b[0m\n\u001b[1;32m     30\u001b[0m COORDS \u001b[39m=\u001b[39m np\u001b[39m.\u001b[39marray(trajectories\u001b[39m.\u001b[39mloc[:, [\u001b[39m\"\u001b[39m\u001b[39mx\u001b[39m\u001b[39m\"\u001b[39m,\u001b[39m\"\u001b[39m\u001b[39my\u001b[39m\u001b[39m\"\u001b[39m]])\n\u001b[1;32m     31\u001b[0m parallel \u001b[39m=\u001b[39m joblib\u001b[39m.\u001b[39mParallel(n_jobs \u001b[39m=\u001b[39m \u001b[39m-\u001b[39m\u001b[39m2\u001b[39m)\n\u001b[0;32m---> 32\u001b[0m rdf \u001b[39m=\u001b[39m parallel(\n\u001b[1;32m     33\u001b[0m     rdf_frame(frame, COORDS, rList, dr, rho)\n\u001b[1;32m     34\u001b[0m     \u001b[39mfor\u001b[39;49;00m frame \u001b[39min\u001b[39;49;00m tqdm(\u001b[39mrange\u001b[39;49m(nFrames))\n\u001b[1;32m     35\u001b[0m )\n\u001b[1;32m     36\u001b[0m rdf \u001b[39m=\u001b[39m np\u001b[39m.\u001b[39marray(rdf)\n\u001b[1;32m     37\u001b[0m rdf_df \u001b[39m=\u001b[39m pd\u001b[39m.\u001b[39mDataFrame(rdf)\n",
      "File \u001b[0;32m~/miniconda3/envs/pyenv3/lib/python3.10/site-packages/joblib/parallel.py:1098\u001b[0m, in \u001b[0;36mParallel.__call__\u001b[0;34m(self, iterable)\u001b[0m\n\u001b[1;32m   1095\u001b[0m     \u001b[39mself\u001b[39m\u001b[39m.\u001b[39m_iterating \u001b[39m=\u001b[39m \u001b[39mFalse\u001b[39;00m\n\u001b[1;32m   1097\u001b[0m \u001b[39mwith\u001b[39;00m \u001b[39mself\u001b[39m\u001b[39m.\u001b[39m_backend\u001b[39m.\u001b[39mretrieval_context():\n\u001b[0;32m-> 1098\u001b[0m     \u001b[39mself\u001b[39;49m\u001b[39m.\u001b[39;49mretrieve()\n\u001b[1;32m   1099\u001b[0m \u001b[39m# Make sure that we get a last message telling us we are done\u001b[39;00m\n\u001b[1;32m   1100\u001b[0m elapsed_time \u001b[39m=\u001b[39m time\u001b[39m.\u001b[39mtime() \u001b[39m-\u001b[39m \u001b[39mself\u001b[39m\u001b[39m.\u001b[39m_start_time\n",
      "File \u001b[0;32m~/miniconda3/envs/pyenv3/lib/python3.10/site-packages/joblib/parallel.py:975\u001b[0m, in \u001b[0;36mParallel.retrieve\u001b[0;34m(self)\u001b[0m\n\u001b[1;32m    973\u001b[0m \u001b[39mtry\u001b[39;00m:\n\u001b[1;32m    974\u001b[0m     \u001b[39mif\u001b[39;00m \u001b[39mgetattr\u001b[39m(\u001b[39mself\u001b[39m\u001b[39m.\u001b[39m_backend, \u001b[39m'\u001b[39m\u001b[39msupports_timeout\u001b[39m\u001b[39m'\u001b[39m, \u001b[39mFalse\u001b[39;00m):\n\u001b[0;32m--> 975\u001b[0m         \u001b[39mself\u001b[39m\u001b[39m.\u001b[39m_output\u001b[39m.\u001b[39mextend(job\u001b[39m.\u001b[39;49mget(timeout\u001b[39m=\u001b[39;49m\u001b[39mself\u001b[39;49m\u001b[39m.\u001b[39;49mtimeout))\n\u001b[1;32m    976\u001b[0m     \u001b[39melse\u001b[39;00m:\n\u001b[1;32m    977\u001b[0m         \u001b[39mself\u001b[39m\u001b[39m.\u001b[39m_output\u001b[39m.\u001b[39mextend(job\u001b[39m.\u001b[39mget())\n",
      "File \u001b[0;32m~/miniconda3/envs/pyenv3/lib/python3.10/site-packages/joblib/_parallel_backends.py:567\u001b[0m, in \u001b[0;36mLokyBackend.wrap_future_result\u001b[0;34m(future, timeout)\u001b[0m\n\u001b[1;32m    564\u001b[0m \u001b[39m\"\"\"Wrapper for Future.result to implement the same behaviour as\u001b[39;00m\n\u001b[1;32m    565\u001b[0m \u001b[39mAsyncResults.get from multiprocessing.\"\"\"\u001b[39;00m\n\u001b[1;32m    566\u001b[0m \u001b[39mtry\u001b[39;00m:\n\u001b[0;32m--> 567\u001b[0m     \u001b[39mreturn\u001b[39;00m future\u001b[39m.\u001b[39;49mresult(timeout\u001b[39m=\u001b[39;49mtimeout)\n\u001b[1;32m    568\u001b[0m \u001b[39mexcept\u001b[39;00m CfTimeoutError \u001b[39mas\u001b[39;00m e:\n\u001b[1;32m    569\u001b[0m     \u001b[39mraise\u001b[39;00m \u001b[39mTimeoutError\u001b[39;00m \u001b[39mfrom\u001b[39;00m \u001b[39me\u001b[39;00m\n",
      "File \u001b[0;32m~/miniconda3/envs/pyenv3/lib/python3.10/concurrent/futures/_base.py:453\u001b[0m, in \u001b[0;36mFuture.result\u001b[0;34m(self, timeout)\u001b[0m\n\u001b[1;32m    450\u001b[0m \u001b[39melif\u001b[39;00m \u001b[39mself\u001b[39m\u001b[39m.\u001b[39m_state \u001b[39m==\u001b[39m FINISHED:\n\u001b[1;32m    451\u001b[0m     \u001b[39mreturn\u001b[39;00m \u001b[39mself\u001b[39m\u001b[39m.\u001b[39m__get_result()\n\u001b[0;32m--> 453\u001b[0m \u001b[39mself\u001b[39;49m\u001b[39m.\u001b[39;49m_condition\u001b[39m.\u001b[39;49mwait(timeout)\n\u001b[1;32m    455\u001b[0m \u001b[39mif\u001b[39;00m \u001b[39mself\u001b[39m\u001b[39m.\u001b[39m_state \u001b[39min\u001b[39;00m [CANCELLED, CANCELLED_AND_NOTIFIED]:\n\u001b[1;32m    456\u001b[0m     \u001b[39mraise\u001b[39;00m CancelledError()\n",
      "File \u001b[0;32m~/miniconda3/envs/pyenv3/lib/python3.10/threading.py:320\u001b[0m, in \u001b[0;36mCondition.wait\u001b[0;34m(self, timeout)\u001b[0m\n\u001b[1;32m    318\u001b[0m \u001b[39mtry\u001b[39;00m:    \u001b[39m# restore state no matter what (e.g., KeyboardInterrupt)\u001b[39;00m\n\u001b[1;32m    319\u001b[0m     \u001b[39mif\u001b[39;00m timeout \u001b[39mis\u001b[39;00m \u001b[39mNone\u001b[39;00m:\n\u001b[0;32m--> 320\u001b[0m         waiter\u001b[39m.\u001b[39;49macquire()\n\u001b[1;32m    321\u001b[0m         gotit \u001b[39m=\u001b[39m \u001b[39mTrue\u001b[39;00m\n\u001b[1;32m    322\u001b[0m     \u001b[39melse\u001b[39;00m:\n",
      "\u001b[0;31mKeyboardInterrupt\u001b[0m: "
     ]
    }
   ],
   "source": [
    "run_analysis_verb = True\n",
    "show_verb = False\n",
    "animated_plot_verb = True\n",
    "\n",
    "print(\"Radial Distribution Function Analysis: run_analysis_verb = {run_analysis_verb}, show_verb = {show_verb}, animated_plot_verb = {animated_plot_verb}\")\n",
    "%run ./analysis_modules/radial_distribution_function.ipynb"
   ]
  },
  {
   "cell_type": "markdown",
   "id": "3ef42996",
   "metadata": {},
   "source": [
    "# 3 BODY STRUCTURE METRIC"
   ]
  },
  {
   "cell_type": "code",
   "execution_count": null,
   "id": "cf43967f",
   "metadata": {},
   "outputs": [],
   "source": [
    "run_analysis_verb = False\n",
    "show_verb = False\n",
    "animated_plot_verb = False\n",
    "\n",
    "%run ./analysis_modules/3body_analysis.ipynb"
   ]
  },
  {
   "cell_type": "code",
   "execution_count": null,
   "id": "786e3d11",
   "metadata": {},
   "outputs": [],
   "source": []
  }
 ],
 "metadata": {
  "kernelspec": {
   "display_name": "Python 3 (ipykernel)",
   "language": "python",
   "name": "python3"
  },
  "language_info": {
   "codemirror_mode": {
    "name": "ipython",
    "version": 3
   },
   "file_extension": ".py",
   "mimetype": "text/x-python",
   "name": "python",
   "nbconvert_exporter": "python",
   "pygments_lexer": "ipython3",
   "version": "3.10.6"
  },
  "vscode": {
   "interpreter": {
    "hash": "cda584d4033b4fbc423661afef9f2afe920081905f188573e835f76abdc60dee"
   }
  }
 },
 "nbformat": 4,
 "nbformat_minor": 5
}
