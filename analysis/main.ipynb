{
 "cells": [
  {
   "cell_type": "code",
   "execution_count": 1,
   "id": "1e649092",
   "metadata": {},
   "outputs": [],
   "source": [
    "import matplotlib.pyplot as plt\n",
    "import matplotlib.animation\n",
    "%matplotlib ipympl\n",
    "import numpy as np\n",
    "import pandas as pd\n",
    "\n",
    "from scipy.spatial import KDTree, cKDTree\n",
    "from scipy.ndimage import uniform_filter1d\n",
    "from scipy.signal import savgol_filter\n",
    "from scipy.optimize import curve_fit\n",
    "\n",
    "import time\n",
    "import joblib\n",
    "from tqdm import tqdm\n",
    "import trackpy as tp\n",
    "from numba import njit, prange\n",
    "\n",
    "from yupi import Trajectory\n",
    "import yupi.graphics as yg\n",
    "import yupi.stats as ys\n",
    "\n",
    "from utility import get_imsd, get_imsd_windowed, get_emsd, get_emsd_windowed, fit_hist, MB_2D,\\\n",
    "                    normal_distr, get_trajs, speed_windowed, theta_windowed, get_smooth_trajs, get_velocities\n",
    "                   \n",
    "show_verb = True\n",
    "save_verb = True\n",
    "anim_show_verb = False"
   ]
  },
  {
   "cell_type": "code",
   "execution_count": 2,
   "id": "a166b38a",
   "metadata": {},
   "outputs": [
    {
     "name": "stdout",
     "output_type": "stream",
     "text": [
      "nDrops:50\n",
      "nFrames:32000 --> 3200.00 s\n",
      "window of 320.0 s, stride of 10.0 s\n",
      "number of steps: 288\n"
     ]
    }
   ],
   "source": [
    "rawTrajs = pd.read_parquet(\"../tracking/results/parquet/pre_merge_tracking.parquet\")\n",
    "red_particle_idx = 17\n",
    "rawTrajs.loc[rawTrajs.particle != red_particle_idx, [\"color\"]] = \"#00007F\"\n",
    "rawTrajs.loc[rawTrajs.particle == red_particle_idx, [\"color\"]] = \"#FF0000\"\n",
    "colors = rawTrajs.loc[rawTrajs.frame == 0, 'color'].values\n",
    "nDrops = len(rawTrajs.loc[rawTrajs.frame==0])\n",
    "nFrames = max(rawTrajs.frame) + 1\n",
    "print(f\"nDrops:{nDrops}\")\n",
    "print(f\"nFrames:{nFrames} --> {nFrames/10:.2f} s\")\n",
    "\n",
    "\n",
    "# WINDOWED ANALYSIS PARAMETERS\n",
    "window = 3200 # 320 s\n",
    "stride = 100 # 10 s\n",
    "print(f\"window of {window/10} s, stride of {stride/10} s\")\n",
    "startFrames = np.arange(0, nFrames-window, stride, dtype=int)\n",
    "endFrames = startFrames + window\n",
    "nSteps = len(startFrames)\n",
    "print(f\"number of steps: {nSteps}\")\n",
    "\n",
    "\n",
    "# step 10 with a 10 fps video --> 1 s\n",
    "units = \"px/s\"\n",
    "default_kwargs_blue = {\"color\": \"#00FFFF\", \"ec\": (0, 0, 0, 0.6), \"density\": True}\n",
    "default_kwargs_red = {\"color\": \"#EE4B2B\", \"ec\": (0, 0, 0, 0.6), \"density\": True}"
   ]
  },
  {
   "cell_type": "code",
   "execution_count": 3,
   "id": "0fd667b3",
   "metadata": {},
   "outputs": [],
   "source": [
    "# Trajectory Smoothing: using a Savgol Filter in order to drop the noise due to the tracking procedure\n",
    "smoothTrajs = get_smooth_trajs(rawTrajs, nDrops, 30, 2)"
   ]
  },
  {
   "cell_type": "markdown",
   "id": "1a826682",
   "metadata": {},
   "source": [
    "# MSD"
   ]
  },
  {
   "cell_type": "code",
   "execution_count": 4,
   "id": "55469559",
   "metadata": {},
   "outputs": [
    {
     "name": "stdout",
     "output_type": "stream",
     "text": [
      "MSD Analysis: show_verb = False, run_windowed_analysis = False, animated_plot_verb = False\n",
      "Global IMSD\n",
      "Global EMSD\n",
      "Raw trajs - Blue Particles: 1.179 ± 0.002, Red Particle: 0.762 ± 0.002\n",
      "Smooth trajs - Blue Particles: 1.183 ± 0.002, Red Particle: 0.765 ± 0.002\n",
      "Windowed IMSD\n",
      "Windowed EMSD\n"
     ]
    }
   ],
   "source": [
    "show_verb = False\n",
    "run_windowed_analysis = False\n",
    "animated_plot_verb = False\n",
    "print(f\"MSD Analysis: show_verb = {show_verb}, run_windowed_analysis = {run_windowed_analysis}, animated_plot_verb = {animated_plot_verb}\")\n",
    "\n",
    "%run ./analysis_modules/msd.ipynb"
   ]
  },
  {
   "cell_type": "markdown",
   "id": "78dc2ddd",
   "metadata": {},
   "source": [
    "# SPEED & TURNING ANGLES DISTRIBUTIONS"
   ]
  },
  {
   "cell_type": "code",
   "execution_count": 5,
   "id": "4a1370b8",
   "metadata": {},
   "outputs": [
    {
     "name": "stdout",
     "output_type": "stream",
     "text": [
      "Speed and Turning Angles Analysis: show_verb = False, animated_plot_verb = False\n",
      "\n",
      " Global speed distribution analysis\n",
      "Raw Trajectories\n",
      "Blue Particles σ: 3.0812678386034857 ± 0.015939935826104385\n",
      "Red Particle σ: 7.3063902778733985 ± 0.1325638679530156\n",
      "Smooth Trajectories\n",
      "Blue Particles σ: 2.6247331712013717 ± 0.016982879149678404\n",
      "Red Particle σ: 7.501490328804058 ± 0.14385893343130896\n",
      "\n",
      " Windowed speed distribution Analysis\n"
     ]
    },
    {
     "name": "stderr",
     "output_type": "stream",
     "text": [
      "100%|██████████| 288/288 [01:05<00:00,  4.37it/s]\n",
      "100%|██████████| 288/288 [01:06<00:00,  4.33it/s]\n"
     ]
    },
    {
     "name": "stdout",
     "output_type": "stream",
     "text": [
      "\n",
      " Global turning angles analysis\n",
      "Raw Trajectories\n",
      "Blue Particles σ: 2.917682835740027 ± 0.30949859447841155, μ: -0.0007054159678248849 ± 0.4540618048966584\n",
      "Red Particle σ: 2.4384780096960923 ± 0.15247337370262667, μ: 0.017968089879776165 ± 0.19547887167646438\n",
      "Smooth Trajectories\n",
      "Blue Particles σ: 0.4532020875829226 ± 0.012243069144373108, μ: 0.00038165827270340245 ± 0.014994576804522203\n",
      "Red Particle σ: 0.19514856444555856 ± 0.004919473860240537, μ: 0.0040682468147739065 ± 0.00602510062559018\n",
      "\n",
      " Windowed turning angles analysis\n"
     ]
    },
    {
     "name": "stderr",
     "output_type": "stream",
     "text": [
      "100%|██████████| 288/288 [00:52<00:00,  5.46it/s]\n",
      "100%|██████████| 288/288 [00:50<00:00,  5.75it/s]\n"
     ]
    }
   ],
   "source": [
    "show_verb = False\n",
    "animated_plot_verb = False\n",
    "print(f\"Speed and Turning Angles Analysis: show_verb = {show_verb}, animated_plot_verb = {animated_plot_verb}\")\n",
    "%run ./analysis_modules/speed_and_turning_angles.ipynb"
   ]
  },
  {
   "cell_type": "code",
   "execution_count": 10,
   "id": "24a7c1eb",
   "metadata": {},
   "outputs": [
    {
     "data": {
      "text/plain": [
       "array([[4.16523963, 0.01679473],\n",
       "       [4.1228829 , 0.01599424],\n",
       "       [4.0708972 , 0.01492161],\n",
       "       [4.03561493, 0.01416229],\n",
       "       [4.01705882, 0.01357084],\n",
       "       [3.98626345, 0.01326023],\n",
       "       [3.94364223, 0.01318744],\n",
       "       [3.91417166, 0.01297935],\n",
       "       [3.89811457, 0.01228537],\n",
       "       [3.8814764 , 0.01191168],\n",
       "       [3.85375139, 0.01202269],\n",
       "       [3.82639435, 0.01195421],\n",
       "       [3.79420246, 0.01145383],\n",
       "       [3.79139291, 0.01099608],\n",
       "       [3.76642887, 0.01108051],\n",
       "       [3.74712582, 0.01079247],\n",
       "       [3.73208523, 0.01050736],\n",
       "       [3.71781296, 0.01066622],\n",
       "       [3.70645768, 0.01069752],\n",
       "       [3.69711568, 0.01049469],\n",
       "       [3.69474605, 0.01069041],\n",
       "       [3.68018961, 0.01029578],\n",
       "       [3.66532848, 0.01020216],\n",
       "       [3.65951902, 0.00983527],\n",
       "       [3.65170022, 0.00985649],\n",
       "       [3.64027697, 0.00952474],\n",
       "       [3.63084516, 0.00945261],\n",
       "       [3.64784322, 0.00931691],\n",
       "       [3.64846509, 0.00925782],\n",
       "       [3.63344332, 0.00907588],\n",
       "       [3.63424208, 0.00908853],\n",
       "       [3.62231495, 0.00920902],\n",
       "       [3.60887482, 0.00933154],\n",
       "       [3.58610952, 0.00943154],\n",
       "       [3.58638993, 0.00949674],\n",
       "       [3.56289102, 0.00939929],\n",
       "       [3.53297143, 0.00924837],\n",
       "       [3.53028087, 0.00934482],\n",
       "       [3.5235809 , 0.00947824],\n",
       "       [3.50543902, 0.00954134],\n",
       "       [3.48294803, 0.00978781],\n",
       "       [3.47020352, 0.00958707],\n",
       "       [3.47288656, 0.00971255],\n",
       "       [3.4467132 , 0.00948364],\n",
       "       [3.4261485 , 0.00972069],\n",
       "       [3.38520905, 0.00959702],\n",
       "       [3.3815881 , 0.0095265 ],\n",
       "       [3.36115274, 0.00979226],\n",
       "       [3.34468402, 0.00983861],\n",
       "       [3.32953334, 0.00975903],\n",
       "       [3.32349702, 0.00958665],\n",
       "       [3.30321638, 0.00990457],\n",
       "       [3.2866558 , 0.0102355 ],\n",
       "       [3.26651397, 0.01004395],\n",
       "       [3.2431329 , 0.01023921],\n",
       "       [3.21588985, 0.01045641],\n",
       "       [3.18096827, 0.01026198],\n",
       "       [3.17435338, 0.01032145],\n",
       "       [3.1552603 , 0.01040152],\n",
       "       [3.11593695, 0.01027777],\n",
       "       [3.09421244, 0.01011337],\n",
       "       [3.0821639 , 0.01023887],\n",
       "       [3.04713662, 0.01007588],\n",
       "       [3.04669185, 0.00972085],\n",
       "       [3.02143377, 0.00944732],\n",
       "       [3.0184937 , 0.00952668],\n",
       "       [2.99695332, 0.00914901],\n",
       "       [2.9849479 , 0.00918088],\n",
       "       [2.97358948, 0.00946534],\n",
       "       [2.95884434, 0.00913885],\n",
       "       [2.95004253, 0.00937881],\n",
       "       [2.94810691, 0.00926486],\n",
       "       [2.93086363, 0.00923959],\n",
       "       [2.9333777 , 0.00912334],\n",
       "       [2.92843393, 0.00925604],\n",
       "       [2.93910038, 0.00948163],\n",
       "       [2.94025962, 0.00954322],\n",
       "       [2.94320543, 0.00980499],\n",
       "       [2.93002444, 0.00966376],\n",
       "       [2.92869608, 0.00979249],\n",
       "       [2.937076  , 0.00945679],\n",
       "       [2.92989001, 0.00943642],\n",
       "       [2.92780184, 0.00940285],\n",
       "       [2.92715555, 0.00928899],\n",
       "       [2.90740263, 0.00901376],\n",
       "       [2.91126761, 0.00926913],\n",
       "       [2.90923491, 0.00940519],\n",
       "       [2.92074404, 0.00943011],\n",
       "       [2.92254992, 0.00899399],\n",
       "       [2.91304286, 0.00903591],\n",
       "       [2.91000907, 0.00905028],\n",
       "       [2.91076647, 0.00882741],\n",
       "       [2.91281417, 0.0086397 ],\n",
       "       [2.90757431, 0.00843784],\n",
       "       [2.92675831, 0.00823727],\n",
       "       [2.90286685, 0.00862928],\n",
       "       [2.89806166, 0.00860378],\n",
       "       [2.89277164, 0.00894274],\n",
       "       [2.89180211, 0.00903675],\n",
       "       [2.88502542, 0.00905423],\n",
       "       [2.88878575, 0.00909436],\n",
       "       [2.88983776, 0.00889858],\n",
       "       [2.89360238, 0.00889719],\n",
       "       [2.88101522, 0.00870852],\n",
       "       [2.87975678, 0.00914246],\n",
       "       [2.87009602, 0.00958972],\n",
       "       [2.86459967, 0.00937692],\n",
       "       [2.84931823, 0.00918966],\n",
       "       [2.85574184, 0.00901038],\n",
       "       [2.86870371, 0.00933807],\n",
       "       [2.86497912, 0.00928676],\n",
       "       [2.86302045, 0.00919221],\n",
       "       [2.82904978, 0.00956191],\n",
       "       [2.81040586, 0.00953534],\n",
       "       [2.79261444, 0.00920815],\n",
       "       [2.79397953, 0.00943435],\n",
       "       [2.8078176 , 0.0090037 ],\n",
       "       [2.79486186, 0.00912996],\n",
       "       [2.78568852, 0.00941928],\n",
       "       [2.75575282, 0.00945035],\n",
       "       [2.7408015 , 0.0096105 ],\n",
       "       [2.7221686 , 0.0098398 ],\n",
       "       [2.70589769, 0.0098793 ],\n",
       "       [2.69562491, 0.00974303],\n",
       "       [2.68630771, 0.00959206],\n",
       "       [2.68485152, 0.00974364],\n",
       "       [2.66476045, 0.00988724],\n",
       "       [2.65847324, 0.0097363 ],\n",
       "       [2.65921521, 0.00967709],\n",
       "       [2.65600266, 0.00970484],\n",
       "       [2.63856742, 0.00956447],\n",
       "       [2.6287494 , 0.00923976],\n",
       "       [2.61790948, 0.00952466],\n",
       "       [2.59442144, 0.01008843],\n",
       "       [2.57384896, 0.00993069],\n",
       "       [2.56673287, 0.01010529],\n",
       "       [2.56942175, 0.01012964],\n",
       "       [2.54926879, 0.00991258],\n",
       "       [2.5375964 , 0.01017316],\n",
       "       [2.52324194, 0.01018798],\n",
       "       [2.50136238, 0.01016575],\n",
       "       [2.4828656 , 0.0097869 ],\n",
       "       [2.47191311, 0.00964919],\n",
       "       [2.47424023, 0.00941615],\n",
       "       [2.48406777, 0.00921445],\n",
       "       [2.48274435, 0.00963911],\n",
       "       [2.46452881, 0.00988053],\n",
       "       [2.44011968, 0.00994206],\n",
       "       [2.40498619, 0.01009339],\n",
       "       [2.38222816, 0.00985788],\n",
       "       [2.36302395, 0.00999877],\n",
       "       [2.36406653, 0.01010522],\n",
       "       [2.36509854, 0.01039877],\n",
       "       [2.36821044, 0.01067027],\n",
       "       [2.35924961, 0.01081704],\n",
       "       [2.35678809, 0.01093158],\n",
       "       [2.35382735, 0.0108508 ],\n",
       "       [2.33582296, 0.01082322],\n",
       "       [2.32276672, 0.01108113],\n",
       "       [2.32103792, 0.01149646],\n",
       "       [2.30387143, 0.01201734],\n",
       "       [2.28524126, 0.01194027],\n",
       "       [2.27739641, 0.01201719],\n",
       "       [2.28097654, 0.01223209],\n",
       "       [2.30178632, 0.01177236],\n",
       "       [2.32397319, 0.01165101],\n",
       "       [2.33959881, 0.0117438 ],\n",
       "       [2.34734707, 0.01150013],\n",
       "       [2.33965339, 0.01134589],\n",
       "       [2.34407907, 0.01130925],\n",
       "       [2.340885  , 0.01141967],\n",
       "       [2.34492907, 0.01136009],\n",
       "       [2.34986243, 0.01157704],\n",
       "       [2.35420577, 0.01155958],\n",
       "       [2.34108361, 0.01165307],\n",
       "       [2.32409605, 0.01157674],\n",
       "       [2.29291866, 0.01224956],\n",
       "       [2.27772129, 0.01248925],\n",
       "       [2.2679122 , 0.01252802],\n",
       "       [2.27228371, 0.01245812],\n",
       "       [2.2747021 , 0.01289962],\n",
       "       [2.27402613, 0.01346282],\n",
       "       [2.27272745, 0.01351196],\n",
       "       [2.26276407, 0.01348145],\n",
       "       [2.24061759, 0.01362864],\n",
       "       [2.22043826, 0.01341717],\n",
       "       [2.21124505, 0.01356619],\n",
       "       [2.18354739, 0.01374876],\n",
       "       [2.15165994, 0.01379072],\n",
       "       [2.13543185, 0.0136079 ],\n",
       "       [2.13541545, 0.01371582],\n",
       "       [2.11723811, 0.01348523],\n",
       "       [2.12440542, 0.01325312],\n",
       "       [2.12271626, 0.01329218],\n",
       "       [2.10023557, 0.01378589],\n",
       "       [2.05844394, 0.01364231],\n",
       "       [1.98605365, 0.01366847],\n",
       "       [1.93328894, 0.01363741],\n",
       "       [1.88673898, 0.01361369],\n",
       "       [1.87042513, 0.0132995 ],\n",
       "       [1.85226227, 0.01250544],\n",
       "       [1.85823988, 0.01241365],\n",
       "       [1.85875469, 0.01229283],\n",
       "       [1.84691632, 0.01165137],\n",
       "       [1.84876199, 0.01149246],\n",
       "       [1.85016127, 0.01122662],\n",
       "       [1.86483153, 0.01176271],\n",
       "       [1.87271226, 0.01177644],\n",
       "       [1.89599361, 0.01162377],\n",
       "       [1.90974627, 0.01153969],\n",
       "       [1.90789164, 0.01187265],\n",
       "       [1.9209678 , 0.01172077],\n",
       "       [1.90711044, 0.01133793],\n",
       "       [1.88996582, 0.0110343 ],\n",
       "       [1.89263215, 0.01102728],\n",
       "       [1.88233434, 0.01111702],\n",
       "       [1.89193953, 0.01114356],\n",
       "       [1.90915381, 0.0109833 ],\n",
       "       [1.90755892, 0.01103488],\n",
       "       [1.91443568, 0.01101868],\n",
       "       [1.90482501, 0.01133066],\n",
       "       [1.90495261, 0.01193544],\n",
       "       [1.89377342, 0.0118268 ],\n",
       "       [1.87175759, 0.01208994],\n",
       "       [1.85859165, 0.01226722],\n",
       "       [1.85732771, 0.01229794],\n",
       "       [1.88390012, 0.01217959],\n",
       "       [1.91965109, 0.01236908],\n",
       "       [1.97344388, 0.01252504],\n",
       "       [2.00862689, 0.01201122],\n",
       "       [2.0290339 , 0.01134273],\n",
       "       [2.05061186, 0.01156518],\n",
       "       [2.09566   , 0.01269042],\n",
       "       [2.1011418 , 0.01306434],\n",
       "       [2.12352676, 0.01347384],\n",
       "       [2.1390282 , 0.01400575],\n",
       "       [2.11562335, 0.01390608],\n",
       "       [2.10187677, 0.01418058],\n",
       "       [2.06684494, 0.01374109],\n",
       "       [2.03593483, 0.01346619],\n",
       "       [2.01704006, 0.01397042],\n",
       "       [2.02865782, 0.01403708],\n",
       "       [2.04525086, 0.01404008],\n",
       "       [2.03205785, 0.01417594],\n",
       "       [2.05970109, 0.01455557],\n",
       "       [2.07718067, 0.01480605],\n",
       "       [2.07801583, 0.0150048 ],\n",
       "       [2.07259009, 0.0150029 ],\n",
       "       [2.03980151, 0.01515746],\n",
       "       [2.01788538, 0.01560831],\n",
       "       [2.02404014, 0.01590637],\n",
       "       [2.02053064, 0.01643236],\n",
       "       [2.02909543, 0.01610058],\n",
       "       [2.02931716, 0.01619578],\n",
       "       [2.03021225, 0.01695376],\n",
       "       [2.05090414, 0.017122  ],\n",
       "       [2.07279612, 0.01763473],\n",
       "       [2.07428069, 0.0183822 ],\n",
       "       [2.05447115, 0.01867848],\n",
       "       [2.00855745, 0.01848526],\n",
       "       [1.97239312, 0.017503  ],\n",
       "       [1.9569644 , 0.01722025],\n",
       "       [1.96952331, 0.01775325],\n",
       "       [1.96509997, 0.0182313 ],\n",
       "       [1.9400287 , 0.01751627],\n",
       "       [1.91622165, 0.01710718],\n",
       "       [1.89055177, 0.01651592],\n",
       "       [1.89931873, 0.01665006],\n",
       "       [1.91860895, 0.01665575],\n",
       "       [1.92139636, 0.0163638 ],\n",
       "       [1.9342747 , 0.01650043],\n",
       "       [1.95174478, 0.0170651 ],\n",
       "       [1.98902549, 0.01692232],\n",
       "       [2.00822401, 0.01697461],\n",
       "       [2.0027779 , 0.01701458],\n",
       "       [2.024753  , 0.01721648],\n",
       "       [2.02920034, 0.01730307],\n",
       "       [2.05134519, 0.01714349],\n",
       "       [2.08104806, 0.01742567],\n",
       "       [2.11833355, 0.01730963],\n",
       "       [2.15982666, 0.01695715],\n",
       "       [2.19534177, 0.01652443],\n",
       "       [2.19816827, 0.01642293],\n",
       "       [2.19707217, 0.01591288],\n",
       "       [2.20264616, 0.01601751],\n",
       "       [2.20610905, 0.01564729],\n",
       "       [2.1993256 , 0.01467206],\n",
       "       [2.18643845, 0.01405561]])"
      ]
     },
     "execution_count": 10,
     "metadata": {},
     "output_type": "execute_result"
    }
   ],
   "source": [
    "blue_fit_wind_smooth"
   ]
  },
  {
   "cell_type": "markdown",
   "id": "dc392ce1",
   "metadata": {},
   "source": [
    "# VELOCITY AUTOCORRELATION"
   ]
  },
  {
   "cell_type": "code",
   "execution_count": 6,
   "id": "09d190ba",
   "metadata": {},
   "outputs": [
    {
     "name": "stdout",
     "output_type": "stream",
     "text": [
      "Velocity Autocorrelation Analysis: show_verb = False, run_windowed_analysis = False, animated_plot_verb = False\n",
      "Global Velocity Autocovariance Function\n",
      "Windowed analysis\n"
     ]
    }
   ],
   "source": [
    "show_verb = False\n",
    "run_windowed_analysis = False\n",
    "overwrite = False\n",
    "animated_plot_verb = False\n",
    "\n",
    "print(f\"Velocity Autocorrelation Analysis: show_verb = {show_verb}, run_windowed_analysis = {run_windowed_analysis}, animated_plot_verb = {animated_plot_verb}\")\n",
    "%run ./analysis_modules/velocity_autocorrelation.ipynb"
   ]
  },
  {
   "cell_type": "markdown",
   "id": "c7269601",
   "metadata": {},
   "source": [
    "# RADIAL DISTRIBUTON FUNCTION"
   ]
  },
  {
   "cell_type": "code",
   "execution_count": 7,
   "id": "5e00f8d7",
   "metadata": {},
   "outputs": [
    {
     "name": "stdout",
     "output_type": "stream",
     "text": [
      "Radial Distribution Function Analysis: run_analysis_verb = {run_analysis_verb}, show_verb = {show_verb}, animated_plot_verb = {animated_plot_verb}\n",
      "Radial Distribution Function \n",
      "Radial Distribution Function from the center\n"
     ]
    }
   ],
   "source": [
    "run_analysis_verb = False\n",
    "show_verb = False\n",
    "animated_plot_verb = False\n",
    "\n",
    "print(\"Radial Distribution Function Analysis: run_analysis_verb = {run_analysis_verb}, show_verb = {show_verb}, animated_plot_verb = {animated_plot_verb}\")\n",
    "%run ./analysis_modules/radial_distribution_function.ipynb"
   ]
  },
  {
   "cell_type": "markdown",
   "id": "3ef42996",
   "metadata": {},
   "source": [
    "# 3 BODY STRUCTURE METRIC"
   ]
  },
  {
   "cell_type": "code",
   "execution_count": 8,
   "id": "cf43967f",
   "metadata": {},
   "outputs": [
    {
     "name": "stdout",
     "output_type": "stream",
     "text": [
      "Calculating 3-body angles for raw trajs...\n"
     ]
    },
    {
     "name": "stderr",
     "output_type": "stream",
     "text": [
      "100%|██████████| 32000/32000 [00:15<00:00, 2038.38it/s]\n"
     ]
    },
    {
     "name": "stdout",
     "output_type": "stream",
     "text": [
      "Calculating 3-body angles for smooth trajs...\n"
     ]
    },
    {
     "name": "stderr",
     "output_type": "stream",
     "text": [
      "100%|██████████| 32000/32000 [00:15<00:00, 2129.33it/s]\n"
     ]
    }
   ],
   "source": [
    "run_analysis_verb = False\n",
    "show_verb = False\n",
    "animated_plot_verb = False\n",
    "\n",
    "%run ./analysis_modules/3body_analysis.ipynb"
   ]
  },
  {
   "cell_type": "code",
   "execution_count": null,
   "id": "786e3d11",
   "metadata": {},
   "outputs": [],
   "source": []
  }
 ],
 "metadata": {
  "kernelspec": {
   "display_name": "Python 3 (ipykernel)",
   "language": "python",
   "name": "python3"
  },
  "language_info": {
   "codemirror_mode": {
    "name": "ipython",
    "version": 3
   },
   "file_extension": ".py",
   "mimetype": "text/x-python",
   "name": "python",
   "nbconvert_exporter": "python",
   "pygments_lexer": "ipython3",
   "version": "3.10.6"
  },
  "vscode": {
   "interpreter": {
    "hash": "cda584d4033b4fbc423661afef9f2afe920081905f188573e835f76abdc60dee"
   }
  }
 },
 "nbformat": 4,
 "nbformat_minor": 5
}
