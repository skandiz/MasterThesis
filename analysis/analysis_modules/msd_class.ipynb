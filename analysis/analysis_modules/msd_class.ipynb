{
 "cells": [
  {
   "cell_type": "code",
   "execution_count": 5,
   "metadata": {},
   "outputs": [
    {
     "ename": "ModuleNotFoundError",
     "evalue": "No module named 'utility'",
     "output_type": "error",
     "traceback": [
      "\u001b[0;31m---------------------------------------------------------------------------\u001b[0m",
      "\u001b[0;31mModuleNotFoundError\u001b[0m                       Traceback (most recent call last)",
      "\u001b[1;32m/Users/matteoscandola/Desktop/MasterThesis/analysis/analysis_modules/msd_class.ipynb Cell 1\u001b[0m in \u001b[0;36m2\n\u001b[1;32m     <a href='vscode-notebook-cell:/Users/matteoscandola/Desktop/MasterThesis/analysis/analysis_modules/msd_class.ipynb#W2sZmlsZQ%3D%3D?line=18'>19</a>\u001b[0m \u001b[39mimport\u001b[39;00m \u001b[39myupi\u001b[39;00m\u001b[39m.\u001b[39;00m\u001b[39mgraphics\u001b[39;00m \u001b[39mas\u001b[39;00m \u001b[39myg\u001b[39;00m\n\u001b[1;32m     <a href='vscode-notebook-cell:/Users/matteoscandola/Desktop/MasterThesis/analysis/analysis_modules/msd_class.ipynb#W2sZmlsZQ%3D%3D?line=19'>20</a>\u001b[0m \u001b[39mimport\u001b[39;00m \u001b[39myupi\u001b[39;00m\u001b[39m.\u001b[39;00m\u001b[39mstats\u001b[39;00m \u001b[39mas\u001b[39;00m \u001b[39mys\u001b[39;00m\n\u001b[0;32m---> <a href='vscode-notebook-cell:/Users/matteoscandola/Desktop/MasterThesis/analysis/analysis_modules/msd_class.ipynb#W2sZmlsZQ%3D%3D?line=21'>22</a>\u001b[0m \u001b[39mfrom\u001b[39;00m \u001b[39mutility\u001b[39;00m \u001b[39mimport\u001b[39;00m get_imsd, get_imsd_windowed, get_emsd, get_emsd_windowed, fit_hist, MB_2D,\\\n\u001b[1;32m     <a href='vscode-notebook-cell:/Users/matteoscandola/Desktop/MasterThesis/analysis/analysis_modules/msd_class.ipynb#W2sZmlsZQ%3D%3D?line=22'>23</a>\u001b[0m                     normal_distr, get_trajs, speed_windowed, theta_windowed, get_smooth_trajs, get_velocities\n\u001b[1;32m     <a href='vscode-notebook-cell:/Users/matteoscandola/Desktop/MasterThesis/analysis/analysis_modules/msd_class.ipynb#W2sZmlsZQ%3D%3D?line=24'>25</a>\u001b[0m show_verb \u001b[39m=\u001b[39m \u001b[39mTrue\u001b[39;00m\n\u001b[1;32m     <a href='vscode-notebook-cell:/Users/matteoscandola/Desktop/MasterThesis/analysis/analysis_modules/msd_class.ipynb#W2sZmlsZQ%3D%3D?line=25'>26</a>\u001b[0m save_verb \u001b[39m=\u001b[39m \u001b[39mTrue\u001b[39;00m\n",
      "\u001b[0;31mModuleNotFoundError\u001b[0m: No module named 'utility'"
     ]
    }
   ],
   "source": [
    "import matplotlib.pyplot as plt\n",
    "import matplotlib.animation\n",
    "%matplotlib ipympl\n",
    "import numpy as np\n",
    "import pandas as pd\n",
    "\n",
    "from scipy.spatial import KDTree, cKDTree\n",
    "from scipy.ndimage import uniform_filter1d\n",
    "from scipy.signal import savgol_filter\n",
    "from scipy.optimize import curve_fit\n",
    "\n",
    "import time\n",
    "import joblib\n",
    "from tqdm import tqdm\n",
    "import trackpy as tp\n",
    "from numba import njit, prange\n",
    "\n",
    "from yupi import Trajectory\n",
    "import yupi.graphics as yg\n",
    "import yupi.stats as ys\n",
    "\n",
    "from utility import get_imsd, get_imsd_windowed, get_emsd, get_emsd_windowed, fit_hist, MB_2D,\\\n",
    "                    normal_distr, get_trajs, speed_windowed, theta_windowed, get_smooth_trajs, get_velocities\n",
    "                   \n",
    "show_verb = True\n",
    "save_verb = True\n",
    "anim_show_verb = False"
   ]
  },
  {
   "cell_type": "code",
   "execution_count": 7,
   "metadata": {},
   "outputs": [
    {
     "name": "stdout",
     "output_type": "stream",
     "text": [
      "nDrops:50\n",
      "nFrames:32000 --> 3200.00 s\n",
      "window of 320.0 s, stride of 10.0 s\n",
      "number of steps: 288\n"
     ]
    }
   ],
   "source": [
    "rawTrajs = pd.read_parquet(\"../../tracking/results/pre_merge_tracking.parquet\")\n",
    "red_particle_idx = 17\n",
    "rawTrajs.loc[rawTrajs.particle != red_particle_idx, [\"color\"]] = \"#00007F\"\n",
    "rawTrajs.loc[rawTrajs.particle == red_particle_idx, [\"color\"]] = \"#FF0000\"\n",
    "colors = rawTrajs.loc[rawTrajs.frame == 0, 'color'].values\n",
    "nDrops = len(rawTrajs.loc[rawTrajs.frame==0])\n",
    "nFrames = max(rawTrajs.frame) + 1\n",
    "print(f\"nDrops:{nDrops}\")\n",
    "print(f\"nFrames:{nFrames} --> {nFrames/10:.2f} s\")\n",
    "\n",
    "\n",
    "# WINDOWED ANALYSIS PARAMETERS\n",
    "window = 3200 # 320 s\n",
    "stride = 100 # 10 s\n",
    "print(f\"window of {window/10} s, stride of {stride/10} s\")\n",
    "startFrames = np.arange(0, nFrames-window, stride, dtype=int)\n",
    "endFrames = startFrames + window\n",
    "nSteps = len(startFrames)\n",
    "print(f\"number of steps: {nSteps}\")\n",
    "\n",
    "\n",
    "# step 10 with a 10 fps video --> 1 s\n",
    "units = \"px/s\"\n",
    "default_kwargs_blue = {\"color\": \"#00FFFF\", \"ec\": (0, 0, 0, 0.6), \"density\": True}\n",
    "default_kwargs_red = {\"color\": \"#EE4B2B\", \"ec\": (0, 0, 0, 0.6), \"density\": True}"
   ]
  },
  {
   "cell_type": "code",
   "execution_count": 4,
   "metadata": {},
   "outputs": [],
   "source": [
    "class ParticleMetrics:\n",
    "    def __init__(self, trajectory_df):\n",
    "        self.trajectory = trajectory_df\n",
    "        \n",
    "    def compute_imsd(self, maxLagtime):\n",
    "        pxDimension = 1 # has to be fixed \n",
    "        fps = 10 # fps of the video\n",
    "        lag = np.arange(1, maxLagtime + 1, 1)/fps\n",
    "        imsd, fit, pw_exp = get_imsd(rawTrajs, pxDimension, fps, maxLagtime, nDrops)\n",
    "        return np.array(msd)\n",
    "    \n",
    "    def compute_velocity_distribution(self, num_bins=20):\n",
    "        velocities = self.trajectory.groupby('particle').diff()\n",
    "        speed = np.sqrt(np.sum(np.square(velocities), axis=1))\n",
    "        hist, bins = np.histogram(speed, bins=num_bins, density=True)\n",
    "        hist = hist.reshape(-1, self.trajectory['particle'].nunique())\n",
    "        return hist, bins\n",
    "    \n",
    "    def plot_msd(self, time_lags):\n",
    "        msd = self.compute_msd(time_lags)\n",
    "        mean_msd = np.mean(msd, axis=1)\n",
    "        std_msd = np.std(msd, axis=1)\n",
    "        plt.errorbar(time_lags, mean_msd, yerr=std_msd, fmt='-o')\n",
    "        plt.xlabel('Time lag')\n",
    "        plt.ylabel('Mean squared displacement')\n",
    "        plt.show()\n",
    "        \n",
    "    def plot_velocity_distribution(self, num_bins=20):\n",
    "        hist, bins = self.compute_velocity_distribution(num_bins)\n",
    "        mean_hist = np.mean(hist, axis=1)\n",
    "        std_hist = np.std(hist, axis=1)\n",
    "        plt.errorbar(bins[:-1], mean_hist, yerr=std_hist, fmt='o')\n",
    "        plt.xlabel('Speed')\n",
    "        plt.ylabel('Probability density')\n",
    "        plt.show()\n"
   ]
  },
  {
   "cell_type": "code",
   "execution_count": 8,
   "metadata": {},
   "outputs": [],
   "source": [
    "metrics = ParticleMetrics(rawTrajs)"
   ]
  },
  {
   "cell_type": "code",
   "execution_count": null,
   "metadata": {},
   "outputs": [],
   "source": []
  }
 ],
 "metadata": {
  "kernelspec": {
   "display_name": "pyenv3",
   "language": "python",
   "name": "python3"
  },
  "language_info": {
   "codemirror_mode": {
    "name": "ipython",
    "version": 3
   },
   "file_extension": ".py",
   "mimetype": "text/x-python",
   "name": "python",
   "nbconvert_exporter": "python",
   "pygments_lexer": "ipython3",
   "version": "3.10.6"
  },
  "orig_nbformat": 4
 },
 "nbformat": 4,
 "nbformat_minor": 2
}
